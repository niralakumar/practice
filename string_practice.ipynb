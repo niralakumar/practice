{
  "nbformat": 4,
  "nbformat_minor": 0,
  "metadata": {
    "colab": {
      "provenance": [],
      "collapsed_sections": [],
      "authorship_tag": "ABX9TyMad2qrUHMAclOESM9hqL4u",
      "include_colab_link": true
    },
    "kernelspec": {
      "name": "python3",
      "display_name": "Python 3"
    },
    "language_info": {
      "name": "python"
    }
  },
  "cells": [
    {
      "cell_type": "markdown",
      "metadata": {
        "id": "view-in-github",
        "colab_type": "text"
      },
      "source": [
        "<a href=\"https://colab.research.google.com/github/niralakumar/practice/blob/string/string_practice.ipynb\" target=\"_parent\"><img src=\"https://colab.research.google.com/assets/colab-badge.svg\" alt=\"Open In Colab\"/></a>"
      ]
    },
    {
      "cell_type": "markdown",
      "source": [],
      "metadata": {
        "id": "uXdStHXodmgn"
      }
    },
    {
      "cell_type": "code",
      "source": [
        "import random\n",
        "m=random.randint(0,1000)\n",
        "n=random.randint(0,1000)\n",
        "print(m,n)\n",
        "# m=int(input())\n",
        "# n=int(input())\n",
        "r=m%n\n",
        "if(m%2==1 and n%2==1):\n",
        "  if(r<(n+1)/2):\n",
        "    print(m-r)\n",
        "  else:\n",
        "    print(m+n-r)\n",
        "elif(m%2==1 and n%2==0):\n",
        "  if(r<n/2):\n",
        "    print(m-r)\n",
        "  else:\n",
        "    print(m+n-r)\n",
        "elif(m%2==0 and n%2==0):\n",
        "  if(r<n/2):\n",
        "    print(m-r)\n",
        "  else:\n",
        "    print(m+n-r)\n",
        "else:\n",
        "  if(r<(n+1)/2):\n",
        "    print(m-r)\n",
        "  else:\n",
        "    print(m+n-r)"
      ],
      "metadata": {
        "colab": {
          "base_uri": "https://localhost:8080/"
        },
        "id": "5t338MWUji1I",
        "outputId": "751f21ff-a786-4493-9cb8-b071b6123856"
      },
      "execution_count": null,
      "outputs": [
        {
          "output_type": "stream",
          "name": "stdout",
          "text": [
            "945 104\n",
            "936\n"
          ]
        }
      ]
    },
    {
      "cell_type": "markdown",
      "source": [
        "1. Write a Python program to calculate the length of a string."
      ],
      "metadata": {
        "id": "zjRUQUpjekLi"
      }
    },
    {
      "cell_type": "code",
      "source": [
        "s='abcdefabc'\n",
        "def str_len(s):\n",
        "  len=0\n",
        "  for i in s:\n",
        "    len+=1\n",
        "  return len\n",
        "str_len('cv jdfjb jfdj')"
      ],
      "metadata": {
        "colab": {
          "base_uri": "https://localhost:8080/"
        },
        "id": "w-SzoSE1efWB",
        "outputId": "2aa8afd0-5013-48ac-b42c-779f47003570"
      },
      "execution_count": 1,
      "outputs": [
        {
          "output_type": "execute_result",
          "data": {
            "text/plain": [
              "13"
            ]
          },
          "metadata": {},
          "execution_count": 1
        }
      ]
    },
    {
      "cell_type": "markdown",
      "source": [
        "2. Write a Python program to count the number of characters\n",
        "(character frequency) in a string.\n"
      ],
      "metadata": {
        "id": "uRFhMr3XfQY6"
      }
    },
    {
      "cell_type": "code",
      "source": [
        "s = 'iiNffhbb figij  '\n",
        "def str_element_freq(in_str):\n",
        "  # if there were any white spaces then we have checked it and removed it\n",
        "    t=in_str.replace(' ','')\n",
        "  \n",
        "    l = [i for i in t]\n",
        "    for i in set(l):\n",
        "        print(i,\":\", l.count(i))\n",
        "str_element_freq(s)\n"
      ],
      "metadata": {
        "id": "6JrqI4fwASjY",
        "colab": {
          "base_uri": "https://localhost:8080/"
        },
        "outputId": "9aa391a4-88d1-49bd-d381-ba5b4775b779"
      },
      "execution_count": 15,
      "outputs": [
        {
          "output_type": "stream",
          "name": "stdout",
          "text": [
            "j : 1\n",
            "f : 3\n",
            "h : 1\n",
            "b : 2\n",
            "g : 1\n",
            "i : 4\n",
            "N : 1\n"
          ]
        }
      ]
    },
    {
      "cell_type": "markdown",
      "source": [
        "3. Write a Python program to get a string made of the first 2\n",
        "and the last 2 chars from a given a string. If the string length\n",
        "is less than 2, return instead of the empty string.\n"
      ],
      "metadata": {
        "id": "tWmwkLGhh7f6"
      }
    },
    {
      "cell_type": "code",
      "source": [
        "s='czddjncndnc'\n",
        "def ncharacters(s):\n",
        "    if(len(s)>2):\n",
        "        l=s[0:2]+s[-2:]\n",
        "        return l\n",
        "    else:\n",
        "      return ' '\n",
        "ncharacters('db')\n"
      ],
      "metadata": {
        "colab": {
          "base_uri": "https://localhost:8080/",
          "height": 36
        },
        "id": "1SbhO0YBedzL",
        "outputId": "ae41b809-de7f-4b26-ebd3-4a8cbed3e148"
      },
      "execution_count": 5,
      "outputs": [
        {
          "output_type": "execute_result",
          "data": {
            "text/plain": [
              "' '"
            ],
            "application/vnd.google.colaboratory.intrinsic+json": {
              "type": "string"
            }
          },
          "metadata": {},
          "execution_count": 5
        }
      ]
    },
    {
      "cell_type": "markdown",
      "source": [
        "4. Write a Python program to get a string from a given string\n",
        "where all occurrences of its first char have been changed to\n",
        "dollar sign, except the first char itself.\n",
        "\n"
      ],
      "metadata": {
        "id": "rj6Q1REsMY2V"
      }
    },
    {
      "cell_type": "code",
      "source": [
        "s = \"submission\"\n",
        "def custom_return_dollar(in_str):\n",
        " rep_char=in_str[0]\n",
        " str_rep=in_str.replace(rep_char,\"$\")\n",
        " return rep_char+str_rep[1:]\n",
        "custom_return_dollar(s)\n"
      ],
      "metadata": {
        "colab": {
          "base_uri": "https://localhost:8080/",
          "height": 36
        },
        "id": "LUJqzodHluKi",
        "outputId": "98a56935-834e-48b4-e0c4-efc8c58e7cbe"
      },
      "execution_count": 6,
      "outputs": [
        {
          "output_type": "execute_result",
          "data": {
            "text/plain": [
              "'submi$$ion'"
            ],
            "application/vnd.google.colaboratory.intrinsic+json": {
              "type": "string"
            }
          },
          "metadata": {},
          "execution_count": 6
        }
      ]
    },
    {
      "cell_type": "markdown",
      "source": [
        "5. Write a Python program to add 'ing' at the end of a given\n",
        "string (length should be at least 3). If the given string already\n",
        "ends with 'ing' then add 'ly' instead. If the string length of the\n",
        "given string is less than 3, leave it unchanged."
      ],
      "metadata": {
        "id": "1yI47aLhOBay"
      }
    },
    {
      "cell_type": "code",
      "source": [
        "\n",
        "s='walking'\n",
        "s1= 'cycle'\n",
        "s2='am'\n",
        "def custom_suffix_string(in_str):\n",
        " if len(in_str)>2:\n",
        "  if in_str[-3:]=='ing':\n",
        "    return in_str[:len(in_str)-3]+'ly'\n",
        "  else:\n",
        "    return in_str[:len(in_str)-1]+'ing'\n",
        " else:\n",
        "   return \"Length of input string should be greater than 2 characters\"\n",
        "\n",
        "custom_suffix_string(s)\n"
      ],
      "metadata": {
        "colab": {
          "base_uri": "https://localhost:8080/",
          "height": 36
        },
        "id": "8o-Y3b-gOItl",
        "outputId": "7332b3d5-005e-4030-8707-87fe8ffec4d1"
      },
      "execution_count": 9,
      "outputs": [
        {
          "output_type": "execute_result",
          "data": {
            "text/plain": [
              "'walkly'"
            ],
            "application/vnd.google.colaboratory.intrinsic+json": {
              "type": "string"
            }
          },
          "metadata": {},
          "execution_count": 9
        }
      ]
    },
    {
      "cell_type": "markdown",
      "source": [
        "6. Write a Python program to remove the nth index character\n",
        "from a nonempty string.\n"
      ],
      "metadata": {
        "id": "7rEBMBb_OkQ0"
      }
    },
    {
      "cell_type": "code",
      "source": [
        "\n",
        "s = 'Sameer'\n",
        "def nth_index_remover(in_str, position):\n",
        " return in_str[:position]+in_str[position+1:]\n",
        "nth_index_remover(s,2)\n"
      ],
      "metadata": {
        "colab": {
          "base_uri": "https://localhost:8080/",
          "height": 36
        },
        "id": "DmGxCEWuPB5q",
        "outputId": "44c7bacd-d427-4b5e-fda7-8a270b2125f6"
      },
      "execution_count": 12,
      "outputs": [
        {
          "output_type": "execute_result",
          "data": {
            "text/plain": [
              "'Saeer'"
            ],
            "application/vnd.google.colaboratory.intrinsic+json": {
              "type": "string"
            }
          },
          "metadata": {},
          "execution_count": 12
        }
      ]
    },
    {
      "cell_type": "markdown",
      "source": [
        "7. Write a Python program to change a given string to a new\n",
        "string where the first and last chars have been exchanged.\n"
      ],
      "metadata": {
        "id": "vWUeiwSbPDiZ"
      }
    },
    {
      "cell_type": "code",
      "source": [
        "s =\"f vj dfvkje j \"\n",
        "def custom_replace_string2(in_str):\n",
        " return in_str[-1:]+in_str[1:len(in_str)-1]+in_str[0]\n",
        "custom_replace_string2(s)"
      ],
      "metadata": {
        "colab": {
          "base_uri": "https://localhost:8080/",
          "height": 36
        },
        "id": "30dkn0c-Os5p",
        "outputId": "f9921697-ad20-4cd4-b087-618d2d65ba2f"
      },
      "execution_count": 11,
      "outputs": [
        {
          "output_type": "execute_result",
          "data": {
            "text/plain": [
              "'  vj dfvkje jf'"
            ],
            "application/vnd.google.colaboratory.intrinsic+json": {
              "type": "string"
            }
          },
          "metadata": {},
          "execution_count": 11
        }
      ]
    },
    {
      "cell_type": "markdown",
      "source": [
        "8. Write a Python program to count the occurrences of each\n",
        "word in a given sentence."
      ],
      "metadata": {
        "id": "sBtQ47XwPLyh"
      }
    },
    {
      "cell_type": "code",
      "source": [
        "\n",
        "s= 'My My name name is is Nirala Kumar'\n",
        "def word_occurance_counter(in_str):\n",
        " l = s.split(\" \")\n",
        " for i in set(l):\n",
        "   print(i,\":\", l.count(i))\n",
        "\n",
        "word_occurance_counter(s)"
      ],
      "metadata": {
        "colab": {
          "base_uri": "https://localhost:8080/"
        },
        "id": "ZYgTIlZuPQTh",
        "outputId": "e7f1b9ad-840e-429d-b764-fb9b4dd1d67d"
      },
      "execution_count": 15,
      "outputs": [
        {
          "output_type": "stream",
          "name": "stdout",
          "text": [
            "My : 2\n",
            "is : 2\n",
            "name : 2\n",
            "Kumar : 1\n",
            "Nirala : 1\n"
          ]
        }
      ]
    },
    {
      "cell_type": "markdown",
      "source": [
        "9. Write a Python function to reverses a string if it's length is\n",
        "a multiple of 4.\n"
      ],
      "metadata": {
        "id": "B3F_qsuNPlMK"
      }
    },
    {
      "cell_type": "code",
      "source": [
        "\n",
        "s=' Team India '\n",
        "def custom_reverse(in_str):\n",
        " if len(in_str)%4==0:\n",
        "   return in_str[::-1]\n",
        " else:\n",
        "   return in_str\n",
        "\n",
        "custom_reverse(s)"
      ],
      "metadata": {
        "colab": {
          "base_uri": "https://localhost:8080/",
          "height": 36
        },
        "id": "9PgLbFTbPkPq",
        "outputId": "745eff72-dd96-4d55-a1fa-ac25c92069a0"
      },
      "execution_count": 17,
      "outputs": [
        {
          "output_type": "execute_result",
          "data": {
            "text/plain": [
              "' aidnI maeT '"
            ],
            "application/vnd.google.colaboratory.intrinsic+json": {
              "type": "string"
            }
          },
          "metadata": {},
          "execution_count": 17
        }
      ]
    },
    {
      "cell_type": "markdown",
      "source": [
        "10.Write a Python program to sort a string lexicographically."
      ],
      "metadata": {
        "id": "-X0cA67cQOwD"
      }
    },
    {
      "cell_type": "code",
      "source": [
        "\n",
        "s='hdfvhfygyyTT'\n",
        "def lexicographi_sort(in_str):\n",
        " return sorted(sorted(in_str), key=str.upper)\n",
        "lexicographi_sort(s)\n"
      ],
      "metadata": {
        "colab": {
          "base_uri": "https://localhost:8080/"
        },
        "id": "mbJ1vKlUQbzM",
        "outputId": "19650d8e-f0d2-401c-f220-990efd7ad7e9"
      },
      "execution_count": 18,
      "outputs": [
        {
          "output_type": "execute_result",
          "data": {
            "text/plain": [
              "['d', 'f', 'f', 'g', 'h', 'h', 'T', 'T', 'v', 'y', 'y', 'y']"
            ]
          },
          "metadata": {},
          "execution_count": 18
        }
      ]
    },
    {
      "cell_type": "markdown",
      "source": [
        "11.Write a Python program to check whether a string starts with specified characters.\n"
      ],
      "metadata": {
        "id": "JM8Vm870QimB"
      }
    },
    {
      "cell_type": "code",
      "source": [
        "\n",
        "s='Vcv jfd jtyurbn n  smalk '\n",
        "def custom_startswith(in_str, character):\n",
        " if in_str.startswith(character):\n",
        "   return True\n",
        " else:\n",
        "   return False\n",
        "custom_startswith(s,'V')"
      ],
      "metadata": {
        "colab": {
          "base_uri": "https://localhost:8080/"
        },
        "id": "H9uZMyHrQuxm",
        "outputId": "15b87202-f79e-4174-c669-17f3e5f0a94e"
      },
      "execution_count": 20,
      "outputs": [
        {
          "output_type": "execute_result",
          "data": {
            "text/plain": [
              "True"
            ]
          },
          "metadata": {},
          "execution_count": 20
        }
      ]
    },
    {
      "cell_type": "markdown",
      "source": [
        "12. Write a Python program to count repeated characters in a\n",
        "string.\n"
      ],
      "metadata": {
        "id": "B07OLlgDQ6sb"
      }
    },
    {
      "cell_type": "code",
      "source": [
        "\n",
        "s='tequickkbhbhverhv'\n",
        "def count_repeated_char(in_str):\n",
        " l=[]\n",
        " for i in in_str:\n",
        "   l.append(i)\n",
        " for i in set(l):\n",
        "   print(i,\" : \",l.count(i))\n",
        "\n",
        "count_repeated_char(s)\n"
      ],
      "metadata": {
        "colab": {
          "base_uri": "https://localhost:8080/"
        },
        "id": "iOpTHmEJQ-mz",
        "outputId": "0ed4a49f-753b-4d14-e364-9a9dca3e58ae"
      },
      "execution_count": 22,
      "outputs": [
        {
          "output_type": "stream",
          "name": "stdout",
          "text": [
            "k  :  2\n",
            "v  :  2\n",
            "h  :  3\n",
            "q  :  1\n",
            "t  :  1\n",
            "i  :  1\n",
            "u  :  1\n",
            "e  :  2\n",
            "c  :  1\n",
            "r  :  1\n",
            "b  :  2\n"
          ]
        }
      ]
    },
    {
      "cell_type": "markdown",
      "source": [
        "13. Write a Python program to print the index of the character\n",
        "in a string\n"
      ],
      "metadata": {
        "id": "VrGDXb96RF9q"
      }
    },
    {
      "cell_type": "code",
      "source": [
        "s='nv harubi'\n",
        "def index_string(in_str):\n",
        " for i in in_str:\n",
        "  print(\"index of character: {} is {}\".format(i, in_str.index(i)))\n",
        "index_string(s) "
      ],
      "metadata": {
        "colab": {
          "base_uri": "https://localhost:8080/"
        },
        "id": "8ptqStbZRLSB",
        "outputId": "44a638d1-b34a-4b40-d5a8-a42247a5f113"
      },
      "execution_count": 24,
      "outputs": [
        {
          "output_type": "stream",
          "name": "stdout",
          "text": [
            "index of character: n is 0\n",
            "index of character: v is 1\n",
            "index of character:   is 2\n",
            "index of character: h is 3\n",
            "index of character: a is 4\n",
            "index of character: r is 5\n",
            "index of character: u is 6\n",
            "index of character: b is 7\n",
            "index of character: i is 8\n"
          ]
        }
      ]
    },
    {
      "cell_type": "markdown",
      "source": [
        "14. Write a Python program to lowercase first n characters in\n",
        "a string.\n"
      ],
      "metadata": {
        "id": "tkhMi8tsRTzx"
      }
    },
    {
      "cell_type": "code",
      "source": [
        "s='jTEsdbcsdjbujb'\n",
        "def first_n_lowercase(in_str, n):\n",
        " return in_str[:n].lower()+in_str[n:]\n",
        "first_n_lowercase(s,2)"
      ],
      "metadata": {
        "colab": {
          "base_uri": "https://localhost:8080/",
          "height": 36
        },
        "id": "AG2fX6oQRXka",
        "outputId": "17a5e35c-ad61-49d9-a900-67f32c5021d3"
      },
      "execution_count": 27,
      "outputs": [
        {
          "output_type": "execute_result",
          "data": {
            "text/plain": [
              "'jtEsdbcsdjbujb'"
            ],
            "application/vnd.google.colaboratory.intrinsic+json": {
              "type": "string"
            }
          },
          "metadata": {},
          "execution_count": 27
        }
      ]
    },
    {
      "cell_type": "markdown",
      "source": [
        "15. Write a Python program to swap comma and dot in a\n",
        "string."
      ],
      "metadata": {
        "id": "AZXUT1WkRoa9"
      }
    },
    {
      "cell_type": "code",
      "source": [
        "\n",
        "s1='32.054,23'\n",
        "def comma_dot_swapper(in_str):\n",
        " s=\"\"\n",
        " for i in in_str:\n",
        "   if i==\",\":\n",
        "     s+=\".\"\n",
        "   elif i==\".\":\n",
        "     s+=\",\"\n",
        "   else:\n",
        "     s+=i\n",
        " return s\n",
        "comma_dot_swapper(s1)\n"
      ],
      "metadata": {
        "colab": {
          "base_uri": "https://localhost:8080/",
          "height": 36
        },
        "id": "f1Io10whRoEK",
        "outputId": "fbd2cf05-c527-498a-aced-c5b2dba4341f"
      },
      "execution_count": 30,
      "outputs": [
        {
          "output_type": "execute_result",
          "data": {
            "text/plain": [
              "'32,054.23'"
            ],
            "application/vnd.google.colaboratory.intrinsic+json": {
              "type": "string"
            }
          },
          "metadata": {},
          "execution_count": 30
        }
      ]
    },
    {
      "cell_type": "markdown",
      "source": [
        "16. Write a Python program to count and display the vowels\n",
        "of a given text.\n"
      ],
      "metadata": {
        "id": "QW7l4gIkSClu"
      }
    },
    {
      "cell_type": "code",
      "source": [
        "s=\"My place of birth IS India\"\n",
        "def vowels_counter(in_str):\n",
        " l=[]\n",
        " for i in in_str:\n",
        "   if i.lower() in [\"a\", \"e\", \"i\", \"o\", \"u\"]:\n",
        "     l.append(i)\n",
        " return \"There are {} no of vowels and they are: {}\".format(len(l), l)\n",
        "vowels_counter(s)\n"
      ],
      "metadata": {
        "colab": {
          "base_uri": "https://localhost:8080/",
          "height": 36
        },
        "id": "H6QRkFcnSIWS",
        "outputId": "3463adb7-3f60-4d7e-abf9-d1c5edfb7df6"
      },
      "execution_count": 33,
      "outputs": [
        {
          "output_type": "execute_result",
          "data": {
            "text/plain": [
              "\"There are 8 no of vowels and they are: ['a', 'e', 'o', 'i', 'I', 'I', 'i', 'a']\""
            ],
            "application/vnd.google.colaboratory.intrinsic+json": {
              "type": "string"
            }
          },
          "metadata": {},
          "execution_count": 33
        }
      ]
    },
    {
      "cell_type": "markdown",
      "source": [
        "17. Write a Python program to capitalize first and last letters\n",
        "of each word of a given string.\n",
        "\n",
        "\n",
        "\n",
        "\n"
      ],
      "metadata": {
        "id": "trr5_vDZSUY4"
      }
    },
    {
      "cell_type": "code",
      "source": [
        "s='singapore city'\n",
        "def custom_uppercase_string(in_str):\n",
        "  \n",
        "  return in_str[0].upper()+in_str[1:len(in_str)-1]+in_str[-1].upper()\n",
        "custom_uppercase_string(s)\n"
      ],
      "metadata": {
        "colab": {
          "base_uri": "https://localhost:8080/",
          "height": 36
        },
        "id": "0hTVf6RVTQkL",
        "outputId": "5bd5d3ae-b72e-4231-9461-23e675ad0f5c"
      },
      "execution_count": 36,
      "outputs": [
        {
          "output_type": "execute_result",
          "data": {
            "text/plain": [
              "'Singapore citY'"
            ],
            "application/vnd.google.colaboratory.intrinsic+json": {
              "type": "string"
            }
          },
          "metadata": {},
          "execution_count": 36
        }
      ]
    },
    {
      "cell_type": "markdown",
      "source": [
        "18. Write a Python program to remove duplicate characters of\n",
        "a given string.\n"
      ],
      "metadata": {
        "id": "7Mwk7Z80T5HR"
      }
    },
    {
      "cell_type": "code",
      "source": [
        "s=\"IInnddiiaa\"\n",
        "from collections import OrderedDict\n",
        "def remove_duplicate_string_char(in_str):\n",
        " return \"\".join(OrderedDict.fromkeys(in_str))\n",
        "remove_duplicate_string_char(s)\n"
      ],
      "metadata": {
        "colab": {
          "base_uri": "https://localhost:8080/",
          "height": 36
        },
        "id": "oQ1hVOkuUHB_",
        "outputId": "f0d63897-c251-4dba-99d5-4334ff9a24e7"
      },
      "execution_count": 37,
      "outputs": [
        {
          "output_type": "execute_result",
          "data": {
            "text/plain": [
              "'India'"
            ],
            "application/vnd.google.colaboratory.intrinsic+json": {
              "type": "string"
            }
          },
          "metadata": {},
          "execution_count": 37
        }
      ]
    },
    {
      "cell_type": "markdown",
      "source": [
        "19.  Write a Python program to compute sum of digits of a\n",
        "given string.\n"
      ],
      "metadata": {
        "id": "c7JA3AA4UKsR"
      }
    },
    {
      "cell_type": "code",
      "source": [
        "s=\"ind366324\"\n",
        "def string_digit_sum_calculator(in_str):\n",
        " sum=0\n",
        " for i in in_str:\n",
        "   if i.isdigit():\n",
        "    sum+=int(i)\n",
        " return sum\n",
        "string_digit_sum_calculator(s)"
      ],
      "metadata": {
        "colab": {
          "base_uri": "https://localhost:8080/"
        },
        "id": "phnuOHClUSHp",
        "outputId": "d8e2a9ac-86d2-44ad-9603-bf926b40fa83"
      },
      "execution_count": 41,
      "outputs": [
        {
          "output_type": "execute_result",
          "data": {
            "text/plain": [
              "24"
            ]
          },
          "metadata": {},
          "execution_count": 41
        }
      ]
    },
    {
      "cell_type": "markdown",
      "source": [
        "20. Write a Python program find the common values that\n",
        "appear in two given strings.\n"
      ],
      "metadata": {
        "id": "gg__0syhUKgp"
      }
    },
    {
      "cell_type": "code",
      "source": [
        "s=\"zdcs adh hcx c\"\n",
        "s1=\"sdfhvbhdfbg\"\n",
        "def common_two_string(in_s1, in_s2):\n",
        " ret_s=\"\"\n",
        " for i in in_s1:\n",
        "   if i in in_s2:\n",
        "     ret_s+=i\n",
        " for i in in_s2:\n",
        "   if i in in_s1:\n",
        "     ret_s+=i\n",
        " return \"\".join(set(ret_s))\n",
        "common_two_string(s,s1)"
      ],
      "metadata": {
        "colab": {
          "base_uri": "https://localhost:8080/",
          "height": 36
        },
        "id": "aNLXzBieUvmK",
        "outputId": "d60700fe-cacd-48a2-9653-da4a18ad02fc"
      },
      "execution_count": 45,
      "outputs": [
        {
          "output_type": "execute_result",
          "data": {
            "text/plain": [
              "'hds'"
            ],
            "application/vnd.google.colaboratory.intrinsic+json": {
              "type": "string"
            }
          },
          "metadata": {},
          "execution_count": 45
        }
      ]
    },
    {
      "cell_type": "markdown",
      "source": [
        "21. Write a Python program to remove unwanted characters\n",
        "from a given string.\n"
      ],
      "metadata": {
        "id": "ztRPkzVfUKd4"
      }
    },
    {
      "cell_type": "code",
      "source": [
        "s=\"Sa fj hsd #v%a&inder*\"\n",
        "def unwanted_char_remover(in_str, *unwanted_char):\n",
        " for i in unwanted_char:\n",
        "   in_str=in_str.replace(i,\"\")\n",
        " return in_str\n",
        "unwanted_char_remover(s,\"#\",\"%\",\"&\",\"*\")"
      ],
      "metadata": {
        "colab": {
          "base_uri": "https://localhost:8080/",
          "height": 36
        },
        "id": "zBRqLRgMWLfw",
        "outputId": "86983b4d-835d-41a5-c4ef-8893fd871097"
      },
      "execution_count": 47,
      "outputs": [
        {
          "output_type": "execute_result",
          "data": {
            "text/plain": [
              "'Sa fj hsd vainder'"
            ],
            "application/vnd.google.colaboratory.intrinsic+json": {
              "type": "string"
            }
          },
          "metadata": {},
          "execution_count": 47
        }
      ]
    },
    {
      "cell_type": "markdown",
      "source": [
        "22. Write a Python program to remove duplicate words from a\n",
        "given string.\n"
      ],
      "metadata": {
        "id": "oOCpsPnaWSnB"
      }
    },
    {
      "cell_type": "code",
      "source": [
        "s=\"I I live in in India\"\n",
        "def duplicate_word_remover(in_str):\n",
        " temp=[]\n",
        " for i in in_str.split(\" \"):\n",
        "   if i not in temp:\n",
        "     temp.append(i)\n",
        " return \" \".join(temp)\n",
        "duplicate_word_remover(s)\n"
      ],
      "metadata": {
        "colab": {
          "base_uri": "https://localhost:8080/",
          "height": 36
        },
        "id": "TRi6hceWWZg4",
        "outputId": "43c84d17-6b63-40af-fad7-b190df394def"
      },
      "execution_count": 49,
      "outputs": [
        {
          "output_type": "execute_result",
          "data": {
            "text/plain": [
              "'I live in India'"
            ],
            "application/vnd.google.colaboratory.intrinsic+json": {
              "type": "string"
            }
          },
          "metadata": {},
          "execution_count": 49
        }
      ]
    },
    {
      "cell_type": "markdown",
      "source": [
        "23. Write a Python program to find the string similarity\n",
        "between two given strings.\n"
      ],
      "metadata": {
        "id": "T6R3Lxg0WfzI"
      }
    },
    {
      "cell_type": "code",
      "source": [
        "s1=\"My name is Nirala Kumar\"\n",
        "s2=\"My name is nkumar\"\n",
        "s3=\"123124\"\n",
        "import difflib\n",
        "def string_similarity(in_str1, in_str2):\n",
        " result = difflib.SequenceMatcher(a=in_str1.lower(), b=in_str2.lower())\n",
        " return \"{} percent similarity found!\".format(round(result.ratio()*100,2))\n",
        "string_similarity(s1,s2)"
      ],
      "metadata": {
        "colab": {
          "base_uri": "https://localhost:8080/",
          "height": 36
        },
        "id": "fQwT5QwIWtwx",
        "outputId": "60bfa9e3-b1fa-4be3-cb2c-6469c3f6c657"
      },
      "execution_count": 50,
      "outputs": [
        {
          "output_type": "execute_result",
          "data": {
            "text/plain": [
              "'85.0 percent similarity found!'"
            ],
            "application/vnd.google.colaboratory.intrinsic+json": {
              "type": "string"
            }
          },
          "metadata": {},
          "execution_count": 50
        }
      ]
    },
    {
      "cell_type": "markdown",
      "source": [
        "24. Write a Python program to extract numbers from a given\n",
        "string.\n"
      ],
      "metadata": {
        "id": "Cj2K6bw8W4pp"
      }
    },
    {
      "cell_type": "code",
      "source": [
        "\n",
        "s=\"shun 89 down 90\"\n",
        "def number_extractor(in_str):\n",
        " result=[int(i) for i in in_str.split() if i.isdigit()]\n",
        "\n",
        " return result\n",
        "number_extractor(s)\n"
      ],
      "metadata": {
        "colab": {
          "base_uri": "https://localhost:8080/"
        },
        "id": "b-K94LDaW_2C",
        "outputId": "37ad84fa-6342-41d8-998d-6ea150ea7417"
      },
      "execution_count": 51,
      "outputs": [
        {
          "output_type": "execute_result",
          "data": {
            "text/plain": [
              "[89, 90]"
            ]
          },
          "metadata": {},
          "execution_count": 51
        }
      ]
    },
    {
      "cell_type": "markdown",
      "source": [
        "25. Write a Python program to convert a given multiline string\n",
        "into a single lines."
      ],
      "metadata": {
        "id": "3oKzdAoBXDFJ"
      }
    },
    {
      "cell_type": "code",
      "source": [
        "\n",
        "s=\"\"\"This is a\n",
        "multiline\n",
        "string\"\"\"\n",
        "def split_lines(in_str):\n",
        " return \" \".join(in_str.split('\\n'))\n",
        "split_lines(s)\n"
      ],
      "metadata": {
        "colab": {
          "base_uri": "https://localhost:8080/",
          "height": 36
        },
        "id": "qpqU2UkBXN4_",
        "outputId": "21c973d9-87e4-433e-8016-65ce6d5836c6"
      },
      "execution_count": 52,
      "outputs": [
        {
          "output_type": "execute_result",
          "data": {
            "text/plain": [
              "'This is a multiline string'"
            ],
            "application/vnd.google.colaboratory.intrinsic+json": {
              "type": "string"
            }
          },
          "metadata": {},
          "execution_count": 52
        }
      ]
    }
  ]
}