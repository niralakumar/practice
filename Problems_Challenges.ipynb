{
  "cells": [
    {
      "cell_type": "markdown",
      "metadata": {
        "id": "view-in-github",
        "colab_type": "text"
      },
      "source": [
        "<a href=\"https://colab.research.google.com/github/niralakumar/practice/blob/main/Problems_Challenges.ipynb\" target=\"_parent\"><img src=\"https://colab.research.google.com/assets/colab-badge.svg\" alt=\"Open In Colab\"/></a>"
      ]
    },
    {
      "cell_type": "markdown",
      "id": "b03ccb31",
      "metadata": {
        "id": "b03ccb31"
      },
      "source": [
        "# 16 - Rahul Upadhya Bigdata - Python 90 Days Problems Challenges"
      ]
    },
    {
      "cell_type": "code",
      "execution_count": null,
      "id": "6a62b83c",
      "metadata": {
        "id": "6a62b83c"
      },
      "outputs": [],
      "source": [
        "# https://www.onlinelearningcenter.in/blog"
      ]
    },
    {
      "cell_type": "markdown",
      "id": "ec45bc0c",
      "metadata": {
        "id": "ec45bc0c"
      },
      "source": [
        "# 90."
      ]
    },
    {
      "cell_type": "markdown",
      "id": "4ced891d",
      "metadata": {
        "id": "4ced891d"
      },
      "source": [
        "💻 Write a function which takes \"List of Integers\" as input and returns \"List of Strings\" such that each element has numbers from 1 to input element - as shown in the samples.\n",
        "Note: Input number will always be greater than 0.\n",
        "\n",
        "getFrom1(List(1,5,3,4)) = List(1,12345,123,1234)\n",
        "\n",
        "getFrom1(List(10,6,7)) = List(12345678910,123456,1234567)\n",
        "\n",
        "getFrom1(List(2,3,9)) = List(12,123,123456789)\n",
        "\n",
        "getFrom1(List()) = List()"
      ]
    },
    {
      "cell_type": "code",
      "execution_count": null,
      "id": "795d1a8e-0b80-43bf-be8e-04ec84f1f91f",
      "metadata": {
        "id": "795d1a8e-0b80-43bf-be8e-04ec84f1f91f"
      },
      "outputs": [],
      "source": []
    },
    {
      "cell_type": "code",
      "execution_count": null,
      "id": "da48e6da-7631-4ea5-8885-5d86b111deec",
      "metadata": {
        "id": "da48e6da-7631-4ea5-8885-5d86b111deec"
      },
      "outputs": [],
      "source": []
    },
    {
      "cell_type": "code",
      "execution_count": null,
      "id": "e0e284e3-caf9-4fff-9207-d68a208d3fd1",
      "metadata": {
        "id": "e0e284e3-caf9-4fff-9207-d68a208d3fd1"
      },
      "outputs": [],
      "source": []
    },
    {
      "cell_type": "code",
      "execution_count": null,
      "id": "b61205bb-9817-4e73-8bfb-e0fcf75c3306",
      "metadata": {
        "id": "b61205bb-9817-4e73-8bfb-e0fcf75c3306"
      },
      "outputs": [],
      "source": []
    },
    {
      "cell_type": "code",
      "execution_count": null,
      "id": "2029ab2a-dbee-4e5f-97da-11df0b4a0358",
      "metadata": {
        "id": "2029ab2a-dbee-4e5f-97da-11df0b4a0358"
      },
      "outputs": [],
      "source": []
    },
    {
      "cell_type": "code",
      "execution_count": null,
      "id": "be8adb0b-7cdf-4da3-ae59-2b74205f9ee8",
      "metadata": {
        "id": "be8adb0b-7cdf-4da3-ae59-2b74205f9ee8"
      },
      "outputs": [],
      "source": []
    },
    {
      "cell_type": "code",
      "execution_count": null,
      "id": "f8c9cd2f-a114-45d0-bda4-634b2c72a052",
      "metadata": {
        "id": "f8c9cd2f-a114-45d0-bda4-634b2c72a052"
      },
      "outputs": [],
      "source": []
    },
    {
      "cell_type": "code",
      "execution_count": null,
      "id": "15854e0f",
      "metadata": {
        "id": "15854e0f"
      },
      "outputs": [],
      "source": [
        "# Revision : 13-08-2023\n",
        "\n",
        "def print_num(l):\n",
        "\n",
        "    f=[]\n",
        "\n",
        "    for i in l:\n",
        "        s=''\n",
        "        for j in range(1,i+1):\n",
        "            s+=str(j)\n",
        "        f.append(s)\n",
        "\n",
        "    return f\n",
        ""
      ]
    },
    {
      "cell_type": "code",
      "execution_count": null,
      "id": "1017bacc",
      "metadata": {
        "id": "1017bacc",
        "outputId": "2d9c7892-105e-41ab-e29a-b4788e71a3d1"
      },
      "outputs": [
        {
          "data": {
            "text/plain": [
              "['1', '12', '12345']"
            ]
          },
          "execution_count": 6,
          "metadata": {},
          "output_type": "execute_result"
        }
      ],
      "source": [
        "a=[1,2,5]\n",
        "print_num(a)"
      ]
    },
    {
      "cell_type": "code",
      "execution_count": null,
      "id": "d672ad42",
      "metadata": {
        "id": "d672ad42",
        "outputId": "16c8b536-aeab-4a7e-9111-906111978b41"
      },
      "outputs": [
        {
          "name": "stdout",
          "output_type": "stream",
          "text": [
            "['1', '12345', '123', '1234']\n",
            "['12345678910', '123456', '1234567']\n",
            "['12', '123', '123456789']\n",
            "[]\n"
          ]
        }
      ],
      "source": [
        "print(print_num([1,5,3,4]))\n",
        "print(print_num([10,6,7]))\n",
        "print(print_num([2,3,9]))\n",
        "print(print_num([]))"
      ]
    },
    {
      "cell_type": "code",
      "execution_count": null,
      "id": "17ab6e49",
      "metadata": {
        "id": "17ab6e49"
      },
      "outputs": [],
      "source": []
    },
    {
      "cell_type": "code",
      "execution_count": null,
      "id": "9ab10bab",
      "metadata": {
        "id": "9ab10bab"
      },
      "outputs": [],
      "source": []
    },
    {
      "cell_type": "code",
      "execution_count": null,
      "id": "28107d5a",
      "metadata": {
        "id": "28107d5a"
      },
      "outputs": [],
      "source": [
        "def getFrom1(l):\n",
        "\n",
        "    output=[]\n",
        "\n",
        "    for i in l:\n",
        "        s=''\n",
        "        for j in range(1,i+1):\n",
        "            s+=str(j)\n",
        "        output.append(s)\n",
        "\n",
        "    return output"
      ]
    },
    {
      "cell_type": "code",
      "execution_count": null,
      "id": "dc6724c7",
      "metadata": {
        "id": "dc6724c7",
        "outputId": "8692901b-b422-404a-bcc4-e8116574b2d9"
      },
      "outputs": [
        {
          "name": "stdout",
          "output_type": "stream",
          "text": [
            "['1', '12345', '123', '1234']\n",
            "['12345678910', '123456', '1234567']\n",
            "['12', '123', '123456789']\n",
            "[]\n"
          ]
        }
      ],
      "source": [
        "print(getFrom1([1,5,3,4]))\n",
        "print(getFrom1([10,6,7]))\n",
        "print(getFrom1([2,3,9]))\n",
        "print(getFrom1([]))"
      ]
    },
    {
      "cell_type": "code",
      "execution_count": null,
      "id": "d9c09776",
      "metadata": {
        "id": "d9c09776"
      },
      "outputs": [],
      "source": []
    },
    {
      "cell_type": "code",
      "execution_count": null,
      "id": "f6125349",
      "metadata": {
        "id": "f6125349"
      },
      "outputs": [],
      "source": []
    },
    {
      "cell_type": "markdown",
      "id": "607146f3",
      "metadata": {
        "id": "607146f3"
      },
      "source": [
        "# 89."
      ]
    },
    {
      "cell_type": "markdown",
      "id": "fca15b78",
      "metadata": {
        "id": "fca15b78"
      },
      "source": [
        "💻 Write a function which takes \"Array of Strings\" as input and returns \"String\" such that it has the most occurring character in entire set - as shown in the samples.\n",
        "Note: - If more than one character occurs max number of times, return all of them.\n",
        "-Only alphabets a-z is to be considered, case insensitive.\n",
        "\n",
        "getMostOccurring(Array(\"Indore\",\"Chennai\",\"Nashik\",\"Patna\")) = \"n\"\n",
        "//Explanation: \"n\" occurs 5 times overall.\n",
        "\n",
        "getMostOccurring(Array(\"Jalebi\",\"Sandesh\",\"Laddoo\",\"Barfi\",\"Kalakand\")) = \"a\"\n",
        "//Explanation: \"a\" occurs 7 times overall.\n",
        "\n",
        "getMostOccurring(Array(\"Coffee\")) = \"fe\"\n",
        "//Explanation: \"fe\" occurs 2 times overall."
      ]
    },
    {
      "cell_type": "code",
      "execution_count": null,
      "id": "0853ddfd",
      "metadata": {
        "id": "0853ddfd"
      },
      "outputs": [],
      "source": [
        "def getMostOccurring(l):\n",
        "\n",
        "    temp=''\n",
        "    d={}\n",
        "    f=''\n",
        "\n",
        "    for i in l:\n",
        "        temp+=i.lower()\n",
        "\n",
        "    for i in temp:\n",
        "        if i in d:\n",
        "            d[i]+=1\n",
        "        else:\n",
        "            d[i]=1\n",
        "\n",
        "    maxkey = max(d.values())\n",
        "\n",
        "    for k,v in d.items():\n",
        "        if v==maxkey:\n",
        "            f+=k\n",
        "\n",
        "    return f"
      ]
    },
    {
      "cell_type": "code",
      "execution_count": null,
      "id": "31a536f8",
      "metadata": {
        "id": "31a536f8",
        "outputId": "e0ca592a-6f34-4283-c3c7-0b73cba5341a"
      },
      "outputs": [
        {
          "data": {
            "text/plain": [
              "'n'"
            ]
          },
          "execution_count": 12,
          "metadata": {},
          "output_type": "execute_result"
        }
      ],
      "source": [
        "a=[\"Indore\",\"Chennai\",\"Nashik\",\"Patna\"]\n",
        "getMostOccurring(a)"
      ]
    },
    {
      "cell_type": "code",
      "execution_count": null,
      "id": "588c10cb",
      "metadata": {
        "id": "588c10cb",
        "outputId": "9aea6791-5f84-46d6-8ded-eefb844cd14b"
      },
      "outputs": [
        {
          "name": "stdout",
          "output_type": "stream",
          "text": [
            "n\n",
            "a\n",
            "fe\n"
          ]
        }
      ],
      "source": [
        "print(getMostOccurring([\"Indore\",\"Chennai\",\"Nashik\",\"Patna\"]))\n",
        "print(getMostOccurring([\"Jalebi\",\"Sandesh\",\"Laddoo\",\"Barfi\",\"Kalakand\"]))\n",
        "print(getMostOccurring([\"Coffee\"]))"
      ]
    },
    {
      "cell_type": "code",
      "execution_count": null,
      "id": "e83d8116",
      "metadata": {
        "id": "e83d8116"
      },
      "outputs": [],
      "source": []
    },
    {
      "cell_type": "code",
      "execution_count": null,
      "id": "2f8a6b46",
      "metadata": {
        "id": "2f8a6b46"
      },
      "outputs": [],
      "source": []
    },
    {
      "cell_type": "code",
      "execution_count": null,
      "id": "5c398764",
      "metadata": {
        "id": "5c398764"
      },
      "outputs": [],
      "source": []
    },
    {
      "cell_type": "code",
      "execution_count": null,
      "id": "86909867",
      "metadata": {
        "id": "86909867"
      },
      "outputs": [],
      "source": [
        "def getMostOccurring(l):\n",
        "\n",
        "    d={}\n",
        "    s=''\n",
        "    for i in l:\n",
        "        for j in i:\n",
        "            if j.lower() in d:\n",
        "                d[j.lower()]+=1\n",
        "            else:\n",
        "                d[j.lower()]=1\n",
        "\n",
        "    max_count = max(d.values())\n",
        "\n",
        "    for k,v in d.items():\n",
        "        if v==max_count:\n",
        "            s+=k\n",
        "    return s\n",
        ""
      ]
    },
    {
      "cell_type": "code",
      "execution_count": null,
      "id": "2f3e1e41",
      "metadata": {
        "id": "2f3e1e41",
        "outputId": "818640e4-b64f-4096-e1f5-446318a9e361"
      },
      "outputs": [
        {
          "name": "stdout",
          "output_type": "stream",
          "text": [
            "n\n",
            "a\n",
            "fe\n"
          ]
        }
      ],
      "source": [
        "print(getMostOccurring([\"Indore\",\"Chennai\",\"Nashik\",\"Patna\"]))\n",
        "print(getMostOccurring([\"Jalebi\",\"Sandesh\",\"Laddoo\",\"Barfi\",\"Kalakand\"]))\n",
        "print(getMostOccurring([\"Coffee\"]))"
      ]
    },
    {
      "cell_type": "code",
      "execution_count": null,
      "id": "e7e6d5a3",
      "metadata": {
        "id": "e7e6d5a3"
      },
      "outputs": [],
      "source": []
    },
    {
      "cell_type": "code",
      "execution_count": null,
      "id": "4857369f",
      "metadata": {
        "id": "4857369f"
      },
      "outputs": [],
      "source": []
    },
    {
      "cell_type": "markdown",
      "id": "1d8f1aee",
      "metadata": {
        "id": "1d8f1aee"
      },
      "source": [
        "# 88."
      ]
    },
    {
      "cell_type": "markdown",
      "id": "3866ec56",
      "metadata": {
        "id": "3866ec56"
      },
      "source": [
        "💻 Write a function which takes \"List of Array of numbers\" as input and returns \"Int\" such that it is the overall average of all the numbers - as shown in the samples.\n",
        "\n",
        "getAverage(List(Array(10,20,30),Array(5),Array(55,100))) = 36.67\n",
        "//Explanation: 10+20+30+5+55+100 => 220/6 = 36.67\n",
        "\n",
        "getAverage(List(Array(100,100),Array(200),Array(300,200))) = 180\n",
        "//Explanation: 100+100+200+300+200 => 900/5 = 180\n",
        "\n",
        "getAverage(List(Array())) = 0"
      ]
    },
    {
      "cell_type": "code",
      "execution_count": null,
      "id": "f2248791",
      "metadata": {
        "id": "f2248791"
      },
      "outputs": [],
      "source": []
    },
    {
      "cell_type": "code",
      "execution_count": null,
      "id": "3669ff21",
      "metadata": {
        "id": "3669ff21"
      },
      "outputs": [],
      "source": [
        "def getAverage(l):\n",
        "\n",
        "    cnt=0\n",
        "    total=0\n",
        "\n",
        "    for i in l:\n",
        "        for j in i:\n",
        "            total+=j\n",
        "            cnt+=1\n",
        "    try:\n",
        "        return total/cnt\n",
        "    except Exception as e:\n",
        "        return 0\n",
        ""
      ]
    },
    {
      "cell_type": "code",
      "execution_count": null,
      "id": "588a7907",
      "metadata": {
        "id": "588a7907",
        "outputId": "8f308893-5755-455b-c387-bc90f9929103"
      },
      "outputs": [
        {
          "name": "stdout",
          "output_type": "stream",
          "text": [
            "36.666666666666664\n",
            "180.0\n",
            "0\n"
          ]
        }
      ],
      "source": [
        "print(getAverage([[10,20,30],[5],[55,100]]))\n",
        "print(getAverage([[100,100],[200],[300,200]]))\n",
        "print(getAverage([[]]))"
      ]
    },
    {
      "cell_type": "code",
      "execution_count": null,
      "id": "51c29f0d",
      "metadata": {
        "id": "51c29f0d"
      },
      "outputs": [],
      "source": []
    },
    {
      "cell_type": "code",
      "execution_count": null,
      "id": "cd4776fd",
      "metadata": {
        "id": "cd4776fd"
      },
      "outputs": [],
      "source": [
        "def getAverage(l):\n",
        "\n",
        "    cnt=0\n",
        "    total=0\n",
        "\n",
        "    for i in l:\n",
        "        total+=sum(i)\n",
        "        cnt+=len(i)\n",
        "    try:\n",
        "        return round(total/cnt,2)\n",
        "    except Exception as e:\n",
        "        return 0\n",
        ""
      ]
    },
    {
      "cell_type": "code",
      "execution_count": null,
      "id": "d2a3738b",
      "metadata": {
        "id": "d2a3738b",
        "outputId": "98ef2f59-658a-47e9-ea2b-f7d8d8f2cb77"
      },
      "outputs": [
        {
          "name": "stdout",
          "output_type": "stream",
          "text": [
            "36.67\n",
            "180.0\n",
            "0\n"
          ]
        }
      ],
      "source": [
        "print(getAverage([[10,20,30],[5],[55,100]]))\n",
        "print(getAverage([[100,100],[200],[300,200]]))\n",
        "print(getAverage([[]]))"
      ]
    },
    {
      "cell_type": "code",
      "execution_count": null,
      "id": "981b1300",
      "metadata": {
        "id": "981b1300"
      },
      "outputs": [],
      "source": []
    },
    {
      "cell_type": "code",
      "execution_count": null,
      "id": "d9eb88d2",
      "metadata": {
        "id": "d9eb88d2"
      },
      "outputs": [],
      "source": [
        "def getAverage(l):\n",
        "    tot,cnt=0,0\n",
        "\n",
        "    for i in l:\n",
        "        if len(i)>0:\n",
        "            for j in i:\n",
        "                cnt+=1\n",
        "                tot+=j\n",
        "        else:\n",
        "            return 0\n",
        "\n",
        "    return round((tot/cnt),2)"
      ]
    },
    {
      "cell_type": "code",
      "execution_count": null,
      "id": "28af8643",
      "metadata": {
        "id": "28af8643",
        "outputId": "df99d788-1734-4398-e1c5-9a2369922927"
      },
      "outputs": [
        {
          "name": "stdout",
          "output_type": "stream",
          "text": [
            "36.67\n",
            "180.0\n",
            "0\n"
          ]
        }
      ],
      "source": [
        "print(getAverage([[10,20,30],[5],[55,100]]))\n",
        "print(getAverage([[100,100],[200],[300,200]]))\n",
        "print(getAverage([[]]))"
      ]
    },
    {
      "cell_type": "code",
      "execution_count": null,
      "id": "a0e9eb0b",
      "metadata": {
        "id": "a0e9eb0b"
      },
      "outputs": [],
      "source": []
    },
    {
      "cell_type": "code",
      "execution_count": null,
      "id": "31b7a497",
      "metadata": {
        "id": "31b7a497"
      },
      "outputs": [],
      "source": [
        "def getAvg(l):\n",
        "    x = [ j for i in l for j in i ]\n",
        "\n",
        "    if len(x)>0:\n",
        "        return round((sum(x)/len(x)),2)\n",
        "    else:\n",
        "        return 0"
      ]
    },
    {
      "cell_type": "code",
      "execution_count": null,
      "id": "dbf8d479",
      "metadata": {
        "id": "dbf8d479",
        "outputId": "e420aa3f-526e-4f8a-e8eb-1ee49abe97fb"
      },
      "outputs": [
        {
          "name": "stdout",
          "output_type": "stream",
          "text": [
            "36.67\n",
            "180.0\n",
            "0\n"
          ]
        }
      ],
      "source": [
        "print(getAvg([[10,20,30],[5],[55,100]]))\n",
        "print(getAvg([[100,100],[200],[300,200]]))\n",
        "print(getAvg([[]]))"
      ]
    },
    {
      "cell_type": "code",
      "execution_count": null,
      "id": "e25a17b2",
      "metadata": {
        "id": "e25a17b2"
      },
      "outputs": [],
      "source": []
    },
    {
      "cell_type": "markdown",
      "id": "2b23b884",
      "metadata": {
        "id": "2b23b884"
      },
      "source": [
        "# 87."
      ]
    },
    {
      "cell_type": "markdown",
      "id": "80639a8c",
      "metadata": {
        "id": "80639a8c"
      },
      "source": [
        "💻 Write a function which takes \"Map of String,Int\" as input and returns \"Int\" such that its largest value present in the value part of the input map - as shown in the samples.\n",
        "\n",
        "getMaxAmt(Map(\"Pawan\"->5000,\"Kiran\"->2500,\"Rajat\"->8000,\"Ajay\"->1200)) = 8000\n",
        "\n",
        "getMaxAmt(Map(\"Srinivas\"->9800,\"Yogesh\"->5300,\"Shubham\"->7500)) = 9800\n",
        "\n",
        "getMaxAmt(Map(\"Aswini\"->7300,\"Prajot\"->8100,\"Shivangi\"->8300,\"Komal\"->8000)) = 8300"
      ]
    },
    {
      "cell_type": "code",
      "execution_count": null,
      "id": "e9063d26",
      "metadata": {
        "id": "e9063d26"
      },
      "outputs": [],
      "source": [
        "def getMaxAmt(d):\n",
        "    return max(d.values())"
      ]
    },
    {
      "cell_type": "code",
      "execution_count": null,
      "id": "bd7cbcf1",
      "metadata": {
        "id": "bd7cbcf1",
        "outputId": "89a66bf6-c2f6-4ef7-8c73-9f06145d2aa7"
      },
      "outputs": [
        {
          "name": "stdout",
          "output_type": "stream",
          "text": [
            "8000\n",
            "7500\n",
            "8300\n"
          ]
        }
      ],
      "source": [
        "print(getMaxAmt({'Pawan':5000,'Kiran':2500,'Rajat':8000,'Ajay':1200}))\n",
        "print(getMaxAmt({'Srinivas':5000,'Yogesh':5300,'Shubham':7500}))\n",
        "print(getMaxAmt({'Aswini':7300,'Prajot':8100,'Shivangi':8300,'Komal':8300}))"
      ]
    },
    {
      "cell_type": "code",
      "execution_count": null,
      "id": "275ce4c9",
      "metadata": {
        "id": "275ce4c9"
      },
      "outputs": [],
      "source": []
    },
    {
      "cell_type": "code",
      "execution_count": null,
      "id": "2a6ccf74",
      "metadata": {
        "id": "2a6ccf74"
      },
      "outputs": [],
      "source": []
    },
    {
      "cell_type": "code",
      "execution_count": null,
      "id": "363a0a6a",
      "metadata": {
        "id": "363a0a6a"
      },
      "outputs": [],
      "source": [
        "def getMaxAmt(d):\n",
        "    return max(d.values())"
      ]
    },
    {
      "cell_type": "code",
      "execution_count": null,
      "id": "ad7ec257",
      "metadata": {
        "id": "ad7ec257",
        "outputId": "91c03241-16fa-4891-ec3d-b4772b4cfcce"
      },
      "outputs": [
        {
          "name": "stdout",
          "output_type": "stream",
          "text": [
            "8000\n",
            "7500\n",
            "8300\n"
          ]
        }
      ],
      "source": [
        "print(getMaxAmt({'Pawan':5000,'Kiran':2500,'Rajat':8000,'Ajay':1200}))\n",
        "print(getMaxAmt({'Srinivas':5000,'Yogesh':5300,'Shubham':7500}))\n",
        "print(getMaxAmt({'Aswini':7300,'Prajot':8100,'Shivangi':8300,'Komal':8300}))"
      ]
    },
    {
      "cell_type": "code",
      "execution_count": null,
      "id": "a3cf4c81",
      "metadata": {
        "id": "a3cf4c81"
      },
      "outputs": [],
      "source": []
    },
    {
      "cell_type": "markdown",
      "id": "e8c24606",
      "metadata": {
        "id": "e8c24606"
      },
      "source": [
        "# 86."
      ]
    },
    {
      "cell_type": "markdown",
      "id": "b715b627",
      "metadata": {
        "id": "b715b627"
      },
      "source": [
        "💻 Write a function which takes \"List of string\" & string (which is search_string) as inputs and returns \"List of string\" such that output has elements that has the search_string anywhere in the string - as shown in the samples.\n",
        "\n",
        "getRequiredStr(List(\"Chair\",\"Table\",\"Beach\",\"Break\"),\"ch\") =\n",
        "List(\"Chair\",\"Beach\")\n",
        "\n",
        "getRequiredStr(List(\"Maths\",\"Science\",\"Cycle\"),\"Ki\") =\n",
        "List()\n",
        "\n",
        "getRequiredStr(List(\"Rural\",\"Prior\",\"Rally\",\"Melody\",\"Viral\"),\"Ral\") =\n",
        "List(\"Rural\",\"Rally\",\"Viral\")"
      ]
    },
    {
      "cell_type": "code",
      "execution_count": null,
      "id": "3d42535b",
      "metadata": {
        "id": "3d42535b"
      },
      "outputs": [],
      "source": [
        "def getRequiredStr(l,search):\n",
        "\n",
        "    f=[]\n",
        "    for i in l:\n",
        "        if search.lower() in i.lower():\n",
        "            f.append(i)\n",
        "\n",
        "    return f"
      ]
    },
    {
      "cell_type": "code",
      "execution_count": null,
      "id": "9f813471",
      "metadata": {
        "id": "9f813471",
        "outputId": "ee58ba89-eb7d-410e-ee75-41b19cfc15ac"
      },
      "outputs": [
        {
          "name": "stdout",
          "output_type": "stream",
          "text": [
            "['Chair', 'Beach']\n",
            "[]\n",
            "['Rural', 'Rally', 'Viral']\n"
          ]
        }
      ],
      "source": [
        "print(getRequiredStr([\"Chair\",\"Table\",\"Beach\",\"Break\"],\"ch\"))\n",
        "print(getRequiredStr([\"Maths\",\"Science\",\"Cycle\"],\"Ki\"))\n",
        "print(getRequiredStr([\"Rural\",\"Prior\",\"Rally\",\"Melody\",\"Viral\"],\"Ral\"))"
      ]
    },
    {
      "cell_type": "code",
      "execution_count": null,
      "id": "2d2b6cc3",
      "metadata": {
        "id": "2d2b6cc3"
      },
      "outputs": [],
      "source": []
    },
    {
      "cell_type": "code",
      "execution_count": null,
      "id": "e3a133d3",
      "metadata": {
        "id": "e3a133d3"
      },
      "outputs": [],
      "source": [
        "def getRequiredStr(l,search):\n",
        "\n",
        "    f = [ i for i in l if search.lower() in i.lower() ]\n",
        "\n",
        "    return f"
      ]
    },
    {
      "cell_type": "code",
      "execution_count": null,
      "id": "6ec9e370",
      "metadata": {
        "id": "6ec9e370"
      },
      "outputs": [],
      "source": []
    },
    {
      "cell_type": "code",
      "execution_count": null,
      "id": "6bc71e22",
      "metadata": {
        "id": "6bc71e22",
        "outputId": "be82a817-ba91-41d6-9b31-06b56b9be37c"
      },
      "outputs": [
        {
          "name": "stdout",
          "output_type": "stream",
          "text": [
            "['Chair', 'Beach']\n",
            "[]\n",
            "['Rural', 'Rally', 'Viral']\n"
          ]
        }
      ],
      "source": [
        "print(getRequiredStr([\"Chair\",\"Table\",\"Beach\",\"Break\"],\"ch\"))\n",
        "print(getRequiredStr([\"Maths\",\"Science\",\"Cycle\"],\"Ki\"))\n",
        "print(getRequiredStr([\"Rural\",\"Prior\",\"Rally\",\"Melody\",\"Viral\"],\"Ral\"))"
      ]
    },
    {
      "cell_type": "code",
      "execution_count": null,
      "id": "c2e80087",
      "metadata": {
        "id": "c2e80087"
      },
      "outputs": [],
      "source": []
    },
    {
      "cell_type": "code",
      "execution_count": null,
      "id": "5af8b2ac",
      "metadata": {
        "id": "5af8b2ac"
      },
      "outputs": [],
      "source": []
    },
    {
      "cell_type": "code",
      "execution_count": null,
      "id": "268f2c97",
      "metadata": {
        "id": "268f2c97"
      },
      "outputs": [],
      "source": [
        "def getRequiredStr(l,search):\n",
        "\n",
        "    output=[]\n",
        "    for i in l:\n",
        "        if search.lower() in i.lower():\n",
        "            output.append(i)\n",
        "\n",
        "    return output"
      ]
    },
    {
      "cell_type": "code",
      "execution_count": null,
      "id": "2eddec8d",
      "metadata": {
        "id": "2eddec8d",
        "outputId": "731c63d7-c215-42be-ef0d-06862afbc42a"
      },
      "outputs": [
        {
          "name": "stdout",
          "output_type": "stream",
          "text": [
            "['Chair', 'Beach']\n",
            "[]\n",
            "['Rural', 'Rally', 'Viral']\n"
          ]
        }
      ],
      "source": [
        "print(getRequiredStr([\"Chair\",\"Table\",\"Beach\",\"Break\"],\"ch\"))\n",
        "print(getRequiredStr([\"Maths\",\"Science\",\"Cycle\"],\"Ki\"))\n",
        "print(getRequiredStr([\"Rural\",\"Prior\",\"Rally\",\"Melody\",\"Viral\"],\"Ral\"))"
      ]
    },
    {
      "cell_type": "code",
      "execution_count": null,
      "id": "da29fda9",
      "metadata": {
        "id": "da29fda9"
      },
      "outputs": [],
      "source": []
    },
    {
      "cell_type": "code",
      "execution_count": null,
      "id": "405cd2e6",
      "metadata": {
        "id": "405cd2e6"
      },
      "outputs": [],
      "source": []
    },
    {
      "cell_type": "markdown",
      "id": "c954eeba",
      "metadata": {
        "id": "c954eeba"
      },
      "source": [
        "# 85."
      ]
    },
    {
      "cell_type": "markdown",
      "id": "1da2a933",
      "metadata": {
        "id": "1da2a933"
      },
      "source": [
        "💻 Write a function which takes a \"Map of Int,String\" as input and returns \"Map of Int,String\" such that output has elements with keys which are multiples of 3 - as shown in the samples.\n",
        "\n",
        "getMult3(Map(4->\"Dev\",3->\"Rishita\",8->\"Vivek\",18->\"Anuradha\",24->\"Mangal\")) =\n",
        "Map(3->\"Rishita\",18->\"Anuradha\",24->\"Mangal\")\n",
        "\n",
        "getMult3(Map(19->\"Ritu\",27->\"Siddhi\",12->\"Vishal\",5->\"Neha\")) =\n",
        "Map(27->\"Siddhi\",12->\"Vishal\")\n",
        "\n",
        "getMult3(Map(38->\"Priti\",44->\"Nikhil\",82->\"Shivam\",95->\"Supriya\")) =\n",
        "Map()"
      ]
    },
    {
      "cell_type": "code",
      "execution_count": null,
      "id": "808dada0",
      "metadata": {
        "id": "808dada0"
      },
      "outputs": [],
      "source": []
    },
    {
      "cell_type": "code",
      "execution_count": null,
      "id": "3d294d19",
      "metadata": {
        "id": "3d294d19"
      },
      "outputs": [],
      "source": [
        "def getMult3(d):\n",
        "    f = { key:value for key,value in d.items() if key%3==0}\n",
        "    return f"
      ]
    },
    {
      "cell_type": "code",
      "execution_count": null,
      "id": "5825f6d5",
      "metadata": {
        "id": "5825f6d5",
        "outputId": "90b338b7-37c8-43c0-f3cb-7d7da54df256"
      },
      "outputs": [
        {
          "name": "stdout",
          "output_type": "stream",
          "text": [
            "{3: 'Rishita', 18: 'Anuradha', 24: 'Mangal'}\n",
            "{27: 'Siddhi', 12: 'Vishal'}\n",
            "{}\n"
          ]
        }
      ],
      "source": [
        "print( getMult3({4:\"Dev\",3:\"Rishita\",8:\"Vivek\",18:\"Anuradha\",24:\"Mangal\"}) )\n",
        "print( getMult3({19:\"Ritu\",27:\"Siddhi\",12:\"Vishal\",5:\"Neha\"}) )\n",
        "print( getMult3({38:\"Priti\",44:\"Nikhil\",82:\"Shivam\",95:\"Supriya\"}) )"
      ]
    },
    {
      "cell_type": "code",
      "execution_count": null,
      "id": "d15a5c98",
      "metadata": {
        "id": "d15a5c98"
      },
      "outputs": [],
      "source": []
    },
    {
      "cell_type": "code",
      "execution_count": null,
      "id": "fde87632",
      "metadata": {
        "id": "fde87632"
      },
      "outputs": [],
      "source": []
    },
    {
      "cell_type": "code",
      "execution_count": null,
      "id": "2c4b5391",
      "metadata": {
        "id": "2c4b5391"
      },
      "outputs": [],
      "source": [
        "def getMult3(d):\n",
        "\n",
        "    output={}\n",
        "    for k,v in d.items():\n",
        "        if k%3==0:\n",
        "            output[k]=v\n",
        "\n",
        "    return output"
      ]
    },
    {
      "cell_type": "code",
      "execution_count": null,
      "id": "2df67117",
      "metadata": {
        "id": "2df67117",
        "outputId": "fc723df3-738f-484b-f943-310d5a63f3a2"
      },
      "outputs": [
        {
          "name": "stdout",
          "output_type": "stream",
          "text": [
            "{3: 'Rishita', 18: 'Anuradha', 24: 'Mangal'}\n",
            "{27: 'Siddhi', 12: 'Vishal'}\n",
            "{}\n"
          ]
        }
      ],
      "source": [
        "print( getMult3({4:\"Dev\",3:\"Rishita\",8:\"Vivek\",18:\"Anuradha\",24:\"Mangal\"}) )\n",
        "print( getMult3({19:\"Ritu\",27:\"Siddhi\",12:\"Vishal\",5:\"Neha\"}) )\n",
        "print( getMult3({38:\"Priti\",44:\"Nikhil\",82:\"Shivam\",95:\"Supriya\"}) )"
      ]
    },
    {
      "cell_type": "code",
      "execution_count": null,
      "id": "26826e98",
      "metadata": {
        "id": "26826e98"
      },
      "outputs": [],
      "source": []
    },
    {
      "cell_type": "markdown",
      "id": "ce0ddc09",
      "metadata": {
        "id": "ce0ddc09"
      },
      "source": [
        "# 84."
      ]
    },
    {
      "cell_type": "markdown",
      "id": "96a60334",
      "metadata": {
        "id": "96a60334"
      },
      "source": [
        "💻 Write a function which takes a \"String\" (which is a sentence) as input and returns \"String\" such that for every word the first & last character is capitalized, the intermediate characters will retain their case - as shown in the samples.\n",
        "\n",
        "getCapitalized(\"Hello my name is Jitu\") =\n",
        "\"HellO MY NamE IS JitU\"\n",
        "\n",
        "getCapitalized(\"That one is CamelCase\") =\n",
        "\"ThaT OnE IS CamelCasE\"\n",
        "\n",
        "getCapitalized(\"Keep Going\") =\n",
        "\"KeeP GoinG\""
      ]
    },
    {
      "cell_type": "code",
      "execution_count": null,
      "id": "ab602df8",
      "metadata": {
        "id": "ab602df8"
      },
      "outputs": [],
      "source": []
    },
    {
      "cell_type": "code",
      "execution_count": null,
      "id": "1bb95d28",
      "metadata": {
        "id": "1bb95d28"
      },
      "outputs": [],
      "source": [
        "def getCapitalized(s):\n",
        "\n",
        "    temp=s.split()\n",
        "    f=[]\n",
        "\n",
        "    for i in temp:\n",
        "        f.append(i[0].upper()+i[1:-1]+ i[-1].upper())\n",
        "\n",
        "    return ' '.join(f)\n",
        ""
      ]
    },
    {
      "cell_type": "code",
      "execution_count": null,
      "id": "4c076a69",
      "metadata": {
        "id": "4c076a69",
        "outputId": "8771cf68-0ee0-499f-a3bf-56623c27e5e4"
      },
      "outputs": [
        {
          "name": "stdout",
          "output_type": "stream",
          "text": [
            "HellO MY NamE IS JitU\n",
            "ThaT OnE IS CamelCasE\n",
            "KeeP GoinG\n"
          ]
        }
      ],
      "source": [
        "print(getCapitalized(\"Hello my name is Jitu\"))\n",
        "print(getCapitalized(\"That one is CamelCase\"))\n",
        "print(getCapitalized(\"Keep Going\"))"
      ]
    },
    {
      "cell_type": "code",
      "execution_count": null,
      "id": "3189ab9b",
      "metadata": {
        "id": "3189ab9b"
      },
      "outputs": [],
      "source": []
    },
    {
      "cell_type": "code",
      "execution_count": null,
      "id": "1ca7c6d1",
      "metadata": {
        "id": "1ca7c6d1"
      },
      "outputs": [],
      "source": []
    },
    {
      "cell_type": "code",
      "execution_count": null,
      "id": "e6b24857",
      "metadata": {
        "id": "e6b24857"
      },
      "outputs": [],
      "source": [
        "def getCapitalized(s):\n",
        "\n",
        "    output=[]\n",
        "    temp=s.split()\n",
        "\n",
        "    for i in temp:\n",
        "        x=''\n",
        "        for j in range(len(i)):\n",
        "            if j==0 or j==len(i)-1:\n",
        "                x+=i[j].upper()\n",
        "            else:\n",
        "                x+=i[j]\n",
        "        output.append(x)\n",
        "\n",
        "    return ' '.join(output)\n",
        ""
      ]
    },
    {
      "cell_type": "code",
      "execution_count": null,
      "id": "6e1a55c0",
      "metadata": {
        "id": "6e1a55c0",
        "outputId": "5ec4388c-8e20-4219-bd23-0009eeffc434"
      },
      "outputs": [
        {
          "name": "stdout",
          "output_type": "stream",
          "text": [
            "HellO MY NamE IS JitU\n",
            "ThaT OnE IS CamelCasE\n",
            "KeeP GoinG\n"
          ]
        }
      ],
      "source": [
        "print(getCapitalized(\"Hello my name is Jitu\"))\n",
        "print(getCapitalized(\"That one is CamelCase\"))\n",
        "print(getCapitalized(\"Keep Going\"))"
      ]
    },
    {
      "cell_type": "code",
      "execution_count": null,
      "id": "89fa6083",
      "metadata": {
        "id": "89fa6083"
      },
      "outputs": [],
      "source": []
    },
    {
      "cell_type": "code",
      "execution_count": null,
      "id": "93e0e03a",
      "metadata": {
        "id": "93e0e03a"
      },
      "outputs": [],
      "source": [
        "def getCapitalized2(s):\n",
        "\n",
        "    output=[]\n",
        "    temp=s.split()\n",
        "\n",
        "    for i in temp:\n",
        "        output.append(i[0].upper()+i[1:len(i)-1]+i[-1].upper())\n",
        "    return ' '.join(output)\n",
        ""
      ]
    },
    {
      "cell_type": "code",
      "execution_count": null,
      "id": "3e524d64",
      "metadata": {
        "id": "3e524d64",
        "outputId": "9ff46a13-929a-4b6d-ee4f-2fd207704f7e"
      },
      "outputs": [
        {
          "name": "stdout",
          "output_type": "stream",
          "text": [
            "HellO MY NamE IS JitU\n",
            "ThaT OnE IS CamelCasE\n",
            "KeeP GoinG\n"
          ]
        }
      ],
      "source": [
        "print(getCapitalized2(\"Hello my name is Jitu\"))\n",
        "print(getCapitalized2(\"That one is CamelCase\"))\n",
        "print(getCapitalized2(\"Keep Going\"))"
      ]
    },
    {
      "cell_type": "code",
      "execution_count": null,
      "id": "8f65889b",
      "metadata": {
        "id": "8f65889b"
      },
      "outputs": [],
      "source": []
    },
    {
      "cell_type": "code",
      "execution_count": null,
      "id": "9679a029",
      "metadata": {
        "id": "9679a029"
      },
      "outputs": [],
      "source": []
    },
    {
      "cell_type": "code",
      "execution_count": null,
      "id": "2d0e2402",
      "metadata": {
        "id": "2d0e2402"
      },
      "outputs": [],
      "source": []
    },
    {
      "cell_type": "markdown",
      "id": "c745355b",
      "metadata": {
        "id": "c745355b"
      },
      "source": [
        "# 83."
      ]
    },
    {
      "cell_type": "markdown",
      "id": "60852cac",
      "metadata": {
        "id": "60852cac"
      },
      "source": [
        "💻 Write a function which takes a \"String\" (which is word containing only alphabets) as input and returns \"String\" such that every alphabet is replaced by next alphabet - as shown in the samples.\n",
        "Note: For \"z\", consider next character to be '$'.\n",
        "\n",
        "getNextAlpha(\"cupboard\") = \"dvqcpbse\"\n",
        "\n",
        "getNextAlpha(\"watch\") = \"xbudi\"\n",
        "\n",
        "getNextAlpha(\"zebra\") = \"$fcsb\""
      ]
    },
    {
      "cell_type": "code",
      "execution_count": null,
      "id": "b3f1a554",
      "metadata": {
        "id": "b3f1a554",
        "outputId": "ecb6a043-05b9-42bd-93bb-0b617957c895"
      },
      "outputs": [
        {
          "data": {
            "text/plain": [
              "97"
            ]
          },
          "execution_count": 73,
          "metadata": {},
          "output_type": "execute_result"
        }
      ],
      "source": [
        "ord('a')"
      ]
    },
    {
      "cell_type": "code",
      "execution_count": null,
      "id": "20e8dd9e",
      "metadata": {
        "id": "20e8dd9e"
      },
      "outputs": [],
      "source": [
        "def getNextAlpha(s):\n",
        "    f=''\n",
        "\n",
        "    for i in s:\n",
        "        if i!='z':\n",
        "            x=ord(i)\n",
        "            f+=chr(x+1)\n",
        "        else:\n",
        "            f+='$'\n",
        "    return f"
      ]
    },
    {
      "cell_type": "code",
      "execution_count": null,
      "id": "7ddd3b60",
      "metadata": {
        "id": "7ddd3b60",
        "outputId": "67944350-c298-40b1-dd9f-7b22669b1fd6"
      },
      "outputs": [
        {
          "name": "stdout",
          "output_type": "stream",
          "text": [
            "dvqcpbse\n",
            "xbudi\n",
            "$fcsb\n"
          ]
        }
      ],
      "source": [
        "\n",
        "print( getNextAlpha(\"cupboard\") )\n",
        "print( getNextAlpha(\"watch\") )\n",
        "print( getNextAlpha(\"zebra\") )"
      ]
    },
    {
      "cell_type": "code",
      "execution_count": null,
      "id": "dcaf4f23",
      "metadata": {
        "id": "dcaf4f23"
      },
      "outputs": [],
      "source": []
    },
    {
      "cell_type": "code",
      "execution_count": null,
      "id": "f8df513f",
      "metadata": {
        "id": "f8df513f"
      },
      "outputs": [],
      "source": [
        "def getNextAlpha(s):\n",
        "\n",
        "    temp=''\n",
        "    for i in s:\n",
        "        if i=='z':\n",
        "            temp+='$'\n",
        "        else:\n",
        "            temp+=chr(ord(i)+1)\n",
        "    return temp\n",
        ""
      ]
    },
    {
      "cell_type": "code",
      "execution_count": null,
      "id": "c28b6ffb",
      "metadata": {
        "id": "c28b6ffb",
        "outputId": "961642af-d850-418b-a0d0-2f482b29054a"
      },
      "outputs": [
        {
          "name": "stdout",
          "output_type": "stream",
          "text": [
            "dvqcpbse\n",
            "xbudi\n",
            "$fcsb\n"
          ]
        }
      ],
      "source": [
        "print( getNextAlpha(\"cupboard\") )\n",
        "print( getNextAlpha(\"watch\") )\n",
        "print( getNextAlpha(\"zebra\") )"
      ]
    },
    {
      "cell_type": "code",
      "execution_count": null,
      "id": "27c2c5e0",
      "metadata": {
        "id": "27c2c5e0"
      },
      "outputs": [],
      "source": []
    },
    {
      "cell_type": "code",
      "execution_count": null,
      "id": "edaf593c",
      "metadata": {
        "id": "edaf593c"
      },
      "outputs": [],
      "source": []
    },
    {
      "cell_type": "markdown",
      "id": "29d68ca7",
      "metadata": {
        "id": "29d68ca7"
      },
      "source": [
        "# 82."
      ]
    },
    {
      "cell_type": "markdown",
      "id": "e811f220",
      "metadata": {
        "id": "e811f220"
      },
      "source": [
        "💻 Write a function which takes a \"Array of Integers\" as input and returns \"Array of Integers\" such that even-position elements are multiplied by 2 & odd position elements are incremented by 2 - as shown in the samples.\n",
        "Note: Starting position is considered as 0.\n",
        "\n",
        "updateBy2(Array(2,3,4,1,5)) = Array(4,5,8,3,10)\n",
        "//Explanation: Array(2*2,3+2,4*2,1+2,5*2)\n",
        "\n",
        "updateBy2(Array(1,2)) = Array(2,4)\n",
        "//Explanation: Array(1*2,2+2)\n",
        "\n",
        "updateBy2(Array(0,0,2,2)) = Array(0,2,4,4)\n",
        "//Explanation: Array(0*2,0+2,2*2,2+2)"
      ]
    },
    {
      "cell_type": "code",
      "execution_count": null,
      "id": "6baf0fbb",
      "metadata": {
        "id": "6baf0fbb"
      },
      "outputs": [],
      "source": []
    },
    {
      "cell_type": "code",
      "execution_count": null,
      "id": "c828c755",
      "metadata": {
        "id": "c828c755"
      },
      "outputs": [],
      "source": [
        "def updateBy2(l):\n",
        "\n",
        "    f=[]\n",
        "    for i in range(len(l)):\n",
        "        if i%2==0:\n",
        "            f.append(l[i]*2)\n",
        "        else:\n",
        "            f.append(l[i]+2)\n",
        "    return f"
      ]
    },
    {
      "cell_type": "code",
      "execution_count": null,
      "id": "a9acdaf0",
      "metadata": {
        "id": "a9acdaf0",
        "outputId": "efcb5d75-b615-4451-e117-9d45ed2b68dc"
      },
      "outputs": [
        {
          "name": "stdout",
          "output_type": "stream",
          "text": [
            "[4, 5, 8, 3, 10]\n",
            "[2, 4]\n",
            "[0, 2, 4, 4]\n"
          ]
        }
      ],
      "source": [
        "print( updateBy2([2,3,4,1,5]))\n",
        "print( updateBy2([1,2]) )\n",
        "print( updateBy2([0,0,2,2])  )"
      ]
    },
    {
      "cell_type": "code",
      "execution_count": null,
      "id": "88ff2346",
      "metadata": {
        "id": "88ff2346"
      },
      "outputs": [],
      "source": []
    },
    {
      "cell_type": "code",
      "execution_count": null,
      "id": "d396c516",
      "metadata": {
        "id": "d396c516"
      },
      "outputs": [],
      "source": [
        "def updateBy2(l):\n",
        "    x = [l[i]*2 if i%2==0 else l[i]+2 for i in range(len(l))]\n",
        "    return x"
      ]
    },
    {
      "cell_type": "code",
      "execution_count": null,
      "id": "ed2ab89f",
      "metadata": {
        "id": "ed2ab89f",
        "outputId": "38c15958-4b3d-457e-b3c7-0313957c6ac4"
      },
      "outputs": [
        {
          "name": "stdout",
          "output_type": "stream",
          "text": [
            "[4, 5, 8, 3, 10]\n",
            "[2, 4]\n",
            "[0, 2, 4, 4]\n"
          ]
        }
      ],
      "source": [
        "print( updateBy2([2,3,4,1,5]))\n",
        "print( updateBy2([1,2]) )\n",
        "print( updateBy2([0,0,2,2])  )"
      ]
    },
    {
      "cell_type": "code",
      "execution_count": null,
      "id": "d5683bc2",
      "metadata": {
        "id": "d5683bc2"
      },
      "outputs": [],
      "source": []
    },
    {
      "cell_type": "code",
      "execution_count": null,
      "id": "744c510f",
      "metadata": {
        "id": "744c510f"
      },
      "outputs": [],
      "source": [
        "def updateBy2(l):\n",
        "\n",
        "    output=[]\n",
        "    for i in range(len(l)):\n",
        "        if i%2==0:\n",
        "            output.append(l[i]*2)\n",
        "        else:\n",
        "            output.append(l[i]+2)\n",
        "    return output"
      ]
    },
    {
      "cell_type": "code",
      "execution_count": null,
      "id": "f0d75845",
      "metadata": {
        "id": "f0d75845",
        "outputId": "2496ca24-fdac-4aff-9957-ea5b65cb198d"
      },
      "outputs": [
        {
          "name": "stdout",
          "output_type": "stream",
          "text": [
            "[4, 5, 8, 3, 10]\n",
            "[2, 4]\n",
            "[0, 2, 4, 4]\n"
          ]
        }
      ],
      "source": [
        "print( updateBy2([2,3,4,1,5]))\n",
        "print( updateBy2([1,2]) )\n",
        "print( updateBy2([0,0,2,2])  )"
      ]
    },
    {
      "cell_type": "code",
      "execution_count": null,
      "id": "d78cc9f0",
      "metadata": {
        "id": "d78cc9f0"
      },
      "outputs": [],
      "source": []
    },
    {
      "cell_type": "code",
      "execution_count": null,
      "id": "e1f2d1bb",
      "metadata": {
        "id": "e1f2d1bb"
      },
      "outputs": [],
      "source": [
        "updateBy2_ = lambda l : [ l[i]*2 if i%2==0 else l[i]+2 for i in range(len(l)) ]"
      ]
    },
    {
      "cell_type": "code",
      "execution_count": null,
      "id": "c9d3321b",
      "metadata": {
        "id": "c9d3321b",
        "outputId": "1f3c5885-8d21-4c42-92ee-b3013ce3bfdb"
      },
      "outputs": [
        {
          "name": "stdout",
          "output_type": "stream",
          "text": [
            "[4, 5, 8, 3, 10]\n",
            "[2, 4]\n",
            "[0, 2, 4, 4]\n"
          ]
        }
      ],
      "source": [
        "print( updateBy2_([2,3,4,1,5]))\n",
        "print( updateBy2_([1,2]) )\n",
        "print( updateBy2_([0,0,2,2])  )"
      ]
    },
    {
      "cell_type": "code",
      "execution_count": null,
      "id": "e5d12dfd",
      "metadata": {
        "id": "e5d12dfd"
      },
      "outputs": [],
      "source": []
    },
    {
      "cell_type": "markdown",
      "id": "0305d287",
      "metadata": {
        "id": "0305d287"
      },
      "source": [
        "# 81."
      ]
    },
    {
      "cell_type": "markdown",
      "id": "0b4a107e",
      "metadata": {
        "id": "0b4a107e"
      },
      "source": [
        "💻 Write a function which takes a \"string\" as input such that it contains comma-separated values & return \"Array of String\" such that the empty values are removed - as shown in the samples.\n",
        "\n",
        "getItems(\"Cake,Candle,,,,Honey\") =\n",
        "Array(\"Cake\",\"Candle\",\"Honey\")\n",
        "\n",
        "getItems(\",,,,,,,,,,\") = Array()\n",
        "\n",
        "getItems(\",Cellphone,,,Camera,Pen,,,,Bag,) =\n",
        "Array(\"Cellphone\",\"Camera\",\"Pen\",\"Bag\")"
      ]
    },
    {
      "cell_type": "code",
      "execution_count": null,
      "id": "ea53d86d",
      "metadata": {
        "id": "ea53d86d"
      },
      "outputs": [],
      "source": []
    },
    {
      "cell_type": "code",
      "execution_count": null,
      "id": "5bac66f5",
      "metadata": {
        "id": "5bac66f5"
      },
      "outputs": [],
      "source": [
        "def getItems(s):\n",
        "    f=[]\n",
        "    temp=s.split(',')\n",
        "\n",
        "    for i in temp:\n",
        "        if len(i)!=0:\n",
        "            f.append(i)\n",
        "    return f"
      ]
    },
    {
      "cell_type": "code",
      "execution_count": null,
      "id": "9f24d30e",
      "metadata": {
        "id": "9f24d30e",
        "outputId": "dec11e36-d82d-4da1-b1de-ac9f296998ad"
      },
      "outputs": [
        {
          "name": "stdout",
          "output_type": "stream",
          "text": [
            "['Cake', 'Candle', 'Honey']\n",
            "[]\n",
            "['Cellphone', 'Camera', 'Pen', 'Bag']\n"
          ]
        }
      ],
      "source": [
        "print(getItems(\"Cake,Candle,,,,Honey\"))\n",
        "print(getItems(\",,,,,,,,,,\"))\n",
        "print(getItems(\",Cellphone,,,Camera,Pen,,,,Bag,\"))"
      ]
    },
    {
      "cell_type": "code",
      "execution_count": null,
      "id": "0913d015",
      "metadata": {
        "id": "0913d015"
      },
      "outputs": [],
      "source": []
    },
    {
      "cell_type": "code",
      "execution_count": null,
      "id": "62b1eb5a",
      "metadata": {
        "id": "62b1eb5a"
      },
      "outputs": [],
      "source": [
        "def getItems(s):\n",
        "    x= s.split(\",\")\n",
        "    final=[]\n",
        "    for i in x:\n",
        "        if i!='':\n",
        "            final.append(i)\n",
        "    return final"
      ]
    },
    {
      "cell_type": "code",
      "execution_count": null,
      "id": "1ede8400",
      "metadata": {
        "id": "1ede8400",
        "outputId": "f7aeaf59-ea62-4d42-d3c6-d36123304c0a"
      },
      "outputs": [
        {
          "name": "stdout",
          "output_type": "stream",
          "text": [
            "['Cake', 'Candle', 'Honey']\n",
            "[]\n",
            "['Cellphone', 'Camera', 'Pen', 'Bag']\n"
          ]
        }
      ],
      "source": [
        "print(getItems(\"Cake,Candle,,,,Honey\"))\n",
        "print(getItems(\",,,,,,,,,,\"))\n",
        "print(getItems(\",Cellphone,,,Camera,Pen,,,,Bag,\"))"
      ]
    },
    {
      "cell_type": "code",
      "execution_count": null,
      "id": "b5555c58",
      "metadata": {
        "id": "b5555c58"
      },
      "outputs": [],
      "source": []
    },
    {
      "cell_type": "code",
      "execution_count": null,
      "id": "5d77da97",
      "metadata": {
        "id": "5d77da97",
        "outputId": "2cb3d771-22ef-46dd-c544-b16667438c09"
      },
      "outputs": [
        {
          "data": {
            "text/plain": [
              "['Cake', 'Candle', 'Honey']"
            ]
          },
          "execution_count": 13,
          "metadata": {},
          "output_type": "execute_result"
        }
      ],
      "source": [
        "s=\"Cake,Candle,,,,Honey\"\n",
        "x=[i for i in s.split(\",\") if i!='']\n",
        "x"
      ]
    },
    {
      "cell_type": "code",
      "execution_count": null,
      "id": "08e9573d",
      "metadata": {
        "id": "08e9573d",
        "outputId": "62d84f77-03cc-489f-db16-a10f972b3288"
      },
      "outputs": [
        {
          "data": {
            "text/plain": [
              "['Cake', 'Candle', 'Honey']"
            ]
          },
          "execution_count": 14,
          "metadata": {},
          "output_type": "execute_result"
        }
      ],
      "source": [
        "s=\"Cake,Candle,,,,Honey\"\n",
        "x=[i for i in s.split(\",\") if len(i)>1]\n",
        "x"
      ]
    },
    {
      "cell_type": "code",
      "execution_count": null,
      "id": "1ab4b881",
      "metadata": {
        "id": "1ab4b881"
      },
      "outputs": [],
      "source": []
    },
    {
      "cell_type": "code",
      "execution_count": null,
      "id": "11e19ddd",
      "metadata": {
        "id": "11e19ddd"
      },
      "outputs": [],
      "source": []
    },
    {
      "cell_type": "markdown",
      "id": "72374140",
      "metadata": {
        "id": "72374140"
      },
      "source": [
        "# 80."
      ]
    },
    {
      "cell_type": "markdown",
      "id": "4a3ee2f9",
      "metadata": {
        "id": "4a3ee2f9"
      },
      "source": [
        "💻 Write a function which takes a \"string\" as input and returns \"string\" such that it contains [upper case of 4th & 5th character of input string in the front] and then [the input string as it is] followed by [upper case of 4th & 5th character of the input string] - as shown in the samples.\n",
        "Note: If any of the 4th or 5th character is not present, use @ instead.\n",
        "\n",
        "getReqStr(\"Tsunami\") = \"NATsunamiNA\"\n",
        "getReqStr(\"Sun\") = \"@@Sun@@\"\n",
        "getReqStr(\"Book\") = \"K@BookK@\"\n",
        "getReqStr(\"Thunderstorm\") = \"NDThunderstormND\""
      ]
    },
    {
      "cell_type": "code",
      "execution_count": null,
      "id": "771341aa",
      "metadata": {
        "id": "771341aa"
      },
      "outputs": [],
      "source": []
    },
    {
      "cell_type": "code",
      "execution_count": null,
      "id": "cedbb5cf",
      "metadata": {
        "id": "cedbb5cf"
      },
      "outputs": [],
      "source": []
    },
    {
      "cell_type": "code",
      "execution_count": null,
      "id": "5dfef8f3",
      "metadata": {
        "id": "5dfef8f3"
      },
      "outputs": [],
      "source": [
        "def getReqStr(s):\n",
        "\n",
        "    f=''\n",
        "    if len(s)>4:\n",
        "        f=s[3].upper()+s[4].upper()+s+s[3].upper()+s[4].upper()\n",
        "    elif len(s)==4:\n",
        "        f=s[3].upper()+'@'+s+s[3].upper()+'@'\n",
        "    elif len(s)<=3:\n",
        "        f=2*'@'+s+2*'@'\n",
        "    return f\n",
        ""
      ]
    },
    {
      "cell_type": "code",
      "execution_count": null,
      "id": "02bb9aaf",
      "metadata": {
        "id": "02bb9aaf",
        "outputId": "7889139e-f07f-4f6a-fe1e-0092b61e4fa6"
      },
      "outputs": [
        {
          "name": "stdout",
          "output_type": "stream",
          "text": [
            "NATsunamiNA\n",
            "@@Sun@@\n",
            "K@BookK@\n",
            "NDThunderstormND\n"
          ]
        }
      ],
      "source": [
        "print( getReqStr(\"Tsunami\") )\n",
        "print( getReqStr(\"Sun\") )\n",
        "print( getReqStr(\"Book\") )\n",
        "print( getReqStr(\"Thunderstorm\") )"
      ]
    },
    {
      "cell_type": "code",
      "execution_count": null,
      "id": "265a7eba",
      "metadata": {
        "id": "265a7eba"
      },
      "outputs": [],
      "source": []
    },
    {
      "cell_type": "code",
      "execution_count": null,
      "id": "cf49c481",
      "metadata": {
        "id": "cf49c481"
      },
      "outputs": [],
      "source": [
        "def getReqStr(s):\n",
        "    n=len(s)\n",
        "    if n>4:\n",
        "        final=s[3:5].upper()+s+s[3:5].upper()\n",
        "    elif n<4:\n",
        "        final='@@'+s+'@@'\n",
        "    else:\n",
        "        final=s[3:5].upper()+'@'+s+s[3:5].upper()+'@'\n",
        "    return final"
      ]
    },
    {
      "cell_type": "code",
      "execution_count": null,
      "id": "9e0b41d5",
      "metadata": {
        "id": "9e0b41d5",
        "outputId": "900be14f-a637-4d0c-c32f-ad292a9172a0"
      },
      "outputs": [
        {
          "name": "stdout",
          "output_type": "stream",
          "text": [
            "NATsunamiNA\n",
            "@@Sun@@\n",
            "K@BookK@\n",
            "NDThunderstormND\n"
          ]
        }
      ],
      "source": [
        "print( getReqStr(\"Tsunami\") )\n",
        "print( getReqStr(\"Sun\") )\n",
        "print( getReqStr(\"Book\") )\n",
        "print( getReqStr(\"Thunderstorm\") )"
      ]
    },
    {
      "cell_type": "code",
      "execution_count": null,
      "id": "fd86d5d3",
      "metadata": {
        "id": "fd86d5d3"
      },
      "outputs": [],
      "source": []
    },
    {
      "cell_type": "code",
      "execution_count": null,
      "id": "fe1b2a96",
      "metadata": {
        "id": "fe1b2a96"
      },
      "outputs": [],
      "source": [
        "def getReqStr2(s):\n",
        "    fourth = s[3].upper() if len(s) >= 4 else \"@\"\n",
        "    fifth = s[4].upper() if len(s) >= 5 else \"@\"\n",
        "    return f\"{fourth}{fifth}{s}{fourth}{fifth}\"\n"
      ]
    },
    {
      "cell_type": "code",
      "execution_count": null,
      "id": "58afe0ab",
      "metadata": {
        "id": "58afe0ab",
        "outputId": "8d7a75d9-b59c-4ac0-8559-4f4b9216671c"
      },
      "outputs": [
        {
          "name": "stdout",
          "output_type": "stream",
          "text": [
            "NATsunamiNA\n",
            "@@Sun@@\n",
            "K@BookK@\n",
            "NDThunderstormND\n"
          ]
        }
      ],
      "source": [
        "print( getReqStr2(\"Tsunami\") )\n",
        "print( getReqStr2(\"Sun\") )\n",
        "print( getReqStr2(\"Book\") )\n",
        "print( getReqStr2(\"Thunderstorm\") )"
      ]
    },
    {
      "cell_type": "code",
      "execution_count": null,
      "id": "88972a58",
      "metadata": {
        "id": "88972a58"
      },
      "outputs": [],
      "source": []
    },
    {
      "cell_type": "code",
      "execution_count": null,
      "id": "ba199445",
      "metadata": {
        "id": "ba199445"
      },
      "outputs": [],
      "source": [
        "def getReqStr2(input_string):\n",
        "    if len(input_string) >= 5:\n",
        "        fourth_char = input_string[3].upper()\n",
        "        fifth_char = input_string[4].upper()\n",
        "    else:\n",
        "        fourth_char = fifth_char = \"@\"\n",
        "\n",
        "    result = f\"{fourth_char}{fifth_char}{input_string}{fourth_char}{fifth_char}\"\n",
        "    return result\n",
        "\n"
      ]
    },
    {
      "cell_type": "code",
      "execution_count": null,
      "id": "29a63ca5",
      "metadata": {
        "id": "29a63ca5",
        "outputId": "a0d7b686-520d-4678-e55d-d46c1080e218"
      },
      "outputs": [
        {
          "name": "stdout",
          "output_type": "stream",
          "text": [
            "NATsunamiNA\n",
            "@@Sun@@\n",
            "@@Book@@\n",
            "NDThunderstormND\n"
          ]
        }
      ],
      "source": [
        "print( getReqStr2(\"Tsunami\") )\n",
        "print( getReqStr2(\"Sun\") )\n",
        "print( getReqStr2(\"Book\") )\n",
        "print( getReqStr2(\"Thunderstorm\") )"
      ]
    },
    {
      "cell_type": "code",
      "execution_count": null,
      "id": "24823674",
      "metadata": {
        "id": "24823674"
      },
      "outputs": [],
      "source": []
    },
    {
      "cell_type": "code",
      "execution_count": null,
      "id": "ab2e7883",
      "metadata": {
        "id": "ab2e7883"
      },
      "outputs": [],
      "source": []
    },
    {
      "cell_type": "markdown",
      "id": "e5dd78bd",
      "metadata": {
        "id": "e5dd78bd"
      },
      "source": [
        "# 79."
      ]
    },
    {
      "cell_type": "markdown",
      "id": "e90f2a9f",
      "metadata": {
        "id": "e90f2a9f"
      },
      "source": [
        "💻 Write a function which takes a \"string\" as input which represents comma-separated choices. We need to return \"Array of Strings\" such that the most occurring choice is at the front and least occurrence choice at the end. Elements occurring for the same number of times, should be ordere d based on choice name in ascending order - as shown in the samples.\n",
        "\n",
        "getChoiceList(\"Sachin,Ganguly,Sachin,Dravid,Ganguly,Dhoni,Sachin,Ganguly,Sachin,Dhoni,Sachin\") =\n",
        "Array(\"Sachin\",\"Ganguly\",\"Dhoni\",\"Dravid\")\n",
        "\n",
        "getChoiceList(List(\"Tiger,Sheep,Tiger,Cat,Cat,Cat,Goat\")) =\n",
        "Array(\"Cat\",\"Tiger\",\"Goat\",\"Sheep\")\n",
        "\n",
        "getChoiceList(\"Idea,Jio,Jio,Jio,Jio,Airtel,Jio,Jio,Jio,Airtel\")) =\n",
        "Array(\"Jio\",\"Airtel\",\"Idea\")"
      ]
    },
    {
      "cell_type": "code",
      "execution_count": null,
      "id": "53814d53",
      "metadata": {
        "id": "53814d53"
      },
      "outputs": [],
      "source": []
    },
    {
      "cell_type": "code",
      "execution_count": null,
      "id": "70e0265b",
      "metadata": {
        "id": "70e0265b"
      },
      "outputs": [],
      "source": [
        "def getChoiceList(s):\n",
        "\n",
        "    temp=s.split(',')\n",
        "    d={}\n",
        "\n",
        "    for i in temp:\n",
        "        if i in d:\n",
        "            d[i]+=1\n",
        "        else:\n",
        "            d[i]=1\n",
        "\n",
        "    x = sorted(d.items(), key=lambda x: (-x[1],x[0]) )\n",
        "    #x = sorted(d.items(), key=lambda x: (x[1],x[0]), reverse=True )\n",
        "    x = [ i[0] for i in x ]\n",
        "\n",
        "    return x\n",
        ""
      ]
    },
    {
      "cell_type": "code",
      "execution_count": null,
      "id": "3a057437",
      "metadata": {
        "id": "3a057437",
        "outputId": "2b07691e-594d-4569-de90-03270430eb07"
      },
      "outputs": [
        {
          "name": "stdout",
          "output_type": "stream",
          "text": [
            "['Cat', 'Tiger', 'Goat', 'Sheep']\n",
            "['Jio', 'Airtel', 'Idea']\n",
            "['Sachin', 'Ganguly', 'Dhoni', 'Dravid']\n"
          ]
        }
      ],
      "source": [
        "print( getChoiceList(\"Tiger,Sheep,Tiger,Cat,Cat,Cat,Goat\") )\n",
        "print( getChoiceList(\"Idea,Jio,Jio,Jio,Jio,Airtel,Jio,Jio,Jio,Airtel\") )\n",
        "print( getChoiceList(\"Sachin,Ganguly,Sachin,Dravid,Ganguly,Dhoni,Sachin,Ganguly,Sachin,Dhoni,Sachin\") )"
      ]
    },
    {
      "cell_type": "code",
      "execution_count": null,
      "id": "878b4732",
      "metadata": {
        "id": "878b4732"
      },
      "outputs": [],
      "source": []
    },
    {
      "cell_type": "code",
      "execution_count": null,
      "id": "0a221318",
      "metadata": {
        "id": "0a221318"
      },
      "outputs": [],
      "source": [
        "def getChoiceList(s):\n",
        "    d={}\n",
        "    final=[]\n",
        "    s=s.split(\",\")\n",
        "    for i in s:\n",
        "        if i in d:\n",
        "            d[i]+=1\n",
        "        else:\n",
        "            d[i]=1\n",
        "\n",
        "    sorted_choices = sorted(d.items(), key=lambda x: (-x[1], x[0]))\n",
        "    sorted_choices = [choice[0] for choice in sorted_choices]\n",
        "\n",
        "    return sorted_choices\n",
        ""
      ]
    },
    {
      "cell_type": "code",
      "execution_count": null,
      "id": "cb76eedd",
      "metadata": {
        "id": "cb76eedd",
        "outputId": "13ab204a-371a-4bfd-931b-6d24b0700252"
      },
      "outputs": [
        {
          "name": "stdout",
          "output_type": "stream",
          "text": [
            "['Cat', 'Tiger', 'Goat', 'Sheep']\n",
            "['Jio', 'Airtel', 'Idea']\n",
            "['Sachin', 'Ganguly', 'Dhoni', 'Dravid']\n"
          ]
        }
      ],
      "source": [
        "print( getChoiceList(\"Tiger,Sheep,Tiger,Cat,Cat,Cat,Goat\") )\n",
        "print( getChoiceList(\"Idea,Jio,Jio,Jio,Jio,Airtel,Jio,Jio,Jio,Airtel\") )\n",
        "print( getChoiceList(\"Sachin,Ganguly,Sachin,Dravid,Ganguly,Dhoni,Sachin,Ganguly,Sachin,Dhoni,Sachin\") )"
      ]
    },
    {
      "cell_type": "code",
      "execution_count": null,
      "id": "059d57d3",
      "metadata": {
        "id": "059d57d3"
      },
      "outputs": [],
      "source": []
    },
    {
      "cell_type": "code",
      "execution_count": null,
      "id": "eca5ceff",
      "metadata": {
        "id": "eca5ceff"
      },
      "outputs": [],
      "source": []
    },
    {
      "cell_type": "markdown",
      "id": "1d190702",
      "metadata": {
        "id": "1d190702"
      },
      "source": [
        "# 78"
      ]
    },
    {
      "cell_type": "markdown",
      "id": "d3a4189f",
      "metadata": {
        "id": "d3a4189f"
      },
      "source": [
        "💻 Write a function which takes \"Array of Integers\" as input and returns true if every occurrence of element 8 has a neighbour 8 towards its left or right - as shown in the samples.\n",
        "\n",
        "check8pair(Array(1,5,8,8,9)) = true\n",
        "check8pair(Array(4,9,3,8,0,8)) = false\n",
        "check8pair(Array(8,8,2,8,8)) = true\n",
        "check8pair(Array(9,0)) = true\n",
        "check8pair(Array(8,8,8,5,8,2,8)) = false"
      ]
    },
    {
      "cell_type": "code",
      "execution_count": null,
      "id": "02215dc5",
      "metadata": {
        "id": "02215dc5"
      },
      "outputs": [],
      "source": []
    },
    {
      "cell_type": "code",
      "execution_count": null,
      "id": "9f73e3b2",
      "metadata": {
        "id": "9f73e3b2"
      },
      "outputs": [],
      "source": [
        "def check8pair(l):\n",
        "    n=len(l)\n",
        "    flg=False\n",
        "\n",
        "    for i in range(n):\n",
        "        if l[i]==8:\n",
        "            if i>0 and l[i-1]==8:\n",
        "                continue\n",
        "            elif i<n-1 and l[i+1]==8:\n",
        "                continue\n",
        "            return False\n",
        "    return True"
      ]
    },
    {
      "cell_type": "code",
      "execution_count": null,
      "id": "31e0efe2",
      "metadata": {
        "id": "31e0efe2",
        "outputId": "f67e7615-59eb-43ca-c758-da4b1a3df870"
      },
      "outputs": [
        {
          "name": "stdout",
          "output_type": "stream",
          "text": [
            "True\n",
            "False\n",
            "True\n",
            "True\n",
            "False\n"
          ]
        }
      ],
      "source": [
        "print( check8pair([1,5,8,8,9]) )\n",
        "print( check8pair([4,9,3,8,0,8]) )\n",
        "print( check8pair([8,8,2,8,8]) )\n",
        "print( check8pair([9,0]) )\n",
        "print( check8pair([8,8,8,5,8,2,8]) )"
      ]
    },
    {
      "cell_type": "code",
      "execution_count": null,
      "id": "543ab97c",
      "metadata": {
        "id": "543ab97c"
      },
      "outputs": [],
      "source": []
    },
    {
      "cell_type": "code",
      "execution_count": null,
      "id": "11c90e08",
      "metadata": {
        "id": "11c90e08"
      },
      "outputs": [],
      "source": []
    },
    {
      "cell_type": "code",
      "execution_count": null,
      "id": "52affa57",
      "metadata": {
        "id": "52affa57"
      },
      "outputs": [],
      "source": [
        "def check8pair2(l):\n",
        "    n=len(l)\n",
        "\n",
        "    for i in range(n):\n",
        "        if l[i]==8:\n",
        "            if i>0 and l[i-1]==8:\n",
        "                continue\n",
        "            elif (i<n-1 and l[i+1]==8):\n",
        "                continue\n",
        "            else:\n",
        "                return False\n",
        "    return True"
      ]
    },
    {
      "cell_type": "code",
      "execution_count": null,
      "id": "a38e27f0",
      "metadata": {
        "id": "a38e27f0",
        "outputId": "de454a24-1639-4111-af5d-4ba8a2368cb4"
      },
      "outputs": [
        {
          "name": "stdout",
          "output_type": "stream",
          "text": [
            "True\n",
            "False\n",
            "True\n",
            "True\n",
            "False\n"
          ]
        }
      ],
      "source": [
        "print( check8pair2([1,5,8,8,9]) )\n",
        "print( check8pair2([4,9,3,8,0,8]) )\n",
        "print( check8pair2([8,8,2,8,8]) )\n",
        "print( check8pair2([9,0]) )\n",
        "print( check8pair2([8,8,8,5,8,2,8]) )"
      ]
    },
    {
      "cell_type": "code",
      "execution_count": null,
      "id": "f32e72b1",
      "metadata": {
        "id": "f32e72b1"
      },
      "outputs": [],
      "source": []
    },
    {
      "cell_type": "code",
      "execution_count": null,
      "id": "290195ac",
      "metadata": {
        "id": "290195ac"
      },
      "outputs": [],
      "source": [
        "def check8pair(l):\n",
        "    n=len(l)\n",
        "\n",
        "    for i in range(n):\n",
        "        if l[i]==8:\n",
        "            if l[i-1]==8 or l[i+1]==8:\n",
        "                continue\n",
        "            return False\n",
        "    return True"
      ]
    },
    {
      "cell_type": "code",
      "execution_count": null,
      "id": "16bc2522",
      "metadata": {
        "id": "16bc2522",
        "outputId": "465c1e1b-11e2-4569-b627-7a5c729c576c"
      },
      "outputs": [
        {
          "name": "stdout",
          "output_type": "stream",
          "text": [
            "True\n",
            "False\n",
            "True\n",
            "True\n",
            "False\n"
          ]
        }
      ],
      "source": [
        "print( check8pair([1,5,8,8,9]) )\n",
        "print( check8pair([4,9,3,8,0,8]) )\n",
        "print( check8pair([8,8,2,8,8]) )\n",
        "print( check8pair([9,0]) )\n",
        "print( check8pair([8,8,8,5,8,2,8]) )"
      ]
    },
    {
      "cell_type": "code",
      "execution_count": null,
      "id": "0b226341",
      "metadata": {
        "id": "0b226341"
      },
      "outputs": [],
      "source": []
    },
    {
      "cell_type": "code",
      "execution_count": null,
      "id": "2d825ded",
      "metadata": {
        "id": "2d825ded"
      },
      "outputs": [],
      "source": []
    },
    {
      "cell_type": "code",
      "execution_count": null,
      "id": "52d8d303",
      "metadata": {
        "id": "52d8d303"
      },
      "outputs": [],
      "source": []
    },
    {
      "cell_type": "markdown",
      "id": "44d99abb",
      "metadata": {
        "id": "44d99abb"
      },
      "source": [
        "# 77"
      ]
    },
    {
      "cell_type": "markdown",
      "id": "2cc6bcfa",
      "metadata": {
        "id": "2cc6bcfa"
      },
      "source": [
        "💻 Write a function which takes 2 inputs \"Map of String,Integer\" representing item,price & \"Integer\" representing the budget. We need to return \"Tuple of Integer,Integer\" representing the total_expenditure_done,no_of_items - as shown in the samples.\n",
        "Note: We need to maximize no_of_items to get as many items as possible in the given budget.\n",
        "\n",
        "purchaseItems(Map(\"Apple\"->220,\"Cherry\"->600,\"Lemon\"->70,\"Mosambi\"->60,\"Mango\"->70),250) =\n",
        "(200,3)\n",
        "//Explanation: In 250, we can purchase Mosambi(60)+Lemon(70)+Mango(70)=200 rs, 3 quantity\n",
        "\n",
        "purchaseItems(Map(\"Apple\"->220,\"Cherry\"->600,\"Lemon\"->70,\"Mosambi\"->60,\"Mango\"->70),50) =\n",
        "(0,0)\n",
        "//Explanation: In 50, we cannot purchase any item=>0 rs expenditure, 0 quantity\n",
        "\n",
        "purchaseItems(Map(\"Rose\"->5,\"Lotus\"->100,\"Jasmine\"->42,\"Lotus\"->64,\"Orchid\"->9,\"Marigold\"->35),100) =\n",
        "(91,4)\n",
        "//Explanation: In 100, we can purchase Rose(5)+Orchid(9)+Marigold(35)+Jasmine(42)=>91 rs expenditure, 4 quantity"
      ]
    },
    {
      "cell_type": "code",
      "execution_count": null,
      "id": "2fcf62b4",
      "metadata": {
        "id": "2fcf62b4"
      },
      "outputs": [],
      "source": []
    },
    {
      "cell_type": "code",
      "execution_count": null,
      "id": "f7b33439",
      "metadata": {
        "id": "f7b33439"
      },
      "outputs": [],
      "source": [
        "def purchaseItems(d,x):\n",
        "\n",
        "    total=0\n",
        "    count=0\n",
        "    y=sorted(d.items(), key=lambda x: x[1])\n",
        "\n",
        "    for i in y:\n",
        "        first=i[1]\n",
        "        total+=i[1]\n",
        "        count+=1\n",
        "        if total<x:\n",
        "            continue\n",
        "        else:\n",
        "            break\n",
        "\n",
        "    return total-first,count-1\n",
        ""
      ]
    },
    {
      "cell_type": "code",
      "execution_count": null,
      "id": "d4daff40",
      "metadata": {
        "id": "d4daff40"
      },
      "outputs": [],
      "source": []
    },
    {
      "cell_type": "code",
      "execution_count": null,
      "id": "9bb8effb",
      "metadata": {
        "id": "9bb8effb",
        "outputId": "0708f4ef-b9ed-48f6-ad88-c264b6d402dc"
      },
      "outputs": [
        {
          "name": "stdout",
          "output_type": "stream",
          "text": [
            "(200, 3)\n",
            "(0, 0)\n",
            "(91, 4)\n"
          ]
        }
      ],
      "source": [
        "print( purchaseItems({\"Apple\":220,\"Cherry\":600,\"Lemon\":70,\"Mosambi\":60,\"Mango\":70},250) )\n",
        "print( purchaseItems({\"Apple\":220,\"Cherry\":600,\"Lemon\":70,\"Mosambi\":60,\"Mango\":70},50) )\n",
        "print( purchaseItems({\"Rose\":5,\"Lotus\":100,\"Jasmine\":42,\"Lotus\":64,\"Orchid\":9,\"Marigold\":35},100) )"
      ]
    },
    {
      "cell_type": "code",
      "execution_count": null,
      "id": "55c65016",
      "metadata": {
        "id": "55c65016"
      },
      "outputs": [],
      "source": []
    },
    {
      "cell_type": "code",
      "execution_count": null,
      "id": "31c58eeb",
      "metadata": {
        "id": "31c58eeb"
      },
      "outputs": [],
      "source": [
        "def purchaseItems(d,n):\n",
        "    total=0\n",
        "    count=0\n",
        "\n",
        "    sorted_d = sorted(d.items(), key=lambda x: x[1])\n",
        "    for i in sorted_d:\n",
        "        total+=i[1]\n",
        "        count+=1\n",
        "        if total>n:\n",
        "            total-=i[1]\n",
        "            count-=1\n",
        "            break\n",
        "\n",
        "    return total,count"
      ]
    },
    {
      "cell_type": "code",
      "execution_count": null,
      "id": "20275f95",
      "metadata": {
        "id": "20275f95",
        "outputId": "9a0292e3-8ae9-471f-cb58-c64d5db156d1"
      },
      "outputs": [
        {
          "name": "stdout",
          "output_type": "stream",
          "text": [
            "(200, 3)\n",
            "(0, 0)\n",
            "(91, 4)\n"
          ]
        }
      ],
      "source": [
        "print( purchaseItems({\"Apple\":220,\"Cherry\":600,\"Lemon\":70,\"Mosambi\":60,\"Mango\":70},250) )\n",
        "print( purchaseItems({\"Apple\":220,\"Cherry\":600,\"Lemon\":70,\"Mosambi\":60,\"Mango\":70},50) )\n",
        "print( purchaseItems({\"Rose\":5,\"Lotus\":100,\"Jasmine\":42,\"Lotus\":64,\"Orchid\":9,\"Marigold\":35},100) )"
      ]
    },
    {
      "cell_type": "code",
      "execution_count": null,
      "id": "eda93eb4",
      "metadata": {
        "id": "eda93eb4"
      },
      "outputs": [],
      "source": []
    },
    {
      "cell_type": "code",
      "execution_count": null,
      "id": "e4077379",
      "metadata": {
        "id": "e4077379"
      },
      "outputs": [],
      "source": [
        "def purchaseItems2(d,n):\n",
        "    total=0\n",
        "    d1={}\n",
        "\n",
        "    for k,v in dict(sorted(d.items(), key=lambda x: x[1])).items():\n",
        "        total+=v\n",
        "\n",
        "        if total<=n:\n",
        "            d1[k]=v\n",
        "        else:\n",
        "            total-=v\n",
        "            break\n",
        "\n",
        "    return total,len(d1)"
      ]
    },
    {
      "cell_type": "code",
      "execution_count": null,
      "id": "65df614c",
      "metadata": {
        "id": "65df614c",
        "outputId": "c10ec549-1c56-45dd-f8fa-23d919819ec9"
      },
      "outputs": [
        {
          "name": "stdout",
          "output_type": "stream",
          "text": [
            "(200, 3)\n",
            "(0, 0)\n",
            "(91, 4)\n"
          ]
        }
      ],
      "source": [
        "print( purchaseItems2({\"Apple\":220,\"Cherry\":600,\"Lemon\":70,\"Mosambi\":60,\"Mango\":70},250) )\n",
        "print( purchaseItems2({\"Apple\":220,\"Cherry\":600,\"Lemon\":70,\"Mosambi\":60,\"Mango\":70},50) )\n",
        "print( purchaseItems2({\"Rose\":5,\"Lotus\":100,\"Jasmine\":42,\"Lotus\":64,\"Orchid\":9,\"Marigold\":35},100) )"
      ]
    },
    {
      "cell_type": "code",
      "execution_count": null,
      "id": "f6cee0be",
      "metadata": {
        "id": "f6cee0be"
      },
      "outputs": [],
      "source": []
    },
    {
      "cell_type": "code",
      "execution_count": null,
      "id": "6f3ab7c3",
      "metadata": {
        "id": "6f3ab7c3"
      },
      "outputs": [],
      "source": []
    },
    {
      "cell_type": "code",
      "execution_count": null,
      "id": "fd8666ef",
      "metadata": {
        "id": "fd8666ef",
        "outputId": "22aa74c7-c565-4187-e0d4-3be96abb29c3"
      },
      "outputs": [
        {
          "data": {
            "text/plain": [
              "{'Mosambi': 60, 'Lemon': 70, 'Mango': 70, 'Apple': 220, 'Cherry': 600}"
            ]
          },
          "execution_count": 258,
          "metadata": {},
          "output_type": "execute_result"
        }
      ],
      "source": [
        "d={\"Apple\":220,\"Cherry\":600,\"Lemon\":70,\"Mosambi\":60,\"Mango\":70}\n",
        "sorted_d = sorted(d.items(), key=lambda x: x[1])\n",
        "dict(sorted_d)"
      ]
    },
    {
      "cell_type": "code",
      "execution_count": null,
      "id": "2d549597",
      "metadata": {
        "id": "2d549597"
      },
      "outputs": [],
      "source": []
    },
    {
      "cell_type": "markdown",
      "id": "df32d9a1",
      "metadata": {
        "id": "df32d9a1"
      },
      "source": [
        "# 76."
      ]
    },
    {
      "cell_type": "markdown",
      "id": "963679ea",
      "metadata": {
        "id": "963679ea"
      },
      "source": [
        "💻 Write a function which takes 2 inputs \"String,Integer\" representing date(yyyy-mm-dd) & no_of_chapters_left_to_study. We need to display from the specified date to the last date of the month, chapters to be completed with average rate(Rounded to nearest integer) - as shown in the samples.\n",
        "\n",
        "showChaptersToStudy(\"2023-03-28\",40) =\n",
        "2023-03-28 : 10\n",
        "2023-03-29 : 20\n",
        "2023-03-30 : 30\n",
        "2023-03-31 : 40\n",
        "//Explanation: Total days=4 (28th to 31st), so avg=40/4=10\n",
        "\n",
        "showChaptersToStudy(\"2023-02-26\",35) =\n",
        "2023-02-26 : 12\n",
        "2023-02-27 : 24\n",
        "2023-02-28 : 35\n",
        "//Explanation: Total days=3 (26th to 28th), so avg=35/3=11.67=>12\n",
        "\n",
        "showChaptersToStudy(\"2023-04-25\",97) =\n",
        "2023-04-25 : 16\n",
        "2023-04-26 : 32\n",
        "2023-04-27 : 48\n",
        "2023-04-28 : 64\n",
        "2023-04-29 : 80\n",
        "2023-04-30 : 97\n",
        "//Explanation: Total days=6 (25th to 30th), so avg=97/6=16.17=>16\n",
        "\n",
        "showChaptersToStudy(\"2023-01-30\",1) =\n",
        "2023-01-30 : 1\n",
        "2023-01-31 : 1\n",
        "//Explanation: Total days=2 (30th to 31st), so avg=1/2=0.5=>1"
      ]
    },
    {
      "cell_type": "code",
      "execution_count": null,
      "id": "13097c82",
      "metadata": {
        "id": "13097c82"
      },
      "outputs": [],
      "source": []
    },
    {
      "cell_type": "code",
      "execution_count": null,
      "id": "480d09cb",
      "metadata": {
        "id": "480d09cb"
      },
      "outputs": [],
      "source": [
        "def showChaptersToStudy(date,pages):\n",
        "    from calendar import monthrange\n",
        "    from math import ceil\n",
        "\n",
        "    year,month,present_day = date.split(\"-\")\n",
        "    last_day = monthrange(int(year),int(month))[1]\n",
        "    avg_pages = ceil(pages/(last_day-int(present_day)+1))\n",
        "    page_cnt = avg_pages\n",
        "    i = int(present_day)\n",
        "\n",
        "    while i <=last_day:\n",
        "        print(f\"{year}-{month}-{i} : {page_cnt}\")\n",
        "        if (page_cnt+avg_pages)>=pages:\n",
        "            page_cnt=pages\n",
        "        else:\n",
        "            page_cnt+=avg_pages\n",
        "        i+=1\n",
        ""
      ]
    },
    {
      "cell_type": "code",
      "execution_count": null,
      "id": "10996fe7",
      "metadata": {
        "id": "10996fe7",
        "outputId": "d52fab47-01f9-4bc6-f132-b80346bc573d"
      },
      "outputs": [
        {
          "name": "stdout",
          "output_type": "stream",
          "text": [
            "2023-03-28 : 10\n",
            "2023-03-29 : 20\n",
            "2023-03-30 : 30\n",
            "2023-03-31 : 40\n"
          ]
        }
      ],
      "source": [
        "showChaptersToStudy(\"2023-03-28\",40)"
      ]
    },
    {
      "cell_type": "code",
      "execution_count": null,
      "id": "4e5eb7d7",
      "metadata": {
        "id": "4e5eb7d7",
        "outputId": "480ccecc-bd7b-44a0-b496-2e579acf9463"
      },
      "outputs": [
        {
          "name": "stdout",
          "output_type": "stream",
          "text": [
            "2023-02-26 : 12\n",
            "2023-02-27 : 24\n",
            "2023-02-28 : 35\n"
          ]
        }
      ],
      "source": [
        "showChaptersToStudy(\"2023-02-26\",35)"
      ]
    },
    {
      "cell_type": "code",
      "execution_count": null,
      "id": "04769bde",
      "metadata": {
        "id": "04769bde"
      },
      "outputs": [],
      "source": []
    },
    {
      "cell_type": "code",
      "execution_count": null,
      "id": "7a16568b",
      "metadata": {
        "id": "7a16568b"
      },
      "outputs": [],
      "source": []
    },
    {
      "cell_type": "markdown",
      "id": "cc36b64b",
      "metadata": {
        "id": "cc36b64b"
      },
      "source": [
        "# 75."
      ]
    },
    {
      "cell_type": "markdown",
      "id": "4730ff39",
      "metadata": {
        "id": "4730ff39"
      },
      "source": [
        "💻 Write a function which takes \"Array of Integers\" as input and returns true if for every 1 in the array there is a following 9 somewhere after the 1 - as shown in the samples.\n",
        "\n",
        "check19(Array(0,1,2,9,3)) = true\n",
        "//Explantion: 1 has a 9 following it.\n",
        "\n",
        "check19(Array(3,1,4,9,3,9,1,2)) = false\n",
        "//Explantion: Last occurrence of 1 has no 9 following it.\n",
        "\n",
        "check19(Array(6,1,1,1,8,9,3,9,9,1,9,2)) = true\n",
        "//Explantion: All the 4 occurrences of 1 has 9's following it\n",
        "\n",
        "check19(Array(0,1,9,9,9,9,1,1,9,2,1,9)) = false\n",
        "//Explantion: All the 4 occurrences of 1 are not having corresponding following 9.\n",
        "\n",
        "check19(Array(0,1,9,9,9,9,1,1,9,2,1,9,8,9)) = true\n",
        "//Explantion: All the 4 occurrences of 1 are having corresponding following 9."
      ]
    },
    {
      "cell_type": "code",
      "execution_count": null,
      "id": "3769873e",
      "metadata": {
        "id": "3769873e"
      },
      "outputs": [],
      "source": []
    },
    {
      "cell_type": "code",
      "execution_count": null,
      "id": "32da1164",
      "metadata": {
        "id": "32da1164"
      },
      "outputs": [],
      "source": [
        "def check19(l):\n",
        "\n",
        "    stack=[]\n",
        "    for i in l:\n",
        "        if i==1:\n",
        "            stack.append(i)\n",
        "        elif i==9:\n",
        "            if len(stack)>0:\n",
        "                stack.pop()\n",
        "    return True if len(stack)==0 else False\n",
        ""
      ]
    },
    {
      "cell_type": "code",
      "execution_count": null,
      "id": "01beff4a",
      "metadata": {
        "id": "01beff4a",
        "outputId": "b1d5a208-7fab-462c-f97d-b07af7043d4c"
      },
      "outputs": [
        {
          "name": "stdout",
          "output_type": "stream",
          "text": [
            "True\n",
            "False\n",
            "True\n",
            "False\n",
            "True\n"
          ]
        }
      ],
      "source": [
        "print( check19([0,1,2,9,3]) )\n",
        "print( check19([3,1,4,9,3,9,1,2]) )\n",
        "print( check19([6,1,1,1,8,9,3,9,9,1,9,2]) )\n",
        "print( check19([0,1,9,9,9,9,1,1,9,2,1,9]) )\n",
        "print( check19([0,1,9,9,9,9,1,1,9,2,1,9,8,9]) )"
      ]
    },
    {
      "cell_type": "code",
      "execution_count": null,
      "id": "14568d3a",
      "metadata": {
        "id": "14568d3a"
      },
      "outputs": [],
      "source": []
    },
    {
      "cell_type": "code",
      "execution_count": null,
      "id": "5f6d2552",
      "metadata": {
        "id": "5f6d2552"
      },
      "outputs": [],
      "source": []
    },
    {
      "cell_type": "code",
      "execution_count": null,
      "id": "30f08928",
      "metadata": {
        "id": "30f08928"
      },
      "outputs": [],
      "source": []
    },
    {
      "cell_type": "code",
      "execution_count": null,
      "id": "a88f2738",
      "metadata": {
        "id": "a88f2738"
      },
      "outputs": [],
      "source": []
    },
    {
      "cell_type": "code",
      "execution_count": null,
      "id": "ea347437",
      "metadata": {
        "id": "ea347437"
      },
      "outputs": [],
      "source": []
    },
    {
      "cell_type": "code",
      "execution_count": null,
      "id": "4881ba29",
      "metadata": {
        "id": "4881ba29"
      },
      "outputs": [],
      "source": []
    },
    {
      "cell_type": "code",
      "execution_count": null,
      "id": "5c956191",
      "metadata": {
        "id": "5c956191"
      },
      "outputs": [],
      "source": [
        "def check19(arr):\n",
        "\n",
        "    stack=[]\n",
        "    for i in arr:\n",
        "        if i==1:\n",
        "            stack.append(i)\n",
        "        elif i==9:\n",
        "            if len(stack)>0:\n",
        "                stack.pop()\n",
        "    return True if len(stack)==0 else False\n",
        ""
      ]
    },
    {
      "cell_type": "code",
      "execution_count": null,
      "id": "5a948479",
      "metadata": {
        "id": "5a948479",
        "outputId": "360afd5f-04e1-4c1e-9e5a-32de8fb4ecb0"
      },
      "outputs": [
        {
          "name": "stdout",
          "output_type": "stream",
          "text": [
            "True\n",
            "False\n",
            "True\n",
            "False\n",
            "True\n"
          ]
        }
      ],
      "source": [
        "print( check19([0,1,2,9,3]) )\n",
        "print( check19([3,1,4,9,3,9,1,2]) )\n",
        "print( check19([6,1,1,1,8,9,3,9,9,1,9,2]) )\n",
        "print( check19([0,1,9,9,9,9,1,1,9,2,1,9]) )\n",
        "print( check19([0,1,9,9,9,9,1,1,9,2,1,9,8,9]) )"
      ]
    },
    {
      "cell_type": "code",
      "execution_count": null,
      "id": "3d1233ae",
      "metadata": {
        "id": "3d1233ae"
      },
      "outputs": [],
      "source": []
    },
    {
      "cell_type": "code",
      "execution_count": null,
      "id": "2c365f91",
      "metadata": {
        "id": "2c365f91"
      },
      "outputs": [],
      "source": []
    },
    {
      "cell_type": "markdown",
      "id": "b4cebd42",
      "metadata": {
        "id": "b4cebd42"
      },
      "source": [
        "# 74."
      ]
    },
    {
      "cell_type": "markdown",
      "id": "afc89bf0",
      "metadata": {
        "id": "afc89bf0"
      },
      "source": [
        "💻 Write a function which takes an Intger n as input and returns an array of size n with its values set to 0 apart from the last position where value should be set to n - as shown in the samples.\n",
        "Note: n should be greater than equal to 1. In case n<=0, return empty array.\n",
        "\n",
        "getArray(4) = Array(0,0,0,4)\n",
        "\n",
        "getArray(6) = Array(0,0,0,0,0,6)\n",
        "\n",
        "getArray(-22) = Array()"
      ]
    },
    {
      "cell_type": "code",
      "execution_count": null,
      "id": "7c23d09e",
      "metadata": {
        "id": "7c23d09e"
      },
      "outputs": [],
      "source": []
    },
    {
      "cell_type": "code",
      "execution_count": null,
      "id": "9609e538",
      "metadata": {
        "id": "9609e538"
      },
      "outputs": [],
      "source": [
        "def getArray(n):\n",
        "    f=[]\n",
        "    if n>0:\n",
        "        for i in range(n):\n",
        "            if i==(n-1):\n",
        "                f.append(n)\n",
        "            else:\n",
        "                f.append(0)\n",
        "    return f\n",
        ""
      ]
    },
    {
      "cell_type": "code",
      "execution_count": null,
      "id": "08e8b18b",
      "metadata": {
        "id": "08e8b18b",
        "outputId": "a3abc6f0-9894-47c8-a713-2dbb633cade8"
      },
      "outputs": [
        {
          "name": "stdout",
          "output_type": "stream",
          "text": [
            "[0, 0, 0, 4]\n",
            "[0, 0, 0, 0, 0, 6]\n",
            "[]\n"
          ]
        }
      ],
      "source": [
        "print( getArray(4) )\n",
        "print( getArray(6) )\n",
        "print( getArray(-22) )"
      ]
    },
    {
      "cell_type": "code",
      "execution_count": null,
      "id": "9ba78d67",
      "metadata": {
        "id": "9ba78d67"
      },
      "outputs": [],
      "source": []
    },
    {
      "cell_type": "code",
      "execution_count": null,
      "id": "8d695fd4",
      "metadata": {
        "id": "8d695fd4"
      },
      "outputs": [],
      "source": []
    },
    {
      "cell_type": "code",
      "execution_count": null,
      "id": "ad0eb51c",
      "metadata": {
        "id": "ad0eb51c"
      },
      "outputs": [],
      "source": [
        "def getArray(n):\n",
        "    final = []\n",
        "    if n<=0:\n",
        "        return final\n",
        "    else:\n",
        "        for i in range(n):\n",
        "            if (i==n-1):\n",
        "                final.append(n)\n",
        "            else:\n",
        "                final.append(0)\n",
        "    return final"
      ]
    },
    {
      "cell_type": "code",
      "execution_count": null,
      "id": "44e691e3",
      "metadata": {
        "id": "44e691e3",
        "outputId": "ba7814c1-f783-4f78-e368-0bf692221446"
      },
      "outputs": [
        {
          "name": "stdout",
          "output_type": "stream",
          "text": [
            "[0, 0, 0, 4]\n",
            "[0, 0, 0, 0, 0, 6]\n",
            "[]\n"
          ]
        }
      ],
      "source": [
        "print( getArray(4) )\n",
        "print( getArray(6) )\n",
        "print( getArray(-22) )"
      ]
    },
    {
      "cell_type": "code",
      "execution_count": null,
      "id": "e8efe1e8",
      "metadata": {
        "id": "e8efe1e8"
      },
      "outputs": [],
      "source": []
    },
    {
      "cell_type": "code",
      "execution_count": null,
      "id": "07a66f1b",
      "metadata": {
        "id": "07a66f1b"
      },
      "outputs": [],
      "source": [
        "def getArray2(n):\n",
        "\n",
        "    if n<=0:\n",
        "        return []\n",
        "    else:\n",
        "        return [0]*(n-1) + [n]"
      ]
    },
    {
      "cell_type": "code",
      "execution_count": null,
      "id": "e8dfd6a9",
      "metadata": {
        "id": "e8dfd6a9",
        "outputId": "c25037a8-4f58-4bf9-f2a9-c62821f8cdaa"
      },
      "outputs": [
        {
          "name": "stdout",
          "output_type": "stream",
          "text": [
            "[0, 0, 0, 4]\n",
            "[0, 0, 0, 0, 0, 6]\n",
            "[]\n"
          ]
        }
      ],
      "source": [
        "print( getArray2(4) )\n",
        "print( getArray2(6) )\n",
        "print( getArray2(-22) )"
      ]
    },
    {
      "cell_type": "code",
      "execution_count": null,
      "id": "60d9d5a2",
      "metadata": {
        "id": "60d9d5a2"
      },
      "outputs": [],
      "source": []
    },
    {
      "cell_type": "code",
      "execution_count": null,
      "id": "e920fc10",
      "metadata": {
        "id": "e920fc10"
      },
      "outputs": [],
      "source": []
    },
    {
      "cell_type": "markdown",
      "id": "33195f6c",
      "metadata": {
        "id": "33195f6c"
      },
      "source": [
        "# 73."
      ]
    },
    {
      "cell_type": "markdown",
      "id": "4062955f",
      "metadata": {
        "id": "4062955f"
      },
      "source": [
        "💻 Write a function which takes \"List of Integers\" as input and returns true if every occurrence of digit 5 is greater than its direct left and right neighbouring digits - as shown in the samples.\n",
        "\n",
        "is5greater(List(1,5,4,49)) = true\n",
        "//Explanation: 5 is greater than its neighbours 1 & 4.\n",
        "\n",
        "getSum(List(-200,50,10,-200,51,10)) = true\n",
        "//Explanation: No occurrence of digit 5.\n",
        "\n",
        "getSum(List(1,5,5,2)) = false\n",
        "//Explanation: 1st occurrence of 5 is not greater than its right neighbour 5.\n",
        "\n",
        "getSum(List(1,5,3,5,0,23)) = true\n",
        "//Explanation: 5 is greater than 1 & 3. 5 is greater than 3 & 0.\n",
        "\n",
        "getSum(List(5,2,3,1,0,23)) = true\n",
        "//Explanation: 5 is greater than 2.\n"
      ]
    },
    {
      "cell_type": "code",
      "execution_count": null,
      "id": "8cfa8cfd",
      "metadata": {
        "id": "8cfa8cfd"
      },
      "outputs": [],
      "source": []
    },
    {
      "cell_type": "code",
      "execution_count": null,
      "id": "46d9596f",
      "metadata": {
        "id": "46d9596f"
      },
      "outputs": [],
      "source": [
        "def getSum(l):\n",
        "    n=len(l)\n",
        "    flg=False\n",
        "\n",
        "    for i in range(n):\n",
        "        if l[i]==5:\n",
        "            if i==0 and l[i]>l[i+1]:\n",
        "                continue\n",
        "            elif i==n-1 and l[i]>l[i-1]:\n",
        "                continue\n",
        "            elif l[i]>l[i+1] and l[i]>l[i-1]:\n",
        "                continue\n",
        "            return False\n",
        "    return True"
      ]
    },
    {
      "cell_type": "code",
      "execution_count": null,
      "id": "38d6e3e1",
      "metadata": {
        "id": "38d6e3e1"
      },
      "outputs": [],
      "source": []
    },
    {
      "cell_type": "code",
      "execution_count": null,
      "id": "5b02bfa6",
      "metadata": {
        "id": "5b02bfa6",
        "outputId": "ecc4725c-b831-48c7-e272-4ef5fa25459a"
      },
      "outputs": [
        {
          "name": "stdout",
          "output_type": "stream",
          "text": [
            "True\n",
            "True\n",
            "False\n",
            "True\n",
            "True\n"
          ]
        }
      ],
      "source": [
        "print( getSum([1,5,4,49]) )\n",
        "print( getSum([-200,50,10,-200,51,10]) )\n",
        "print( getSum([1,5,5,2]) )\n",
        "print( getSum([1,5,3,5,0,23]) )\n",
        "print( getSum([5,2,3,1,0,23]) )\n"
      ]
    },
    {
      "cell_type": "code",
      "execution_count": null,
      "id": "88010698",
      "metadata": {
        "id": "88010698"
      },
      "outputs": [],
      "source": []
    },
    {
      "cell_type": "code",
      "execution_count": null,
      "id": "3715ef96",
      "metadata": {
        "id": "3715ef96"
      },
      "outputs": [],
      "source": []
    },
    {
      "cell_type": "code",
      "execution_count": null,
      "id": "9ac0d55d",
      "metadata": {
        "id": "9ac0d55d"
      },
      "outputs": [],
      "source": []
    },
    {
      "cell_type": "code",
      "execution_count": null,
      "id": "120c2a50",
      "metadata": {
        "id": "120c2a50"
      },
      "outputs": [],
      "source": [
        "def getSum(l):\n",
        "    n=len(l)\n",
        "    for i in range(n):\n",
        "        if l[i]==5:\n",
        "            if i==0 and l[i]>l[i+1]:\n",
        "                continue\n",
        "            elif i==n-1 and l[i]>l[i-1]:\n",
        "                continue\n",
        "            elif l[i]>l[i+1] and l[i]>l[i-1]:\n",
        "                continue\n",
        "            return False\n",
        "    return True\n",
        ""
      ]
    },
    {
      "cell_type": "code",
      "execution_count": null,
      "id": "aca0bf21",
      "metadata": {
        "id": "aca0bf21",
        "outputId": "2f4e8f05-37f0-4fa0-d146-70ac5f09712d"
      },
      "outputs": [
        {
          "name": "stdout",
          "output_type": "stream",
          "text": [
            "True\n",
            "True\n",
            "False\n",
            "True\n",
            "True\n"
          ]
        }
      ],
      "source": [
        "print( getSum([1,5,4,49]) )\n",
        "print( getSum([-200,50,10,-200,51,10]) )\n",
        "print( getSum([1,5,5,2]) )\n",
        "print( getSum([1,5,3,5,0,23]) )\n",
        "print( getSum([5,2,3,1,0,23]) )\n"
      ]
    },
    {
      "cell_type": "code",
      "execution_count": null,
      "id": "38478aa5",
      "metadata": {
        "id": "38478aa5"
      },
      "outputs": [],
      "source": [
        "def getSum2(l):\n",
        "    n=len(l)\n",
        "    for i in range(n):\n",
        "        if l[i]==5:\n",
        "            if l[i+1]>=5 or l[i-1]>=5:\n",
        "                return False\n",
        "    return True\n",
        ""
      ]
    },
    {
      "cell_type": "code",
      "execution_count": null,
      "id": "07ba141c",
      "metadata": {
        "id": "07ba141c"
      },
      "outputs": [],
      "source": []
    },
    {
      "cell_type": "code",
      "execution_count": null,
      "id": "5739d205",
      "metadata": {
        "id": "5739d205",
        "outputId": "72834cec-4046-4be7-8e51-cc4aaaa55893"
      },
      "outputs": [
        {
          "name": "stdout",
          "output_type": "stream",
          "text": [
            "True\n",
            "True\n",
            "False\n",
            "True\n",
            "False\n"
          ]
        }
      ],
      "source": [
        "print( getSum2([1,5,4,49]) )\n",
        "print( getSum2([-200,50,10,-200,51,10]) )\n",
        "print( getSum2([1,5,5,2]) )\n",
        "print( getSum2([1,5,3,5,0,23]) )\n",
        "print( getSum2([5,2,3,1,0,23]) )\n"
      ]
    },
    {
      "cell_type": "code",
      "execution_count": null,
      "id": "5910c9f6",
      "metadata": {
        "id": "5910c9f6"
      },
      "outputs": [],
      "source": []
    },
    {
      "cell_type": "code",
      "execution_count": null,
      "id": "aaa8383c",
      "metadata": {
        "id": "aaa8383c"
      },
      "outputs": [],
      "source": []
    },
    {
      "cell_type": "markdown",
      "id": "42f462f8",
      "metadata": {
        "id": "42f462f8"
      },
      "source": [
        "# 72."
      ]
    },
    {
      "cell_type": "markdown",
      "id": "513c1898",
      "metadata": {
        "id": "513c1898"
      },
      "source": [
        "💻 Write a function which takes \"List of Integers\" as input and returns its sum; such that any element which is same as largest/smallest value in the array will not be considered for the sum - as shown in the samples.\n",
        "\n",
        "getSum(List(10,5,4,49)) = 15\n",
        "//Explanation: Largest=49, Smallest=4, so sum=10+5=15\n",
        "\n",
        "getSum(List(-200,50,10,-200,5,10)) = 25\n",
        "//Explanation: Largest=50, Smallest=-200, so sum=10+5+10=25\n",
        "\n",
        "getSum(List(10,5)) = 0\n",
        "//Explanation: Largest=10, Smallest=5, so sum=0\n"
      ]
    },
    {
      "cell_type": "code",
      "execution_count": null,
      "id": "17fe0c31",
      "metadata": {
        "id": "17fe0c31"
      },
      "outputs": [],
      "source": []
    },
    {
      "cell_type": "code",
      "execution_count": null,
      "id": "8e65a67c",
      "metadata": {
        "id": "8e65a67c"
      },
      "outputs": [],
      "source": [
        "def getSum(l):\n",
        "\n",
        "    total=0\n",
        "    for i in l:\n",
        "        if i!=max(l) and i!=min(l):\n",
        "            total+=i\n",
        "    return max(l),min(l),total\n",
        ""
      ]
    },
    {
      "cell_type": "code",
      "execution_count": null,
      "id": "9be7379f",
      "metadata": {
        "id": "9be7379f",
        "outputId": "1d2d7151-7c04-4286-b1e1-27e817751358"
      },
      "outputs": [
        {
          "name": "stdout",
          "output_type": "stream",
          "text": [
            "(49, 4, 15)\n",
            "(50, -200, 25)\n",
            "(10, 5, 0)\n"
          ]
        }
      ],
      "source": [
        "print( getSum([10,5,4,49]) )\n",
        "print( getSum([-200,50,10,-200,5,10]) )\n",
        "print( getSum([10,5]) )"
      ]
    },
    {
      "cell_type": "code",
      "execution_count": null,
      "id": "caad351a",
      "metadata": {
        "id": "caad351a"
      },
      "outputs": [],
      "source": []
    },
    {
      "cell_type": "code",
      "execution_count": null,
      "id": "5e744354",
      "metadata": {
        "id": "5e744354"
      },
      "outputs": [],
      "source": []
    },
    {
      "cell_type": "code",
      "execution_count": null,
      "id": "09f19452",
      "metadata": {
        "id": "09f19452"
      },
      "outputs": [],
      "source": []
    },
    {
      "cell_type": "code",
      "execution_count": null,
      "id": "2a16434f",
      "metadata": {
        "id": "2a16434f"
      },
      "outputs": [],
      "source": []
    },
    {
      "cell_type": "code",
      "execution_count": null,
      "id": "9071ca72",
      "metadata": {
        "id": "9071ca72"
      },
      "outputs": [],
      "source": []
    },
    {
      "cell_type": "code",
      "execution_count": null,
      "id": "774fefce",
      "metadata": {
        "id": "774fefce"
      },
      "outputs": [],
      "source": [
        "def getSum(l):\n",
        "    total=0\n",
        "    for i in l:\n",
        "        if (i!=max(l) and i!=min(l)):\n",
        "            total+=i\n",
        "    return total"
      ]
    },
    {
      "cell_type": "code",
      "execution_count": null,
      "id": "b99a7795",
      "metadata": {
        "id": "b99a7795",
        "outputId": "c1b34eeb-8a2d-4e49-a164-885d85662a75"
      },
      "outputs": [
        {
          "name": "stdout",
          "output_type": "stream",
          "text": [
            "15\n",
            "25\n",
            "0\n"
          ]
        }
      ],
      "source": [
        "print( getSum([10,5,4,49]) )\n",
        "print( getSum([-200,50,10,-200,5,10]) )\n",
        "print( getSum([10,5]) )"
      ]
    },
    {
      "cell_type": "code",
      "execution_count": null,
      "id": "9f001428",
      "metadata": {
        "id": "9f001428"
      },
      "outputs": [],
      "source": [
        "def getSum2(l):\n",
        "\n",
        "    excluded_num = [max(l), min(l)]\n",
        "    total= sum(filter(lambda x: x not in excluded_num , l))\n",
        "    return total"
      ]
    },
    {
      "cell_type": "code",
      "execution_count": null,
      "id": "da8bfd7d",
      "metadata": {
        "id": "da8bfd7d",
        "outputId": "18a988d2-7998-4422-a38a-2305dc80e1cc"
      },
      "outputs": [
        {
          "name": "stdout",
          "output_type": "stream",
          "text": [
            "15\n",
            "25\n",
            "0\n"
          ]
        }
      ],
      "source": [
        "print( getSum2([10,5,4,49]) )\n",
        "print( getSum2([-200,50,10,-200,5,10]) )\n",
        "print( getSum2([10,5]) )"
      ]
    },
    {
      "cell_type": "code",
      "execution_count": null,
      "id": "72cdaf3f",
      "metadata": {
        "id": "72cdaf3f"
      },
      "outputs": [],
      "source": []
    },
    {
      "cell_type": "code",
      "execution_count": null,
      "id": "da97c340",
      "metadata": {
        "id": "da97c340"
      },
      "outputs": [],
      "source": []
    },
    {
      "cell_type": "markdown",
      "id": "a87cf6a5",
      "metadata": {
        "id": "a87cf6a5"
      },
      "source": [
        "# 71."
      ]
    },
    {
      "cell_type": "markdown",
      "id": "2491cc7e",
      "metadata": {
        "id": "2491cc7e"
      },
      "source": [
        "💻 Write a function which takes 2 inputs - both are \"Map of String,Integer\" representing items,price. We need to return \"Map of String,Integer\" which has all the items,total_price from the inputs - as shown in the samples.\n",
        "\n",
        "getTotalPrice(Map(\"Soap\"->25,\"Detergent\"->50),Map(\"Detergent\"->100)) =\n",
        "Map(\"Soap\"->25,\"Detergent\"->150)\n",
        "\n",
        "getTotalPrice(Map(\"Chair\"->200,\"Laptop\"->52000),Map(\"Curtains\"->250,\"Chair\"->100)) =\n",
        "Map(\"Chair\"->300,\"Laptop\"->52000,\"Curtains\"->250)\n",
        "\n",
        "getTotalPrice(Map(\"Bed\"->15000),Map(\"Television\"->20000,\"Bedsheet\"->1500)) =\n",
        "Map(\"Bed\"->15000,\"Television\"->20000,\"Bedsheet\"->1500)"
      ]
    },
    {
      "cell_type": "code",
      "execution_count": null,
      "id": "6251dc89",
      "metadata": {
        "id": "6251dc89"
      },
      "outputs": [],
      "source": []
    },
    {
      "cell_type": "code",
      "execution_count": null,
      "id": "78cf6742",
      "metadata": {
        "id": "78cf6742"
      },
      "outputs": [],
      "source": []
    },
    {
      "cell_type": "code",
      "execution_count": null,
      "id": "1306007b",
      "metadata": {
        "id": "1306007b"
      },
      "outputs": [],
      "source": [
        "def getTotalPrice2(d1,d2):\n",
        "    total_map= d1\n",
        "\n",
        "    for k,v in d2.items():\n",
        "        if k in total_map:\n",
        "            total_map[k]+=v\n",
        "        else:\n",
        "            total_map[k]=v\n",
        "    return total_map\n",
        ""
      ]
    },
    {
      "cell_type": "code",
      "execution_count": null,
      "id": "cda502da",
      "metadata": {
        "id": "cda502da",
        "outputId": "6c19f8ed-461a-44ea-dfad-c201aa754bd7"
      },
      "outputs": [
        {
          "name": "stdout",
          "output_type": "stream",
          "text": [
            "{'Soap': 25, 'Detergent': 150}\n",
            "{'Chair': 300, 'Laptop': 52000, 'Curtains': 250}\n",
            "{'Bed': 15000, 'Television': 20000, 'Bedsheet': 1500}\n"
          ]
        }
      ],
      "source": [
        "print ( getTotalPrice2({\"Soap\":25,\"Detergent\":50},{\"Detergent\":100}) )\n",
        "print ( getTotalPrice2({\"Chair\":200,\"Laptop\":52000},{\"Curtains\":250,\"Chair\":100}) )\n",
        "print ( getTotalPrice2({\"Bed\":15000},{\"Television\":20000,\"Bedsheet\":1500}) )"
      ]
    },
    {
      "cell_type": "code",
      "execution_count": null,
      "id": "06677a84",
      "metadata": {
        "id": "06677a84"
      },
      "outputs": [],
      "source": []
    },
    {
      "cell_type": "code",
      "execution_count": null,
      "id": "e6786cb7",
      "metadata": {
        "id": "e6786cb7"
      },
      "outputs": [],
      "source": [
        "def getTotalPrice3(d1,d2):\n",
        "\n",
        "    final = {}\n",
        "    d1_k = d1.keys()\n",
        "    d2_k = d2.keys()\n",
        "\n",
        "    key_list = list(d1_k) + list(d2_k)\n",
        "\n",
        "    for i in key_list:\n",
        "        if (i in d1_k) and (i in d2_k):\n",
        "            final[i] = d1[i] + d2[i]\n",
        "        elif (i in d1_k):\n",
        "            final[i] = d1[i]\n",
        "        else:\n",
        "            final[i] = d2[i]\n",
        "\n",
        "    return final\n",
        ""
      ]
    },
    {
      "cell_type": "code",
      "execution_count": null,
      "id": "241a6d7c",
      "metadata": {
        "id": "241a6d7c",
        "outputId": "7ccf56dd-def9-40f4-c46c-03b9fb013da4"
      },
      "outputs": [
        {
          "name": "stdout",
          "output_type": "stream",
          "text": [
            "{'Soap': 25, 'Detergent': 150}\n",
            "{'Chair': 300, 'Laptop': 52000, 'Curtains': 250}\n",
            "{'Bed': 15000, 'Television': 20000, 'Bedsheet': 1500}\n"
          ]
        }
      ],
      "source": [
        "print ( getTotalPrice3({\"Soap\":25,\"Detergent\":50},{\"Detergent\":100}) )\n",
        "print ( getTotalPrice3({\"Chair\":200,\"Laptop\":52000},{\"Curtains\":250,\"Chair\":100}) )\n",
        "print ( getTotalPrice3({\"Bed\":15000},{\"Television\":20000,\"Bedsheet\":1500}) )"
      ]
    },
    {
      "cell_type": "code",
      "execution_count": null,
      "id": "ea8d1e75",
      "metadata": {
        "id": "ea8d1e75"
      },
      "outputs": [],
      "source": []
    },
    {
      "cell_type": "code",
      "execution_count": null,
      "id": "f43996a2",
      "metadata": {
        "id": "f43996a2"
      },
      "outputs": [],
      "source": []
    },
    {
      "cell_type": "markdown",
      "id": "bf49a6b8",
      "metadata": {
        "id": "bf49a6b8"
      },
      "source": [
        "# 70."
      ]
    },
    {
      "cell_type": "markdown",
      "id": "b0e102f2",
      "metadata": {
        "id": "b0e102f2"
      },
      "source": [
        "💻 Write a function which takes 2 inputs - \"List of Strings\" which represents items & \"Map of String,String\" wherein each element represents Item,Category. The function should return \"Map of String,Integer\" such that each element represents category,count_of_items_in_the_list - as shown in the samples.\n",
        "Note: If any item in the list is not present in the map, consider its category to be \"Others\".\n",
        "\n",
        "getCategoryCount(List(\"Mango\",\"Guava\",\"Mango\",\"Mango\"),Map(\"Guava\"->\"Fruits\",\"Spinach\"->\"Veggies\",\"Mango\"->\"Fruits\",\"Grapes\"->\"Fruits\")) =\n",
        "Map(\"Fruits\"->4)\n",
        "\n",
        "getCategoryCount(List(\"Cabbage\",\"Grapes\",\"Milk\"),Map(\"Cardamom\"->\"Spices\",\"Cabbage\"->\"Veggies\",\"Cauliflower\"->\"Veggies\",\"Cinnamon\"->\"Spices\")) =\n",
        "Map(\"Veggies\"->1,\"Others\"->2)"
      ]
    },
    {
      "cell_type": "code",
      "execution_count": null,
      "id": "d9096ad3",
      "metadata": {
        "id": "d9096ad3"
      },
      "outputs": [],
      "source": [
        "def getCategoryCount(l,d):\n",
        "    category={}\n",
        "\n",
        "    for item in l:\n",
        "        if item in d:\n",
        "            val = d[item]\n",
        "            if val not in category:\n",
        "                 category[val]=1\n",
        "            else:\n",
        "                category[val]+=1\n",
        "        else:\n",
        "            # For uncategorized items, check if 'Others' exists\n",
        "            if 'others' not in category:\n",
        "                 category['others']=1\n",
        "            else:\n",
        "                category['others']+=1\n",
        "    return category"
      ]
    },
    {
      "cell_type": "code",
      "execution_count": null,
      "id": "1ccccda1",
      "metadata": {
        "id": "1ccccda1",
        "outputId": "9f26e1ce-dfab-481f-967c-a56446f990ca"
      },
      "outputs": [
        {
          "name": "stdout",
          "output_type": "stream",
          "text": [
            "{'Fruits': 4}\n",
            "{'Veggies': 1, 'others': 2}\n"
          ]
        }
      ],
      "source": [
        "print(getCategoryCount([\"Mango\", \"Guava\", \"Mango\", \"Mango\"],\n",
        "                       {\"Guava\": \"Fruits\", \"Spinach\": \"Veggies\", \"Mango\": \"Fruits\", \"Grapes\": \"Fruits\"}))\n",
        "# Output: {'Fruits': 4}\n",
        "\n",
        "print(getCategoryCount([\"Cabbage\", \"Grapes\", \"Milk\"],\n",
        "                       {\"Cardamom\": \"Spices\", \"Cabbage\": \"Veggies\", \"Cauliflower\": \"Veggies\", \"Cinnamon\": \"Spices\"}))\n",
        "# Output: {'Veggies': 1, 'Others': 2}"
      ]
    },
    {
      "cell_type": "code",
      "execution_count": null,
      "id": "84c3fd2c",
      "metadata": {
        "id": "84c3fd2c"
      },
      "outputs": [],
      "source": []
    },
    {
      "cell_type": "code",
      "execution_count": null,
      "id": "d3050c06",
      "metadata": {
        "id": "d3050c06"
      },
      "outputs": [],
      "source": []
    },
    {
      "cell_type": "code",
      "execution_count": null,
      "id": "aaebc183",
      "metadata": {
        "id": "aaebc183"
      },
      "outputs": [],
      "source": [
        "def getCategoryCount(item_list, category_map):\n",
        "    category_count = {}\n",
        "\n",
        "    for item in item_list:\n",
        "\n",
        "        if item in category_map:\n",
        "            category = category_map[item]\n",
        "        else:\n",
        "            category = \"Others\"\n",
        "\n",
        "        if category in category_count:\n",
        "            category_count[category] += 1\n",
        "        else:\n",
        "            category_count[category] = 1\n",
        "\n",
        "    return category_count"
      ]
    },
    {
      "cell_type": "code",
      "execution_count": null,
      "id": "da94a25b",
      "metadata": {
        "id": "da94a25b",
        "outputId": "e1783bd7-71d6-497a-ca66-d9361c244935"
      },
      "outputs": [
        {
          "name": "stdout",
          "output_type": "stream",
          "text": [
            "{'Fruits': 4}\n",
            "{'Veggies': 1, 'Others': 2}\n"
          ]
        }
      ],
      "source": [
        "print(getCategoryCount([\"Mango\", \"Guava\", \"Mango\", \"Mango\"],\n",
        "                       {\"Guava\": \"Fruits\", \"Spinach\": \"Veggies\", \"Mango\": \"Fruits\", \"Grapes\": \"Fruits\"}))\n",
        "# Output: {'Fruits': 4}\n",
        "\n",
        "print(getCategoryCount([\"Cabbage\", \"Grapes\", \"Milk\"],\n",
        "                       {\"Cardamom\": \"Spices\", \"Cabbage\": \"Veggies\", \"Cauliflower\": \"Veggies\", \"Cinnamon\": \"Spices\"}))\n",
        "# Output: {'Veggies': 1, 'Others': 2}"
      ]
    },
    {
      "cell_type": "code",
      "execution_count": null,
      "id": "9fdd376e",
      "metadata": {
        "id": "9fdd376e"
      },
      "outputs": [],
      "source": []
    },
    {
      "cell_type": "code",
      "execution_count": null,
      "id": "d78cef12",
      "metadata": {
        "id": "d78cef12",
        "outputId": "dae0b311-97c0-41e3-87ef-14d9fc165aff"
      },
      "outputs": [
        {
          "name": "stdout",
          "output_type": "stream",
          "text": [
            "value of a is hi and b is bye\n"
          ]
        }
      ],
      "source": [
        "a='hi'\n",
        "b='bye'\n",
        "\n",
        "print(\"value of a is {} and b is {}\".format(a,b))"
      ]
    },
    {
      "cell_type": "code",
      "execution_count": null,
      "id": "c7c9082f",
      "metadata": {
        "id": "c7c9082f"
      },
      "outputs": [],
      "source": []
    },
    {
      "cell_type": "code",
      "execution_count": null,
      "id": "449ba314",
      "metadata": {
        "id": "449ba314"
      },
      "outputs": [],
      "source": []
    },
    {
      "cell_type": "code",
      "execution_count": null,
      "id": "5fe40762",
      "metadata": {
        "id": "5fe40762"
      },
      "outputs": [],
      "source": []
    },
    {
      "cell_type": "markdown",
      "id": "f346b977",
      "metadata": {
        "id": "f346b977"
      },
      "source": [
        "# 69."
      ]
    },
    {
      "cell_type": "markdown",
      "id": "ae44e597",
      "metadata": {
        "id": "ae44e597"
      },
      "source": [
        "💻 Write a function which takes a \"Array of Integers\" as input and returns \"Array of Integers\" such that all the odd numbers are placed before the even numbers - as shown in the samples.\n",
        "\n",
        "getOddBefEven(Array(10,5,3,2,13,4,2)) =\n",
        "Array(5,3,13,10,2,4,2)\n",
        "\n",
        "getOddBefEven(Array(0,44,91,32,45,67,12)) =\n",
        "Array(91,45,67,0,44,32,12)\n",
        "\n",
        "getOddBefEven(Array()) =\n",
        "Array()"
      ]
    },
    {
      "cell_type": "code",
      "execution_count": null,
      "id": "a9efe44a",
      "metadata": {
        "id": "a9efe44a"
      },
      "outputs": [],
      "source": [
        "def getOddBefEven(l):\n",
        "\n",
        "    ev = list(filter(lambda x : x%2==0,l))\n",
        "    od = list(filter(lambda x : x%2!=0,l))\n",
        "    return od+ev"
      ]
    },
    {
      "cell_type": "code",
      "execution_count": null,
      "id": "b3ba8f50",
      "metadata": {
        "id": "b3ba8f50",
        "outputId": "831a3bb1-0bc3-4efc-9d7c-616ef3432424"
      },
      "outputs": [
        {
          "name": "stdout",
          "output_type": "stream",
          "text": [
            "[5, 3, 13, 10, 2, 4, 2]\n",
            "[91, 45, 67, 0, 44, 32, 12]\n",
            "[]\n"
          ]
        }
      ],
      "source": [
        "print( getOddBefEven([10,5,3,2,13,4,2]) )\n",
        "print( getOddBefEven([0,44,91,32,45,67,12]) )\n",
        "print( getOddBefEven([]) )\n"
      ]
    },
    {
      "cell_type": "code",
      "execution_count": null,
      "id": "f3faa482",
      "metadata": {
        "id": "f3faa482"
      },
      "outputs": [],
      "source": []
    },
    {
      "cell_type": "code",
      "execution_count": null,
      "id": "4b155c8e",
      "metadata": {
        "id": "4b155c8e"
      },
      "outputs": [],
      "source": [
        "def getOddBefEven(l):\n",
        "\n",
        "    l_od=[i for i in l if i%2!=0]\n",
        "    l_ev=[i for i in l if i%2==0]\n",
        "\n",
        "    return (l_od+l_ev)"
      ]
    },
    {
      "cell_type": "code",
      "execution_count": null,
      "id": "74c7d057",
      "metadata": {
        "id": "74c7d057",
        "outputId": "b23bab07-a526-4311-fda6-4497f905b2ef"
      },
      "outputs": [
        {
          "name": "stdout",
          "output_type": "stream",
          "text": [
            "[5, 3, 13, 10, 2, 4, 2]\n",
            "[91, 45, 67, 0, 44, 32, 12]\n",
            "[]\n"
          ]
        }
      ],
      "source": [
        "print( getOddBefEven([10,5,3,2,13,4,2]) )\n",
        "print( getOddBefEven([0,44,91,32,45,67,12]) )\n",
        "print( getOddBefEven([]) )\n"
      ]
    },
    {
      "cell_type": "code",
      "execution_count": null,
      "id": "f75c46b7",
      "metadata": {
        "id": "f75c46b7"
      },
      "outputs": [],
      "source": []
    },
    {
      "cell_type": "code",
      "execution_count": null,
      "id": "bd07a898",
      "metadata": {
        "id": "bd07a898"
      },
      "outputs": [],
      "source": [
        "def getOddBefEven2(l):\n",
        "\n",
        "    op=[]\n",
        "\n",
        "    for i in l:\n",
        "        if(i%2!=0):\n",
        "            op.append(i)\n",
        "\n",
        "    for i in l:\n",
        "        if(i%2==0):\n",
        "            op.append(i)\n",
        "\n",
        "    return (op)"
      ]
    },
    {
      "cell_type": "code",
      "execution_count": null,
      "id": "1fb28063",
      "metadata": {
        "id": "1fb28063",
        "outputId": "d48480f6-a2e0-4f15-ce75-12a7c94cb59c"
      },
      "outputs": [
        {
          "name": "stdout",
          "output_type": "stream",
          "text": [
            "[5, 3, 13, 10, 2, 4, 2]\n",
            "[91, 45, 67, 0, 44, 32, 12]\n",
            "[]\n"
          ]
        }
      ],
      "source": [
        "print( getOddBefEven2([10,5,3,2,13,4,2]) )\n",
        "print( getOddBefEven2([0,44,91,32,45,67,12]) )\n",
        "print( getOddBefEven2([]) )\n"
      ]
    },
    {
      "cell_type": "code",
      "execution_count": null,
      "id": "8b233624",
      "metadata": {
        "id": "8b233624"
      },
      "outputs": [],
      "source": []
    },
    {
      "cell_type": "code",
      "execution_count": null,
      "id": "0bae9d88",
      "metadata": {
        "id": "0bae9d88"
      },
      "outputs": [],
      "source": [
        "def getOddBefEven3(l):\n",
        "\n",
        "    op1=[]\n",
        "    op2=[]\n",
        "\n",
        "    for i in l:\n",
        "        if(i%2!=0):\n",
        "            op1.append(i)\n",
        "        else:\n",
        "            op2.append(i)\n",
        "\n",
        "    op1.extend(op2)\n",
        "\n",
        "    return (op1)"
      ]
    },
    {
      "cell_type": "code",
      "execution_count": null,
      "id": "078a37d2",
      "metadata": {
        "id": "078a37d2",
        "outputId": "051c3f17-9da9-470a-8ad9-cb33fc2906e4"
      },
      "outputs": [
        {
          "name": "stdout",
          "output_type": "stream",
          "text": [
            "[5, 3, 13, 10, 2, 4, 2]\n",
            "[91, 45, 67, 0, 44, 32, 12]\n",
            "[]\n"
          ]
        }
      ],
      "source": [
        "print( getOddBefEven3([10,5,3,2,13,4,2]) )\n",
        "print( getOddBefEven3([0,44,91,32,45,67,12]) )\n",
        "print( getOddBefEven3([]) )"
      ]
    },
    {
      "cell_type": "code",
      "execution_count": null,
      "id": "7d118299",
      "metadata": {
        "id": "7d118299"
      },
      "outputs": [],
      "source": []
    },
    {
      "cell_type": "code",
      "execution_count": null,
      "id": "e770f987",
      "metadata": {
        "id": "e770f987"
      },
      "outputs": [],
      "source": [
        "def getOddBefEven4(l):\n",
        "    n=len(l)\n",
        "\n",
        "    for i in range(n,0,-1):\n",
        "        for j in range(len(l[:i])-1):\n",
        "            if (l[j]%2==0) :\n",
        "                l[j],l[j+1] = l[j+1],l[j]\n",
        "    return (l)"
      ]
    },
    {
      "cell_type": "code",
      "execution_count": null,
      "id": "7daad8bd",
      "metadata": {
        "id": "7daad8bd",
        "outputId": "f408da6e-ea6e-4659-e0e6-17223ffd3e5f"
      },
      "outputs": [
        {
          "name": "stdout",
          "output_type": "stream",
          "text": [
            "[5, 3, 13, 2, 4, 2, 10]\n",
            "[91, 45, 67, 12, 32, 44, 0]\n",
            "[]\n"
          ]
        }
      ],
      "source": [
        "print( getOddBefEven4([10,5,3,2,13,4,2]) )\n",
        "print( getOddBefEven4([0,44,91,32,45,67,12]) )\n",
        "print( getOddBefEven4([]) )"
      ]
    },
    {
      "cell_type": "code",
      "execution_count": null,
      "id": "788f6943",
      "metadata": {
        "id": "788f6943"
      },
      "outputs": [],
      "source": []
    },
    {
      "cell_type": "code",
      "execution_count": null,
      "id": "071bc357",
      "metadata": {
        "id": "071bc357"
      },
      "outputs": [],
      "source": []
    },
    {
      "cell_type": "markdown",
      "id": "745ee69f",
      "metadata": {
        "id": "745ee69f"
      },
      "source": [
        "# 68.  "
      ]
    },
    {
      "cell_type": "markdown",
      "id": "62573ac8",
      "metadata": {
        "id": "62573ac8"
      },
      "source": [
        "💻 Write a function which takes a \"Map of String,String\" as input which represent item,category & returns \"Map of String,Integer\" such that each element represents category,count_of_items_in_the_category - as shown in the samples.\n",
        "\n",
        "getCategoryCount(Map(\"Guava\"->\"Fruits\",\"Spinach\"->\"Veggies\",\"Mango\"->\"Fruits\",\"Grapes\"->\"Fruits\")) =\n",
        "Map(\"Fruits\"->3,\"Veggies\"->1)\n",
        "\n",
        "getCategoryCount(Map(\"Cardamom\"->\"Spices\",\"Cabbage\"->\"Veggies\",\"Cauliflower\"->\"Veggies\",\"Cinnamon\"->\"Spices\")) =\n",
        "Map(\"Spices\"->2,\"Veggies\"->2)"
      ]
    },
    {
      "cell_type": "code",
      "execution_count": null,
      "id": "34c0bdb6",
      "metadata": {
        "id": "34c0bdb6"
      },
      "outputs": [],
      "source": [
        "def getCategoryCount(d):\n",
        "    fruits={}\n",
        "    for k,v in d.items():\n",
        "        if v not in fruits:\n",
        "            fruits[v]=1\n",
        "        else:\n",
        "            fruits[v]+=1\n",
        "    return fruits"
      ]
    },
    {
      "cell_type": "code",
      "execution_count": null,
      "id": "c05a335a",
      "metadata": {
        "id": "c05a335a"
      },
      "outputs": [],
      "source": []
    },
    {
      "cell_type": "code",
      "execution_count": null,
      "id": "b5c32b20",
      "metadata": {
        "id": "b5c32b20",
        "outputId": "e8322fd3-81be-4fde-be6b-68cdd1dc4c45"
      },
      "outputs": [
        {
          "name": "stdout",
          "output_type": "stream",
          "text": [
            "{'Fruits': 3, 'Veggies': 1}\n",
            "{'Spices': 2, 'Veggies': 2}\n"
          ]
        }
      ],
      "source": [
        "# Sample test cases\n",
        "items1 = {\n",
        "    \"Guava\": \"Fruits\",\n",
        "    \"Spinach\": \"Veggies\",\n",
        "    \"Mango\": \"Fruits\",\n",
        "    \"Grapes\": \"Fruits\"\n",
        "}\n",
        "print(getCategoryCount(items1))\n",
        "# Output: {'Fruits': 3, 'Veggies': 1}\n",
        "\n",
        "items2 = {\n",
        "    \"Cardamom\": \"Spices\",\n",
        "    \"Cabbage\": \"Veggies\",\n",
        "    \"Cauliflower\": \"Veggies\",\n",
        "    \"Cinnamon\": \"Spices\"\n",
        "}\n",
        "print(getCategoryCount(items2))\n",
        "# Output: {'Spices': 2, 'Veggies': 2}"
      ]
    },
    {
      "cell_type": "code",
      "execution_count": null,
      "id": "9d61996a",
      "metadata": {
        "id": "9d61996a"
      },
      "outputs": [],
      "source": []
    },
    {
      "cell_type": "code",
      "execution_count": null,
      "id": "0ed499e9",
      "metadata": {
        "id": "0ed499e9",
        "outputId": "f52b6c22-6e3c-4c38-92b4-cf48d40ba89f"
      },
      "outputs": [
        {
          "name": "stdout",
          "output_type": "stream",
          "text": [
            "{'Fruits': 3, 'Veggies': 1}\n",
            "{'Spices': 2, 'Veggies': 2}\n"
          ]
        }
      ],
      "source": [
        "def getCategoryCount(item_category_map):\n",
        "    category_count = {}\n",
        "\n",
        "    # Iterate through the item-category map\n",
        "    for item, category in item_category_map.items():\n",
        "        # Update the count for the category\n",
        "        if category in category_count:\n",
        "            category_count[category] += 1\n",
        "        else:\n",
        "            category_count[category] = 1\n",
        "\n",
        "    return category_count\n",
        "\n",
        "# Sample test cases\n",
        "items1 = {\n",
        "    \"Guava\": \"Fruits\",\n",
        "    \"Spinach\": \"Veggies\",\n",
        "    \"Mango\": \"Fruits\",\n",
        "    \"Grapes\": \"Fruits\"\n",
        "}\n",
        "print(getCategoryCount(items1))\n",
        "# Output: {'Fruits': 3, 'Veggies': 1}\n",
        "\n",
        "items2 = {\n",
        "    \"Cardamom\": \"Spices\",\n",
        "    \"Cabbage\": \"Veggies\",\n",
        "    \"Cauliflower\": \"Veggies\",\n",
        "    \"Cinnamon\": \"Spices\"\n",
        "}\n",
        "print(getCategoryCount(items2))\n",
        "# Output: {'Spices': 2, 'Veggies': 2}\n"
      ]
    },
    {
      "cell_type": "code",
      "execution_count": null,
      "id": "92eb106f",
      "metadata": {
        "id": "92eb106f"
      },
      "outputs": [],
      "source": []
    },
    {
      "cell_type": "code",
      "execution_count": null,
      "id": "b1a739b9",
      "metadata": {
        "id": "b1a739b9"
      },
      "outputs": [],
      "source": []
    },
    {
      "cell_type": "code",
      "execution_count": null,
      "id": "ef72fb49",
      "metadata": {
        "id": "ef72fb49"
      },
      "outputs": [],
      "source": []
    },
    {
      "cell_type": "markdown",
      "id": "a2472b86",
      "metadata": {
        "id": "a2472b86"
      },
      "source": [
        "# 67."
      ]
    },
    {
      "cell_type": "markdown",
      "id": "6aa3f75a",
      "metadata": {
        "id": "6aa3f75a"
      },
      "source": [
        "💻 Write a function which takes a Integer as input & prints the Diagonal pattern - as shown in the samples.\n",
        "Note: If the input is even number, no pattern should be printed. Instead the message should be shown -\n",
        "\"Height must be odd number, exiting !!\""
      ]
    },
    {
      "cell_type": "code",
      "execution_count": null,
      "id": "3ed64a10",
      "metadata": {
        "id": "3ed64a10"
      },
      "outputs": [],
      "source": [
        "*       *\n",
        "  *   *\n",
        "    *\n",
        "   *  *\n",
        "*        *\n"
      ]
    },
    {
      "cell_type": "code",
      "execution_count": null,
      "id": "5d8bafa2",
      "metadata": {
        "id": "5d8bafa2"
      },
      "outputs": [],
      "source": [
        ""
      ]
    },
    {
      "cell_type": "markdown",
      "id": "17951803",
      "metadata": {
        "id": "17951803"
      },
      "source": [
        "# 66."
      ]
    },
    {
      "cell_type": "markdown",
      "id": "e50724ad",
      "metadata": {
        "id": "e50724ad"
      },
      "source": [
        "💻 Write a function which takes a non-negative Integer as input & prints the alphabet pyramid - as shown in the samples.\n",
        "\n",
        "printAlphaPyramid(5) =\n",
        "A\n",
        "B B\n",
        "C C C\n",
        "D D D D\n",
        "E E E E E\n",
        "\n",
        "printAlphaPyramid(3) =\n",
        "A\n",
        "B B\n",
        "C C C\n",
        "\n",
        "printAlphaPyramid(2) =\n",
        "A\n",
        "B B"
      ]
    },
    {
      "cell_type": "code",
      "execution_count": null,
      "id": "4d3e159a",
      "metadata": {
        "id": "4d3e159a",
        "outputId": "df3ea2c4-0251-41fa-c17d-83de74b1da9b"
      },
      "outputs": [
        {
          "data": {
            "text/plain": [
              "('A', 65)"
            ]
          },
          "execution_count": 100,
          "metadata": {},
          "output_type": "execute_result"
        }
      ],
      "source": [
        "chr(65), ord('A')"
      ]
    },
    {
      "cell_type": "code",
      "execution_count": null,
      "id": "43a1f650",
      "metadata": {
        "id": "43a1f650"
      },
      "outputs": [],
      "source": [
        "def printAlphaPyramid(n):\n",
        "    if n<0:\n",
        "        print('Non-negative no. entered!')\n",
        "        return\n",
        "    alphabet_digit = 65\n",
        "    for i in range(1,n+1):\n",
        "        for j in range(i):\n",
        "            print(chr(alphabet_digit), end=' ')\n",
        "        alphabet_digit+=1\n",
        "        print()"
      ]
    },
    {
      "cell_type": "code",
      "execution_count": null,
      "id": "6bb96ac0",
      "metadata": {
        "id": "6bb96ac0",
        "outputId": "c92b8226-021a-44d6-89aa-327e5dd38e22"
      },
      "outputs": [
        {
          "name": "stdout",
          "output_type": "stream",
          "text": [
            "A \n",
            "B B \n",
            "C C C \n",
            "D D D D \n",
            "E E E E E \n",
            "***************\n",
            "A \n",
            "B B \n",
            "C C C \n",
            "***************\n",
            "A \n",
            "B B \n",
            "***************\n",
            "Non-negative no. entered!\n",
            "***************\n"
          ]
        }
      ],
      "source": [
        "printAlphaPyramid(5)\n",
        "print(\"*\"*15)\n",
        "printAlphaPyramid(3)\n",
        "print(\"*\"*15)\n",
        "printAlphaPyramid(2)\n",
        "print(\"*\"*15)\n",
        "printAlphaPyramid(-5)\n",
        "print(\"*\"*15)"
      ]
    },
    {
      "cell_type": "code",
      "execution_count": null,
      "id": "2258a0b0",
      "metadata": {
        "id": "2258a0b0"
      },
      "outputs": [],
      "source": []
    },
    {
      "cell_type": "code",
      "execution_count": null,
      "id": "ac555cad",
      "metadata": {
        "id": "ac555cad",
        "outputId": "3f87d7af-f719-4c9d-d66c-fd50deb6072d"
      },
      "outputs": [
        {
          "name": "stdout",
          "output_type": "stream",
          "text": [
            "Pyramid with 5 levels:\n",
            "A\n",
            "B B\n",
            "C C C\n",
            "D D D D\n",
            "E E E E E\n",
            "\n",
            "Pyramid with 3 levels:\n",
            "A\n",
            "B B\n",
            "C C C\n",
            "\n",
            "Pyramid with 2 levels:\n",
            "A\n",
            "B B\n"
          ]
        }
      ],
      "source": [
        "def printAlphaPyramid(n):\n",
        "    for i in range(n):\n",
        "        # Calculate the character for the current row\n",
        "        char = chr(65 + i)  # 65 is the ASCII value for 'A'\n",
        "\n",
        "        # Print the character 'i + 1' times, separated by spaces\n",
        "        print(' '.join([char] * (i + 1)))\n",
        "\n",
        "# Sample test cases\n",
        "print(\"Pyramid with 5 levels:\")\n",
        "printAlphaPyramid(5)\n",
        "# Output:\n",
        "# A\n",
        "# B B\n",
        "# C C C\n",
        "# D D D D\n",
        "# E E E E E\n",
        "\n",
        "print(\"\\nPyramid with 3 levels:\")\n",
        "printAlphaPyramid(3)\n",
        "# Output:\n",
        "# A\n",
        "# B B\n",
        "# C C C\n",
        "\n",
        "print(\"\\nPyramid with 2 levels:\")\n",
        "printAlphaPyramid(2)\n",
        "# Output:\n",
        "# A\n",
        "# B B\n"
      ]
    },
    {
      "cell_type": "code",
      "execution_count": null,
      "id": "bb130d29",
      "metadata": {
        "id": "bb130d29"
      },
      "outputs": [],
      "source": []
    },
    {
      "cell_type": "code",
      "execution_count": null,
      "id": "53f1f2b3",
      "metadata": {
        "id": "53f1f2b3"
      },
      "outputs": [],
      "source": []
    },
    {
      "cell_type": "code",
      "execution_count": null,
      "id": "ec3c8823",
      "metadata": {
        "id": "ec3c8823"
      },
      "outputs": [],
      "source": [
        "def printAlphaPyramid(n):\n",
        "\n",
        "    if n<0:\n",
        "        return 'Please Check!'\n",
        "    else:\n",
        "        for i in range(n):\n",
        "            x=65\n",
        "            for j in range(i+1):\n",
        "                print(chr(x), end=' ')\n",
        "                x+=1\n",
        "            print(' ')\n"
      ]
    },
    {
      "cell_type": "code",
      "execution_count": null,
      "id": "99975b47",
      "metadata": {
        "id": "99975b47",
        "outputId": "ccccebb3-0341-492f-bde1-65b1226e72f4"
      },
      "outputs": [
        {
          "name": "stdout",
          "output_type": "stream",
          "text": [
            "A  \n",
            "A B  \n",
            "A B C  \n",
            "A B C D  \n",
            "A B C D E  \n",
            "\n",
            "\n",
            "A  \n",
            "A B  \n",
            "A B C  \n",
            "\n",
            "\n",
            "A  \n",
            "A B  \n",
            "\n",
            "\n"
          ]
        },
        {
          "data": {
            "text/plain": [
              "'Please Check!'"
            ]
          },
          "execution_count": 141,
          "metadata": {},
          "output_type": "execute_result"
        }
      ],
      "source": [
        "printAlphaPyramid(5)\n",
        "print('\\n')\n",
        "printAlphaPyramid(3)\n",
        "\n",
        "print('\\n')\n",
        "\n",
        "printAlphaPyramid(2)\n",
        "\n",
        "print('\\n')\n",
        "\n",
        "printAlphaPyramid(-8)"
      ]
    },
    {
      "cell_type": "code",
      "execution_count": null,
      "id": "74b6ac35",
      "metadata": {
        "id": "74b6ac35"
      },
      "outputs": [],
      "source": []
    },
    {
      "cell_type": "code",
      "execution_count": null,
      "id": "82520474",
      "metadata": {
        "id": "82520474"
      },
      "outputs": [],
      "source": []
    },
    {
      "cell_type": "code",
      "execution_count": null,
      "id": "96bdd1f2",
      "metadata": {
        "id": "96bdd1f2"
      },
      "outputs": [],
      "source": [
        "def printAlphaPyramid2(n):\n",
        "\n",
        "    if n<0:\n",
        "        raise Exception('Please Check!')\n",
        "    else:\n",
        "        for i in range(n):\n",
        "            print(chr(i+65)*(i+1))"
      ]
    },
    {
      "cell_type": "code",
      "execution_count": null,
      "id": "40f2ca09",
      "metadata": {
        "id": "40f2ca09",
        "outputId": "0c0839ae-415f-4b2c-96d0-57bb53cbe5a1"
      },
      "outputs": [
        {
          "name": "stdout",
          "output_type": "stream",
          "text": [
            "A\n",
            "BB\n",
            "CCC\n",
            "DDDD\n",
            "EEEEE\n",
            "\n",
            "\n",
            "A\n",
            "BB\n",
            "CCC\n",
            "\n",
            "\n",
            "A\n",
            "BB\n",
            "\n",
            "\n"
          ]
        },
        {
          "ename": "Exception",
          "evalue": "Please Check!",
          "output_type": "error",
          "traceback": [
            "\u001b[1;31m---------------------------------------------------------------------------\u001b[0m",
            "\u001b[1;31mException\u001b[0m                                 Traceback (most recent call last)",
            "Input \u001b[1;32mIn [143]\u001b[0m, in \u001b[0;36m<cell line: 11>\u001b[1;34m()\u001b[0m\n\u001b[0;32m      7\u001b[0m printAlphaPyramid2(\u001b[38;5;241m2\u001b[39m)\n\u001b[0;32m      9\u001b[0m \u001b[38;5;28mprint\u001b[39m(\u001b[38;5;124m'\u001b[39m\u001b[38;5;130;01m\\n\u001b[39;00m\u001b[38;5;124m'\u001b[39m)\n\u001b[1;32m---> 11\u001b[0m \u001b[43mprintAlphaPyramid2\u001b[49m\u001b[43m(\u001b[49m\u001b[38;5;241;43m-\u001b[39;49m\u001b[38;5;241;43m8\u001b[39;49m\u001b[43m)\u001b[49m\n",
            "Input \u001b[1;32mIn [142]\u001b[0m, in \u001b[0;36mprintAlphaPyramid2\u001b[1;34m(n)\u001b[0m\n\u001b[0;32m      1\u001b[0m \u001b[38;5;28;01mdef\u001b[39;00m \u001b[38;5;21mprintAlphaPyramid2\u001b[39m(n):\n\u001b[0;32m      3\u001b[0m     \u001b[38;5;28;01mif\u001b[39;00m n\u001b[38;5;241m<\u001b[39m\u001b[38;5;241m0\u001b[39m:\n\u001b[1;32m----> 4\u001b[0m         \u001b[38;5;28;01mraise\u001b[39;00m \u001b[38;5;167;01mException\u001b[39;00m(\u001b[38;5;124m'\u001b[39m\u001b[38;5;124mPlease Check!\u001b[39m\u001b[38;5;124m'\u001b[39m)\n\u001b[0;32m      5\u001b[0m     \u001b[38;5;28;01melse\u001b[39;00m:\n\u001b[0;32m      6\u001b[0m         \u001b[38;5;28;01mfor\u001b[39;00m i \u001b[38;5;129;01min\u001b[39;00m \u001b[38;5;28mrange\u001b[39m(n):\n",
            "\u001b[1;31mException\u001b[0m: Please Check!"
          ]
        }
      ],
      "source": [
        "printAlphaPyramid2(5)\n",
        "print('\\n')\n",
        "printAlphaPyramid2(3)\n",
        "\n",
        "print('\\n')\n",
        "\n",
        "printAlphaPyramid2(2)\n",
        "\n",
        "print('\\n')\n",
        "\n",
        "printAlphaPyramid2(-8)"
      ]
    },
    {
      "cell_type": "code",
      "execution_count": null,
      "id": "e1e8dc15",
      "metadata": {
        "id": "e1e8dc15"
      },
      "outputs": [],
      "source": []
    },
    {
      "cell_type": "code",
      "execution_count": null,
      "id": "9d80e4bb",
      "metadata": {
        "id": "9d80e4bb"
      },
      "outputs": [],
      "source": []
    },
    {
      "cell_type": "code",
      "execution_count": null,
      "id": "8e17e7c8",
      "metadata": {
        "id": "8e17e7c8"
      },
      "outputs": [],
      "source": []
    },
    {
      "cell_type": "code",
      "execution_count": null,
      "id": "b67aa849",
      "metadata": {
        "id": "b67aa849"
      },
      "outputs": [],
      "source": []
    },
    {
      "cell_type": "code",
      "execution_count": null,
      "id": "e549bf91",
      "metadata": {
        "id": "e549bf91"
      },
      "outputs": [],
      "source": []
    },
    {
      "cell_type": "markdown",
      "id": "6ba109ff",
      "metadata": {
        "id": "6ba109ff"
      },
      "source": [
        "# 65."
      ]
    },
    {
      "cell_type": "markdown",
      "id": "e447c9db",
      "metadata": {
        "id": "e447c9db"
      },
      "source": [
        "💻 Write a function which takes \"Array of strings\" as input wherein each element represents the gym duration in the format HH:MM:SS & returns string such that it is the sum of the total duration - as shown in the samples.\n",
        "\n",
        "getTotalDuration(Array(\"00:00:05\",\"01:59:10\")) = \"01:59:15\"\n",
        "//Explanation: 5secs + 1hr 59min 10secs = 1hr 59 min 15 secs\n",
        "\n",
        "getTotalDuration(Array(\"03:00:05\",\"00:59:00\",\"00:02:00\")) = \"04:01:05\"\n",
        "//Explanation: 3hr 5secs + 59mins + 2mins = 4hr 1min 5secs\n",
        "\n",
        "getTotalDuration(Array()) = \"00:00:00\""
      ]
    },
    {
      "cell_type": "code",
      "execution_count": null,
      "id": "6b284e7b",
      "metadata": {
        "id": "6b284e7b",
        "outputId": "2980dd59-b4ab-4b05-9f79-d57fcfaf75d6"
      },
      "outputs": [
        {
          "name": "stdout",
          "output_type": "stream",
          "text": [
            "01:59:15\n",
            "04:01:05\n",
            "00:00:00\n"
          ]
        }
      ],
      "source": [
        "def getTotalDuration(durations):\n",
        "    total_seconds = 0\n",
        "\n",
        "    # Iterate through each duration in the input array\n",
        "    for duration in durations:\n",
        "        # Split the string into hours, minutes, and seconds\n",
        "        hh, mm, ss = map(int, duration.split(':'))\n",
        "        # Convert the entire duration into seconds and add to total\n",
        "        total_seconds += hh * 3600 + mm * 60 + ss\n",
        "\n",
        "    # Convert total seconds back to HH:MM:SS format\n",
        "    hours = total_seconds // 3600\n",
        "    minutes = (total_seconds % 3600) // 60\n",
        "    seconds = total_seconds % 60\n",
        "\n",
        "    # Format the result as a string\n",
        "    return f\"{hours:02}:{minutes:02}:{seconds:02}\"\n",
        "\n",
        "# Sample test cases\n",
        "print(getTotalDuration([\"00:00:05\", \"01:59:10\"]))  # Output: \"01:59:15\"\n",
        "print(getTotalDuration([\"03:00:05\", \"00:59:00\", \"00:02:00\"]))  # Output: \"04:01:05\"\n",
        "print(getTotalDuration([]))  # Output: \"00:00:00\"\n"
      ]
    },
    {
      "cell_type": "code",
      "execution_count": null,
      "id": "1760fc9b",
      "metadata": {
        "id": "1760fc9b"
      },
      "outputs": [],
      "source": []
    },
    {
      "cell_type": "code",
      "execution_count": null,
      "id": "2745c74c",
      "metadata": {
        "id": "2745c74c"
      },
      "outputs": [],
      "source": []
    },
    {
      "cell_type": "code",
      "execution_count": null,
      "id": "79e68b46",
      "metadata": {
        "id": "79e68b46"
      },
      "outputs": [],
      "source": []
    },
    {
      "cell_type": "markdown",
      "id": "c318eaab",
      "metadata": {
        "id": "c318eaab"
      },
      "source": [
        "# 64."
      ]
    },
    {
      "cell_type": "code",
      "execution_count": null,
      "id": "456360e8",
      "metadata": {
        "id": "456360e8"
      },
      "outputs": [],
      "source": []
    },
    {
      "cell_type": "markdown",
      "id": "790ee6d1",
      "metadata": {
        "id": "790ee6d1"
      },
      "source": [
        "💻 Write a function which takes a \"Array of strings\" as input wherein each element is item@amount & returns \"Map of string,integer\" such that each element is item,sum_of_total_amount for the corresponding item - as shown in the samples.\n",
        "\n",
        "getTotalItemExpenditure(Array(\"Pen@120\",\"Watch@600\",\"Pen@10\",\"Watch@1000\",\"Pencil@15\"))\n",
        "= Map(\"Pen\"->130,\"Watch\"->1600,\"Pencil\"->15)\n",
        "\n",
        "getTotalItemExpenditure(Array(\"Fan@1600\",\"Fan@1000\"))\n",
        "= Map(\"Fan\"->2600)\n",
        "\n",
        "getTotalItemExpenditure(Array(\"Laptop@52000\",\"Curtain@500\",\"Curtain@1200\"))\n",
        "= Map(\"Laptop\"->52000,\"Curtain\"->1700)"
      ]
    },
    {
      "cell_type": "code",
      "execution_count": null,
      "id": "deef05b6",
      "metadata": {
        "id": "deef05b6"
      },
      "outputs": [],
      "source": [
        "def getTotalItemExpenditure(arr):\n",
        "    item_dict={}\n",
        "    for i in arr:\n",
        "        x=i.split(\"@\")\n",
        "        item=x[0]\n",
        "        amount=int(x[-1])\n",
        "        if item not in item_dict:\n",
        "            item_dict[item]=[amount]\n",
        "        else:\n",
        "            item_dict[item].append(amount)\n",
        "\n",
        "    for k, v in item_dict.items():\n",
        "        item_dict[k] = sum(v)\n",
        "    return item_dict"
      ]
    },
    {
      "cell_type": "code",
      "execution_count": null,
      "id": "01f7814e",
      "metadata": {
        "id": "01f7814e",
        "outputId": "53eb04ab-2479-4198-ab13-b57eb4a96b24"
      },
      "outputs": [
        {
          "name": "stdout",
          "output_type": "stream",
          "text": [
            "{'Pen': 130, 'Watch': 1600, 'Pencil': 15}\n",
            "{'Fan': 2600}\n",
            "{'Laptop': 52000, 'Curtain': 1700}\n"
          ]
        }
      ],
      "source": [
        "# Sample test cases\n",
        "print(getTotalItemExpenditure([\"Pen@120\", \"Watch@600\", \"Pen@10\", \"Watch@1000\", \"Pencil@15\"]))\n",
        "# Output: {'Pen': 130, 'Watch': 1600, 'Pencil': 15}\n",
        "\n",
        "print(getTotalItemExpenditure([\"Fan@1600\", \"Fan@1000\"]))\n",
        "# Output: {'Fan': 2600}\n",
        "\n",
        "print(getTotalItemExpenditure([\"Laptop@52000\", \"Curtain@500\", \"Curtain@1200\"]))\n",
        "# Output: {'Laptop': 52000, 'Curtain': 1700}"
      ]
    },
    {
      "cell_type": "code",
      "execution_count": null,
      "id": "dd73aec6",
      "metadata": {
        "id": "dd73aec6"
      },
      "outputs": [],
      "source": []
    },
    {
      "cell_type": "code",
      "execution_count": null,
      "id": "55aa4477",
      "metadata": {
        "id": "55aa4477",
        "outputId": "d30bfcd8-2fc4-457e-e0e1-b17ff5c3179f"
      },
      "outputs": [
        {
          "name": "stdout",
          "output_type": "stream",
          "text": [
            "{'Pen': 130, 'Watch': 1600, 'Pencil': 15}\n",
            "{'Fan': 2600}\n",
            "{'Laptop': 52000, 'Curtain': 1700}\n"
          ]
        }
      ],
      "source": [
        "def getTotalItemExpenditure(arr):\n",
        "    expenditure_map = {}\n",
        "\n",
        "    for entry in arr:\n",
        "        # Split the string into item and amount\n",
        "        item, amount_str = entry.split('@')\n",
        "        amount = int(amount_str)  # Convert amount to integer\n",
        "\n",
        "        # Sum the amounts for each item\n",
        "        if item in expenditure_map:\n",
        "            expenditure_map[item] += amount\n",
        "        else:\n",
        "            expenditure_map[item] = amount\n",
        "\n",
        "    return expenditure_map\n",
        "\n",
        "# Sample test cases\n",
        "print(getTotalItemExpenditure([\"Pen@120\", \"Watch@600\", \"Pen@10\", \"Watch@1000\", \"Pencil@15\"]))\n",
        "# Output: {'Pen': 130, 'Watch': 1600, 'Pencil': 15}\n",
        "\n",
        "print(getTotalItemExpenditure([\"Fan@1600\", \"Fan@1000\"]))\n",
        "# Output: {'Fan': 2600}\n",
        "\n",
        "print(getTotalItemExpenditure([\"Laptop@52000\", \"Curtain@500\", \"Curtain@1200\"]))\n",
        "# Output: {'Laptop': 52000, 'Curtain': 1700}\n"
      ]
    },
    {
      "cell_type": "code",
      "execution_count": null,
      "id": "aa3a2462",
      "metadata": {
        "id": "aa3a2462"
      },
      "outputs": [],
      "source": []
    },
    {
      "cell_type": "code",
      "execution_count": null,
      "id": "98e59c4a",
      "metadata": {
        "id": "98e59c4a"
      },
      "outputs": [],
      "source": []
    },
    {
      "cell_type": "code",
      "execution_count": null,
      "id": "e0e38d04",
      "metadata": {
        "id": "e0e38d04"
      },
      "outputs": [],
      "source": []
    },
    {
      "cell_type": "code",
      "execution_count": null,
      "id": "43d1c1fd",
      "metadata": {
        "id": "43d1c1fd"
      },
      "outputs": [],
      "source": []
    },
    {
      "cell_type": "markdown",
      "id": "35ccc89f",
      "metadata": {
        "id": "35ccc89f"
      },
      "source": [
        "# 63."
      ]
    },
    {
      "cell_type": "markdown",
      "id": "b7352bc2",
      "metadata": {
        "id": "b7352bc2"
      },
      "source": [
        "💻 Write a function which takes a \"List of Strings\" as input where each element represents date(yyyy-mm-dd) & returns \"Map of Integer,String\" representing year,date such that year=year of the corresponding input date & date=Last day of February month for the corresponding input date year - as shown in the samples.\n",
        "\n",
        "getFebLastDate(List(\"1992-02-19\") =\n",
        "= Map(1992->\"1992-02-29\")\n",
        "\n",
        "getFebLastDate(List(\"2022-04-05\",\"2023-12-17\",\"2000-01-02\"))\n",
        "= Map(2022->\"2022-02-28\",2023->\"2023-02-28\",2000->\"2000-02-29\")\n",
        "\n",
        "getFebLastDate(List()) =\n",
        "= Map()"
      ]
    },
    {
      "cell_type": "code",
      "execution_count": null,
      "id": "fc5951d2",
      "metadata": {
        "id": "fc5951d2"
      },
      "outputs": [],
      "source": [
        "def getFebLastDate(l):\n",
        "\n",
        "    date_dict={}\n",
        "\n",
        "    for i in l:\n",
        "        x=i.split('-')\n",
        "        year = int(x[0])\n",
        "\n",
        "        date = dt.datetime(year, 3, 1)\n",
        "        # Subtract one day using timedelta\n",
        "        last_feb_day = date - dt.timedelta(days=1)\n",
        "        formatted_date = last_feb_day.strftime(\"%Y-%m-%d\")\n",
        "\n",
        "        date_dict[year]=formatted_date\n",
        "\n",
        "    return date_dict"
      ]
    },
    {
      "cell_type": "code",
      "execution_count": null,
      "id": "42dd5272",
      "metadata": {
        "id": "42dd5272",
        "outputId": "4f491d10-4502-4b5f-b4cd-6aafaadae150"
      },
      "outputs": [
        {
          "name": "stdout",
          "output_type": "stream",
          "text": [
            "{1992: '1992-02-29'}\n",
            "{2022: '2022-02-28', 2023: '2023-02-28', 2000: '2000-02-29'}\n",
            "{}\n"
          ]
        }
      ],
      "source": [
        "print(getFebLastDate([\"1992-02-19\"]))  # Output: {1992: '1992-02-29'}\n",
        "print(getFebLastDate([\"2022-04-05\", \"2023-12-17\", \"2000-01-02\"]))\n",
        "# Output: {2022: '2022-02-28', 2023: '2023-02-28', 2000: '2000-02-29'}\n",
        "\n",
        "print(getFebLastDate([]))  # Output: {}"
      ]
    },
    {
      "cell_type": "code",
      "execution_count": null,
      "id": "ea065e6d",
      "metadata": {
        "id": "ea065e6d",
        "outputId": "d54f2be7-685d-49a4-93a5-ec038da20f99"
      },
      "outputs": [
        {
          "name": "stdout",
          "output_type": "stream",
          "text": [
            "Original Date: 2024-03-01 00:00:00\n",
            "New Date: 2024-02-29 00:00:00\n",
            "formatted_date: 2024/02/29\n"
          ]
        }
      ],
      "source": [
        "import datetime as dt\n",
        "\n",
        "year=2024\n",
        "# Create a datetime object for a particular day\n",
        "date = dt.datetime(year, 3, 1)\n",
        "\n",
        "# Subtract one day using timedelta\n",
        "new_date = date - dt.timedelta(days=1)\n",
        "\n",
        "# Output the result\n",
        "print(\"Original Date:\", date)\n",
        "print(\"New Date:\", new_date)\n",
        "formatted_date = new_date.strftime(\"%Y/%m/%d\")\n",
        "print(\"formatted_date:\", formatted_date)  # Output: 2024/01/03\n",
        "\n"
      ]
    },
    {
      "cell_type": "code",
      "execution_count": null,
      "id": "98022a0c",
      "metadata": {
        "id": "98022a0c",
        "outputId": "ad31e707-f450-4e5c-deea-b01fa3d03063"
      },
      "outputs": [
        {
          "name": "stdout",
          "output_type": "stream",
          "text": [
            "{1992: '1992-02-29'}\n",
            "{2022: '2022-02-28', 2023: '2023-02-28', 2000: '2000-02-29'}\n",
            "{}\n"
          ]
        }
      ],
      "source": [
        "import datetime as dt\n",
        "\n",
        "def getFebLastDate(dates):\n",
        "    # Create an empty dictionary to store the result\n",
        "    result = {}\n",
        "\n",
        "    # Iterate over each date string in the input list\n",
        "    for date_str in dates:\n",
        "        # Parse the date string into a datetime object\n",
        "        date_obj = dt.datetime.strptime(date_str, \"%Y-%m-%d\")\n",
        "\n",
        "        # Extract the year from the date\n",
        "        year = date_obj.year\n",
        "\n",
        "        # Check if the year is a leap year\n",
        "        if (year % 4 == 0 and year % 100 != 0) or (year % 400 == 0):\n",
        "            # Leap year: February 29\n",
        "            feb_last_day = f\"{year}-02-29\"\n",
        "        else:\n",
        "            # Not a leap year: February 28\n",
        "            feb_last_day = f\"{year}-02-28\"\n",
        "\n",
        "        # Add the year and corresponding last day of February to the result map\n",
        "        result[year] = feb_last_day\n",
        "\n",
        "    return result\n",
        "\n",
        "# Sample test cases\n",
        "print(getFebLastDate([\"1992-02-19\"]))  # Output: {1992: '1992-02-29'}\n",
        "print(getFebLastDate([\"2022-04-05\", \"2023-12-17\", \"2000-01-02\"]))\n",
        "# Output: {2022: '2022-02-28', 2023: '2023-02-28', 2000: '2000-02-29'}\n",
        "\n",
        "print(getFebLastDate([]))  # Output: {}\n"
      ]
    },
    {
      "cell_type": "code",
      "execution_count": null,
      "id": "8ccfad48",
      "metadata": {
        "id": "8ccfad48"
      },
      "outputs": [],
      "source": []
    },
    {
      "cell_type": "code",
      "execution_count": null,
      "id": "65d71cc0",
      "metadata": {
        "id": "65d71cc0"
      },
      "outputs": [],
      "source": []
    },
    {
      "cell_type": "code",
      "execution_count": null,
      "id": "aae542e4",
      "metadata": {
        "id": "aae542e4"
      },
      "outputs": [],
      "source": []
    },
    {
      "cell_type": "markdown",
      "id": "ad316d8d",
      "metadata": {
        "id": "ad316d8d"
      },
      "source": [
        "# 62."
      ]
    },
    {
      "cell_type": "markdown",
      "id": "22331d87",
      "metadata": {
        "id": "22331d87"
      },
      "source": [
        "💻 Write a function which takes a string(i.e., a sentence) as input & returns the sum of the length of each word in the sentence which are separated by spaces - as shown in the samples.\n",
        "\n",
        "getWordsLength(\"I like tea\") = 8\n",
        "//Explanation: I=1, like=4, tea=3 => 1+4+3=8\n",
        "\n",
        "getWordsLength(\"\") = 0\n",
        "\n",
        "getWordsLength(\"It will rain today\") = 15\n",
        "//Explanation: It=2, will=4, rain=4, today=5=> 2+4+4+5=15"
      ]
    },
    {
      "cell_type": "code",
      "execution_count": null,
      "id": "6b704d00",
      "metadata": {
        "id": "6b704d00"
      },
      "outputs": [],
      "source": [
        "def getWordsLength(l):\n",
        "    l = l.split()\n",
        "    tot=0\n",
        "    for i in l:\n",
        "        tot+= len(i)\n",
        "    return tot"
      ]
    },
    {
      "cell_type": "code",
      "execution_count": null,
      "id": "caccf721",
      "metadata": {
        "id": "caccf721"
      },
      "outputs": [],
      "source": [
        "def getWordsLength(l):\n",
        "    l = l.split()\n",
        "    return sum([len(i) for i in l])"
      ]
    },
    {
      "cell_type": "code",
      "execution_count": null,
      "id": "3955a8d5",
      "metadata": {
        "id": "3955a8d5",
        "outputId": "b5884f79-d652-49de-bad3-4b49159180a2"
      },
      "outputs": [
        {
          "name": "stdout",
          "output_type": "stream",
          "text": [
            "8\n",
            "0\n",
            "15\n"
          ]
        }
      ],
      "source": [
        "print( getWordsLength('I like tea') )\n",
        "\n",
        "print( getWordsLength('') )\n",
        "\n",
        "print( getWordsLength('It will rain today') )"
      ]
    },
    {
      "cell_type": "code",
      "execution_count": null,
      "id": "5089439d",
      "metadata": {
        "id": "5089439d"
      },
      "outputs": [],
      "source": []
    },
    {
      "cell_type": "code",
      "execution_count": null,
      "id": "30aceb44",
      "metadata": {
        "id": "30aceb44"
      },
      "outputs": [],
      "source": []
    },
    {
      "cell_type": "code",
      "execution_count": null,
      "id": "edfa5ebf",
      "metadata": {
        "id": "edfa5ebf"
      },
      "outputs": [],
      "source": []
    },
    {
      "cell_type": "code",
      "execution_count": null,
      "id": "2529257b",
      "metadata": {
        "id": "2529257b"
      },
      "outputs": [],
      "source": [
        "def getWordsLength(s):\n",
        "\n",
        "    l=s.split()\n",
        "    word_length=0\n",
        "\n",
        "    for i in range(len(l)):\n",
        "        word_length+=len(l[i])\n",
        "    return word_length\n",
        ""
      ]
    },
    {
      "cell_type": "code",
      "execution_count": null,
      "id": "c3f5f998",
      "metadata": {
        "id": "c3f5f998",
        "outputId": "2fb7b8d3-db23-4adf-c547-7ecec9ca49a5"
      },
      "outputs": [
        {
          "name": "stdout",
          "output_type": "stream",
          "text": [
            "8\n",
            "0\n",
            "15\n"
          ]
        }
      ],
      "source": [
        "print( getWordsLength('I like tea') )\n",
        "\n",
        "print( getWordsLength('') )\n",
        "\n",
        "print( getWordsLength('It will rain today') )"
      ]
    },
    {
      "cell_type": "code",
      "execution_count": null,
      "id": "0252c71b",
      "metadata": {
        "id": "0252c71b"
      },
      "outputs": [],
      "source": []
    },
    {
      "cell_type": "code",
      "execution_count": null,
      "id": "95c7ff49",
      "metadata": {
        "id": "95c7ff49"
      },
      "outputs": [],
      "source": []
    },
    {
      "cell_type": "markdown",
      "id": "99f5b475",
      "metadata": {
        "id": "99f5b475"
      },
      "source": [
        "# 61."
      ]
    },
    {
      "cell_type": "markdown",
      "id": "42e076ed",
      "metadata": {
        "id": "42e076ed"
      },
      "source": [
        "💻 Write a function which takes array of numbers as input & returns true if array length is greater than 3 and 1st and last elements are same; false otherwise - as shown in the samples.\n",
        "\n",
        "checkArray(Array(10,20,30,40)) = false\n",
        "checkArray(Array(-50,20,-50)) = false\n",
        "checkArray(Array(100,46,27,45,100)) = true\n",
        "checkArray(Array(-97,54,24,67,22,-97)) = true"
      ]
    },
    {
      "cell_type": "code",
      "execution_count": null,
      "id": "750e5614",
      "metadata": {
        "id": "750e5614"
      },
      "outputs": [],
      "source": [
        "def checkArray(arr):\n",
        "    return len(arr)>3 and arr[0]==arr[-1]"
      ]
    },
    {
      "cell_type": "code",
      "execution_count": null,
      "id": "bbd13f6b",
      "metadata": {
        "id": "bbd13f6b",
        "outputId": "b692f8ce-25b9-42fc-89e3-0d43a3250222"
      },
      "outputs": [
        {
          "name": "stdout",
          "output_type": "stream",
          "text": [
            "False\n",
            "False\n",
            "True\n",
            "True\n"
          ]
        }
      ],
      "source": [
        "print(checkArray([10, 20, 30, 40]))         # Output: False\n",
        "print(checkArray([-50, 20, -50]))           # Output: False\n",
        "print(checkArray([100, 46, 27, 45, 100]))   # Output: True\n",
        "print(checkArray([-97, 54, 24, 67, 22, -97])) # Output: True"
      ]
    },
    {
      "cell_type": "code",
      "execution_count": null,
      "id": "4c300ea4",
      "metadata": {
        "id": "4c300ea4"
      },
      "outputs": [],
      "source": []
    },
    {
      "cell_type": "code",
      "execution_count": null,
      "id": "e06aafcd",
      "metadata": {
        "id": "e06aafcd"
      },
      "outputs": [],
      "source": []
    },
    {
      "cell_type": "code",
      "execution_count": null,
      "id": "a4f38676",
      "metadata": {
        "id": "a4f38676"
      },
      "outputs": [],
      "source": []
    },
    {
      "cell_type": "code",
      "execution_count": null,
      "id": "083b72d0",
      "metadata": {
        "id": "083b72d0"
      },
      "outputs": [],
      "source": []
    },
    {
      "cell_type": "markdown",
      "id": "819b27b7",
      "metadata": {
        "id": "819b27b7"
      },
      "source": [
        "# 60."
      ]
    },
    {
      "cell_type": "markdown",
      "id": "c3e5f789",
      "metadata": {
        "id": "c3e5f789"
      },
      "source": [
        "💻 Write a function which takes integer as input (which is height/number of rows) & prints Floyd Triangle pattern - as shown in the samples.\n"
      ]
    },
    {
      "cell_type": "markdown",
      "id": "fa677190",
      "metadata": {
        "id": "fa677190"
      },
      "source": [
        "(5)\n",
        "1\n",
        "2 3\n",
        "4 5 6\n",
        "7 8 9 10\n",
        "11 12 13 14 15\n",
        "\n",
        "\n",
        "(3)\n",
        "1\n",
        "2 3\n",
        "4 5 6\n",
        "\n",
        "(4)\n",
        "1\n",
        "2 3\n",
        "4 5 6\n",
        "7 8 9 10\n"
      ]
    },
    {
      "cell_type": "code",
      "execution_count": null,
      "id": "967e64e3",
      "metadata": {
        "id": "967e64e3"
      },
      "outputs": [],
      "source": [
        "def print_pattern(n):\n",
        "    x=1\n",
        "    for i in range(1,n+1):\n",
        "        for j in range(i):\n",
        "            print(x,end=' ')\n",
        "            x+=1\n",
        "        print()"
      ]
    },
    {
      "cell_type": "code",
      "execution_count": null,
      "id": "0fa9d2a6",
      "metadata": {
        "id": "0fa9d2a6",
        "outputId": "80306c5c-a290-49e8-cc11-136774f371ff"
      },
      "outputs": [
        {
          "name": "stdout",
          "output_type": "stream",
          "text": [
            "1 \n",
            "2 3 \n",
            "4 5 6 \n",
            "7 8 9 10 \n",
            "11 12 13 14 15 \n",
            "***************\n",
            "1 \n",
            "2 3 \n",
            "4 5 6 \n",
            "***************\n",
            "1 \n",
            "2 3 \n",
            "4 5 6 \n",
            "7 8 9 10 \n",
            "***************\n"
          ]
        }
      ],
      "source": [
        "print_pattern(5)\n",
        "print(\"*\"*15)\n",
        "print_pattern(3)\n",
        "print(\"*\"*15)\n",
        "print_pattern(4)\n",
        "print(\"*\"*15)"
      ]
    },
    {
      "cell_type": "code",
      "execution_count": null,
      "id": "e262135a",
      "metadata": {
        "id": "e262135a"
      },
      "outputs": [],
      "source": []
    },
    {
      "cell_type": "code",
      "execution_count": null,
      "id": "f5536b9c",
      "metadata": {
        "id": "f5536b9c"
      },
      "outputs": [],
      "source": []
    },
    {
      "cell_type": "code",
      "execution_count": null,
      "id": "70603b8b",
      "metadata": {
        "id": "70603b8b"
      },
      "outputs": [],
      "source": []
    },
    {
      "cell_type": "code",
      "execution_count": null,
      "id": "6968d00a",
      "metadata": {
        "id": "6968d00a"
      },
      "outputs": [],
      "source": []
    },
    {
      "cell_type": "markdown",
      "id": "72b46f4d",
      "metadata": {
        "id": "72b46f4d"
      },
      "source": [
        "# 59."
      ]
    },
    {
      "cell_type": "markdown",
      "id": "1b1e775a",
      "metadata": {
        "id": "1b1e775a"
      },
      "source": [
        "💻 Write a function which takes integer as input & prints hollow diamond inscribed in a rectangle pattern - as shown in the samples.\n",
        "Note: Input should be greater than 2. If less, print \"Input should be greater than 2\"."
      ]
    },
    {
      "cell_type": "code",
      "execution_count": null,
      "id": "72bd5e9a",
      "metadata": {
        "id": "72bd5e9a"
      },
      "outputs": [],
      "source": [
        "#https://www.linkedin.com/posts/rahulupadhyabigdata_practice-coding-programming-activity-7018047369699110912--Av5?utm_source=share&utm_medium=member_desktop"
      ]
    },
    {
      "cell_type": "code",
      "execution_count": null,
      "id": "b0d18adb",
      "metadata": {
        "id": "b0d18adb"
      },
      "outputs": [],
      "source": []
    },
    {
      "cell_type": "markdown",
      "id": "7844c02a",
      "metadata": {
        "id": "7844c02a"
      },
      "source": [
        "![Getpattern.jpg](attachment:Getpattern.jpg)"
      ]
    },
    {
      "cell_type": "code",
      "execution_count": null,
      "id": "1c66a4e7",
      "metadata": {
        "id": "1c66a4e7"
      },
      "outputs": [],
      "source": []
    },
    {
      "cell_type": "markdown",
      "id": "484fd115",
      "metadata": {
        "id": "484fd115"
      },
      "source": [
        "# 58."
      ]
    },
    {
      "cell_type": "code",
      "execution_count": null,
      "id": "c6d2b835",
      "metadata": {
        "id": "c6d2b835"
      },
      "outputs": [],
      "source": [
        "💻 Write a function which takes 2 input - \"Map of String, 'List of String'\" & \"Map of String, Integer\"\n",
        "   (wherein 1st input is product & all sales persons associated,\n",
        "   2nd input is for every sales person the quantity of sales done).\n",
        "We need to return \"List of String\" which is the most quantity product sold\n",
        "along with the quantity - as shown in the samples.\n",
        "\n",
        "salesDet = Map(\"Colgate\"->List(\"Nayan\",\"Vishal\",\"Isha\"),\"Pepsodent\"->List(\"Apoorva\",\"Uday\"))\n",
        "salesData = Map(\"Apoorva\"->89,\"Nayan\"->45,\"Vishal\"->110,\"Uday\"->44,\"Isha\"->38)\n",
        "getPopularProduct(salesDet,salesData) =\n",
        "List(\"Colgate=193\")\n",
        "\n",
        "salesDet = Map(\"Sensodyne\"->List(\"Kamal\"),\"Dabur Red\"->List(\"Dhruv\"))\n",
        "salesData = Map(\"Kamal\"->28,\"Dhruv\"->28)\n",
        "getPopularProduct(salesDet,salesData) =\n",
        "List(\"Sensodyne=28\",\"Dabur Red=28\")\n",
        "\n",
        "salesDet = Map(\"CloseUp\"->List(\"Mayur\",\"Pankaj\"),\"Dant Kanti\"->List(\"Diya\",\"Pratik\",\"Yuvraj\"),\n",
        "               \"Vicco\"->List(\"Damini\",\"Shravan\"))\n",
        "salesData = Map(\"Mayur\"->13,\"Diya\"->14,\"Damini\"->15,\"Yuvraj\"->1,\"Shravan\"->23,\"Pankaj\"->19,\"Pratik\"->13)\n",
        "getPopularProduct(salesDet,salesData) =\n",
        "List(\"Vicco=28\")"
      ]
    },
    {
      "cell_type": "code",
      "execution_count": null,
      "id": "8ed0009b",
      "metadata": {
        "id": "8ed0009b"
      },
      "outputs": [],
      "source": []
    },
    {
      "cell_type": "code",
      "execution_count": null,
      "id": "c9e294ab",
      "metadata": {
        "id": "c9e294ab"
      },
      "outputs": [],
      "source": [
        "def getPopularProduct(salesDet,salesData):\n",
        "\n",
        "    allDet = {k:[] for k,v in salesDet.items()}\n",
        "\n",
        "    for company, person in salesDet.items():\n",
        "        for p in person:\n",
        "            allDet[company].append(salesData[p])\n",
        "\n",
        "    for k,v in allDet.items():\n",
        "        allDet[k] = sum(v)\n",
        "\n",
        "    # Find the maximum sales amount\n",
        "    max_amount = max(allDet.values())\n",
        "\n",
        "    # Find all products that have this maximum sales amount\n",
        "    popular_products = [f\"{product}={amount}\" for product, amount in allDet.items() if amount == max_amount]\n",
        "\n",
        "    return popular_products"
      ]
    },
    {
      "cell_type": "code",
      "execution_count": null,
      "id": "fa2f187a",
      "metadata": {
        "id": "fa2f187a",
        "outputId": "9e517c7f-abb1-4845-abe5-0244a7a3d8f5"
      },
      "outputs": [
        {
          "name": "stdout",
          "output_type": "stream",
          "text": [
            "['Colgate=193']\n",
            "['Sensodyne=28', 'Dabur Red=28']\n",
            "['Vicco=38']\n"
          ]
        }
      ],
      "source": [
        "# Test cases\n",
        "print(getPopularProduct(\n",
        "    {\"Colgate\": [\"Nayan\", \"Vishal\", \"Isha\"], \"Pepsodent\": [\"Apoorva\", \"Uday\"]},\n",
        "    {\"Apoorva\": 89, \"Nayan\": 45, \"Vishal\": 110, \"Uday\": 44, \"Isha\": 38}\n",
        "))\n",
        "# Output: [\"Colgate=193\"]\n",
        "\n",
        "print(getPopularProduct(\n",
        "    {\"Sensodyne\": [\"Kamal\"], \"Dabur Red\": [\"Dhruv\"]},\n",
        "    {\"Kamal\": 28, \"Dhruv\": 28}\n",
        "))\n",
        "# Output: [\"Sensodyne=28\", \"Dabur Red=28\"]\n",
        "\n",
        "print(getPopularProduct(\n",
        "    {\"CloseUp\": [\"Mayur\", \"Pankaj\"], \"Dant Kanti\": [\"Diya\", \"Pratik\", \"Yuvraj\"], \"Vicco\": [\"Damini\", \"Shravan\"]},\n",
        "    {\"Mayur\": 13, \"Diya\": 14, \"Damini\": 15, \"Yuvraj\": 1, \"Shravan\": 23, \"Pankaj\": 19, \"Pratik\": 13}\n",
        "))\n",
        "# Output: [\"Vicco=28\"]"
      ]
    },
    {
      "cell_type": "code",
      "execution_count": null,
      "id": "9f9bb1ca",
      "metadata": {
        "id": "9f9bb1ca"
      },
      "outputs": [],
      "source": []
    },
    {
      "cell_type": "code",
      "execution_count": null,
      "id": "fe02ab25",
      "metadata": {
        "id": "fe02ab25",
        "outputId": "ab0eaf45-b730-4fb7-9933-4461fba6dd54"
      },
      "outputs": [
        {
          "name": "stdout",
          "output_type": "stream",
          "text": [
            "['Colgate=193']\n",
            "['Sensodyne=28', 'Dabur Red=28']\n",
            "['Vicco=38']\n"
          ]
        }
      ],
      "source": [
        "def getPopularProduct(salesDet, salesData):\n",
        "    # Initialize a dictionary to store total sales for each product\n",
        "    product_sales = {}\n",
        "\n",
        "    # Calculate total sales for each product\n",
        "    for product, salespersons in salesDet.items():\n",
        "        total_sales = sum(salesData.get(person, 0) for person in salespersons)\n",
        "        product_sales[product] = total_sales\n",
        "\n",
        "    # Find the maximum sales quantity\n",
        "    max_sales = max(product_sales.values(), default=0)\n",
        "\n",
        "    # Find all products with the maximum sales quantity\n",
        "    most_popular_products = [f\"{product}={quantity}\" for product, quantity in product_sales.items() if quantity == max_sales]\n",
        "\n",
        "    return most_popular_products\n",
        "\n",
        "# Test cases\n",
        "print(getPopularProduct(\n",
        "    {\"Colgate\": [\"Nayan\", \"Vishal\", \"Isha\"], \"Pepsodent\": [\"Apoorva\", \"Uday\"]},\n",
        "    {\"Apoorva\": 89, \"Nayan\": 45, \"Vishal\": 110, \"Uday\": 44, \"Isha\": 38}\n",
        "))\n",
        "# Output: [\"Colgate=193\"]\n",
        "\n",
        "print(getPopularProduct(\n",
        "    {\"Sensodyne\": [\"Kamal\"], \"Dabur Red\": [\"Dhruv\"]},\n",
        "    {\"Kamal\": 28, \"Dhruv\": 28}\n",
        "))\n",
        "# Output: [\"Sensodyne=28\", \"Dabur Red=28\"]\n",
        "\n",
        "print(getPopularProduct(\n",
        "    {\"CloseUp\": [\"Mayur\", \"Pankaj\"], \"Dant Kanti\": [\"Diya\", \"Pratik\", \"Yuvraj\"], \"Vicco\": [\"Damini\", \"Shravan\"]},\n",
        "    {\"Mayur\": 13, \"Diya\": 14, \"Damini\": 15, \"Yuvraj\": 1, \"Shravan\": 23, \"Pankaj\": 19, \"Pratik\": 13}\n",
        "))\n",
        "# Output: [\"Vicco=28\"]\n"
      ]
    },
    {
      "cell_type": "code",
      "execution_count": null,
      "id": "2b66c6b8",
      "metadata": {
        "id": "2b66c6b8"
      },
      "outputs": [],
      "source": []
    },
    {
      "cell_type": "code",
      "execution_count": null,
      "id": "80d3bf4c",
      "metadata": {
        "id": "80d3bf4c"
      },
      "outputs": [],
      "source": []
    },
    {
      "cell_type": "code",
      "execution_count": null,
      "id": "d9090dec",
      "metadata": {
        "id": "d9090dec"
      },
      "outputs": [],
      "source": []
    },
    {
      "cell_type": "markdown",
      "id": "a3b7b922",
      "metadata": {
        "id": "a3b7b922"
      },
      "source": [
        "# 57."
      ]
    },
    {
      "cell_type": "markdown",
      "id": "5ff024cb",
      "metadata": {
        "id": "5ff024cb"
      },
      "source": [
        "💻 Write a function which takes integer as input & prints hollow diamond pattern - as shown in the samples."
      ]
    },
    {
      "cell_type": "markdown",
      "id": "346af3e5",
      "metadata": {
        "id": "346af3e5"
      },
      "source": [
        "![getpattern_2.jpg](attachment:getpattern_2.jpg)"
      ]
    },
    {
      "cell_type": "code",
      "execution_count": null,
      "id": "854ac908",
      "metadata": {
        "id": "854ac908"
      },
      "outputs": [],
      "source": []
    },
    {
      "cell_type": "code",
      "execution_count": null,
      "id": "2ef79d27",
      "metadata": {
        "id": "2ef79d27"
      },
      "outputs": [],
      "source": []
    },
    {
      "cell_type": "markdown",
      "id": "e74d8666",
      "metadata": {
        "id": "e74d8666"
      },
      "source": [
        "# 56."
      ]
    },
    {
      "cell_type": "code",
      "execution_count": null,
      "id": "e1a43873",
      "metadata": {
        "id": "e1a43873"
      },
      "outputs": [],
      "source": [
        "💻 Write a function which takes \"List of Tuples of 'Integer, String, String'\" as input\n",
        "(which are enrollment_id,student_name,student_class) & returns \"List of Tuples of 'String,Integer,String,Integer\"\n",
        "(which are student_class,student_rollno,student_name,enrollment_id)\n",
        "with list ordered as [student_class,student_rollno] - as shown in the samples.\n",
        "\n",
        "Note: student_rollno is to be generated in increasing order\n",
        "      starting from 1 for each class in the increasing order of enrollment_id.\n",
        "\n",
        "getStudentSorted(List((123,\"Hardik\",\"V\"),(63,\"Shivani\",\"V\"),(114,\"Uttara\",\"VI\"),(99,\"Satyaki\",\"VI\"),(50,\"Paritoshik\",\"V\"))) =\n",
        "List((\"V\",1,\"Paritoshik\",50),(\"V\",2,\"Shivani\",63),(\"V\",3,\"Hardik\",123),(\"VI\",1,\"Satyaki\",99),(\"VI\",2,\"Uttara\",114))\n",
        "\n",
        "getStudentSorted(List((78,\"Kartikey\",\"V\"),(55,\"Ambalika\",\"IX\"),(66,\"Dev\",\"V\"))) =\n",
        "List((\"V\",1,\"Dev\",66),(\"V\",2,\"Kartikey\",78),(\"IX\",1,\"Ambalika\",55))\n",
        "\n",
        "getStudentSorted(List((134,\"Ravi\",\"VIII\"),(283,\"Tanu\",\"VIII\"))) =\n",
        "List((\"VIII\",1,\"Ravi\",134),(\"VIII\",2,\"Tanu\",283))"
      ]
    },
    {
      "cell_type": "code",
      "execution_count": null,
      "id": "121c4f2c",
      "metadata": {
        "id": "121c4f2c"
      },
      "outputs": [],
      "source": [
        "def getStudentSorted(student_details):\n",
        "    final_details = []\n",
        "    class_dict = {}\n",
        "\n",
        "    for student in student_details:\n",
        "        student = list(student)\n",
        "        student_class = student[2]\n",
        "\n",
        "        if student_class not in class_dict:\n",
        "            class_dict[student_class] = 1\n",
        "        else:\n",
        "            class_dict[student_class] += 1\n",
        "\n",
        "        student_name = student[1]\n",
        "        enrollment_id = student[0]\n",
        "        final_details.append(tuple([student_class, class_dict[student_class], student_name,enrollment_id]))\n",
        "\n",
        "    final_details = sorted(final_details, key=lambda x: x[0])\n",
        "    return final_details"
      ]
    },
    {
      "cell_type": "code",
      "execution_count": null,
      "id": "183f92a7",
      "metadata": {
        "id": "183f92a7",
        "outputId": "dc53d9c0-d982-42e3-ece9-a906aea45b2b"
      },
      "outputs": [
        {
          "name": "stdout",
          "output_type": "stream",
          "text": [
            "[('V', 1, 'Hardik', 123), ('V', 2, 'Shivani', 63), ('V', 3, 'Paritoshik', 50), ('VI', 1, 'Uttara', 114), ('VI', 2, 'Satyaki', 99)]\n",
            "[('IX', 1, 'Ambalika', 55), ('V', 1, 'Kartikey', 78), ('V', 2, 'Dev', 66)]\n",
            "[('VIII', 1, 'Ravi', 134), ('VIII', 2, 'Tanu', 283)]\n"
          ]
        }
      ],
      "source": [
        "print(getStudentSorted([(123,\"Hardik\",\"V\"),(63,\"Shivani\",\"V\"),(114,\"Uttara\",\"VI\"),(99,\"Satyaki\",\"VI\"),(50,\"Paritoshik\",\"V\")]))\n",
        "# Output: [('V', 1, 'Paritoshik', 50), ('V', 2, 'Shivani', 63), ('V', 3, 'Hardik', 123), ('VI', 1, 'Satyaki', 99), ('VI', 2, 'Uttara', 114)]\n",
        "\n",
        "print(getStudentSorted([  (78, \"Kartikey\", \"V\"),  (55, \"Ambalika\", \"IX\"),  (66, \"Dev\", \"V\")]))\n",
        "# Output: [('V', 1, 'Dev', 66), ('V', 2, 'Kartikey', 78), ('IX', 1, 'Ambalika', 55)]\n",
        "\n",
        "print(getStudentSorted([  (134, \"Ravi\", \"VIII\"),  (283, \"Tanu\", \"VIII\")]))\n",
        "# Output: [('VIII', 1, 'Ravi', 134), ('VIII', 2, 'Tanu', 283)]\n"
      ]
    },
    {
      "cell_type": "code",
      "execution_count": null,
      "id": "7e580d9e",
      "metadata": {
        "id": "7e580d9e"
      },
      "outputs": [],
      "source": []
    },
    {
      "cell_type": "code",
      "execution_count": null,
      "id": "fea844e8",
      "metadata": {
        "id": "fea844e8"
      },
      "outputs": [],
      "source": [
        "def getStudentSorted(student_details):\n",
        "    # Initialize a dictionary to store students by class\n",
        "    class_dict = {}\n",
        "\n",
        "    # Group students by class\n",
        "    for enrollment_id, student_name, student_class in student_details:\n",
        "        if student_class not in class_dict:\n",
        "            class_dict[student_class] = []\n",
        "        class_dict[student_class].append((enrollment_id, student_name))\n",
        "\n",
        "    # Prepare the result list\n",
        "    final_details = []\n",
        "\n",
        "    # Process each class\n",
        "    for student_class in sorted(class_dict.keys()):\n",
        "        # Sort students in each class by enrollment_id\n",
        "        sorted_class_students = sorted(class_dict[student_class], key=lambda x: x[0])\n",
        "        # Assign roll numbers starting from 1\n",
        "        for roll_number, (enrollment_id, student_name) in enumerate(sorted_class_students, start=1):\n",
        "            final_details.append((student_class, roll_number, student_name, enrollment_id))\n",
        "\n",
        "    return class_dict"
      ]
    },
    {
      "cell_type": "code",
      "execution_count": null,
      "id": "927b5e34",
      "metadata": {
        "id": "927b5e34",
        "outputId": "15fd7fc0-951c-4d18-eebc-15d54fa49423"
      },
      "outputs": [
        {
          "name": "stdout",
          "output_type": "stream",
          "text": [
            "{'V': [(123, 'Hardik'), (63, 'Shivani'), (50, 'Paritoshik')], 'VI': [(114, 'Uttara'), (99, 'Satyaki')]}\n",
            "{'V': [(78, 'Kartikey'), (66, 'Dev')], 'IX': [(55, 'Ambalika')]}\n",
            "{'VIII': [(134, 'Ravi'), (283, 'Tanu')]}\n"
          ]
        }
      ],
      "source": [
        "print(getStudentSorted([(123,\"Hardik\",\"V\"),(63,\"Shivani\",\"V\"),(114,\"Uttara\",\"VI\"),(99,\"Satyaki\",\"VI\"),(50,\"Paritoshik\",\"V\")]))\n",
        "# Output: [('V', 1, 'Paritoshik', 50), ('V', 2, 'Shivani', 63), ('V', 3, 'Hardik', 123), ('VI', 1, 'Satyaki', 99), ('VI', 2, 'Uttara', 114)]\n",
        "\n",
        "print(getStudentSorted([ (78, \"Kartikey\", \"V\"), (55, \"Ambalika\", \"IX\"), (66, \"Dev\", \"V\")]))\n",
        "# Output: [('V', 1, 'Dev', 66), ('V', 2, 'Kartikey', 78), ('IX', 1, 'Ambalika', 55)]\n",
        "\n",
        "print(getStudentSorted([ (134, \"Ravi\", \"VIII\"), (283, \"Tanu\", \"VIII\")]))\n",
        "# Output: [('VIII', 1, 'Ravi', 134), ('VIII', 2, 'Tanu', 283)]\n"
      ]
    },
    {
      "cell_type": "code",
      "execution_count": null,
      "id": "0c67c59a",
      "metadata": {
        "id": "0c67c59a"
      },
      "outputs": [],
      "source": []
    },
    {
      "cell_type": "code",
      "execution_count": null,
      "id": "d92a6101",
      "metadata": {
        "id": "d92a6101",
        "outputId": "5d7c05c6-a576-4635-b38f-cb8419561c5a"
      },
      "outputs": [
        {
          "name": "stdout",
          "output_type": "stream",
          "text": [
            "Enrollment ID: 123, Name: Hardik, Class: V\n",
            "Enrollment ID: 63, Name: Shivani, Class: V\n",
            "Enrollment ID: 114, Name: Uttara, Class: VI\n",
            "Enrollment ID: 99, Name: Satyaki, Class: VI\n",
            "Enrollment ID: 50, Name: Paritoshik, Class: V\n"
          ]
        }
      ],
      "source": [
        "student_details = [\n",
        "    (123, \"Hardik\", \"V\"),\n",
        "    (63, \"Shivani\", \"V\"),\n",
        "    (114, \"Uttara\", \"VI\"),\n",
        "    (99, \"Satyaki\", \"VI\"),\n",
        "    (50, \"Paritoshik\", \"V\")\n",
        "]\n",
        "\n",
        "for enrollment_id, student_name, student_class in student_details:\n",
        "    print(f\"Enrollment ID: {enrollment_id}, Name: {student_name}, Class: {student_class}\")\n"
      ]
    },
    {
      "cell_type": "code",
      "execution_count": null,
      "id": "8984c6af",
      "metadata": {
        "id": "8984c6af"
      },
      "outputs": [],
      "source": []
    },
    {
      "cell_type": "code",
      "execution_count": null,
      "id": "8f23dc83",
      "metadata": {
        "id": "8f23dc83"
      },
      "outputs": [],
      "source": []
    },
    {
      "cell_type": "markdown",
      "id": "c2186e9c",
      "metadata": {
        "id": "c2186e9c"
      },
      "source": [
        "# 55."
      ]
    },
    {
      "cell_type": "code",
      "execution_count": null,
      "id": "96e7aa61",
      "metadata": {
        "id": "96e7aa61"
      },
      "outputs": [],
      "source": [
        "💻 Write a function which takes \"Map of String,'List of String'\" as input (which is username & their favourite sweets) &\n",
        "returns \"List of String\" such that it includes the most preferred sweets - as shown in the samples.\n",
        "\n",
        "getPopularSweets(Map(\"Pankaj\"->List(\"Sandesh\",\"Jalebi\",\"Modak\"),\"Sandhya\"->List(\"Jalebi\"),\"Kirti\"->List(\"Laddoo\",\"Mysore Pak\"))) =\n",
        "List(\"Jalebi\")\n",
        "\n",
        "getPopularSweets(Map(\"Ravindra\"->List(\"Halwa\",\"Rasgulla\",\"Amriti\"),\"Jamuna\"->List(\"Kalakand\",\"Balushahi\",\"Halwa\"),\"Uddhav\"->List(\"Rasgulla\"))) =\n",
        "List(\"Halwa\",\"Rasgulla\")\n",
        "\n",
        "getPopularSweets(Map(\"Pawan\"->List(\"Rasmalai\"),\"Samrat\"->List())) =\n",
        "List(\"Rasmalai\")"
      ]
    },
    {
      "cell_type": "code",
      "execution_count": null,
      "id": "8d64407e",
      "metadata": {
        "id": "8d64407e"
      },
      "outputs": [],
      "source": [
        "def getPopularSweets(sweets):\n",
        "    popular_sweet = {}\n",
        "    final_sweet = []\n",
        "\n",
        "    for person,sweet in sweets.items():\n",
        "        for each_sweet in sweet:\n",
        "            if each_sweet not in popular_sweet:\n",
        "                popular_sweet[each_sweet] = 1\n",
        "            else:\n",
        "                popular_sweet[each_sweet]+=1\n",
        "\n",
        "    for k, v in popular_sweet.items():\n",
        "        if v== max(popular_sweet.values()):\n",
        "            final_sweet.append(k)\n",
        "    return final_sweet"
      ]
    },
    {
      "cell_type": "code",
      "execution_count": null,
      "id": "fd5f32a6",
      "metadata": {
        "id": "fd5f32a6",
        "outputId": "7aabccce-d77b-4df0-aa1a-a64e6a292093"
      },
      "outputs": [
        {
          "name": "stdout",
          "output_type": "stream",
          "text": [
            "['Jalebi']\n",
            "['Halwa', 'Rasgulla']\n",
            "['Rasmalai']\n"
          ]
        }
      ],
      "source": [
        "# Test cases\n",
        "print(getPopularSweets({\n",
        "    \"Pankaj\": [\"Sandesh\", \"Jalebi\", \"Modak\"],\n",
        "    \"Sandhya\": [\"Jalebi\"],\n",
        "    \"Kirti\": [\"Laddoo\", \"Mysore Pak\"]\n",
        "}))\n",
        "# Output: ['Jalebi']\n",
        "\n",
        "print(getPopularSweets({\n",
        "    \"Ravindra\": [\"Halwa\", \"Rasgulla\", \"Amriti\"],\n",
        "    \"Jamuna\": [\"Kalakand\", \"Balushahi\", \"Halwa\"],\n",
        "    \"Uddhav\": [\"Rasgulla\"]\n",
        "}))\n",
        "# Output: ['Halwa', 'Rasgulla']\n",
        "\n",
        "print(getPopularSweets({\n",
        "    \"Pawan\": [\"Rasmalai\"],\n",
        "    \"Samrat\": []\n",
        "}))\n",
        "# Output: ['Rasmalai']"
      ]
    },
    {
      "cell_type": "code",
      "execution_count": null,
      "id": "18c72e6a",
      "metadata": {
        "id": "18c72e6a"
      },
      "outputs": [],
      "source": []
    },
    {
      "cell_type": "code",
      "execution_count": null,
      "id": "9385a871",
      "metadata": {
        "id": "9385a871",
        "outputId": "33feec9a-363a-406d-daa5-0c7b4fc9ae89"
      },
      "outputs": [
        {
          "name": "stdout",
          "output_type": "stream",
          "text": [
            "['Jalebi']\n",
            "['Halwa', 'Rasgulla']\n",
            "['Rasmalai']\n"
          ]
        }
      ],
      "source": [
        "def getPopularSweets(sweets):\n",
        "    # Dictionary to store the count of each sweet\n",
        "    sweet_count = {}\n",
        "\n",
        "    # Count occurrences of each sweet\n",
        "    for sweet_list in sweets.values():\n",
        "        for sweet in sweet_list:\n",
        "            if sweet in sweet_count:\n",
        "                sweet_count[sweet] += 1\n",
        "            else:\n",
        "                sweet_count[sweet] = 1\n",
        "\n",
        "    # Find the maximum count of any sweet\n",
        "    if not sweet_count:\n",
        "        return []\n",
        "\n",
        "    max_count = max(sweet_count.values())\n",
        "\n",
        "    # Collect all sweets with the maximum count\n",
        "    most_popular_sweets = [sweet for sweet, count in sweet_count.items() if count == max_count]\n",
        "\n",
        "    return most_popular_sweets\n",
        "\n",
        "# Test cases\n",
        "print(getPopularSweets({\n",
        "    \"Pankaj\": [\"Sandesh\", \"Jalebi\", \"Modak\"],\n",
        "    \"Sandhya\": [\"Jalebi\"],\n",
        "    \"Kirti\": [\"Laddoo\", \"Mysore Pak\"]\n",
        "}))\n",
        "# Output: ['Jalebi']\n",
        "\n",
        "print(getPopularSweets({\n",
        "    \"Ravindra\": [\"Halwa\", \"Rasgulla\", \"Amriti\"],\n",
        "    \"Jamuna\": [\"Kalakand\", \"Balushahi\", \"Halwa\"],\n",
        "    \"Uddhav\": [\"Rasgulla\"]\n",
        "}))\n",
        "# Output: ['Halwa', 'Rasgulla']\n",
        "\n",
        "print(getPopularSweets({\n",
        "    \"Pawan\": [\"Rasmalai\"],\n",
        "    \"Samrat\": []\n",
        "}))\n",
        "# Output: ['Rasmalai']\n"
      ]
    },
    {
      "cell_type": "code",
      "execution_count": null,
      "id": "c005b505",
      "metadata": {
        "id": "c005b505"
      },
      "outputs": [],
      "source": []
    },
    {
      "cell_type": "code",
      "execution_count": null,
      "id": "eab0c27d",
      "metadata": {
        "id": "eab0c27d"
      },
      "outputs": [],
      "source": []
    },
    {
      "cell_type": "code",
      "execution_count": null,
      "id": "201be8eb",
      "metadata": {
        "id": "201be8eb"
      },
      "outputs": [],
      "source": []
    },
    {
      "cell_type": "markdown",
      "id": "14963c4e",
      "metadata": {
        "id": "14963c4e"
      },
      "source": [
        "# 54."
      ]
    },
    {
      "cell_type": "code",
      "execution_count": null,
      "id": "cd017eeb",
      "metadata": {
        "id": "cd017eeb"
      },
      "outputs": [],
      "source": [
        "\n",
        "💻 Write a function which takes String as input (which includes status of runs scored on each ball from a bowler)\n",
        "& returns a string containing Over-Maiden-Runs-Wickets - as shown in the samples.\n",
        "Note: W=Wickets, Wd=Wide(i.e, 1 run). No ball and runs on wides, etc is not considered here.\n",
        "\n",
        "getBowlerFigures(\"0 4 1 4 4 4 2 1 4 1 2 4 4 4 Wd W 0 4 Wd 0\") =\n",
        "3-0-45-1\n",
        "//Explanation: Total overs bowled=3, Maidens=0, Runs=45, Wickets=1\n",
        "\n",
        "getBowlerFigures(\"1 4 1 0 1 1 1 1 W 1 0 0 0 1 4 0 1 W 0 1 1 2 1 4 1\") =\n",
        "4.1-0-27-2\n",
        "//Explanation: Total overs bowled=4.1, Maidens=0, Runs=27, Wickets=2\n",
        "\n",
        "getBowlerFigures(\"6 3 W W W 0 0 0 0 0 0 0 2 3 0\") =\n",
        "2.3-1-14-3\n",
        "//Explanation: Total overs bowled=2.3, Maidens=1, Runs=14, Wickets=3"
      ]
    },
    {
      "cell_type": "code",
      "execution_count": null,
      "id": "12c678fe",
      "metadata": {
        "id": "12c678fe"
      },
      "outputs": [],
      "source": [
        "def getBowlerFigures(string_input):\n",
        "\n",
        "    balls,bowled,Maidens,Runs,Wickets=0,0,0,0,0\n",
        "\n",
        "    list_each_balls = string_input.split()\n",
        "\n",
        "    Wickets = list_each_balls.count(\"W\")\n",
        "    balls = sum(1 for i in list_each_balls if i!=\"Wd\")\n",
        "    bowled = str(balls//6)+'.'+str(balls%6)\n",
        "\n",
        "    for i in list_each_balls:\n",
        "        if i=='Wd':\n",
        "            Runs+=1\n",
        "        elif i=='W':\n",
        "            Runs+=0\n",
        "        else:\n",
        "            Runs+=int(i)\n",
        "\n",
        "\n",
        "\n",
        "    return bowled,Maidens,Runs,Wickets"
      ]
    },
    {
      "cell_type": "code",
      "execution_count": null,
      "id": "57b89465",
      "metadata": {
        "id": "57b89465",
        "outputId": "ec98abef-3519-4162-db06-8364a720501d"
      },
      "outputs": [
        {
          "name": "stdout",
          "output_type": "stream",
          "text": [
            "('3.0', 0, 45, 1)\n"
          ]
        }
      ],
      "source": [
        "print(getBowlerFigures(\"0 4 1 4 4 4 2 1 4 1 2 4 4 4 Wd W 0 4 Wd 0\"))"
      ]
    },
    {
      "cell_type": "code",
      "execution_count": null,
      "id": "500965d0",
      "metadata": {
        "id": "500965d0"
      },
      "outputs": [],
      "source": []
    },
    {
      "cell_type": "code",
      "execution_count": null,
      "id": "d7f74643",
      "metadata": {
        "id": "d7f74643"
      },
      "outputs": [],
      "source": []
    },
    {
      "cell_type": "markdown",
      "id": "194dc5a0",
      "metadata": {
        "id": "194dc5a0"
      },
      "source": [
        "# 53."
      ]
    },
    {
      "cell_type": "code",
      "execution_count": null,
      "id": "d798e012",
      "metadata": {
        "id": "d798e012"
      },
      "outputs": [],
      "source": [
        "💻 Write a function which takes \"Map of (String,List of Integers)\" as input\n",
        "(which are student_names & marks scored in Physics, Chemistry, Maths) &\n",
        "displays topper names in each subject along with marks - as shown in the samples.\n",
        "\n",
        "displayToppers(Map(\"Angad\"->List(83,92,74),\"Supriya\"->List(98,66,83),\"Prashasti\"->List(56,71,95),\"Prem\"->List(95,96,85))) =\n",
        "Physics - Supriya - 98\n",
        "Chemistry - Prem - 96\n",
        "Maths - Prashasti - 95\n",
        "\n",
        "displayToppers(Map(\"Priya\"->List(83,79,46),\"Aditya\"->List(91,79,51))) =\n",
        "Physics - Aditya - 91\n",
        "Chemistry - Priya,Aditya - 79\n",
        "Maths - Aditya - 51"
      ]
    },
    {
      "cell_type": "code",
      "execution_count": null,
      "id": "5a2069a2",
      "metadata": {
        "id": "5a2069a2"
      },
      "outputs": [],
      "source": [
        "def displayToppers(students):\n",
        "\n",
        "    # Initialize dictionaries to store highest marks and corresponding students for each subject\n",
        "    subjects = ['Physics', 'Chemistry', 'Maths']\n",
        "    top_marks = {subject: 0 for subject in subjects}\n",
        "    top_students = {subject: [] for subject in subjects}\n",
        "\n",
        "    # Iterate through each student and their marks\n",
        "    for student, marks in students.items():\n",
        "        for i,mark in enumerate(marks):\n",
        "            subject = subjects[i]\n",
        "            if mark > top_marks[subject]:\n",
        "                top_marks[subject] = mark\n",
        "                top_students[subject] = [student]\n",
        "            elif mark == top_marks[subject] :\n",
        "                top_students[subject].append(student)\n",
        "\n",
        "    # Display the results\n",
        "    for subject in subjects:\n",
        "        top_students_str = ','.join(top_students[subject])\n",
        "        print(f\"{subject} - {top_students_str} - {top_marks[subject]}\")"
      ]
    },
    {
      "cell_type": "code",
      "execution_count": null,
      "id": "8b41f274",
      "metadata": {
        "id": "8b41f274"
      },
      "outputs": [],
      "source": []
    },
    {
      "cell_type": "code",
      "execution_count": null,
      "id": "cc8d7303",
      "metadata": {
        "id": "cc8d7303",
        "outputId": "e3a793a8-8497-44c4-b236-572e988f8433"
      },
      "outputs": [
        {
          "name": "stdout",
          "output_type": "stream",
          "text": [
            "Physics - Supriya,Prem - 98\n",
            "Chemistry - Prem - 96\n",
            "Maths - Prashasti - 95\n",
            "***************\n",
            "Physics - Aditya - 91\n",
            "Chemistry - Priya,Aditya - 79\n",
            "Maths - Aditya - 51\n"
          ]
        }
      ],
      "source": [
        "# Test cases\n",
        "student_marks_1 = {\n",
        "    \"Angad\": [83, 92, 74],\n",
        "    \"Supriya\": [98, 66, 83],\n",
        "    \"Prashasti\": [56, 71, 95],\n",
        "    \"Prem\": [98, 96, 85]\n",
        "}\n",
        "\n",
        "student_marks_2 = {\n",
        "    \"Priya\": [83, 79, 46],\n",
        "    \"Aditya\": [91, 79, 51]\n",
        "}\n",
        "\n",
        "displayToppers(student_marks_1)\n",
        "print(\"*\"*15)\n",
        "displayToppers(student_marks_2)"
      ]
    },
    {
      "cell_type": "code",
      "execution_count": null,
      "id": "0b3d20f6",
      "metadata": {
        "id": "0b3d20f6"
      },
      "outputs": [],
      "source": []
    },
    {
      "cell_type": "code",
      "execution_count": null,
      "id": "52fafcb2",
      "metadata": {
        "id": "52fafcb2"
      },
      "outputs": [],
      "source": []
    },
    {
      "cell_type": "code",
      "execution_count": null,
      "id": "afc5e515",
      "metadata": {
        "id": "afc5e515"
      },
      "outputs": [],
      "source": []
    },
    {
      "cell_type": "code",
      "execution_count": null,
      "id": "699fba51",
      "metadata": {
        "id": "699fba51"
      },
      "outputs": [],
      "source": []
    },
    {
      "cell_type": "markdown",
      "id": "eb23737b",
      "metadata": {
        "id": "eb23737b"
      },
      "source": [
        "# 52."
      ]
    },
    {
      "cell_type": "code",
      "execution_count": null,
      "id": "224e1dab",
      "metadata": {
        "id": "224e1dab"
      },
      "outputs": [],
      "source": [
        "💻 Write a function which takes 3 input parameters (input_string,search_string,min_times)\n",
        "and returns true if search_string appears in the input_string at least 'min_times' number of times\n",
        "else return false - as shown in the samples.\n",
        "\n",
        "isAppearingMinTimes(\"can we cancel flight ticket?\",\"can\",2) = true\n",
        "//Explanation: \"can\" is appearing 2 times, so true.\n",
        "\n",
        "isAppearingMinTimes(\"not sure what to do on sunday\",\"sunday\",80) = false\n",
        "//Explanation: \"sunday\" is appearing only 1 time, whereas its required to appear at least 80 times. So, false.\n",
        "\n",
        "isAppearingMinTimes(\"one of my goals is going to goa wearing goggles\",\"go\",3) = true\n",
        "//Explanation: \"go\" is appearing 4 times (>= 3), so true.\n"
      ]
    },
    {
      "cell_type": "code",
      "execution_count": null,
      "id": "af627934",
      "metadata": {
        "id": "af627934"
      },
      "outputs": [],
      "source": []
    },
    {
      "cell_type": "code",
      "execution_count": null,
      "id": "c536885d",
      "metadata": {
        "id": "c536885d"
      },
      "outputs": [],
      "source": [
        "def isAppearingMinTimes(input_string,search_string,min_times) :\n",
        "    return input_string.count(search_string)>=min_times"
      ]
    },
    {
      "cell_type": "code",
      "execution_count": null,
      "id": "2d5739db",
      "metadata": {
        "id": "2d5739db",
        "outputId": "bd0c7373-ea21-4304-d621-490a65132899"
      },
      "outputs": [
        {
          "name": "stdout",
          "output_type": "stream",
          "text": [
            "True\n",
            "False\n",
            "True\n"
          ]
        }
      ],
      "source": [
        "print(isAppearingMinTimes(\"can we cancel flight ticket?\",\"can\",2))\n",
        "print(isAppearingMinTimes(\"not sure what to do on sunday\",\"sunday\",80))\n",
        "print(isAppearingMinTimes(\"one of my goals is going to goa wearing goggles\",\"go\",3))"
      ]
    },
    {
      "cell_type": "code",
      "execution_count": null,
      "id": "98915308",
      "metadata": {
        "id": "98915308"
      },
      "outputs": [],
      "source": []
    },
    {
      "cell_type": "code",
      "execution_count": null,
      "id": "94b3c061",
      "metadata": {
        "id": "94b3c061",
        "outputId": "73360d9f-7498-44fb-d3be-27710182cd1b"
      },
      "outputs": [
        {
          "name": "stdout",
          "output_type": "stream",
          "text": [
            "True\n",
            "False\n",
            "True\n"
          ]
        }
      ],
      "source": [
        "def isAppearingMinTimes(input_string, search_string, min_times):\n",
        "    # Split the input_string by the search_string\n",
        "    parts = input_string.split(search_string)\n",
        "\n",
        "    # Number of occurrences is one less than the number of parts\n",
        "    count = len(parts) - 1\n",
        "\n",
        "    # Return True if count is greater than or equal to min_times\n",
        "    return count >= min_times\n",
        "\n",
        "# Test cases\n",
        "print(isAppearingMinTimes(\"can we cancel flight ticket?\", \"can\", 2))  # True\n",
        "print(isAppearingMinTimes(\"not sure what to do on sunday\", \"sunday\", 80))  # False\n",
        "print(isAppearingMinTimes(\"one of my goals is going to goa wearing goggles\", \"go\", 3))  # True\n"
      ]
    },
    {
      "cell_type": "code",
      "execution_count": null,
      "id": "e54783a3",
      "metadata": {
        "id": "e54783a3",
        "outputId": "07648593-e623-48eb-a557-bbcf4c7d9fe3"
      },
      "outputs": [
        {
          "data": {
            "text/plain": [
              "'can we cancel flight ticket?'"
            ]
          },
          "execution_count": 26,
          "metadata": {},
          "output_type": "execute_result"
        }
      ],
      "source": [
        "x,y = \"can we cancel flight ticket?\", \"can\"\n",
        "x"
      ]
    },
    {
      "cell_type": "code",
      "execution_count": null,
      "id": "8faf21f3",
      "metadata": {
        "id": "8faf21f3",
        "outputId": "bd86d476-9d07-42a8-d5be-c0cb67a49819"
      },
      "outputs": [
        {
          "data": {
            "text/plain": [
              "'can'"
            ]
          },
          "execution_count": 27,
          "metadata": {},
          "output_type": "execute_result"
        }
      ],
      "source": [
        "y"
      ]
    },
    {
      "cell_type": "code",
      "execution_count": null,
      "id": "0d69804b",
      "metadata": {
        "id": "0d69804b",
        "outputId": "65351ae4-b0df-4845-d5d1-3b9ab7543939"
      },
      "outputs": [
        {
          "data": {
            "text/plain": [
              "['', ' we ', 'cel flight ticket?']"
            ]
          },
          "execution_count": 28,
          "metadata": {},
          "output_type": "execute_result"
        }
      ],
      "source": [
        "x.split(y)"
      ]
    },
    {
      "cell_type": "code",
      "execution_count": null,
      "id": "154d3f7f",
      "metadata": {
        "id": "154d3f7f"
      },
      "outputs": [],
      "source": []
    },
    {
      "cell_type": "code",
      "execution_count": null,
      "id": "fd435d40",
      "metadata": {
        "id": "fd435d40",
        "outputId": "0310067f-6569-4b37-9941-cb1cd0bc5299"
      },
      "outputs": [
        {
          "name": "stdout",
          "output_type": "stream",
          "text": [
            "True\n",
            "False\n",
            "True\n"
          ]
        }
      ],
      "source": [
        "def isAppearingMinTimes(input_string, search_string, min_times):\n",
        "    count = 0\n",
        "    start = 0\n",
        "\n",
        "    # Loop to search for occurrences of search_string in input_string\n",
        "    while True:\n",
        "        # Find the search_string starting from 'start'\n",
        "        pos = input_string.find(search_string, start)\n",
        "\n",
        "        # If no more occurrences are found, break the loop\n",
        "        if pos == -1:\n",
        "            break\n",
        "\n",
        "        # Increment count and update start to search after this occurrence\n",
        "        count += 1\n",
        "        start = pos + len(search_string)\n",
        "\n",
        "        # If count reaches or exceeds min_times, return True early\n",
        "        if count >= min_times:\n",
        "            return True\n",
        "\n",
        "    # If the loop finishes and count is still less than min_times, return False\n",
        "    return False\n",
        "\n",
        "# Test cases\n",
        "print(isAppearingMinTimes(\"can we cancel flight ticket?\", \"can\", 2))  # True\n",
        "print(isAppearingMinTimes(\"not sure what to do on sunday\", \"sunday\", 80))  # False\n",
        "print(isAppearingMinTimes(\"one of my goals is going to goa wearing goggles\", \"go\", 3))  # True\n"
      ]
    },
    {
      "cell_type": "code",
      "execution_count": null,
      "id": "ea6a2b0a",
      "metadata": {
        "id": "ea6a2b0a"
      },
      "outputs": [],
      "source": []
    },
    {
      "cell_type": "code",
      "execution_count": null,
      "id": "dbd8050e",
      "metadata": {
        "id": "dbd8050e"
      },
      "outputs": [],
      "source": []
    },
    {
      "cell_type": "code",
      "execution_count": null,
      "id": "528530d8",
      "metadata": {
        "id": "528530d8"
      },
      "outputs": [],
      "source": []
    },
    {
      "cell_type": "code",
      "execution_count": null,
      "id": "b1f7ae06",
      "metadata": {
        "id": "b1f7ae06"
      },
      "outputs": [],
      "source": [
        "51.\n",
        "\n",
        "💻 Write a function which takes 2 input strings [input_string,remove_char_string] and\n",
        "returns string such that all characters present in remove_char_string is eliminated from\n",
        "input_string - as shown in the samples.\n",
        "\n",
        "getCharRemoved(\"CrQeatLQivity iQs intelLLLligenLLLce havQing fLuQLn.\",\"LQ\") =\n",
        "Creativity is intelligence having fun.\n",
        "//Explanation: Characters L & Q are removed.\n",
        "\n",
        "getCharRemoved(\"Creativity is intelligence having fun.\",\"r\") =\n",
        "Ceativity is intelligence having fun.\n",
        "//Explanation: Character r is removed.\n",
        "\n",
        "getCharRemoved(\"Creativity is intelligence having fun.\",\"rti\") =\n",
        "Ceavy s nellgence havng fun.\n",
        "//Explanation: Character r, t & i are removed."
      ]
    },
    {
      "cell_type": "code",
      "execution_count": null,
      "id": "dbeb6807",
      "metadata": {
        "id": "dbeb6807"
      },
      "outputs": [],
      "source": []
    },
    {
      "cell_type": "code",
      "execution_count": null,
      "id": "34663baf",
      "metadata": {
        "id": "34663baf"
      },
      "outputs": [],
      "source": [
        "def getCharRemoved(s1,s2):\n",
        "    list_s2 = list(s2)\n",
        "    final=''\n",
        "    for i in s1:\n",
        "        if i not in list_s2:\n",
        "            final+=i\n",
        "    return final"
      ]
    },
    {
      "cell_type": "code",
      "execution_count": null,
      "id": "cbb2c632",
      "metadata": {
        "id": "cbb2c632",
        "outputId": "5b1794a1-f936-4d34-b1a0-9180bb5cee59"
      },
      "outputs": [
        {
          "name": "stdout",
          "output_type": "stream",
          "text": [
            "Creativity is intelligence having fun.\n",
            "Ceativity is intelligence having fun.\n",
            "Ceavy s nellgence havng fun.\n"
          ]
        }
      ],
      "source": [
        "print(getCharRemoved(\"CrQeatLQivity iQs intelLLLligenLLLce havQing fLuQLn.\",\"LQ\"))\n",
        "print(getCharRemoved(\"Creativity is intelligence having fun.\",\"r\"))\n",
        "print(getCharRemoved(\"Creativity is intelligence having fun.\",\"rti\"))"
      ]
    },
    {
      "cell_type": "code",
      "execution_count": null,
      "id": "4e8086b3",
      "metadata": {
        "id": "4e8086b3"
      },
      "outputs": [],
      "source": []
    },
    {
      "cell_type": "code",
      "execution_count": null,
      "id": "72a26013",
      "metadata": {
        "id": "72a26013",
        "outputId": "f15b1a9a-7ffd-4be7-92cb-4ac76c738b5e"
      },
      "outputs": [
        {
          "name": "stdout",
          "output_type": "stream",
          "text": [
            "Creativity is intelligence having fun.\n",
            "Ceativity is intelligence having fun.\n",
            "Ceavy s nellgence havng fun.\n"
          ]
        }
      ],
      "source": [
        "def getCharRemoved(input_string, remove_char_string):\n",
        "    # Create a set of characters to be removed for efficient lookup\n",
        "    remove_chars = set(remove_char_string)\n",
        "\n",
        "    # Use a list comprehension to filter out the characters in remove_chars\n",
        "    result = ''.join([char for char in input_string if char not in remove_chars])\n",
        "\n",
        "    return result\n",
        "\n",
        "# Test cases\n",
        "print(getCharRemoved(\"CrQeatLQivity iQs intelLLLligenLLLce havQing fLuQLn.\",\"LQ\"))\n",
        "# Output: Creativity is intelligence having fun.\n",
        "\n",
        "print(getCharRemoved(\"Creativity is intelligence having fun.\",\"r\"))\n",
        "# Output: Ceativity is intelligence having fun.\n",
        "\n",
        "print(getCharRemoved(\"Creativity is intelligence having fun.\",\"rti\"))\n",
        "# Output: Ceavy s nellgence havng fun.\n"
      ]
    },
    {
      "cell_type": "code",
      "execution_count": null,
      "id": "0d37fc93",
      "metadata": {
        "id": "0d37fc93"
      },
      "outputs": [],
      "source": []
    },
    {
      "cell_type": "code",
      "execution_count": null,
      "id": "62b3f7a7",
      "metadata": {
        "id": "62b3f7a7"
      },
      "outputs": [],
      "source": [
        "def getCharRemoved(input_string, remove_char_string):\n",
        "    for i in remove_char_string:\n",
        "        input_string = input_string.replace(i,'')\n",
        "    return input_string"
      ]
    },
    {
      "cell_type": "code",
      "execution_count": null,
      "id": "ec5bf598",
      "metadata": {
        "id": "ec5bf598",
        "outputId": "d449a7fb-13d7-40e3-cfcd-111f85158172"
      },
      "outputs": [
        {
          "name": "stdout",
          "output_type": "stream",
          "text": [
            "Creativity is intelligence having fun.\n",
            "Ceativity is intelligence having fun.\n",
            "Ceavy s nellgence havng fun.\n"
          ]
        }
      ],
      "source": [
        "print(getCharRemoved(\"CrQeatLQivity iQs intelLLLligenLLLce havQing fLuQLn.\",\"LQ\"))\n",
        "print(getCharRemoved(\"Creativity is intelligence having fun.\",\"r\"))\n",
        "print(getCharRemoved(\"Creativity is intelligence having fun.\",\"rti\"))"
      ]
    },
    {
      "cell_type": "code",
      "execution_count": null,
      "id": "9f14ac11",
      "metadata": {
        "id": "9f14ac11"
      },
      "outputs": [],
      "source": []
    },
    {
      "cell_type": "code",
      "execution_count": null,
      "id": "b7353637",
      "metadata": {
        "id": "b7353637"
      },
      "outputs": [],
      "source": []
    },
    {
      "cell_type": "code",
      "execution_count": null,
      "id": "fdf50577",
      "metadata": {
        "id": "fdf50577"
      },
      "outputs": [],
      "source": []
    },
    {
      "cell_type": "code",
      "execution_count": null,
      "id": "9c34ca8e",
      "metadata": {
        "id": "9c34ca8e"
      },
      "outputs": [],
      "source": [
        "50.\n",
        "\n",
        "💻 Write a function which takes a string as input and returns string such\n",
        "that it represents run length encoding - as shown in the samples.\n",
        "\n",
        "getRunLengthEncoding(\"aaakkptttt\") = \"a3k2p1t4\"\n",
        "\n",
        "getRunLengthEncoding(\"bbbbbbbba\") = \"b8a1\"\n",
        "\n",
        "getRunLengthEncoding(\"uuvvvvghiii\") = \"u2v4g1h1i3\""
      ]
    },
    {
      "cell_type": "code",
      "execution_count": null,
      "id": "32b6ad2a",
      "metadata": {
        "id": "32b6ad2a"
      },
      "outputs": [],
      "source": [
        "def getRunLengthEncoding(l):\n",
        "    if not l:\n",
        "        return \"\"\n",
        "\n",
        "    char=l[0]\n",
        "    n=len(l)\n",
        "    count=0\n",
        "    temp=''\n",
        "\n",
        "    for i in range(n):\n",
        "        if l[i]==char:\n",
        "            count+=1\n",
        "        else:\n",
        "            temp+=char+str(count)\n",
        "            count=1\n",
        "            char=l[i]\n",
        "    temp+=char+str(count)\n",
        "    return ''.join(temp)"
      ]
    },
    {
      "cell_type": "code",
      "execution_count": null,
      "id": "ed2309c4",
      "metadata": {
        "id": "ed2309c4",
        "outputId": "c023fd7a-6f69-4a9f-c771-2cdf09586a3a"
      },
      "outputs": [
        {
          "name": "stdout",
          "output_type": "stream",
          "text": [
            "a3k2p1t4\n",
            "b8a1\n",
            "u2v4g1h1i3\n"
          ]
        }
      ],
      "source": [
        "print(getRunLengthEncoding(\"aaakkptttt\"))\n",
        "print(getRunLengthEncoding(\"bbbbbbbba\"))\n",
        "print(getRunLengthEncoding(\"uuvvvvghiii\"))"
      ]
    },
    {
      "cell_type": "code",
      "execution_count": null,
      "id": "9b4bc697",
      "metadata": {
        "id": "9b4bc697"
      },
      "outputs": [],
      "source": []
    },
    {
      "cell_type": "code",
      "execution_count": null,
      "id": "0c400214",
      "metadata": {
        "id": "0c400214"
      },
      "outputs": [],
      "source": []
    },
    {
      "cell_type": "code",
      "execution_count": null,
      "id": "654ac226",
      "metadata": {
        "id": "654ac226",
        "outputId": "c0579b74-38eb-46ae-e5e1-c3b6612f585a"
      },
      "outputs": [
        {
          "name": "stdout",
          "output_type": "stream",
          "text": [
            "a3k2p1t4\n",
            "b8a1\n",
            "u2v4g1h1i3\n"
          ]
        }
      ],
      "source": [
        "def getRunLengthEncoding(l):\n",
        "    if not l:  # Handle empty string edge case\n",
        "        return \"\"\n",
        "\n",
        "    char = l[0]\n",
        "    count = 1  # Start with a count of 1 for the first character\n",
        "    temp = ''\n",
        "\n",
        "    for i in range(1, len(l)):  # Start from the second character\n",
        "        if l[i] == char:\n",
        "            count += 1\n",
        "        else:\n",
        "            temp += char + str(count)\n",
        "            char = l[i]\n",
        "            count = 1\n",
        "\n",
        "    # Add the last character and its count\n",
        "    temp += char + str(count)\n",
        "\n",
        "    return temp\n",
        "\n",
        "# Sample Test Cases\n",
        "print(getRunLengthEncoding(\"aaakkptttt\"))  # Output: \"a3k2p1t4\"\n",
        "print(getRunLengthEncoding(\"bbbbbbbba\"))   # Output: \"b8a1\"\n",
        "print(getRunLengthEncoding(\"uuvvvvghiii\")) # Output: \"u2v4g1h1i3\"\n"
      ]
    },
    {
      "cell_type": "code",
      "execution_count": null,
      "id": "c5895b37",
      "metadata": {
        "id": "c5895b37"
      },
      "outputs": [],
      "source": []
    },
    {
      "cell_type": "code",
      "execution_count": null,
      "id": "d0900cee",
      "metadata": {
        "id": "d0900cee",
        "outputId": "54e909aa-b83b-46af-edcf-35585695d9af"
      },
      "outputs": [
        {
          "name": "stdout",
          "output_type": "stream",
          "text": [
            "a3k2p1t4\n",
            "b8a1\n",
            "u2v4g1h1i3\n"
          ]
        }
      ],
      "source": [
        "def getRunLengthEncoding(s):\n",
        "    if not s:  # Handle empty string edge case\n",
        "        return \"\"\n",
        "\n",
        "    encoded_string = []\n",
        "    count = 1  # Start with a count of 1 for the first character\n",
        "\n",
        "    # Loop through the string starting from the second character\n",
        "    for i in range(1, len(s)):\n",
        "        if s[i] == s[i - 1]:  # If the current character is the same as the previous one, increment count\n",
        "            count += 1\n",
        "        else:\n",
        "            # Add the previous character and its count to the result\n",
        "            encoded_string.append(s[i - 1] + str(count))\n",
        "            count = 1  # Reset count for the new character\n",
        "\n",
        "    # Add the last character and its count\n",
        "    encoded_string.append(s[-1] + str(count))\n",
        "\n",
        "    # Join the list into a string and return\n",
        "    return ''.join(encoded_string)\n",
        "\n",
        "# Sample Test Cases\n",
        "print(getRunLengthEncoding(\"aaakkptttt\"))  # Output: \"a3k2p1t4\"\n",
        "print(getRunLengthEncoding(\"bbbbbbbba\"))   # Output: \"b8a1\"\n",
        "print(getRunLengthEncoding(\"uuvvvvghiii\")) # Output: \"u2v4g1h1i3\"\n"
      ]
    },
    {
      "cell_type": "code",
      "execution_count": null,
      "id": "310332de",
      "metadata": {
        "id": "310332de"
      },
      "outputs": [],
      "source": []
    },
    {
      "cell_type": "code",
      "execution_count": null,
      "id": "fdb8cf67",
      "metadata": {
        "id": "fdb8cf67"
      },
      "outputs": [],
      "source": []
    },
    {
      "cell_type": "code",
      "execution_count": null,
      "id": "c8f0ef37",
      "metadata": {
        "id": "c8f0ef37"
      },
      "outputs": [],
      "source": []
    },
    {
      "cell_type": "code",
      "execution_count": null,
      "id": "8ca5aed7",
      "metadata": {
        "id": "8ca5aed7"
      },
      "outputs": [],
      "source": []
    },
    {
      "cell_type": "code",
      "execution_count": null,
      "id": "7d751f82",
      "metadata": {
        "id": "7d751f82"
      },
      "outputs": [],
      "source": [
        "49.\n",
        "\n",
        "💻 Write a function which takes a string as input and returns boolean which is true\n",
        "if for every character '#' present in the string, the character before and after it is the same,\n",
        "else return false - as shown in the samples.\n",
        "\n",
        "isMatch(\"Another story 3#3 note\") = true\n",
        "//Explanation: Character before and after # is 3, so true.\n",
        "\n",
        "isMatch(\"This is little a#b another\") = false\n",
        "//Explanation: Character before and after # are a & b respectively, its mismatching, so false.\n",
        "\n",
        "isMatch(\"Another story\") = true\n",
        "//Explanation: No # present.\n",
        "\n",
        "isMatch(\"888p#p999#j50\") = false\n",
        "//Explanation: Characters before and after 2nd # are 9 & j, so false.\n",
        "\n",
        "isMatch(\"K#K2345#5jm#m\") = true\n",
        "//Explanation: Characters before and after # (K&K, 5&5, m&m) are matching, so true."
      ]
    },
    {
      "cell_type": "code",
      "execution_count": null,
      "id": "9afe6c16",
      "metadata": {
        "id": "9afe6c16"
      },
      "outputs": [],
      "source": []
    },
    {
      "cell_type": "code",
      "execution_count": null,
      "id": "51df32fd",
      "metadata": {
        "id": "51df32fd"
      },
      "outputs": [],
      "source": [
        "def isMatch(s):\n",
        "    n=len(s)\n",
        "    for i in range(1,n-1):\n",
        "        if s[i]=='#':\n",
        "            if s[i-1]!=s[i+1]:\n",
        "                return False\n",
        "    return True"
      ]
    },
    {
      "cell_type": "code",
      "execution_count": null,
      "id": "23b964e1",
      "metadata": {
        "id": "23b964e1",
        "outputId": "049bf156-25ec-47ff-b483-fadc72e1ae41"
      },
      "outputs": [
        {
          "name": "stdout",
          "output_type": "stream",
          "text": [
            "True\n",
            "False\n",
            "True\n",
            "False\n",
            "True\n"
          ]
        }
      ],
      "source": [
        "print( isMatch(\"Another story 3#3 note\") )\n",
        "print( isMatch(\"This is little a#b another\") )\n",
        "print( isMatch(\"Another story\") )\n",
        "print( isMatch(\"888p#p999#j50\") )\n",
        "print( isMatch(\"K#K2345#5jm#m\") )"
      ]
    },
    {
      "cell_type": "code",
      "execution_count": null,
      "id": "9f27b655",
      "metadata": {
        "id": "9f27b655"
      },
      "outputs": [],
      "source": []
    },
    {
      "cell_type": "code",
      "execution_count": null,
      "id": "e1d0bc4a",
      "metadata": {
        "id": "e1d0bc4a"
      },
      "outputs": [],
      "source": [
        "import re\n",
        "\n",
        "def isMatch(s):\n",
        "    # Regular expression pattern to match `a#b` where `a` == `b`\n",
        "    pattern = re.compile(r'(\\w)#\\1')\n",
        "\n",
        "    # Find all occurrences that match the pattern\n",
        "    matches = pattern.findall(s)\n",
        "\n",
        "    # Check if all occurrences match and return the result\n",
        "    return len(matches) == len([i for i in range(len(s)) if s[i] == '#'])\n"
      ]
    },
    {
      "cell_type": "code",
      "execution_count": null,
      "id": "ba7d50e4",
      "metadata": {
        "id": "ba7d50e4",
        "outputId": "a9813a5c-666d-4902-db9e-b3084103eb07"
      },
      "outputs": [
        {
          "name": "stdout",
          "output_type": "stream",
          "text": [
            "True\n",
            "False\n",
            "True\n",
            "False\n",
            "True\n"
          ]
        }
      ],
      "source": [
        "print( isMatch(\"Another story 3#3 note\") )\n",
        "print( isMatch(\"This is little a#b another\") )\n",
        "print( isMatch(\"Another story\") )\n",
        "print( isMatch(\"888p#p999#j50\") )\n",
        "print( isMatch(\"K#K2345#5jm#m\") )"
      ]
    },
    {
      "cell_type": "code",
      "execution_count": null,
      "id": "a4df3f89",
      "metadata": {
        "id": "a4df3f89"
      },
      "outputs": [],
      "source": []
    },
    {
      "cell_type": "code",
      "execution_count": null,
      "id": "b5132506",
      "metadata": {
        "id": "b5132506"
      },
      "outputs": [],
      "source": []
    },
    {
      "cell_type": "code",
      "execution_count": null,
      "id": "61372ace",
      "metadata": {
        "id": "61372ace"
      },
      "outputs": [],
      "source": []
    },
    {
      "cell_type": "code",
      "execution_count": null,
      "id": "d0dc2bb3",
      "metadata": {
        "id": "d0dc2bb3"
      },
      "outputs": [],
      "source": [
        "48.\n",
        "\n",
        "💻 Write a function which takes 2 inputs - \"Map of String,'List of String'\"\n",
        "[which is Map of email_id & list of skills] & \"Array of search skills\" &\n",
        "returns \"List of Strings\" which are email_id which has all of the search_skills - as shown in the samples.\n",
        "\n",
        "getRequiredProfile(Map(\"aanchal@gmail.com\"->List(\"Spark\",\"C++\",\"SQL\"),\n",
        "                       \"kailash@gmail.com\"->List(\"Python\",\"Power BI\",\"Tableau\",\"OpenCV\"),\n",
        "                       \"yadu@gmail.com\"->List(\"SQL\",\"Scala\",\"Spark\",\"Hive\",\"Tableau\")),Array(\"Spark\",\"SQL\")) =\n",
        "List(\"aanchal@gmail.com\",\"yadu@gmail.com\")\n",
        "//Explanation: Both aanchal@gmail.com & yadu@gmail.com has all the required skills of \"Spark\" & \"SQL\".\n",
        "\n",
        "getRequiredProfile(Map(\"aanchal@gmail.com\"->List(\"Spark\",\"C++\",\"SQL\"),\n",
        "                       \"kailash@gmail.com\"->List(\"Python\",\"Power BI\",\"Tableau\",\"OpenCV\"),\n",
        "                       \"yadu@gmail.com\"->List(\"SQL\",\"Scala\",\"Spark\",\"Hive\",\"Tableau\")),Array(\"Spark\",\"SQL\",\"Python\")) =\n",
        "List()\n",
        "//Explanation: No profile has required skillset of \"Spark\",\"SQL\" & \"Python\".\n",
        "\n",
        "getRequiredProfile(Map(\"aanchal@gmail.com\"->List(\"Spark\",\"C++\",\"SQL\"),\n",
        "                       \"kailash@gmail.com\"->List(\"Python\",\"Power BI\",\"Tableau\",\"OpenCV\"),\n",
        "                       \"yadu@gmail.com\"->List(\"SQL\",\"Scala\",\"Spark\",\"Hive\",\"Tableau\")),Array(\"Tableau\")) =\n",
        "List(\"kailash@gmail\",\"yadu@gmail\")\n",
        "//Explanation: Both kailash@gmail.com & yadu@gmail.com has the required skill of \"Tableau\"."
      ]
    },
    {
      "cell_type": "code",
      "execution_count": null,
      "id": "7638bf24",
      "metadata": {
        "id": "7638bf24"
      },
      "outputs": [],
      "source": [
        "def getRequiredProfile(skill_map, search_skills):\n",
        "    email_result= []\n",
        "    for k,v in skill_map.items():\n",
        "        if all(each_skill in v for each_skill in search_skills):\n",
        "            email_result.append(k)\n",
        "    return email_result"
      ]
    },
    {
      "cell_type": "code",
      "execution_count": null,
      "id": "d542d33e",
      "metadata": {
        "id": "d542d33e",
        "outputId": "94f17609-fc27-4423-de8a-8f1dc57df65b"
      },
      "outputs": [
        {
          "name": "stdout",
          "output_type": "stream",
          "text": [
            "['aanchal@gmail.com', 'yadu@gmail.com']\n",
            "********************\n",
            "[]\n",
            "********************\n",
            "['kailash@gmail.com', 'yadu@gmail.com']\n"
          ]
        }
      ],
      "source": [
        "skill_map = {\n",
        "    \"aanchal@gmail.com\": [\"Spark\", \"C++\", \"SQL\"],\n",
        "    \"kailash@gmail.com\": [\"Python\", \"Power BI\", \"Tableau\", \"OpenCV\"],\n",
        "    \"yadu@gmail.com\": [\"SQL\", \"Scala\", \"Spark\", \"Hive\", \"Tableau\"]\n",
        "}\n",
        "search_skills = [\"Spark\", \"SQL\"]\n",
        "print(getRequiredProfile(skill_map, search_skills))\n",
        "\n",
        "\n",
        "print(\"*\"*20)\n",
        "skill_map = {\n",
        "    \"aanchal@gmail.com\": [\"Spark\", \"C++\", \"SQL\"],\n",
        "    \"kailash@gmail.com\": [\"Python\", \"Power BI\", \"Tableau\", \"OpenCV\"],\n",
        "    \"yadu@gmail.com\": [\"SQL\", \"Scala\", \"Spark\", \"Hive\", \"Tableau\"]\n",
        "}\n",
        "search_skills = [\"Spark\", \"SQL\", \"Python\"]\n",
        "print(getRequiredProfile(skill_map, search_skills))\n",
        "print(\"*\"*20)\n",
        "\n",
        "skill_map = {\n",
        "    \"aanchal@gmail.com\": [\"Spark\", \"C++\", \"SQL\"],\n",
        "    \"kailash@gmail.com\": [\"Python\", \"Power BI\", \"Tableau\", \"OpenCV\"],\n",
        "    \"yadu@gmail.com\": [\"SQL\", \"Scala\", \"Spark\", \"Hive\", \"Tableau\"]\n",
        "}\n",
        "search_skills = [\"Tableau\"]\n",
        "print(getRequiredProfile(skill_map, search_skills))"
      ]
    },
    {
      "cell_type": "code",
      "execution_count": null,
      "id": "f8d1479b",
      "metadata": {
        "id": "f8d1479b"
      },
      "outputs": [],
      "source": []
    },
    {
      "cell_type": "code",
      "execution_count": null,
      "id": "704aa130",
      "metadata": {
        "id": "704aa130",
        "outputId": "3f0e8e8c-d42f-4be8-d5be-47e2e2152ac7"
      },
      "outputs": [
        {
          "data": {
            "text/plain": [
              "True"
            ]
          },
          "execution_count": 193,
          "metadata": {},
          "output_type": "execute_result"
        }
      ],
      "source": [
        "a = [\"Spark\", \"SQL\"]\n",
        "b_list = [\"Spark\", \"C++\", \"SQL\"]\n",
        "all([skill in b_list for skill in a])"
      ]
    },
    {
      "cell_type": "code",
      "execution_count": null,
      "id": "9d802578",
      "metadata": {
        "id": "9d802578",
        "outputId": "bcdc5e47-c2a3-4c07-d6e7-ba16f8ee93c9"
      },
      "outputs": [
        {
          "data": {
            "text/plain": [
              "False"
            ]
          },
          "execution_count": 194,
          "metadata": {},
          "output_type": "execute_result"
        }
      ],
      "source": [
        "a = [\"Spark\", \"Tableau\"]\n",
        "b_list = [\"Spark\", \"C++\", \"SQL\"]\n",
        "all([skill in b_list for skill in a])"
      ]
    },
    {
      "cell_type": "code",
      "execution_count": null,
      "id": "83b3065c",
      "metadata": {
        "id": "83b3065c"
      },
      "outputs": [],
      "source": []
    },
    {
      "cell_type": "code",
      "execution_count": null,
      "id": "12440dd9",
      "metadata": {
        "id": "12440dd9",
        "outputId": "7b1c7b98-2135-410d-9af8-2109eecaf3b3"
      },
      "outputs": [
        {
          "name": "stdout",
          "output_type": "stream",
          "text": [
            "['aanchal@gmail.com', 'yadu@gmail.com']\n",
            "[]\n",
            "['kailash@gmail.com', 'yadu@gmail.com']\n"
          ]
        }
      ],
      "source": [
        "def getRequiredProfile(skill_map, search_skills):\n",
        "    search_skills_set = set(search_skills)  # Convert search skills to a set for efficient lookup\n",
        "    result = []\n",
        "\n",
        "    # Loop through each email and associated skill set\n",
        "    for email, skills in skill_map.items():\n",
        "        skills_set = set(skills)  # Convert the skills list to a set\n",
        "        if search_skills_set.issubset(skills_set):  # Check if all search skills are in the skills set\n",
        "            result.append(email)\n",
        "\n",
        "    return result\n",
        "\n",
        "# Test cases\n",
        "profiles = {\n",
        "    \"aanchal@gmail.com\": [\"Spark\", \"C++\", \"SQL\"],\n",
        "    \"kailash@gmail.com\": [\"Python\", \"Power BI\", \"Tableau\", \"OpenCV\"],\n",
        "    \"yadu@gmail.com\": [\"SQL\", \"Scala\", \"Spark\", \"Hive\", \"Tableau\"]\n",
        "}\n",
        "\n",
        "# Test case 1\n",
        "print(getRequiredProfile(profiles, [\"Spark\", \"SQL\"]))\n",
        "# Output: [\"aanchal@gmail.com\", \"yadu@gmail.com\"]\n",
        "\n",
        "# Test case 2\n",
        "print(getRequiredProfile(profiles, [\"Spark\", \"SQL\", \"Python\"]))\n",
        "# Output: []\n",
        "\n",
        "# Test case 3\n",
        "print(getRequiredProfile(profiles, [\"Tableau\"]))\n",
        "# Output: [\"kailash@gmail.com\", \"yadu@gmail.com\"]\n"
      ]
    },
    {
      "cell_type": "code",
      "execution_count": null,
      "id": "dd4e0f19",
      "metadata": {
        "id": "dd4e0f19"
      },
      "outputs": [],
      "source": []
    },
    {
      "cell_type": "code",
      "execution_count": null,
      "id": "cb216db3",
      "metadata": {
        "id": "cb216db3"
      },
      "outputs": [],
      "source": []
    },
    {
      "cell_type": "code",
      "execution_count": null,
      "id": "8776ab46",
      "metadata": {
        "id": "8776ab46"
      },
      "outputs": [],
      "source": []
    },
    {
      "cell_type": "code",
      "execution_count": null,
      "id": "937fa2be",
      "metadata": {
        "id": "937fa2be"
      },
      "outputs": [],
      "source": [
        "47.\n",
        "\n",
        "💻 Write a function which takes \"Array of Strings\" as\n",
        "input(containing name followed by bonus_amount and then location)\n",
        "and returns \"Array of Strings\" such that bonus_amount part is increased by 1000 - as shown in the samples.\n",
        "Note: bonus_amount always has 2 decimal places in the input.\n",
        "\n",
        "getIncreasedBonus(Array(\"Rohan8500.56Delhi\",\"Shivani84.00Pune\",\"Lakshya0.00Pune\")) =\n",
        "Array(\"Rohan9500.56Delhi\",\"Shivani1084.00Pune\",\"Lakshya1000.00Pune\")\n",
        "\n",
        "getIncreasedBonus(Array(\"Arjun750.23Indore\",\"Mohini3800.50Chennai\",\"Ritu1530.00Lucknow\",\"Ashok10000.25Kolkata\")) =\n",
        "Array(\"Arjun1750.23Indore\",\"Mohini4800.50Chennai\",\"Ritu2530.00Lucknow\",\"Ashok11000.25Kolkata\")"
      ]
    },
    {
      "cell_type": "code",
      "execution_count": null,
      "id": "5348eefb",
      "metadata": {
        "id": "5348eefb"
      },
      "outputs": [],
      "source": []
    },
    {
      "cell_type": "code",
      "execution_count": null,
      "id": "9eff0639",
      "metadata": {
        "id": "9eff0639"
      },
      "outputs": [],
      "source": []
    },
    {
      "cell_type": "code",
      "execution_count": null,
      "id": "1f6640da",
      "metadata": {
        "id": "1f6640da",
        "outputId": "f5be7d8c-f9d9-4ee2-86d1-0d19f4d72c93"
      },
      "outputs": [
        {
          "name": "stdout",
          "output_type": "stream",
          "text": [
            "['Rohan9500.56Delhi', 'Shivani1084.00Pune', 'Lakshya1000.00Pune']\n",
            "['Arjun1750.23Indore', 'Mohini4800.50Chennai', 'Ritu2530.00Lucknow', 'Ashok11000.25Kolkata']\n"
          ]
        }
      ],
      "source": [
        "# Best use of next function\n",
        "\n",
        "def getIncreasedBonus(arr):\n",
        "    result = []\n",
        "    for item in arr:\n",
        "        # Find the position of the first digit and the decimal point\n",
        "        first_digit_pos = next(i for i, char in enumerate(item) if char.isdigit())\n",
        "        decimal_pos = item.index('.')\n",
        "\n",
        "        # Extract name, bonus, and location\n",
        "        name = item[:first_digit_pos]\n",
        "        bonus = float(item[first_digit_pos:decimal_pos+3])\n",
        "        location = item[decimal_pos+3:]\n",
        "\n",
        "        # Increase bonus by 1000\n",
        "        new_bonus = bonus + 1000\n",
        "\n",
        "        # Format the new bonus to have 2 decimal places\n",
        "        formatted_bonus = f\"{new_bonus:.2f}\"\n",
        "\n",
        "        # Combine the parts back into a string\n",
        "        new_item = f\"{name}{formatted_bonus}{location}\"\n",
        "        result.append(new_item)\n",
        "\n",
        "    return result\n",
        "\n",
        "# Test the function\n",
        "test1 = [\"Rohan8500.56Delhi\", \"Shivani84.00Pune\", \"Lakshya0.00Pune\"]\n",
        "test2 = [\"Arjun750.23Indore\", \"Mohini3800.50Chennai\", \"Ritu1530.00Lucknow\", \"Ashok10000.25Kolkata\"]\n",
        "\n",
        "print(getIncreasedBonus(test1))\n",
        "print(getIncreasedBonus(test2))"
      ]
    },
    {
      "cell_type": "code",
      "execution_count": null,
      "id": "07124c44",
      "metadata": {
        "id": "07124c44"
      },
      "outputs": [],
      "source": []
    },
    {
      "cell_type": "code",
      "execution_count": null,
      "id": "17ecda67",
      "metadata": {
        "id": "17ecda67",
        "outputId": "c90c2475-2737-4a4f-dec2-78d597578fc9"
      },
      "outputs": [
        {
          "name": "stdout",
          "output_type": "stream",
          "text": [
            "['Rohan9500.56Delhi', 'Shivani1084.00Pune', 'Lakshya1000.00Pune']\n",
            "['Arjun1750.23Indore', 'Mohini4800.50Chennai', 'Ritu2530.00Lucknow', 'Ashok11000.25Kolkata']\n"
          ]
        }
      ],
      "source": [
        "import re\n",
        "\n",
        "def getIncreasedBonus(arr):\n",
        "    result = []\n",
        "    for item in arr:\n",
        "        # Use regex to split the string into name, bonus, and location\n",
        "        match = re.match(r'([a-zA-Z]+)(\\d+\\.\\d{2})(.+)', item)\n",
        "        if match:\n",
        "            name, bonus, location = match.groups()\n",
        "\n",
        "            # Convert bonus to float and increase by 1000\n",
        "            new_bonus = float(bonus) + 1000\n",
        "\n",
        "            # Format the new bonus to have 2 decimal places\n",
        "            formatted_bonus = f\"{new_bonus:.2f}\"\n",
        "\n",
        "            # Combine the parts back into a string\n",
        "            new_item = f\"{name}{formatted_bonus}{location}\"\n",
        "            result.append(new_item)\n",
        "        else:\n",
        "            # If the string doesn't match the expected format, add it to the result unchanged\n",
        "            result.append(item)\n",
        "\n",
        "    return result\n",
        "\n",
        "# Test the function\n",
        "test1 = [\"Rohan8500.56Delhi\", \"Shivani84.00Pune\", \"Lakshya0.00Pune\"]\n",
        "test2 = [\"Arjun750.23Indore\", \"Mohini3800.50Chennai\", \"Ritu1530.00Lucknow\", \"Ashok10000.25Kolkata\"]\n",
        "\n",
        "print(getIncreasedBonus(test1))\n",
        "print(getIncreasedBonus(test2))"
      ]
    },
    {
      "cell_type": "code",
      "execution_count": null,
      "id": "c10bc0f5",
      "metadata": {
        "id": "c10bc0f5"
      },
      "outputs": [],
      "source": []
    },
    {
      "cell_type": "code",
      "execution_count": null,
      "id": "3793231b",
      "metadata": {
        "id": "3793231b",
        "outputId": "85ce2a91-df4e-4932-b7ca-a55d4a7590a4"
      },
      "outputs": [
        {
          "name": "stdout",
          "output_type": "stream",
          "text": [
            "['Rohan9500.56Delhi', 'Shivani1084.00Pune', 'Lakshya1000.00Pune']\n",
            "['Arjun1750.23Indore', 'Mohini4800.50Chennai', 'Ritu2530.00Lucknow', 'Ashok11000.25Kolkata']\n"
          ]
        }
      ],
      "source": [
        "import re\n",
        "\n",
        "def getIncreasedBonus(array):\n",
        "    result = []\n",
        "\n",
        "    for entry in array:\n",
        "        # Use a regular expression to match the first number in the string\n",
        "        match = re.search(r'\\d+\\.\\d{2}', entry)\n",
        "\n",
        "        if match:\n",
        "            # Extract the name, bonus amount, and location parts\n",
        "            bonus_amount_str = match.group()  # Extract matched bonus amount\n",
        "            name = entry[:match.start()]      # Part before the bonus amount is the name\n",
        "            location = entry[match.end():]    # Part after the bonus amount is the location\n",
        "\n",
        "            # Convert bonus_amount to float, increase it, and format it back\n",
        "            bonus_amount = float(bonus_amount_str)\n",
        "            updated_bonus_amount = bonus_amount + 1000\n",
        "            updated_bonus_amount_str = f\"{updated_bonus_amount:.2f}\"\n",
        "\n",
        "            # Reconstruct the updated string\n",
        "            updated_entry = f\"{name}{updated_bonus_amount_str}{location}\"\n",
        "            result.append(updated_entry)\n",
        "\n",
        "    return result\n",
        "\n",
        "# Test cases\n",
        "print(getIncreasedBonus([\"Rohan8500.56Delhi\", \"Shivani84.00Pune\", \"Lakshya0.00Pune\"]))\n",
        "# Output: [\"Rohan9500.56Delhi\", \"Shivani1084.00Pune\", \"Lakshya1000.00Pune\"]\n",
        "\n",
        "print(getIncreasedBonus([\"Arjun750.23Indore\", \"Mohini3800.50Chennai\", \"Ritu1530.00Lucknow\", \"Ashok10000.25Kolkata\"]))\n",
        "# Output: [\"Arjun1750.23Indore\", \"Mohini4800.50Chennai\", \"Ritu2530.00Lucknow\", \"Ashok11000.25Kolkata\"]\n"
      ]
    },
    {
      "cell_type": "code",
      "execution_count": null,
      "id": "5dff2453",
      "metadata": {
        "id": "5dff2453"
      },
      "outputs": [],
      "source": []
    },
    {
      "cell_type": "code",
      "execution_count": null,
      "id": "a96d97fb",
      "metadata": {
        "id": "a96d97fb"
      },
      "outputs": [],
      "source": []
    },
    {
      "cell_type": "code",
      "execution_count": null,
      "id": "2e839c00",
      "metadata": {
        "id": "2e839c00"
      },
      "outputs": [],
      "source": []
    },
    {
      "cell_type": "code",
      "execution_count": null,
      "id": "9ace0acc",
      "metadata": {
        "id": "9ace0acc"
      },
      "outputs": [],
      "source": [
        "46.\n",
        "\n",
        "💻 Write a function which takes \"List of Strings\" as input and returns \"Map of String,Boolean\"\n",
        "such that boolean part is true if a string occurs more than once else its false - as shown in the samples.\n",
        "\n",
        "checkMultiOccur(List(\"Spark\",\"Window\",\"Spark\",\"Fan\",\"Window\")) =\n",
        "Map(\"Spark\"->true,\"Window\"->true,\"Fan\"->false)\n",
        "//Explanation: Spark & Window occurs more than once, hence true.\n",
        "//Fan occurs once, hence false.\n",
        "\n",
        "checkMultiOccur(List(\"Happy\",\"Joy\",\"Dolphin\",\"Happy\",\"Happy\"))\n",
        "Map(\"Happy\"->true,\"Joy\"->false,\"Dolphin\"->false)\n"
      ]
    },
    {
      "cell_type": "code",
      "execution_count": null,
      "id": "23dd69ba",
      "metadata": {
        "id": "23dd69ba"
      },
      "outputs": [],
      "source": [
        "def checkMultiOccur(l):\n",
        "    char_count={}\n",
        "\n",
        "    for i in l:\n",
        "        if l.count(i)>1:\n",
        "            char_count[i]=True\n",
        "        else:\n",
        "            char_count[i]=False\n",
        "    return char_count"
      ]
    },
    {
      "cell_type": "code",
      "execution_count": null,
      "id": "da68e901",
      "metadata": {
        "id": "da68e901",
        "outputId": "2842e477-36e1-45ee-cf79-6156e6497461"
      },
      "outputs": [
        {
          "name": "stdout",
          "output_type": "stream",
          "text": [
            "{'Spark': True, 'Window': True, 'Fan': False}\n",
            "{'Happy': True, 'Joy': False, 'Dolphin': False}\n"
          ]
        }
      ],
      "source": [
        "print(checkMultiOccur([\"Spark\",\"Window\",\"Spark\",\"Fan\",\"Window\"]))\n",
        "print(checkMultiOccur([\"Happy\",\"Joy\",\"Dolphin\",\"Happy\",\"Happy\"]))"
      ]
    },
    {
      "cell_type": "code",
      "execution_count": null,
      "id": "8442dcae",
      "metadata": {
        "id": "8442dcae"
      },
      "outputs": [],
      "source": []
    },
    {
      "cell_type": "code",
      "execution_count": null,
      "id": "285bea76",
      "metadata": {
        "id": "285bea76",
        "outputId": "74ba7d2c-41bd-439b-c6e1-966da8fa6dbb"
      },
      "outputs": [
        {
          "name": "stdout",
          "output_type": "stream",
          "text": [
            "{'Spark': True, 'Window': True, 'Fan': False}\n",
            "{'Happy': True, 'Joy': False, 'Dolphin': False}\n"
          ]
        }
      ],
      "source": [
        "def checkMultiOccur(strings):\n",
        "    # Create a dictionary to store the occurrences of each string\n",
        "    occur_map = {}\n",
        "\n",
        "    # Count occurrences of each string\n",
        "    for string in strings:\n",
        "        if string in occur_map:\n",
        "            occur_map[string] += 1\n",
        "        else:\n",
        "            occur_map[string] = 1\n",
        "\n",
        "    # Create the result map with boolean values\n",
        "    result = {string: (count > 1) for string, count in occur_map.items()}\n",
        "\n",
        "    return result\n",
        "\n",
        "# Test cases\n",
        "print(checkMultiOccur([\"Spark\", \"Window\", \"Spark\", \"Fan\", \"Window\"]))\n",
        "# Output: {'Spark': True, 'Window': True, 'Fan': False}\n",
        "\n",
        "print(checkMultiOccur([\"Happy\", \"Joy\", \"Dolphin\", \"Happy\", \"Happy\"]))\n",
        "# Output: {'Happy': True, 'Joy': False, 'Dolphin': False}"
      ]
    },
    {
      "cell_type": "code",
      "execution_count": null,
      "id": "50959085",
      "metadata": {
        "id": "50959085"
      },
      "outputs": [],
      "source": []
    },
    {
      "cell_type": "code",
      "execution_count": null,
      "id": "8e5cf029",
      "metadata": {
        "id": "8e5cf029"
      },
      "outputs": [],
      "source": []
    },
    {
      "cell_type": "code",
      "execution_count": null,
      "id": "a21b2e24",
      "metadata": {
        "id": "a21b2e24"
      },
      "outputs": [],
      "source": []
    },
    {
      "cell_type": "code",
      "execution_count": null,
      "id": "25ef3437",
      "metadata": {
        "id": "25ef3437"
      },
      "outputs": [],
      "source": []
    },
    {
      "cell_type": "code",
      "execution_count": null,
      "id": "053ee4bc",
      "metadata": {
        "id": "053ee4bc"
      },
      "outputs": [],
      "source": [
        "# 45.\n",
        "\n",
        "💻 Write a function which takes \"List of Integers\" as input and returns \"List of Intgers\"\n",
        "such that 1st half of the list is as at is & 2nd half of the list is reversed - as shown in the samples.\n",
        "\n",
        "getHalfReversedList(List(10,20,30,40,50,60)) =\n",
        "List(10,20,30,60,50,40)\n",
        "\n",
        "getHalfReversedList(List(10,20,80,45,93)) =\n",
        "List(10,20,93,45,80)\n",
        "\n",
        "getHalfReversedList(List(90,80)) =\n",
        "List(90,80)\n"
      ]
    },
    {
      "cell_type": "code",
      "execution_count": null,
      "id": "dad69c80",
      "metadata": {
        "id": "dad69c80"
      },
      "outputs": [],
      "source": [
        "def getHalfReversedList(l):\n",
        "    n=len(l)\n",
        "    return l[:n//2]+l[n//2:][::-1]"
      ]
    },
    {
      "cell_type": "code",
      "execution_count": null,
      "id": "481cd192",
      "metadata": {
        "id": "481cd192",
        "outputId": "774a7289-6d55-471f-f00a-06638603bda5"
      },
      "outputs": [
        {
          "name": "stdout",
          "output_type": "stream",
          "text": [
            "[10, 20, 30, 60, 50, 40]\n",
            "[10, 20, 93, 45, 80]\n",
            "[90, 80]\n"
          ]
        }
      ],
      "source": [
        "print( getHalfReversedList([10,20,30,40,50,60]) )\n",
        "print( getHalfReversedList([10,20,80,45,93]) )\n",
        "print( getHalfReversedList([90,80]) )"
      ]
    },
    {
      "cell_type": "code",
      "execution_count": null,
      "id": "b58152f5",
      "metadata": {
        "id": "b58152f5"
      },
      "outputs": [],
      "source": []
    },
    {
      "cell_type": "code",
      "execution_count": null,
      "id": "2a3258ed",
      "metadata": {
        "id": "2a3258ed"
      },
      "outputs": [],
      "source": []
    },
    {
      "cell_type": "code",
      "execution_count": null,
      "id": "5fd3bed7",
      "metadata": {
        "id": "5fd3bed7"
      },
      "outputs": [],
      "source": []
    },
    {
      "cell_type": "code",
      "execution_count": null,
      "id": "76cf0651",
      "metadata": {
        "id": "76cf0651"
      },
      "outputs": [],
      "source": [
        "44.\n",
        "\n",
        "💻 Write a function which takes \"List of Characters\" as input and returns\n",
        "\"List of List of Characters\" such that each inner list contains all the repeated characters - as shown in the samples.\n",
        "\n",
        "getRepeatItem(List('a','c','a','a','b','c')) =\n",
        "List(List('a','a,',a'),List('b'),List('c','c'))\n",
        "\n",
        "getRepeatItem(List('d','d','b','d','c','a','a')) =\n",
        "List(List('d','d','d'),List('c'),List('b'),List('a','a'))"
      ]
    },
    {
      "cell_type": "code",
      "execution_count": null,
      "id": "c33d4c46",
      "metadata": {
        "id": "c33d4c46"
      },
      "outputs": [],
      "source": []
    },
    {
      "cell_type": "code",
      "execution_count": null,
      "id": "72420961",
      "metadata": {
        "id": "72420961"
      },
      "outputs": [],
      "source": [
        "def getRepeatItem(l):\n",
        "\n",
        "    repeat_dict={}\n",
        "\n",
        "    for i in l:\n",
        "        if i in repeat_dict:\n",
        "            repeat_dict[i].append(i)\n",
        "        else:\n",
        "            repeat_dict[i]= [i]\n",
        "\n",
        "    # Sort the result to match the required format:\n",
        "    # 1. First by the length of the list (descending)\n",
        "    # 2. Then by the character itself (lexicographically)\n",
        "\n",
        "    result = list(repeat_dict.values())\n",
        "    result.sort(key=lambda x:(-len(x),x[0]))\n",
        "    return result"
      ]
    },
    {
      "cell_type": "code",
      "execution_count": null,
      "id": "1c8faf75",
      "metadata": {
        "id": "1c8faf75",
        "outputId": "a31d33c6-5840-413d-cc44-292b33d98a2b"
      },
      "outputs": [
        {
          "name": "stdout",
          "output_type": "stream",
          "text": [
            "[['a', 'a', 'a'], ['c', 'c'], ['b']]\n",
            "[['d', 'd', 'd'], ['a', 'a'], ['b'], ['c']]\n"
          ]
        }
      ],
      "source": [
        "print(getRepeatItem(['a','c','a','a','b','c']))\n",
        "print(getRepeatItem(['d','d','b','d','c','a','a']))"
      ]
    },
    {
      "cell_type": "code",
      "execution_count": null,
      "id": "381bd9d4",
      "metadata": {
        "id": "381bd9d4"
      },
      "outputs": [],
      "source": []
    },
    {
      "cell_type": "code",
      "execution_count": null,
      "id": "564acc18",
      "metadata": {
        "id": "564acc18"
      },
      "outputs": [],
      "source": []
    },
    {
      "cell_type": "code",
      "execution_count": null,
      "id": "c29cae52",
      "metadata": {
        "id": "c29cae52"
      },
      "outputs": [],
      "source": [
        "def getRepeatItem(l):\n",
        "    repeat_dict={}\n",
        "\n",
        "    for i in l:\n",
        "        char = i\n",
        "        if char not in repeat_dict:\n",
        "            repeat_dict[char]= []\n",
        "\n",
        "        repeat_dict[char].append(i)\n",
        "\n",
        "    return list(repeat_dict.values())"
      ]
    },
    {
      "cell_type": "code",
      "execution_count": null,
      "id": "53c7cefe",
      "metadata": {
        "id": "53c7cefe",
        "outputId": "db84135e-cf73-4997-bf8e-6f6a580aa7e9"
      },
      "outputs": [
        {
          "name": "stdout",
          "output_type": "stream",
          "text": [
            "[['a', 'a', 'a'], ['c', 'c'], ['b']]\n",
            "[['d', 'd', 'd'], ['b'], ['c'], ['a', 'a']]\n"
          ]
        }
      ],
      "source": [
        "print(getRepeatItem(['a','c','a','a','b','c']))\n",
        "print(getRepeatItem(['d','d','b','d','c','a','a']))"
      ]
    },
    {
      "cell_type": "code",
      "execution_count": null,
      "id": "c22ff990",
      "metadata": {
        "id": "c22ff990"
      },
      "outputs": [],
      "source": []
    },
    {
      "cell_type": "code",
      "execution_count": null,
      "id": "cbfe9caa",
      "metadata": {
        "id": "cbfe9caa",
        "outputId": "2658d0a7-3226-4b85-8165-3696cae17490"
      },
      "outputs": [
        {
          "name": "stdout",
          "output_type": "stream",
          "text": [
            "[['b'], ['c', 'c'], ['a', 'a', 'a']]\n",
            "[['a', 'a', 'a'], ['c', 'c'], ['b']]\n"
          ]
        }
      ],
      "source": [
        "result = [['a', 'a', 'a'], ['c', 'c'], ['b']]\n",
        "\n",
        "# Sorting without minus\n",
        "result.sort(key=lambda x: len(x))\n",
        "print(result)  # Output: [['b'], ['c', 'c'], ['a', 'a', 'a']]  (ascending order of lengths)\n",
        "\n",
        "# Sorting with minus\n",
        "result.sort(key=lambda x: -len(x))\n",
        "print(result)  # Output: [['a', 'a', 'a'], ['c', 'c'], ['b']]  (descending order of lengths)\n"
      ]
    },
    {
      "cell_type": "code",
      "execution_count": null,
      "id": "bd2a0f2d",
      "metadata": {
        "id": "bd2a0f2d"
      },
      "outputs": [],
      "source": []
    },
    {
      "cell_type": "code",
      "execution_count": null,
      "id": "e4b067da",
      "metadata": {
        "id": "e4b067da"
      },
      "outputs": [],
      "source": []
    },
    {
      "cell_type": "code",
      "execution_count": null,
      "id": "3f65207e",
      "metadata": {
        "id": "3f65207e"
      },
      "outputs": [],
      "source": []
    },
    {
      "cell_type": "code",
      "execution_count": null,
      "id": "5e80f0f6",
      "metadata": {
        "id": "5e80f0f6"
      },
      "outputs": [],
      "source": []
    },
    {
      "cell_type": "code",
      "execution_count": null,
      "id": "9c87a6d6",
      "metadata": {
        "id": "9c87a6d6"
      },
      "outputs": [],
      "source": [
        "43.\n",
        "\n",
        "💻 Write a function which takes a character and integer as input - starting_char & total_elements.\n",
        "We need to get series of alphabets beginning with specified starting_char having character\n",
        "count of total_elements & return it as a string - as shown in the samples.\n",
        "\n",
        "Note: If total_elements exceeds beyond character 'Z', the output string should be left padded with #.\n",
        "\n",
        "getAlphas('E',3) =\n",
        "\"EFG\"\n",
        "\n",
        "getAlphas('Y',6) =\n",
        "\"####YZ\"\n",
        "\n",
        "getAlphas('B',7) =\n",
        "\"BCDEFGH\""
      ]
    },
    {
      "cell_type": "code",
      "execution_count": null,
      "id": "3672b4b7",
      "metadata": {
        "id": "3672b4b7"
      },
      "outputs": [],
      "source": []
    },
    {
      "cell_type": "code",
      "execution_count": null,
      "id": "363b1c80",
      "metadata": {
        "id": "363b1c80"
      },
      "outputs": [],
      "source": [
        "def getAlphas(starting_char,total_elements):\n",
        "\n",
        "    result=''\n",
        "\n",
        "    for i in range(total_elements):\n",
        "        temp_char = ord(starting_char) + i\n",
        "        if temp_char<=90 :\n",
        "            result+=chr(temp_char)\n",
        "        else:\n",
        "            result= '#'+ result\n",
        "    return result"
      ]
    },
    {
      "cell_type": "code",
      "execution_count": null,
      "id": "3740f4af",
      "metadata": {
        "id": "3740f4af",
        "outputId": "725901a9-6bcd-471d-de78-c5a266380c3c"
      },
      "outputs": [
        {
          "name": "stdout",
          "output_type": "stream",
          "text": [
            "EFG\n",
            "####YZ\n",
            "BCDEFGH\n"
          ]
        }
      ],
      "source": [
        "print( getAlphas('E',3) )\n",
        "print( getAlphas('Y',6) )\n",
        "print( getAlphas('B',7) )"
      ]
    },
    {
      "cell_type": "code",
      "execution_count": null,
      "id": "3c8a1cd2",
      "metadata": {
        "id": "3c8a1cd2"
      },
      "outputs": [],
      "source": []
    },
    {
      "cell_type": "code",
      "execution_count": null,
      "id": "9c0473a5",
      "metadata": {
        "id": "9c0473a5",
        "outputId": "a07e4c3b-7a3e-412e-878e-05aad3daa08f"
      },
      "outputs": [
        {
          "name": "stdout",
          "output_type": "stream",
          "text": [
            "EFG\n",
            "####YZ\n",
            "BCDEFGH\n"
          ]
        }
      ],
      "source": [
        "def getAlphas(starting_char, total_elements):\n",
        "    result = []\n",
        "\n",
        "    # Find the ASCII value of the starting character\n",
        "    start_ascii = ord(starting_char.upper())\n",
        "\n",
        "    # Loop to generate the characters\n",
        "    for i in range(total_elements):\n",
        "        current_ascii = start_ascii + i\n",
        "\n",
        "        # If it exceeds 'Z', pad with '#'\n",
        "        if current_ascii > ord('Z'):\n",
        "            result.insert(0, '#')  # Insert at the beginning to pad\n",
        "        else:\n",
        "            result.append(chr(current_ascii))\n",
        "\n",
        "    # Convert list to string and return\n",
        "    return ''.join(result)\n",
        "\n",
        "# Test cases\n",
        "print(getAlphas('E', 3))   # Output: \"EFG\"\n",
        "print(getAlphas('Y', 6))   # Output: \"####YZ\"\n",
        "print(getAlphas('B', 7))   # Output: \"BCDEFGH\""
      ]
    },
    {
      "cell_type": "code",
      "execution_count": null,
      "id": "b6700af5",
      "metadata": {
        "id": "b6700af5"
      },
      "outputs": [],
      "source": []
    },
    {
      "cell_type": "code",
      "execution_count": null,
      "id": "1816c224",
      "metadata": {
        "id": "1816c224",
        "outputId": "cafee84a-b97a-4135-b0e9-330dc1ca5224"
      },
      "outputs": [
        {
          "name": "stdout",
          "output_type": "stream",
          "text": [
            "A Z\n",
            "65 90\n"
          ]
        }
      ],
      "source": [
        "char_A = chr(65)\n",
        "char_Z = chr(90)\n",
        "print(char_A, char_Z)  # Output will be 'A'\n",
        "\n",
        "ascii_A = ord('A')\n",
        "ascii_Z = ord('Z')\n",
        "print(ascii_A, ascii_Z)  # Output will be 65\n"
      ]
    },
    {
      "cell_type": "code",
      "execution_count": null,
      "id": "c69e55ed",
      "metadata": {
        "id": "c69e55ed"
      },
      "outputs": [],
      "source": []
    },
    {
      "cell_type": "code",
      "execution_count": null,
      "id": "09d31ccc",
      "metadata": {
        "id": "09d31ccc"
      },
      "outputs": [],
      "source": []
    },
    {
      "cell_type": "code",
      "execution_count": null,
      "id": "64b30da4",
      "metadata": {
        "id": "64b30da4"
      },
      "outputs": [],
      "source": []
    },
    {
      "cell_type": "code",
      "execution_count": null,
      "id": "b9889320",
      "metadata": {
        "id": "b9889320"
      },
      "outputs": [],
      "source": []
    },
    {
      "cell_type": "code",
      "execution_count": null,
      "id": "96ef2fd0",
      "metadata": {
        "id": "96ef2fd0"
      },
      "outputs": [],
      "source": [
        "42.\n",
        "\n",
        "💻 Write a function which takes a \"List of String\" as input wherein elements are country names\n",
        "and returns \"List of Tuple of String\" showing the unique combination of matches between 2 countries - as shown in the samples.\n",
        "\n",
        "getMatches(List(\"IND\",\"AUS\",\"WI\")) =\n",
        "List((\"IND\",\"AUS\"),(\"IND\",\"WI\"),(\"AUS\",\"WI\"))\n",
        "\n",
        "getMatches(List(\"IND\",\"ENG\")) =\n",
        "List((\"IND\",\"ENG\"))\n",
        "\n",
        "getMatches(List(\"AUS\",\"NZ\",\"SA\",\"BAN\")) =\n",
        "List((\"AUS\",\"NZ\"),(\"AUS\",\"SA\"),(\"AUS\",\"BAN\"),(\"NZ\",\"SA\"),(\"NZ\",\"BAN\"),(\"SA\",\"BAN\"))"
      ]
    },
    {
      "cell_type": "code",
      "execution_count": null,
      "id": "6bf3df49",
      "metadata": {
        "id": "6bf3df49"
      },
      "outputs": [],
      "source": []
    },
    {
      "cell_type": "code",
      "execution_count": null,
      "id": "5a8799c5",
      "metadata": {
        "id": "5a8799c5"
      },
      "outputs": [],
      "source": [
        "def getMatches(l):\n",
        "    final=[]\n",
        "    for i in range(len(l)):\n",
        "        for j in range(i+1, len(l)):\n",
        "            final.append(tuple((l[i],l[j])))\n",
        "    return final"
      ]
    },
    {
      "cell_type": "code",
      "execution_count": null,
      "id": "c5327576",
      "metadata": {
        "id": "c5327576",
        "outputId": "85c23539-8397-4ba9-fbf0-977af87a8b45"
      },
      "outputs": [
        {
          "name": "stdout",
          "output_type": "stream",
          "text": [
            "[('IND', 'AUS'), ('IND', 'WI'), ('AUS', 'WI')]\n",
            "[('IND', 'ENG')]\n",
            "[('AUS', 'NZ'), ('AUS', 'SA'), ('AUS', 'BAN'), ('NZ', 'SA'), ('NZ', 'BAN'), ('SA', 'BAN')]\n"
          ]
        }
      ],
      "source": [
        "print(getMatches([\"IND\",\"AUS\",\"WI\"]))\n",
        "print(getMatches([\"IND\",\"ENG\"]))\n",
        "print(getMatches([\"AUS\",\"NZ\",\"SA\",\"BAN\"]))"
      ]
    },
    {
      "cell_type": "code",
      "execution_count": null,
      "id": "2128c963",
      "metadata": {
        "id": "2128c963"
      },
      "outputs": [],
      "source": []
    },
    {
      "cell_type": "code",
      "execution_count": null,
      "id": "82be1a9a",
      "metadata": {
        "id": "82be1a9a"
      },
      "outputs": [],
      "source": []
    },
    {
      "cell_type": "code",
      "execution_count": null,
      "id": "f6e89834",
      "metadata": {
        "id": "f6e89834",
        "outputId": "e1e455e1-76af-4fdb-9c9a-1864c6d4583f"
      },
      "outputs": [
        {
          "name": "stdout",
          "output_type": "stream",
          "text": [
            "[('IND', 'AUS'), ('IND', 'WI'), ('AUS', 'WI')]\n",
            "[('IND', 'ENG')]\n",
            "[('AUS', 'NZ'), ('AUS', 'SA'), ('AUS', 'BAN'), ('NZ', 'SA'), ('NZ', 'BAN'), ('SA', 'BAN')]\n"
          ]
        }
      ],
      "source": [
        "def getMatches(team_list):\n",
        "    n = len(team_list)\n",
        "    for i in range(n):\n",
        "        for j in range(i + 1, n):\n",
        "            yield (team_list[i], team_list[j])\n",
        "\n",
        "# Test the function\n",
        "print(list(getMatches([\"IND\", \"AUS\", \"WI\"])))\n",
        "print(list(getMatches([\"IND\", \"ENG\"])))\n",
        "print(list(getMatches([\"AUS\", \"NZ\", \"SA\", \"BAN\"])))"
      ]
    },
    {
      "cell_type": "code",
      "execution_count": null,
      "id": "29bc703d",
      "metadata": {
        "id": "29bc703d"
      },
      "outputs": [],
      "source": []
    },
    {
      "cell_type": "code",
      "execution_count": null,
      "id": "901617e7",
      "metadata": {
        "id": "901617e7",
        "outputId": "02eb4f37-cb9e-4d18-959a-26f37ba073c4"
      },
      "outputs": [
        {
          "data": {
            "text/plain": [
              "[('ind', 'aus'), ('ind', 'sri'), ('ind', 'ind')]"
            ]
          },
          "execution_count": 63,
          "metadata": {},
          "output_type": "execute_result"
        }
      ],
      "source": [
        "l = ['ind','sri','aus']\n",
        "import random\n",
        "[tuple(random.choices(l,k=2)) for i in range(3)]"
      ]
    },
    {
      "cell_type": "code",
      "execution_count": null,
      "id": "627d874b",
      "metadata": {
        "id": "627d874b"
      },
      "outputs": [],
      "source": []
    },
    {
      "cell_type": "code",
      "execution_count": null,
      "id": "45feda97",
      "metadata": {
        "id": "45feda97"
      },
      "outputs": [],
      "source": []
    },
    {
      "cell_type": "code",
      "execution_count": null,
      "id": "b451e86d",
      "metadata": {
        "id": "b451e86d"
      },
      "outputs": [],
      "source": []
    },
    {
      "cell_type": "code",
      "execution_count": null,
      "id": "613f2813",
      "metadata": {
        "id": "613f2813"
      },
      "outputs": [],
      "source": []
    },
    {
      "cell_type": "code",
      "execution_count": null,
      "id": "31b667d3",
      "metadata": {
        "id": "31b667d3"
      },
      "outputs": [],
      "source": []
    },
    {
      "cell_type": "code",
      "execution_count": null,
      "id": "4891051c",
      "metadata": {
        "id": "4891051c"
      },
      "outputs": [],
      "source": [
        "41.\n",
        "\n",
        "💻 Write a function which takes a number & character as input and returns boolean.\n",
        "Number represents the total times a coin is tossed. Character holds 'H' or 'T' depending on the user preference.\n",
        "We need to generate random chars of 'H'/'T' given number times & return true\n",
        "if count of user_preference is equal or more than not desired result - as shown in the samples.\n",
        "\n",
        "isUserLucky(5,'H') = true\n",
        "//Explanation: On tossing the coin 5 times, below result was found\n",
        "// 'T','H','T','H','H' (randomly generated)\n",
        "//As count of 'H'(user preference) is more number of times than 'T',\n",
        "// function returns true.\n",
        "\n",
        "isUserLucky(3,'T') = false\n",
        "//Explanation: On tossing the coin 3 times, below result was found\n",
        "// 'H','H','H' (randomly generated)\n",
        "//As count of 'T'(user preference) is lesser than 'H',\n",
        "// function returns false."
      ]
    },
    {
      "cell_type": "code",
      "execution_count": null,
      "id": "81536ddb",
      "metadata": {
        "id": "81536ddb"
      },
      "outputs": [],
      "source": [
        "import random\n",
        "def isUserLucky(n,head_tail_flag):\n",
        "    head_tail_list = ['H','T']\n",
        "\n",
        "    if head_tail_flag not in head_tail_list:\n",
        "        return 'Please enter \"H\" or \"T\" only!!!'\n",
        "\n",
        "    h_count, t_count = 0, 0\n",
        "    all_coin_result = []\n",
        "\n",
        "    for i in range(n):\n",
        "        each_coin_result = random.choice(head_tail_list)\n",
        "        all_coin_result.append(each_coin_result)\n",
        "        if each_coin_result == 'H':\n",
        "            h_count+=1\n",
        "        else:\n",
        "            t_count+=1\n",
        "\n",
        "    if head_tail_flag == 'H' and h_count >= t_count:\n",
        "        return (all_coin_result, head_tail_flag, h_count, True)\n",
        "    elif head_tail_flag == 'T' and t_count >= h_count:\n",
        "        return (all_coin_result, head_tail_flag, t_count, True)\n",
        "    else:\n",
        "        return (all_coin_result, head_tail_flag, h_count,t_count, False)\n",
        ""
      ]
    },
    {
      "cell_type": "code",
      "execution_count": null,
      "id": "4eeba150",
      "metadata": {
        "id": "4eeba150",
        "outputId": "1f98cc48-28f3-44d5-ec3e-f469d3714d5c"
      },
      "outputs": [
        {
          "name": "stdout",
          "output_type": "stream",
          "text": [
            "(['T', 'T', 'T', 'H', 'H'], 'H', 2, 3, False)\n",
            "(['H', 'T', 'T'], 'T', 2, True)\n",
            "(['H', 'H', 'T', 'H', 'T', 'T', 'T', 'T'], 'H', 3, 5, False)\n",
            "Please enter \"H\" or \"T\" only!!!\n"
          ]
        }
      ],
      "source": [
        "print(isUserLucky(5,'H'))\n",
        "print(isUserLucky(3,'T'))\n",
        "print(isUserLucky(8,'H'))\n",
        "print(isUserLucky(5,'B'))"
      ]
    },
    {
      "cell_type": "code",
      "execution_count": null,
      "id": "d75c7758",
      "metadata": {
        "id": "d75c7758"
      },
      "outputs": [],
      "source": []
    },
    {
      "cell_type": "code",
      "execution_count": null,
      "id": "9a87f6fc",
      "metadata": {
        "id": "9a87f6fc",
        "outputId": "70c5fcd5-a68a-43a6-d038-48dfade4dfd2"
      },
      "outputs": [
        {
          "name": "stdout",
          "output_type": "stream",
          "text": [
            "Tosses: ['T', 'H', 'H', 'T', 'T']\n",
            "False\n",
            "Tosses: ['H', 'T', 'T']\n",
            "True\n",
            "Tosses: ['H', 'H', 'H', 'T', 'H', 'T', 'T', 'H']\n",
            "True\n"
          ]
        },
        {
          "ename": "ValueError",
          "evalue": "User preference must be 'H' or 'T'",
          "output_type": "error",
          "traceback": [
            "\u001b[1;31m---------------------------------------------------------------------------\u001b[0m",
            "\u001b[1;31mValueError\u001b[0m                                Traceback (most recent call last)",
            "Cell \u001b[1;32mIn[43], line 29\u001b[0m\n\u001b[0;32m     27\u001b[0m \u001b[38;5;28mprint\u001b[39m(isUserLucky(\u001b[38;5;241m3\u001b[39m,\u001b[38;5;124m'\u001b[39m\u001b[38;5;124mT\u001b[39m\u001b[38;5;124m'\u001b[39m))\n\u001b[0;32m     28\u001b[0m \u001b[38;5;28mprint\u001b[39m(isUserLucky(\u001b[38;5;241m8\u001b[39m,\u001b[38;5;124m'\u001b[39m\u001b[38;5;124mH\u001b[39m\u001b[38;5;124m'\u001b[39m))\n\u001b[1;32m---> 29\u001b[0m \u001b[38;5;28mprint\u001b[39m(isUserLucky(\u001b[38;5;241m5\u001b[39m,\u001b[38;5;124m'\u001b[39m\u001b[38;5;124mB\u001b[39m\u001b[38;5;124m'\u001b[39m))\n",
            "Cell \u001b[1;32mIn[43], line 5\u001b[0m, in \u001b[0;36misUserLucky\u001b[1;34m(num_tosses, user_preference)\u001b[0m\n\u001b[0;32m      3\u001b[0m \u001b[38;5;28;01mdef\u001b[39;00m \u001b[38;5;21misUserLucky\u001b[39m(num_tosses, user_preference):\n\u001b[0;32m      4\u001b[0m     \u001b[38;5;28;01mif\u001b[39;00m user_preference \u001b[38;5;129;01mnot\u001b[39;00m \u001b[38;5;129;01min\u001b[39;00m [\u001b[38;5;124m'\u001b[39m\u001b[38;5;124mH\u001b[39m\u001b[38;5;124m'\u001b[39m, \u001b[38;5;124m'\u001b[39m\u001b[38;5;124mT\u001b[39m\u001b[38;5;124m'\u001b[39m]:\n\u001b[1;32m----> 5\u001b[0m         \u001b[38;5;28;01mraise\u001b[39;00m \u001b[38;5;167;01mValueError\u001b[39;00m(\u001b[38;5;124m\"\u001b[39m\u001b[38;5;124mUser preference must be \u001b[39m\u001b[38;5;124m'\u001b[39m\u001b[38;5;124mH\u001b[39m\u001b[38;5;124m'\u001b[39m\u001b[38;5;124m or \u001b[39m\u001b[38;5;124m'\u001b[39m\u001b[38;5;124mT\u001b[39m\u001b[38;5;124m'\u001b[39m\u001b[38;5;124m\"\u001b[39m)\n\u001b[0;32m      7\u001b[0m     \u001b[38;5;66;03m# Generate random tosses\u001b[39;00m\n\u001b[0;32m      8\u001b[0m     tosses \u001b[38;5;241m=\u001b[39m [random\u001b[38;5;241m.\u001b[39mchoice([\u001b[38;5;124m'\u001b[39m\u001b[38;5;124mH\u001b[39m\u001b[38;5;124m'\u001b[39m, \u001b[38;5;124m'\u001b[39m\u001b[38;5;124mT\u001b[39m\u001b[38;5;124m'\u001b[39m]) \u001b[38;5;28;01mfor\u001b[39;00m _ \u001b[38;5;129;01min\u001b[39;00m \u001b[38;5;28mrange\u001b[39m(num_tosses)]\n",
            "\u001b[1;31mValueError\u001b[0m: User preference must be 'H' or 'T'"
          ]
        }
      ],
      "source": [
        "import random\n",
        "\n",
        "def isUserLucky(num_tosses, user_preference):\n",
        "    if user_preference not in ['H', 'T']:\n",
        "        raise ValueError(\"User preference must be 'H' or 'T'\")\n",
        "\n",
        "    # Generate random tosses\n",
        "    tosses = [random.choice(['H', 'T']) for _ in range(num_tosses)]\n",
        "\n",
        "    # Count the occurrences of user's preference\n",
        "    preference_count = tosses.count(user_preference)\n",
        "\n",
        "    # Count the occurrences of the other outcome\n",
        "    other_outcome = 'T' if user_preference == 'H' else 'H'\n",
        "    other_count = tosses.count(other_outcome)\n",
        "\n",
        "    # User is lucky if their preference occurs at least as many times as the other outcome\n",
        "    is_lucky = preference_count >= other_count\n",
        "\n",
        "    # For demonstration purposes, print the tosses (you can remove this in production)\n",
        "    print(f\"Tosses: {tosses}\")\n",
        "\n",
        "    return is_lucky\n",
        "\n",
        "# Test the function\n",
        "print(isUserLucky(5,'H'))\n",
        "print(isUserLucky(3,'T'))\n",
        "print(isUserLucky(8,'H'))\n",
        "print(isUserLucky(5,'B'))"
      ]
    },
    {
      "cell_type": "code",
      "execution_count": null,
      "id": "ec86b3da",
      "metadata": {
        "id": "ec86b3da"
      },
      "outputs": [],
      "source": []
    },
    {
      "cell_type": "code",
      "execution_count": null,
      "id": "7e1b84be",
      "metadata": {
        "id": "7e1b84be",
        "outputId": "eb6f5300-4dbf-496a-a3e0-dadb5d3c974a"
      },
      "outputs": [
        {
          "name": "stdout",
          "output_type": "stream",
          "text": [
            "Tosses: ['H', 'H', 'H', 'T', 'T']\n",
            "User preference: H\n",
            "Preference count: 3\n",
            "H count: 3, T count: 2\n",
            "Is user lucky? True\n"
          ]
        }
      ],
      "source": [
        "import random\n",
        "\n",
        "def isUserLucky(n, head_tail_flag):\n",
        "    head_tail_list = ['H', 'T']\n",
        "\n",
        "    if head_tail_flag not in head_tail_list:\n",
        "        raise ValueError('Please enter \"H\" or \"T\" only!!!')\n",
        "\n",
        "    all_coin_result = [random.choice(head_tail_list) for _ in range(n)]\n",
        "    h_count = all_coin_result.count('H')\n",
        "    t_count = n - h_count\n",
        "\n",
        "    if head_tail_flag == 'H':\n",
        "        is_lucky = h_count >= t_count\n",
        "        preference_count = h_count\n",
        "    else:  # head_tail_flag == 'T'\n",
        "        is_lucky = t_count >= h_count\n",
        "        preference_count = t_count\n",
        "\n",
        "    return (all_coin_result, head_tail_flag, preference_count, h_count, t_count, is_lucky)\n",
        "\n",
        "# Example usage:\n",
        "try:\n",
        "    result = isUserLucky(5, 'H')\n",
        "    print(f\"Tosses: {result[0]}\")\n",
        "    print(f\"User preference: {result[1]}\")\n",
        "    print(f\"Preference count: {result[2]}\")\n",
        "    print(f\"H count: {result[3]}, T count: {result[4]}\")\n",
        "    print(f\"Is user lucky? {result[5]}\")\n",
        "except ValueError as e:\n",
        "    print(str(e))"
      ]
    },
    {
      "cell_type": "code",
      "execution_count": null,
      "id": "e002c28c",
      "metadata": {
        "id": "e002c28c"
      },
      "outputs": [],
      "source": []
    },
    {
      "cell_type": "code",
      "execution_count": null,
      "id": "4d0724cf",
      "metadata": {
        "id": "4d0724cf"
      },
      "outputs": [],
      "source": []
    },
    {
      "cell_type": "code",
      "execution_count": null,
      "id": "f612c914",
      "metadata": {
        "id": "f612c914"
      },
      "outputs": [],
      "source": []
    },
    {
      "cell_type": "code",
      "execution_count": null,
      "id": "ebd6f2a7",
      "metadata": {
        "id": "ebd6f2a7"
      },
      "outputs": [],
      "source": []
    },
    {
      "cell_type": "code",
      "execution_count": null,
      "id": "961b4d26",
      "metadata": {
        "id": "961b4d26"
      },
      "outputs": [],
      "source": [
        "40.\n",
        "\n",
        "💻 Write a function which takes \"List of Strings\" as input (which are usernames) and\n",
        "return \"List of List of Strings\" such that each inner list is group of users whose name begins\n",
        "with same letter - as shown in the samples.\n",
        "\n",
        "List(\"Roy\",\"Samay\",\"Samaksh\",\"Disha\",\"Siri\",\"Dev\") =\n",
        "List(List(\"Roy\"),List(\"Samay\",\"Samaksh\",\"Siri\"),List(\"Disha\",\"Dev\"))\n",
        "\n",
        "List(\"Priyanka\",\"Atul\",\"Ajay\",\"Nitin\",\"Arun\",\"Nikhil\",\"Pavan\") =\n",
        "List(List(\"Priyanka\",\"Pavan\"),List(\"Atul\",\"Ajay\",\"Arun\"),List(\"Nitin\",\"Nikhil\"))\n"
      ]
    },
    {
      "cell_type": "code",
      "execution_count": null,
      "id": "82cff27e",
      "metadata": {
        "id": "82cff27e"
      },
      "outputs": [],
      "source": [
        "def same_user(l):\n",
        "    result=[]\n",
        "    start_name_list = [i[0] for i in l]\n",
        "\n",
        "    for start in start_name_list:\n",
        "        namelist=[]\n",
        "        for name in l:\n",
        "            if name.startswith(start):\n",
        "                namelist.append(name)\n",
        "        if namelist not in result:\n",
        "            result.append(namelist)\n",
        "    return result"
      ]
    },
    {
      "cell_type": "code",
      "execution_count": null,
      "id": "72c6750c",
      "metadata": {
        "id": "72c6750c",
        "outputId": "918f2325-ea91-4fbf-d3b1-7e37b7e31574"
      },
      "outputs": [
        {
          "name": "stdout",
          "output_type": "stream",
          "text": [
            "[['Roy'], ['Samay', 'Samaksh', 'Siri'], ['Disha', 'Dev']]\n",
            "[['Priyanka', 'Pavan'], ['Atul', 'Ajay', 'Arun'], ['Nitin', 'Nikhil']]\n"
          ]
        }
      ],
      "source": [
        "print(same_user([\"Roy\",\"Samay\",\"Samaksh\",\"Disha\",\"Siri\",\"Dev\"]))\n",
        "print(same_user([\"Priyanka\",\"Atul\",\"Ajay\",\"Nitin\",\"Arun\",\"Nikhil\",\"Pavan\"]))"
      ]
    },
    {
      "cell_type": "code",
      "execution_count": null,
      "id": "ecae00d7",
      "metadata": {
        "id": "ecae00d7"
      },
      "outputs": [],
      "source": []
    },
    {
      "cell_type": "code",
      "execution_count": null,
      "id": "21c20b01",
      "metadata": {
        "id": "21c20b01"
      },
      "outputs": [],
      "source": []
    },
    {
      "cell_type": "code",
      "execution_count": null,
      "id": "553d95e1",
      "metadata": {
        "id": "553d95e1"
      },
      "outputs": [],
      "source": [
        "def groupUsernames(usernames):\n",
        "    grouped_users = {}\n",
        "\n",
        "    for user in usernames:\n",
        "        first_letter = user[0]\n",
        "\n",
        "        if first_letter not in grouped_users:\n",
        "            grouped_users[first_letter]=[]\n",
        "        grouped_users[first_letter].append(user)\n",
        "\n",
        "    return list(grouped_users.values())\n"
      ]
    },
    {
      "cell_type": "code",
      "execution_count": null,
      "id": "333207d2",
      "metadata": {
        "id": "333207d2",
        "outputId": "f56fe615-2d59-44ab-da0f-fa203625bf19"
      },
      "outputs": [
        {
          "name": "stdout",
          "output_type": "stream",
          "text": [
            "[['Roy'], ['Samay', 'Samaksh', 'Siri'], ['Disha', 'Dev']]\n",
            "[['Priyanka', 'Pavan'], ['Atul', 'Ajay', 'Arun'], ['Nitin', 'Nikhil']]\n"
          ]
        }
      ],
      "source": [
        "print(groupUsernames([\"Roy\",\"Samay\",\"Samaksh\",\"Disha\",\"Siri\",\"Dev\"]))\n",
        "print(groupUsernames([\"Priyanka\",\"Atul\",\"Ajay\",\"Nitin\",\"Arun\",\"Nikhil\",\"Pavan\"]))"
      ]
    },
    {
      "cell_type": "code",
      "execution_count": null,
      "id": "7a69d0d1",
      "metadata": {
        "id": "7a69d0d1"
      },
      "outputs": [],
      "source": []
    },
    {
      "cell_type": "code",
      "execution_count": null,
      "id": "e2d6dea2",
      "metadata": {
        "id": "e2d6dea2"
      },
      "outputs": [],
      "source": []
    },
    {
      "cell_type": "code",
      "execution_count": null,
      "id": "ed66aadf",
      "metadata": {
        "id": "ed66aadf"
      },
      "outputs": [],
      "source": [
        "39.\n",
        "\n",
        "💻 Write a function which takes two integers as input (total_elements,last_number)\n",
        "and return \"List of Integers\" such that there are 'total_elements' random numbers &\n",
        "these can range from 1 to 'last_number' both inclusive - as shown in the samples.\n",
        "\n",
        "getRandomList(3,90) = List(45,6,11)\n",
        "\n",
        "getRandomList(3,90) = List(78,89,34)\n",
        "\n",
        "getRandomList(5,40) = List(6,40,39,19,1)\n",
        "\n",
        "Note: As expected, these outputs will not be in synch with what we get in our next runs."
      ]
    },
    {
      "cell_type": "code",
      "execution_count": null,
      "id": "95e3b53e",
      "metadata": {
        "id": "95e3b53e"
      },
      "outputs": [],
      "source": [
        "import random\n",
        "def getRandomList(total_elements,last_number):\n",
        "    return [random.randint(1,last_number) for i in range(total_elements)]"
      ]
    },
    {
      "cell_type": "code",
      "execution_count": null,
      "id": "0588e270",
      "metadata": {
        "id": "0588e270",
        "outputId": "93d3b365-a2ff-40b8-ce79-88695a3cb00d"
      },
      "outputs": [
        {
          "name": "stdout",
          "output_type": "stream",
          "text": [
            "[44, 28, 78]\n",
            "[6, 22, 21]\n",
            "[31, 9, 38, 37, 4]\n"
          ]
        }
      ],
      "source": [
        "print(getRandomList(3,90))\n",
        "print(getRandomList(3,90))\n",
        "print(getRandomList(5,40))"
      ]
    },
    {
      "cell_type": "code",
      "execution_count": null,
      "id": "8d794a87",
      "metadata": {
        "id": "8d794a87"
      },
      "outputs": [],
      "source": []
    },
    {
      "cell_type": "code",
      "execution_count": null,
      "id": "76f200f2",
      "metadata": {
        "id": "76f200f2"
      },
      "outputs": [],
      "source": []
    },
    {
      "cell_type": "code",
      "execution_count": null,
      "id": "fd10525b",
      "metadata": {
        "id": "fd10525b"
      },
      "outputs": [],
      "source": []
    },
    {
      "cell_type": "code",
      "execution_count": null,
      "id": "d2e3ec0b",
      "metadata": {
        "id": "d2e3ec0b"
      },
      "outputs": [],
      "source": []
    },
    {
      "cell_type": "code",
      "execution_count": null,
      "id": "6d614de7",
      "metadata": {
        "id": "6d614de7"
      },
      "outputs": [],
      "source": [
        "38.\n",
        "\n",
        "💻 Write a function which takes \"List of Characters\" as input and returns \"List of Characters\"\n",
        "such that for any of the consecutive repeated characters replace it by single character &\n",
        "the order of characters must be maintained - as shown in the samples.\n",
        "\n",
        "removeConsecChars(List('b','b','d','b','b','b','a')) = List('b','d','b','a')\n",
        "\n",
        "removeConsecChars(List('a','b','a','c','c')) = List('a','b','a','c')\n",
        "\n",
        "removeConsecChars(List('d','k','k','k','e','e','d','c')) = List('d','k','e','d','c')"
      ]
    },
    {
      "cell_type": "code",
      "execution_count": null,
      "id": "dfb86c91",
      "metadata": {
        "id": "dfb86c91"
      },
      "outputs": [],
      "source": [
        "def removeConsecChars(l):\n",
        "    result=[l[0]]\n",
        "\n",
        "    for i in range(1,len(l)):\n",
        "        if l[i-1]!=l[i]:\n",
        "            result.append(l[i])\n",
        "    return result"
      ]
    },
    {
      "cell_type": "code",
      "execution_count": null,
      "id": "d83fcea6",
      "metadata": {
        "id": "d83fcea6",
        "outputId": "7ccd7f3d-6cab-46e8-cbaa-48c0a1378015"
      },
      "outputs": [
        {
          "name": "stdout",
          "output_type": "stream",
          "text": [
            "['b', 'd', 'b', 'a']\n",
            "['a', 'b', 'a', 'c']\n",
            "['d', 'k', 'e', 'd', 'c']\n"
          ]
        }
      ],
      "source": [
        "print(removeConsecChars(['b','b','d','b','b','b','a']))\n",
        "print(removeConsecChars(['a','b','a','c','c']))\n",
        "print(removeConsecChars(['d','k','k','k','e','e','d','c']))"
      ]
    },
    {
      "cell_type": "code",
      "execution_count": null,
      "id": "a2a6c6cb",
      "metadata": {
        "id": "a2a6c6cb"
      },
      "outputs": [],
      "source": []
    },
    {
      "cell_type": "code",
      "execution_count": null,
      "id": "4a1b1dcd",
      "metadata": {
        "id": "4a1b1dcd",
        "outputId": "09204adb-6231-44f5-bbd0-1301cde4ef21"
      },
      "outputs": [
        {
          "name": "stdout",
          "output_type": "stream",
          "text": [
            "['b', 'd', 'b', 'a']\n",
            "['a', 'b', 'a', 'c']\n",
            "['d', 'k', 'e', 'd', 'c']\n"
          ]
        }
      ],
      "source": [
        "def removeConsecChars(char_list):\n",
        "    if not char_list:\n",
        "        return []\n",
        "\n",
        "    result = [char_list[0]]  # Start with the first character\n",
        "\n",
        "    for char in char_list[1:]:\n",
        "        if char != result[-1]:\n",
        "            result.append(char)\n",
        "\n",
        "    return result\n",
        "\n",
        "# Test the function\n",
        "print(removeConsecChars(['b','b','d','b','b','b','a']))\n",
        "print(removeConsecChars(['a','b','a','c','c']))\n",
        "print(removeConsecChars(['d','k','k','k','e','e','d','c']))"
      ]
    },
    {
      "cell_type": "code",
      "execution_count": null,
      "id": "17c59342",
      "metadata": {
        "id": "17c59342"
      },
      "outputs": [],
      "source": []
    },
    {
      "cell_type": "code",
      "execution_count": null,
      "id": "47db4287",
      "metadata": {
        "id": "47db4287"
      },
      "outputs": [],
      "source": []
    },
    {
      "cell_type": "code",
      "execution_count": null,
      "id": "50f02bf1",
      "metadata": {
        "id": "50f02bf1"
      },
      "outputs": [],
      "source": []
    },
    {
      "cell_type": "code",
      "execution_count": null,
      "id": "2608f5c6",
      "metadata": {
        "id": "2608f5c6"
      },
      "outputs": [],
      "source": []
    },
    {
      "cell_type": "code",
      "execution_count": null,
      "id": "762f300f",
      "metadata": {
        "id": "762f300f"
      },
      "outputs": [],
      "source": [
        "37.\n",
        "\n",
        "💻 Write a function which takes a number as input and generates a pattern - as shown in the samples.\n",
        "- Number should be in the range 1 to 99 else we need to print \"Input out of Range\".\n",
        "\n",
        "generatePattern(4) =\n",
        "04\n",
        "0403\n",
        "040302\n",
        "04030201\n",
        "\n",
        "generatePattern(10) =\n",
        "10\n",
        "1009\n",
        "100908\n",
        "10090807\n",
        "1009080706\n",
        "100908070605\n",
        "10090807060504\n",
        "1009080706050403\n",
        "100908070605040302\n",
        "10090807060504030201\n",
        "\n",
        "generatePattern(120) =\n",
        "Input out of Range"
      ]
    },
    {
      "cell_type": "code",
      "execution_count": null,
      "id": "ae78557a",
      "metadata": {
        "id": "ae78557a"
      },
      "outputs": [],
      "source": []
    },
    {
      "cell_type": "code",
      "execution_count": null,
      "id": "405cc9e2",
      "metadata": {
        "id": "405cc9e2"
      },
      "outputs": [],
      "source": []
    },
    {
      "cell_type": "code",
      "execution_count": null,
      "id": "76c3f573",
      "metadata": {
        "id": "76c3f573"
      },
      "outputs": [],
      "source": [
        "36.\n",
        "\n",
        "💻 Write a function which takes a string as input (which is local file path).\n",
        "We need to read this file and find & return total occurrence of keyword 'long' irrespective\n",
        "whether its separate word or part of another word - as shown in the samples.\n",
        "Note: Duplicates are to be considered in the count.\n",
        "\n",
        "getLongCount(\"/user/loc/file1.txt\")\n",
        "= 3\n",
        "//Explanation: longest longer & long - are the 3 occurrences of long.\n",
        "//*** Content of file1.txt ***\n",
        "I am taking the longest ride, longer than I thought.\n",
        "Just thinking, life, if well lived, is long enough.\n",
        "\n",
        "getLongCount(\"/user/loc/file2.txt\")\n",
        "= 5\n",
        "//*** Content of file2.txt ***\n",
        "long longest long longer belong hello.\n",
        "\n",
        "getLongCount(\"/user/loc/file3.txt\")\n",
        "= 0\n",
        "//*** file3.txt is empty file"
      ]
    },
    {
      "cell_type": "code",
      "execution_count": null,
      "id": "97fdf353",
      "metadata": {
        "id": "97fdf353"
      },
      "outputs": [],
      "source": []
    },
    {
      "cell_type": "code",
      "execution_count": null,
      "id": "01f291be",
      "metadata": {
        "id": "01f291be"
      },
      "outputs": [],
      "source": []
    },
    {
      "cell_type": "code",
      "execution_count": null,
      "id": "870befdd",
      "metadata": {
        "id": "870befdd"
      },
      "outputs": [],
      "source": []
    },
    {
      "cell_type": "code",
      "execution_count": null,
      "id": "53424002",
      "metadata": {
        "id": "53424002"
      },
      "outputs": [],
      "source": []
    },
    {
      "cell_type": "code",
      "execution_count": null,
      "id": "946f5f46",
      "metadata": {
        "id": "946f5f46"
      },
      "outputs": [],
      "source": []
    },
    {
      "cell_type": "code",
      "execution_count": null,
      "id": "5478a7a8",
      "metadata": {
        "id": "5478a7a8"
      },
      "outputs": [],
      "source": []
    },
    {
      "cell_type": "code",
      "execution_count": null,
      "id": "e5223787",
      "metadata": {
        "id": "e5223787"
      },
      "outputs": [],
      "source": [
        "35.\n",
        "\n",
        "💻 Write a function which takes a string as input (which consists of a sentence with words separated by spaces).\n",
        "We need to find count of each of the word in the sentence and return a map having words as key\n",
        "and its count as value - as shown in the samples.\n",
        "\n",
        "getWordCount(\"can you can a can as a canner can can a can\")\n",
        "= Map(\"can\"->6,\"you\"->1,\"a\"->3,\"as\"->1,\"canner\"->1)\n",
        "\n",
        "getWordCount(\"repeat the word repeat after me\")\n",
        "= Map(\"repeat\"->2,\"the\"->1.\"word\"->1\",\"after\"->1,\"me\"->1)"
      ]
    },
    {
      "cell_type": "code",
      "execution_count": null,
      "id": "ce3afcd9",
      "metadata": {
        "id": "ce3afcd9"
      },
      "outputs": [],
      "source": [
        "def getWordCount(s):\n",
        "    word_count={}\n",
        "\n",
        "    for i in s.split():\n",
        "        if i in word_count:\n",
        "            word_count[i]+=1\n",
        "        else:\n",
        "            word_count[i]=1\n",
        "    return word_count"
      ]
    },
    {
      "cell_type": "code",
      "execution_count": null,
      "id": "9a2e880a",
      "metadata": {
        "id": "9a2e880a",
        "outputId": "234d1f3d-5891-4c5e-9629-a89462f609ee"
      },
      "outputs": [
        {
          "name": "stdout",
          "output_type": "stream",
          "text": [
            "{'can': 6, 'you': 1, 'a': 3, 'as': 1, 'canner': 1}\n",
            "{'repeat': 2, 'the': 1, 'word': 1, 'after': 1, 'me': 1}\n"
          ]
        }
      ],
      "source": [
        "# Test the function\n",
        "print(getWordCount(\"can you can a can as a canner can can a can\"))\n",
        "print(getWordCount(\"repeat the word repeat after me\"))"
      ]
    },
    {
      "cell_type": "code",
      "execution_count": null,
      "id": "9e0e1687",
      "metadata": {
        "id": "9e0e1687"
      },
      "outputs": [],
      "source": []
    },
    {
      "cell_type": "code",
      "execution_count": null,
      "id": "40af3537",
      "metadata": {
        "id": "40af3537"
      },
      "outputs": [],
      "source": []
    },
    {
      "cell_type": "code",
      "execution_count": null,
      "id": "20bc9772",
      "metadata": {
        "id": "20bc9772"
      },
      "outputs": [],
      "source": []
    },
    {
      "cell_type": "code",
      "execution_count": null,
      "id": "aa6412c6",
      "metadata": {
        "id": "aa6412c6"
      },
      "outputs": [],
      "source": [
        "34.\n",
        "\n",
        "💻 Write a function which takes a string as input which consists of an encoded message.\n",
        "We need to identify and return the decoded message.\n",
        "\n",
        "For encoding, below mapping has been used.\n",
        "A=1,  B=2,  C=3,  D=4\n",
        "E=5,  F=6,  G=7,  H=8\n",
        "I=9,  J=#10, K=#11, L=#12\n",
        "M=#13, N=#14, O=#15, P=#16\n",
        "Q=#17, R=#18, S=#19, T=#20\n",
        "U=#21, V=#22, W=#23, X=#24\n",
        "Y=#25, Z=#26\n",
        "\n",
        "getDecodedMsg(\"2581#16#16#25\") = \"BEHAPPY\"\n",
        "//Explanation: 2=B 5=E 8=H 1=A #16=P #16=P #25=Y\n",
        "\n",
        "getDecodedMsg(\"85#12#12#15#23#15#18#124\") = \"HELLOWORLD\"\n",
        "//Explanation: 8=H 5=E #12=L #12=L #15=O\n",
        "//  #23=W #15=O #18=R #12=L 4=D\n",
        "\n",
        "getDecodedMsg(\"7#15\") = \"GO\"\n",
        "//Explanation: 7=G, #15=O"
      ]
    },
    {
      "cell_type": "code",
      "execution_count": null,
      "id": "b037d358",
      "metadata": {
        "id": "b037d358"
      },
      "outputs": [],
      "source": [
        "def getDecodedMsg(encoded_msg):\n",
        "    decode_dict = {\n",
        "        '1': 'A',  '2': 'B',  '3': 'C',  '4': 'D',\n",
        "        '5': 'E',  '6': 'F',  '7': 'G',  '8': 'H',\n",
        "        '9': 'I',  '#10': 'J', '#11': 'K', '#12': 'L',\n",
        "        '#13': 'M', '#14': 'N', '#15': 'O', '#16': 'P',\n",
        "        '#17': 'Q', '#18': 'R', '#19': 'S', '#20': 'T',\n",
        "        '#21': 'U', '#22': 'V', '#23': 'W', '#24': 'X',\n",
        "        '#25': 'Y', '#26': 'Z'\n",
        "    }\n",
        "\n",
        "    decode_msg=''\n",
        "    i=0\n",
        "    while i<len(encoded_msg):\n",
        "        if encoded_msg[i]=='#':\n",
        "            decode_msg+=decode_dict[encoded_msg[i:i+3]]\n",
        "            i+=3\n",
        "        else:\n",
        "            decode_msg+=decode_dict[encoded_msg[i]]\n",
        "            i+=1\n",
        "\n",
        "    return decode_msg"
      ]
    },
    {
      "cell_type": "code",
      "execution_count": null,
      "id": "fa278e8b",
      "metadata": {
        "id": "fa278e8b",
        "outputId": "2ea801bb-4f3a-48e4-a4ad-2efa9af5db3e"
      },
      "outputs": [
        {
          "name": "stdout",
          "output_type": "stream",
          "text": [
            "BEHAPPY\n",
            "HELLOWORLD\n",
            "GO\n"
          ]
        }
      ],
      "source": [
        "print(getDecodedMsg(\"2581#16#16#25\"))\n",
        "print(getDecodedMsg(\"85#12#12#15#23#15#18#124\"))\n",
        "print(getDecodedMsg(\"7#15\"))"
      ]
    },
    {
      "cell_type": "code",
      "execution_count": null,
      "id": "36502cb8",
      "metadata": {
        "id": "36502cb8"
      },
      "outputs": [],
      "source": []
    },
    {
      "cell_type": "code",
      "execution_count": null,
      "id": "0de5ee7c",
      "metadata": {
        "id": "0de5ee7c"
      },
      "outputs": [],
      "source": []
    },
    {
      "cell_type": "code",
      "execution_count": null,
      "id": "93ef5c0f",
      "metadata": {
        "id": "93ef5c0f"
      },
      "outputs": [],
      "source": []
    },
    {
      "cell_type": "code",
      "execution_count": null,
      "id": "11912e7a",
      "metadata": {
        "id": "11912e7a"
      },
      "outputs": [],
      "source": [
        "33.\n",
        "\n",
        "💻 Write a function which takes two strings as input (start_date,end_date)\n",
        "and finds total number of days between the two dates inclusive. Input dates are of format YYYY-MM-DD.\n",
        "\n",
        "getTotalDays(\"2022-01-01\",\"2022-01-02\") = 2\n",
        "\n",
        "getTotalDays(\"2022-01-01\",\"2022-01-15\") = 15\n",
        "\n",
        "getTotalDays(\"2022-01-01\",\"2022-02-19\") = 50\n",
        "\n",
        "getTotalDays(\"2022-11-25\",\"2022-11-27\") = 3"
      ]
    },
    {
      "cell_type": "code",
      "execution_count": null,
      "id": "74dfe035",
      "metadata": {
        "id": "74dfe035"
      },
      "outputs": [],
      "source": [
        "from datetime import datetime\n",
        "\n",
        "def getTotalDays(start_date: str, end_date: str, date_format: str = \"%Y-%m-%d\") -> int:\n",
        "    # Convert the string dates to datetime objects using the specified format\n",
        "    start = datetime.strptime(start_date, date_format)\n",
        "    end = datetime.strptime(end_date, date_format)\n",
        "\n",
        "    # Calculate the number of days between the dates inclusive\n",
        "    delta = end - start\n",
        "    total_days = delta.days + 1  # Adding 1 to include the end date\n",
        "\n",
        "    return total_days"
      ]
    },
    {
      "cell_type": "code",
      "execution_count": null,
      "id": "b4d2047a",
      "metadata": {
        "id": "b4d2047a",
        "outputId": "74633bbe-f2fa-4d00-cbb1-5cf9abc509eb"
      },
      "outputs": [
        {
          "name": "stdout",
          "output_type": "stream",
          "text": [
            "2\n",
            "15\n",
            "50\n",
            "3\n"
          ]
        }
      ],
      "source": [
        "print(getTotalDays(\"01/01/2022\", \"02/01/2022\", \"%d/%m/%Y\"))  # Output: 2\n",
        "print(getTotalDays(\"01-01-2022\", \"15-01-2022\", \"%d-%m-%Y\"))  # Output: 15\n",
        "print(getTotalDays(\"2022-01-01\", \"2022-02-19\", \"%Y-%m-%d\"))  # Output: 50\n",
        "print(getTotalDays(\"25-11-2022\", \"27-11-2022\", \"%d-%m-%Y\"))  # Output: 3"
      ]
    },
    {
      "cell_type": "code",
      "execution_count": null,
      "id": "b07066f7",
      "metadata": {
        "id": "b07066f7"
      },
      "outputs": [],
      "source": []
    },
    {
      "cell_type": "code",
      "execution_count": null,
      "id": "e535f898",
      "metadata": {
        "id": "e535f898"
      },
      "outputs": [],
      "source": []
    },
    {
      "cell_type": "code",
      "execution_count": null,
      "id": "15f7cb7d",
      "metadata": {
        "id": "15f7cb7d"
      },
      "outputs": [],
      "source": []
    },
    {
      "cell_type": "code",
      "execution_count": null,
      "id": "1ce6955e",
      "metadata": {
        "id": "1ce6955e"
      },
      "outputs": [],
      "source": [
        "32.\n",
        "\n",
        "💻 Write a function which takes List of strings as input (containing names) & returns List of strings such that\n",
        "* if name has firstname lastname - keep it as it is\n",
        "* if name has middlename as well, keep only the initials of firstname middlename\n",
        "- as shown in the samples.\n",
        "\n",
        "getShortNames(List(\"Rahul Dravid\",\"Vangipurappu Venkata Sai Laxman\",\"Sourav Chandidas Ganguly\"))\n",
        "= List(\"Rahul Dravid\",\"VVS Laxman\",\"SC Ganguly\")\n",
        "\n",
        "getShortNames(List(\"Sachin Ramesh Tendulkar\",\"Yuvraj Singh\",\"Mahendra Singh Dhoni\"))\n",
        "= List(\"SR Tendulkar\",\"Yuvraj Singh\",\"MS Dhoni\")"
      ]
    },
    {
      "cell_type": "code",
      "execution_count": null,
      "id": "99c79591",
      "metadata": {
        "id": "99c79591"
      },
      "outputs": [],
      "source": [
        "def getShortNames(l):\n",
        "    final=[]\n",
        "    for i in l:\n",
        "        name=i.split()\n",
        "        if len(name)<=2:\n",
        "            final.append(i)\n",
        "        else:\n",
        "            x=[]\n",
        "            for j in range(len(name)):\n",
        "                if j!=len(name)-1:\n",
        "                    x.append(name[j][0])\n",
        "                else:\n",
        "                    x.append(' '+name[j])\n",
        "            final.append(''.join(x))\n",
        "    return final"
      ]
    },
    {
      "cell_type": "code",
      "execution_count": null,
      "id": "c6716006",
      "metadata": {
        "id": "c6716006",
        "outputId": "d9723e32-f0df-4092-9c76-7361d0a68936"
      },
      "outputs": [
        {
          "name": "stdout",
          "output_type": "stream",
          "text": [
            "['Rahul Dravid', 'VVS Laxman']\n",
            "['SR Tendulkar', 'Yuvraj Singh', 'MS Dhoni']\n"
          ]
        }
      ],
      "source": [
        "print(getShortNames([\"Rahul Dravid\",\"Vangipurappu Venkata Sai Laxman\"]))\n",
        "print(getShortNames([\"Sachin Ramesh Tendulkar\",\"Yuvraj Singh\", \"Mahendra Singh Dhoni\"]))"
      ]
    },
    {
      "cell_type": "code",
      "execution_count": null,
      "id": "e1f63442",
      "metadata": {
        "id": "e1f63442"
      },
      "outputs": [],
      "source": []
    },
    {
      "cell_type": "code",
      "execution_count": null,
      "id": "fede5f0f",
      "metadata": {
        "id": "fede5f0f"
      },
      "outputs": [],
      "source": [
        "def getShortNames(l):\n",
        "    final = []\n",
        "    for name in l:\n",
        "        name_parts = name.split()\n",
        "        if len(name_parts) <= 2:\n",
        "            final.append(name)\n",
        "        else:\n",
        "            # List comprehension replacing the for loop\n",
        "            x = [name_parts[j][0] if j != len(name_parts) - 1 else ' ' + name_parts[j] for j in range(len(name_parts))]\n",
        "            final.append(''.join(x))\n",
        "    return final"
      ]
    },
    {
      "cell_type": "code",
      "execution_count": null,
      "id": "1d56ed34",
      "metadata": {
        "id": "1d56ed34",
        "outputId": "ff8d3900-dea0-44d9-ea7e-cf43dc5c7048"
      },
      "outputs": [
        {
          "name": "stdout",
          "output_type": "stream",
          "text": [
            "['Rahul Dravid', 'VVS Laxman']\n",
            "['SR Tendulkar', 'Yuvraj Singh', 'MS Dhoni']\n"
          ]
        }
      ],
      "source": [
        "print(getShortNames([\"Rahul Dravid\", \"Vangipurappu Venkata Sai Laxman\"]))\n",
        "print(getShortNames([\"Sachin Ramesh Tendulkar\", \"Yuvraj Singh\", \"Mahendra Singh Dhoni\"]))"
      ]
    },
    {
      "cell_type": "code",
      "execution_count": null,
      "id": "32895623",
      "metadata": {
        "id": "32895623"
      },
      "outputs": [],
      "source": []
    },
    {
      "cell_type": "code",
      "execution_count": null,
      "id": "628a29a9",
      "metadata": {
        "id": "628a29a9"
      },
      "outputs": [],
      "source": [
        "def getShortNames(names):\n",
        "    result = []\n",
        "\n",
        "    for name in names:\n",
        "        parts = name.split()\n",
        "        if len(parts) == 2:\n",
        "            result.append(name)\n",
        "        else:\n",
        "            initials = ''.join([p[0].upper() for p in parts[:-1]])  # Take the first letter of all except the last name\n",
        "            result.append(f\"{initials} {parts[-1]}\")\n",
        "\n",
        "    return result\n"
      ]
    },
    {
      "cell_type": "code",
      "execution_count": null,
      "id": "705ff8e8",
      "metadata": {
        "id": "705ff8e8",
        "outputId": "bf48da10-91a7-4d31-fff2-e462a462949a"
      },
      "outputs": [
        {
          "name": "stdout",
          "output_type": "stream",
          "text": [
            "['Rahul Dravid', 'VVS Laxman']\n",
            "['SR Tendulkar', 'Yuvraj Singh', 'MS Dhoni']\n"
          ]
        }
      ],
      "source": [
        "print(getShortNames([\"Rahul Dravid\", \"Vangipurappu Venkata Sai Laxman\"]))\n",
        "print(getShortNames([\"Sachin Ramesh Tendulkar\", \"Yuvraj Singh\", \"Mahendra Singh Dhoni\"]))"
      ]
    },
    {
      "cell_type": "code",
      "execution_count": null,
      "id": "e8e8faad",
      "metadata": {
        "id": "e8e8faad"
      },
      "outputs": [],
      "source": []
    },
    {
      "cell_type": "code",
      "execution_count": null,
      "id": "9e3a1deb",
      "metadata": {
        "id": "9e3a1deb"
      },
      "outputs": [],
      "source": []
    },
    {
      "cell_type": "code",
      "execution_count": null,
      "id": "59475392",
      "metadata": {
        "id": "59475392"
      },
      "outputs": [],
      "source": []
    },
    {
      "cell_type": "code",
      "execution_count": null,
      "id": "b9be37be",
      "metadata": {
        "id": "b9be37be"
      },
      "outputs": [],
      "source": []
    },
    {
      "cell_type": "code",
      "execution_count": null,
      "id": "04d37cea",
      "metadata": {
        "id": "04d37cea"
      },
      "outputs": [],
      "source": [
        "31.\n",
        "\n",
        "💻 Write a function which takes a string as input (containing name1#age1,name2#age2)\n",
        "& returns Array of Integers having only ages - as shown in the samples.\n",
        "\n",
        "getOnlyAges(\"Ram#18,Samrat#87,Pinky#35\") = Array(18,87,35)\n",
        "\n",
        "getOnlyAges(\"Anoop#45\") = Array(45)\n",
        "\n",
        "getOnlyAges(\"Sheetal#27,Gargi#3,Vishal#22\") = Arraay(27,3,22)\n"
      ]
    },
    {
      "cell_type": "code",
      "execution_count": null,
      "id": "c62ae782",
      "metadata": {
        "id": "c62ae782"
      },
      "outputs": [],
      "source": [
        "def getOnlyAges(s):\n",
        "    return [int(i.split('#')[1]) for i in s.split(',')]"
      ]
    },
    {
      "cell_type": "code",
      "execution_count": null,
      "id": "50c61122",
      "metadata": {
        "id": "50c61122",
        "outputId": "c5d002cf-6ed4-4ff0-8f1f-6b336d9cce4a"
      },
      "outputs": [
        {
          "name": "stdout",
          "output_type": "stream",
          "text": [
            "[18, 87, 35]\n",
            "[45]\n",
            "[27, 3, 22]\n"
          ]
        }
      ],
      "source": [
        "print(getOnlyAges(\"Ram#18,Samrat#87,Pinky#35\"))\n",
        "print(getOnlyAges(\"Anoop#45\"))\n",
        "print(getOnlyAges(\"Sheetal#27,Gargi#3,Vishal#22\"))"
      ]
    },
    {
      "cell_type": "code",
      "execution_count": null,
      "id": "a1adeea5",
      "metadata": {
        "id": "a1adeea5"
      },
      "outputs": [],
      "source": []
    },
    {
      "cell_type": "code",
      "execution_count": null,
      "id": "c11f773b",
      "metadata": {
        "id": "c11f773b"
      },
      "outputs": [],
      "source": []
    },
    {
      "cell_type": "code",
      "execution_count": null,
      "id": "8042b610",
      "metadata": {
        "id": "8042b610"
      },
      "outputs": [],
      "source": []
    },
    {
      "cell_type": "code",
      "execution_count": null,
      "id": "925d7e6e",
      "metadata": {
        "id": "925d7e6e"
      },
      "outputs": [],
      "source": [
        "30.\n",
        "\n",
        "💻 Write a function which takes 2 strings as input & returns true if both string contains matching characters,\n",
        "false otherwise - as shown in the samples.\n",
        "\n",
        "hasMatchingChar(\"cat\",\"act\") = true\n",
        "\n",
        "hasMatchingChar(\"rainbow\",\"tsunami\") = false\n",
        "\n",
        "hasMatchingChar(\"flow\",\"wolf\") = true\n",
        "\n",
        "hasMatchingChar(\"rain\",\"rainbow\") = false\n",
        "//Explanation: All the characters are not matching.\n",
        "\n",
        "hasMatchingChar(\"oh\",\"ohooooooo\") = true\n",
        "//Explanation: Both string has only 'o' & 'h', so its matching."
      ]
    },
    {
      "cell_type": "code",
      "execution_count": null,
      "id": "c0ba3d40",
      "metadata": {
        "id": "c0ba3d40"
      },
      "outputs": [],
      "source": [
        "def hasMatchingChar(s1,s2):\n",
        "    return sorted(set(s1))==sorted(set(s2))"
      ]
    },
    {
      "cell_type": "code",
      "execution_count": null,
      "id": "b4855dbe",
      "metadata": {
        "id": "b4855dbe"
      },
      "outputs": [],
      "source": []
    },
    {
      "cell_type": "code",
      "execution_count": null,
      "id": "2d4858a9",
      "metadata": {
        "id": "2d4858a9",
        "outputId": "34f24296-8344-4ef2-d29b-d5eaa2b02989"
      },
      "outputs": [
        {
          "name": "stdout",
          "output_type": "stream",
          "text": [
            "True\n",
            "False\n",
            "True\n",
            "False\n",
            "True\n"
          ]
        }
      ],
      "source": [
        "print(hasMatchingChar(\"cat\",\"act\"))\n",
        "print(hasMatchingChar(\"rainbow\",\"tsunami\"))\n",
        "print(hasMatchingChar(\"flow\",\"wolf\"))\n",
        "print(hasMatchingChar(\"rain\",\"rainbow\"))\n",
        "print(hasMatchingChar(\"oh\",\"ohooooooo\"))"
      ]
    },
    {
      "cell_type": "code",
      "execution_count": null,
      "id": "719c97a2",
      "metadata": {
        "id": "719c97a2"
      },
      "outputs": [],
      "source": []
    },
    {
      "cell_type": "code",
      "execution_count": null,
      "id": "b27f8b2a",
      "metadata": {
        "id": "b27f8b2a"
      },
      "outputs": [],
      "source": []
    },
    {
      "cell_type": "code",
      "execution_count": null,
      "id": "8f7c17e7",
      "metadata": {
        "id": "8f7c17e7",
        "outputId": "becc7210-e08a-40b7-e72c-c4922148244a"
      },
      "outputs": [
        {
          "name": "stdout",
          "output_type": "stream",
          "text": [
            "True\n",
            "False\n",
            "True\n",
            "False\n",
            "False\n"
          ]
        }
      ],
      "source": [
        "def hasMatchingChar(s1, s2):\n",
        "    # Convert strings to lists and sort them\n",
        "    sorted_s1 = sorted(s1)\n",
        "    sorted_s2 = sorted(s2)\n",
        "\n",
        "    # Initialize pointers for both lists\n",
        "    i, j = 0, 0\n",
        "\n",
        "    # Compare characters in both sorted lists\n",
        "    while i < len(sorted_s1) and j < len(sorted_s2):\n",
        "        if sorted_s1[i] == sorted_s2[j]:\n",
        "            i += 1\n",
        "            j += 1\n",
        "        elif sorted_s1[i] < sorted_s2[j]:\n",
        "            i += 1\n",
        "        else:\n",
        "            j += 1\n",
        "\n",
        "    # If all characters in s1 are found in s2\n",
        "    return i == len(sorted_s1) and j == len(sorted_s2)\n",
        "\n",
        "# Example usage\n",
        "print(hasMatchingChar(\"cat\", \"act\"))        # Output: True\n",
        "print(hasMatchingChar(\"rainbow\", \"tsunami\"))  # Output: False\n",
        "print(hasMatchingChar(\"flow\", \"wolf\"))       # Output: True\n",
        "print(hasMatchingChar(\"rain\", \"rainbow\"))    # Output: False\n",
        "print(hasMatchingChar(\"oh\", \"ohooooooo\"))    # Output: True\n"
      ]
    },
    {
      "cell_type": "code",
      "execution_count": null,
      "id": "bd1aa185",
      "metadata": {
        "id": "bd1aa185"
      },
      "outputs": [],
      "source": []
    },
    {
      "cell_type": "code",
      "execution_count": null,
      "id": "000d2a1f",
      "metadata": {
        "id": "000d2a1f"
      },
      "outputs": [],
      "source": []
    },
    {
      "cell_type": "code",
      "execution_count": null,
      "id": "ec6efcf7",
      "metadata": {
        "id": "ec6efcf7"
      },
      "outputs": [],
      "source": []
    },
    {
      "cell_type": "code",
      "execution_count": null,
      "id": "fd9217af",
      "metadata": {
        "id": "fd9217af"
      },
      "outputs": [],
      "source": []
    },
    {
      "cell_type": "code",
      "execution_count": null,
      "id": "4c85be3d",
      "metadata": {
        "id": "4c85be3d"
      },
      "outputs": [],
      "source": []
    },
    {
      "cell_type": "code",
      "execution_count": null,
      "id": "d3ba284a",
      "metadata": {
        "id": "d3ba284a"
      },
      "outputs": [],
      "source": [
        "29.\n",
        "\n",
        "💻 Write a function which takes 3 parameters as input\n",
        "startNum - Integer,totalNums - Integer, isEven - Boolean\n",
        "& returns a list consisting of \"totalNums\" elements\n",
        "with starting number being \"startNum\". Elements should\n",
        "be even or odd based on isEven parameter - as shown in the samples.\n",
        "\n",
        "generateList(5,3,false) = List(5,7,9)\n",
        "\n",
        "generateList(5,2,true) = List(6,8)\n",
        "//Explanation: In this case, 6 will be used as startNum\n",
        "    as even list is expected.\n",
        "\n",
        "generateList(80,5,true) = List(80,82,84,86,88)"
      ]
    },
    {
      "cell_type": "code",
      "execution_count": null,
      "id": "03bb5dca",
      "metadata": {
        "id": "03bb5dca"
      },
      "outputs": [],
      "source": [
        "def generateList(startNum, totalNums, isEven):\n",
        "    temp=startNum\n",
        "    if isEven:\n",
        "        if startNum%2!=0:\n",
        "            startNum+=1\n",
        "    else:\n",
        "        if startNum%2==0:\n",
        "            startNum+=1\n",
        "\n",
        "    return [startNum+ 2*i for i in range(0,totalNums)]"
      ]
    },
    {
      "cell_type": "code",
      "execution_count": null,
      "id": "401dc435",
      "metadata": {
        "id": "401dc435",
        "outputId": "ba74f21d-78a3-4c8e-8928-a6b47a57c409"
      },
      "outputs": [
        {
          "name": "stdout",
          "output_type": "stream",
          "text": [
            "[5, 7, 9]\n",
            "[6, 8]\n",
            "[80, 82, 84, 86, 88]\n"
          ]
        }
      ],
      "source": [
        "print(generateList(5,3,False))\n",
        "print(generateList(5,2,True))\n",
        "print(generateList(80,5,True))"
      ]
    },
    {
      "cell_type": "code",
      "execution_count": null,
      "id": "7f1054fc",
      "metadata": {
        "id": "7f1054fc"
      },
      "outputs": [],
      "source": []
    },
    {
      "cell_type": "code",
      "execution_count": null,
      "id": "9647f98d",
      "metadata": {
        "id": "9647f98d"
      },
      "outputs": [],
      "source": []
    },
    {
      "cell_type": "code",
      "execution_count": null,
      "id": "3ece785c",
      "metadata": {
        "id": "3ece785c"
      },
      "outputs": [],
      "source": []
    },
    {
      "cell_type": "code",
      "execution_count": null,
      "id": "3182d68d",
      "metadata": {
        "id": "3182d68d"
      },
      "outputs": [],
      "source": [
        "28.\n",
        "\n",
        "💻 Write a function which takes \"List of unique positive Integers\"\n",
        "& a rankNumber as input and returns\n",
        "\"rankNumber'th largest element of the list\" else -1 if no\n",
        "such element - as shown in the samples.\n",
        "\n",
        "getLargestEle(List(10,20,80,4,90),3) = 20\n",
        "//Explanation: 20 is 3rd largest element.\n",
        "\n",
        "getLargestEle(List(4,100),9) = -1\n",
        "//Explanation: 9 elements are not present in the list.\n",
        "\n",
        "getLargestEle(List(45,56,11,9,30),2) = 45\n",
        "//Explanation: 45 is 2nd largest element."
      ]
    },
    {
      "cell_type": "code",
      "execution_count": null,
      "id": "fe30484f",
      "metadata": {
        "id": "fe30484f"
      },
      "outputs": [],
      "source": []
    },
    {
      "cell_type": "code",
      "execution_count": null,
      "id": "f3a7b70b",
      "metadata": {
        "id": "f3a7b70b"
      },
      "outputs": [],
      "source": [
        "def getLargestEle(l,r):\n",
        "    if r>len(l):\n",
        "        return -1\n",
        "    l.sort()\n",
        "    return l[-r]"
      ]
    },
    {
      "cell_type": "code",
      "execution_count": null,
      "id": "85fd6486",
      "metadata": {
        "id": "85fd6486",
        "outputId": "5ae9e995-1245-49f8-c774-9ddfc2de62d1"
      },
      "outputs": [
        {
          "name": "stdout",
          "output_type": "stream",
          "text": [
            "20\n",
            "-1\n",
            "45\n"
          ]
        }
      ],
      "source": [
        "print( getLargestEle([10,20,80,4,90],3)  )\n",
        "\n",
        "print( getLargestEle([4,100],9)  )\n",
        "\n",
        "print( getLargestEle([45,56,11,9,30],2)  )"
      ]
    },
    {
      "cell_type": "code",
      "execution_count": null,
      "id": "599c0582",
      "metadata": {
        "id": "599c0582"
      },
      "outputs": [],
      "source": []
    },
    {
      "cell_type": "code",
      "execution_count": null,
      "id": "5c0fdb22",
      "metadata": {
        "id": "5c0fdb22"
      },
      "outputs": [],
      "source": [
        "def getLargestEle(lst,ranknum):\n",
        "\n",
        "    if len(lst)<ranknum:\n",
        "        return -1\n",
        "    else:\n",
        "        temp = sorted(lst,reverse=True)\n",
        "        return temp[ranknum-1]\n",
        ""
      ]
    },
    {
      "cell_type": "code",
      "execution_count": null,
      "id": "010d3e8f",
      "metadata": {
        "id": "010d3e8f",
        "outputId": "6d96d9cc-9b73-407e-e86a-65d43438ad6d"
      },
      "outputs": [
        {
          "name": "stdout",
          "output_type": "stream",
          "text": [
            "20\n",
            "-1\n",
            "45\n"
          ]
        }
      ],
      "source": [
        "print( getLargestEle([10,20,80,4,90],3)  )\n",
        "\n",
        "print( getLargestEle([4,100],9)  )\n",
        "\n",
        "print( getLargestEle([45,56,11,9,30],2)  )"
      ]
    },
    {
      "cell_type": "code",
      "execution_count": null,
      "id": "38dfdc69",
      "metadata": {
        "id": "38dfdc69"
      },
      "outputs": [],
      "source": []
    },
    {
      "cell_type": "code",
      "execution_count": null,
      "id": "02b8b20f",
      "metadata": {
        "id": "02b8b20f"
      },
      "outputs": [],
      "source": [
        "def getLargestEle2(lst,ranknum):\n",
        "\n",
        "    temp = sorted(lst,reverse=True)\n",
        "\n",
        "    return temp[ranknum-1] if len(lst)>=ranknum else -1\n",
        ""
      ]
    },
    {
      "cell_type": "code",
      "execution_count": null,
      "id": "a2c9e55f",
      "metadata": {
        "id": "a2c9e55f",
        "outputId": "42879f43-1d3b-44d4-a546-92c519412d5c"
      },
      "outputs": [
        {
          "name": "stdout",
          "output_type": "stream",
          "text": [
            "20\n",
            "-1\n",
            "45\n"
          ]
        }
      ],
      "source": [
        "print( getLargestEle2([10,20,80,4,90],3)  )\n",
        "\n",
        "print( getLargestEle2([4,100],9)  )\n",
        "\n",
        "print( getLargestEle2([45,56,11,9,30],2)  )"
      ]
    },
    {
      "cell_type": "code",
      "execution_count": null,
      "id": "32bec802",
      "metadata": {
        "id": "32bec802"
      },
      "outputs": [],
      "source": []
    },
    {
      "cell_type": "code",
      "execution_count": null,
      "id": "0388bc32",
      "metadata": {
        "id": "0388bc32"
      },
      "outputs": [],
      "source": []
    },
    {
      "cell_type": "code",
      "execution_count": null,
      "id": "fd7a2b40",
      "metadata": {
        "id": "fd7a2b40"
      },
      "outputs": [],
      "source": []
    },
    {
      "cell_type": "code",
      "execution_count": null,
      "id": "3a3ff767",
      "metadata": {
        "id": "3a3ff767"
      },
      "outputs": [],
      "source": []
    },
    {
      "cell_type": "code",
      "execution_count": null,
      "id": "72a27550",
      "metadata": {
        "id": "72a27550"
      },
      "outputs": [],
      "source": [
        "27.\n",
        "\n",
        "💻 Write a function which takes \"List of Integers\" &\n",
        "a searchNumber as input and returns \"sum of first & last index\"\n",
        "of searchNumber in the list - as shown in the samples\n",
        "(Considering 0-index).\n",
        "\n",
        "\n",
        "getFirstLastInxSum(List(20,10,10,40,10,5),10) = 5\n",
        "//Explanation: 10's 1st & last index - 1 & 4 => 1+4 = 5\n",
        "\n",
        "getFirstLastInxSum(List(2,15),19) = 0\n",
        "//Explanation: 19 does not occur in the list => 0\n",
        "\n",
        "getFirstLastInxSum(List(82,40,3),40) = 1\n",
        "//Explanation: 40 has only one occurrence => 1\n",
        "\n",
        "getFirstLastInxSum(List(6,6,6,6),6) = 3\n",
        "//Explanation: 6's 1st & last index => 0 & 3 => 0+3 = 3"
      ]
    },
    {
      "cell_type": "code",
      "execution_count": null,
      "id": "bef8188a",
      "metadata": {
        "id": "bef8188a"
      },
      "outputs": [],
      "source": []
    },
    {
      "cell_type": "code",
      "execution_count": null,
      "id": "e72cd784",
      "metadata": {
        "id": "e72cd784"
      },
      "outputs": [],
      "source": [
        "def getFirstLastInxSum(l,search):\n",
        "    index_dict = {'first':-1,'last':-1}\n",
        "\n",
        "    for idx,ele in enumerate(l):\n",
        "        if ele==search and index_dict['first']!=-1:\n",
        "            index_dict['last'] = idx\n",
        "        elif ele==search and index_dict['first']==-1:\n",
        "            index_dict['first'] = idx\n",
        "\n",
        "    return sum(filter(lambda x:x>=0,index_dict.values()))"
      ]
    },
    {
      "cell_type": "code",
      "execution_count": null,
      "id": "1f5a7d15",
      "metadata": {
        "id": "1f5a7d15",
        "outputId": "666c6ede-eb09-48e4-8814-667fcaa8ad62"
      },
      "outputs": [
        {
          "name": "stdout",
          "output_type": "stream",
          "text": [
            "5\n",
            "0\n",
            "1\n",
            "3\n",
            "0\n"
          ]
        }
      ],
      "source": [
        "print( getFirstLastInxSum([20,10,10,40,10,5],10) )\n",
        "\n",
        "print( getFirstLastInxSum([2,15],19) )\n",
        "\n",
        "print( getFirstLastInxSum([82,40,3],40) )\n",
        "\n",
        "print( getFirstLastInxSum([6,6,6,6],6) )\n",
        "\n",
        "print( getFirstLastInxSum([7],7) )"
      ]
    },
    {
      "cell_type": "code",
      "execution_count": null,
      "id": "6ba621aa",
      "metadata": {
        "id": "6ba621aa"
      },
      "outputs": [],
      "source": []
    },
    {
      "cell_type": "code",
      "execution_count": null,
      "id": "771f56d8",
      "metadata": {
        "id": "771f56d8"
      },
      "outputs": [],
      "source": [
        "def getFirstLastInxSum(l,search):\n",
        "\n",
        "    temp,last,first_idx=l,0,0\n",
        "    try:\n",
        "        first_idx = temp.index(search)\n",
        "    except:\n",
        "        first_idx = 0\n",
        "\n",
        "    for i in range(len(temp)-1,-1,-1):\n",
        "        if l[i]==search and i!=first_idx:\n",
        "            last_idx = i\n",
        "            break\n",
        "        else:\n",
        "            last_idx=0\n",
        "\n",
        "    return first_idx+last_idx\n",
        ""
      ]
    },
    {
      "cell_type": "code",
      "execution_count": null,
      "id": "12302032",
      "metadata": {
        "id": "12302032",
        "outputId": "02a5f9a5-1426-4dd2-f2b1-3439efae80e2"
      },
      "outputs": [
        {
          "name": "stdout",
          "output_type": "stream",
          "text": [
            "5\n",
            "0\n",
            "1\n",
            "3\n"
          ]
        }
      ],
      "source": [
        "print( getFirstLastInxSum([20,10,10,40,10,5],10) )\n",
        "\n",
        "print( getFirstLastInxSum([2,15],19) )\n",
        "\n",
        "print( getFirstLastInxSum([82,40,3],40) )\n",
        "\n",
        "print( getFirstLastInxSum([6,6,6,6],6) )\n"
      ]
    },
    {
      "cell_type": "code",
      "execution_count": null,
      "id": "268c6b42",
      "metadata": {
        "id": "268c6b42"
      },
      "outputs": [],
      "source": []
    },
    {
      "cell_type": "code",
      "execution_count": null,
      "id": "92825ead",
      "metadata": {
        "id": "92825ead",
        "outputId": "1ef9f46f-908f-4e98-cbf7-19bbd46da106"
      },
      "outputs": [
        {
          "name": "stdout",
          "output_type": "stream",
          "text": [
            "5\n",
            "0\n",
            "1\n",
            "3\n"
          ]
        }
      ],
      "source": [
        "def getFirstLastInxSum2(lst, search):\n",
        "\n",
        "    try:\n",
        "        if lst.index(search) == ( len(lst) - lst[::-1].index(search) - 1 ):\n",
        "            return lst.index(search)\n",
        "        else:\n",
        "            return lst.index(search) + ( len(lst) - lst[::-1].index(search) - 1 )\n",
        "    except:\n",
        "        return 0\n",
        "\n",
        "\n",
        "print(getFirstLastInxSum2([20, 10, 10, 40, 10, 5], 10))\n",
        "print(getFirstLastInxSum2([2, 15], 19))\n",
        "print(getFirstLastInxSum2([82, 40, 3], 40))\n",
        "print(getFirstLastInxSum2([6, 6, 6, 6], 6))"
      ]
    },
    {
      "cell_type": "code",
      "execution_count": null,
      "id": "9bc85622",
      "metadata": {
        "id": "9bc85622"
      },
      "outputs": [],
      "source": []
    },
    {
      "cell_type": "code",
      "execution_count": null,
      "id": "c5cb4bc2",
      "metadata": {
        "id": "c5cb4bc2"
      },
      "outputs": [],
      "source": []
    },
    {
      "cell_type": "code",
      "execution_count": null,
      "id": "d93d9487",
      "metadata": {
        "id": "d93d9487",
        "outputId": "083b6ca5-62ca-43f3-ffc1-7bf353196e41"
      },
      "outputs": [
        {
          "ename": "SyntaxError",
          "evalue": "invalid character '💻' (U+1F4BB) (1444899307.py, line 3)",
          "output_type": "error",
          "traceback": [
            "\u001b[1;36m  Cell \u001b[1;32mIn[136], line 3\u001b[1;36m\u001b[0m\n\u001b[1;33m    💻 Write a function which takes string as input\u001b[0m\n\u001b[1;37m    ^\u001b[0m\n\u001b[1;31mSyntaxError\u001b[0m\u001b[1;31m:\u001b[0m invalid character '💻' (U+1F4BB)\n"
          ]
        }
      ],
      "source": [
        "26.\n",
        "\n",
        "💻 Write a function which takes string as input\n",
        "and returns sum if the string contains only\n",
        "numbers else -1 - as shown in the samples.\n",
        "\n",
        "getStrSum(\"123\") = 6\n",
        "\n",
        "getStrSum(\"1ABC23\") = -1\n",
        "\n",
        "getStrSum(\"809\") = 17"
      ]
    },
    {
      "cell_type": "code",
      "execution_count": null,
      "id": "c6e1dab8",
      "metadata": {
        "id": "c6e1dab8"
      },
      "outputs": [],
      "source": [
        "def getStrSum(s):\n",
        "    try:\n",
        "        return sum([int(i) for i in list(s) if i!=i.isdigit()])\n",
        "    except:\n",
        "        return -1"
      ]
    },
    {
      "cell_type": "code",
      "execution_count": null,
      "id": "e1930b0e",
      "metadata": {
        "id": "e1930b0e",
        "outputId": "551b4681-10aa-4bb3-b63e-6ea64cebb5b3"
      },
      "outputs": [
        {
          "name": "stdout",
          "output_type": "stream",
          "text": [
            "6\n",
            "-1\n",
            "17\n"
          ]
        }
      ],
      "source": [
        "print( getStrSum(\"123\") )\n",
        "\n",
        "print( getStrSum(\"1ABC23\") )\n",
        "\n",
        "print( getStrSum(\"809\") )"
      ]
    },
    {
      "cell_type": "code",
      "execution_count": null,
      "id": "515d3d43",
      "metadata": {
        "id": "515d3d43"
      },
      "outputs": [],
      "source": []
    },
    {
      "cell_type": "code",
      "execution_count": null,
      "id": "4a499f49",
      "metadata": {
        "id": "4a499f49"
      },
      "outputs": [],
      "source": []
    },
    {
      "cell_type": "code",
      "execution_count": null,
      "id": "ee2c7f39",
      "metadata": {
        "id": "ee2c7f39"
      },
      "outputs": [],
      "source": []
    },
    {
      "cell_type": "code",
      "execution_count": null,
      "id": "0dd8b2f9",
      "metadata": {
        "id": "0dd8b2f9",
        "outputId": "dd8c611d-5fe8-48d3-a420-23e5f3869f94"
      },
      "outputs": [
        {
          "name": "stdout",
          "output_type": "stream",
          "text": [
            "6\n",
            "-1\n",
            "17\n"
          ]
        }
      ],
      "source": [
        "def getStrSum(s):\n",
        "    if s.isdigit():  # Check if all characters in the string are digits\n",
        "        return sum(int(char) for char in s)  # Sum the integer value of each character\n",
        "    else:\n",
        "        return -1  # Return -1 if the string contains non-digit characters\n",
        "\n",
        "# Examples\n",
        "print(getStrSum(\"123\"))  # Output: 6\n",
        "print(getStrSum(\"1ABC23\"))  # Output: -1\n",
        "print(getStrSum(\"809\"))  # Output: 17"
      ]
    },
    {
      "cell_type": "code",
      "execution_count": null,
      "id": "121b614f",
      "metadata": {
        "id": "121b614f"
      },
      "outputs": [],
      "source": []
    },
    {
      "cell_type": "code",
      "execution_count": null,
      "id": "a1c1940e",
      "metadata": {
        "id": "a1c1940e"
      },
      "outputs": [],
      "source": [
        "def getStrSum(s):\n",
        "    total=0\n",
        "    for i in s:\n",
        "        if i.isalpha():\n",
        "            return -1\n",
        "        else:\n",
        "            total+=int(i)\n",
        "    return total"
      ]
    },
    {
      "cell_type": "code",
      "execution_count": null,
      "id": "8d6b99b6",
      "metadata": {
        "id": "8d6b99b6",
        "outputId": "3d86777b-8fba-43c9-9844-0ef19658cc78"
      },
      "outputs": [
        {
          "name": "stdout",
          "output_type": "stream",
          "text": [
            "6\n",
            "-1\n",
            "17\n"
          ]
        }
      ],
      "source": [
        "print( getStrSum(\"123\") )\n",
        "\n",
        "print( getStrSum(\"1ABC23\") )\n",
        "\n",
        "print( getStrSum(\"809\") )"
      ]
    },
    {
      "cell_type": "code",
      "execution_count": null,
      "id": "5770e079",
      "metadata": {
        "id": "5770e079"
      },
      "outputs": [],
      "source": []
    },
    {
      "cell_type": "code",
      "execution_count": null,
      "id": "ed7de6e4",
      "metadata": {
        "id": "ed7de6e4"
      },
      "outputs": [],
      "source": [
        "from functools import reduce\n",
        "def getStrSum2(s):\n",
        "    return reduce(lambda x,y:x+y, map(int,s)) if s.isdigit() else -1"
      ]
    },
    {
      "cell_type": "code",
      "execution_count": null,
      "id": "93ee89c7",
      "metadata": {
        "id": "93ee89c7",
        "outputId": "0e14b4b9-3618-44be-e62d-ece3e408c35f"
      },
      "outputs": [
        {
          "name": "stdout",
          "output_type": "stream",
          "text": [
            "6\n",
            "-1\n",
            "17\n"
          ]
        }
      ],
      "source": [
        "print( getStrSum2(\"123\") )\n",
        "\n",
        "print( getStrSum2(\"1ABC23\") )\n",
        "\n",
        "print( getStrSum2(\"809\") )"
      ]
    },
    {
      "cell_type": "code",
      "execution_count": null,
      "id": "b3230e50",
      "metadata": {
        "id": "b3230e50"
      },
      "outputs": [],
      "source": []
    },
    {
      "cell_type": "code",
      "execution_count": null,
      "id": "7c8e4b98",
      "metadata": {
        "id": "7c8e4b98"
      },
      "outputs": [],
      "source": []
    },
    {
      "cell_type": "code",
      "execution_count": null,
      "id": "570723cd",
      "metadata": {
        "id": "570723cd"
      },
      "outputs": [],
      "source": [
        "25.\n",
        "\n",
        "💻 Write a function which takes \"List of Strings\" as input\n",
        "- containing \"firstName lastName\" - and returns the\n",
        "\"List of Strings\" containing \"lastName firstName\" -\n",
        "as shown in the samples.\n",
        "\n",
        "reverseName(List(\"Rohan Kumar\",\"Jeevan Bose\"))\n",
        "= List(\"Kumar Rohan\",\"Bose Jeevan\")\n",
        "\n",
        "reverseName(List(\"Shivangi Sharma\",\"Samarth Roy\",\"Keshav Kunal\"))\n",
        "= List(\"Sharma Shivangi\",\"Roy Samarth\",\"Kunal Keshav\")"
      ]
    },
    {
      "cell_type": "code",
      "execution_count": null,
      "id": "37f069b0",
      "metadata": {
        "id": "37f069b0"
      },
      "outputs": [],
      "source": []
    },
    {
      "cell_type": "code",
      "execution_count": null,
      "id": "ad0fb302",
      "metadata": {
        "id": "ad0fb302"
      },
      "outputs": [],
      "source": [
        "def reverseName(l):\n",
        "    return [' '.join(i.split()[::-1]) for i in l]"
      ]
    },
    {
      "cell_type": "code",
      "execution_count": null,
      "id": "fc3aa578",
      "metadata": {
        "id": "fc3aa578",
        "outputId": "8884d626-e6e5-4ea1-e235-6f3035a42124"
      },
      "outputs": [
        {
          "name": "stdout",
          "output_type": "stream",
          "text": [
            "['Kumar Rohan', 'Bose Jeevan']\n",
            "['Sharma Shivangi', 'Roy Samarth', 'Kunal Keshav']\n"
          ]
        }
      ],
      "source": [
        "print(reverseName([\"Rohan Kumar\",\"Jeevan Bose\"]))\n",
        "print(reverseName([\"Shivangi Sharma\",\"Samarth Roy\",\"Keshav Kunal\"]))"
      ]
    },
    {
      "cell_type": "code",
      "execution_count": null,
      "id": "e4933cf6",
      "metadata": {
        "id": "e4933cf6"
      },
      "outputs": [],
      "source": []
    },
    {
      "cell_type": "code",
      "execution_count": null,
      "id": "29bcc76e",
      "metadata": {
        "id": "29bcc76e"
      },
      "outputs": [],
      "source": []
    },
    {
      "cell_type": "code",
      "execution_count": null,
      "id": "351422c5",
      "metadata": {
        "id": "351422c5"
      },
      "outputs": [],
      "source": [
        "def reverseName(l):\n",
        "    x=[]\n",
        "    final=[]\n",
        "\n",
        "    for i in l:\n",
        "        x.append( i.split()[::-1])\n",
        "\n",
        "    for i in x:\n",
        "        final.append(' '.join(i))\n",
        "    return final"
      ]
    },
    {
      "cell_type": "code",
      "execution_count": null,
      "id": "70da8537",
      "metadata": {
        "id": "70da8537",
        "outputId": "43022a16-975a-4e2e-d983-fc3ae9bb219a"
      },
      "outputs": [
        {
          "name": "stdout",
          "output_type": "stream",
          "text": [
            "['Kumar Rohan', 'Bose Jeevan']\n",
            "['Sharma Shivangi', 'Roy Samarth', 'Kunal Keshav']\n"
          ]
        }
      ],
      "source": [
        "print( reverseName2([\"Rohan Kumar\",\"Jeevan Bose\"]) )\n",
        "print( reverseName2([\"Shivangi Sharma\",\"Samarth Roy\",\"Keshav Kunal\"]) )"
      ]
    },
    {
      "cell_type": "code",
      "execution_count": null,
      "id": "0b612211",
      "metadata": {
        "id": "0b612211"
      },
      "outputs": [],
      "source": []
    },
    {
      "cell_type": "code",
      "execution_count": null,
      "id": "43a8b4d8",
      "metadata": {
        "id": "43a8b4d8"
      },
      "outputs": [],
      "source": [
        "def reverseName2(l):\n",
        "    return [ i.split()[1]+' '+i.split()[0] for i in l ]"
      ]
    },
    {
      "cell_type": "code",
      "execution_count": null,
      "id": "98dc1b24",
      "metadata": {
        "id": "98dc1b24",
        "outputId": "e25135db-7dcf-4b8e-b61b-38356fdfb751"
      },
      "outputs": [
        {
          "name": "stdout",
          "output_type": "stream",
          "text": [
            "['Kumar Rohan', 'Bose Jeevan']\n",
            "['Sharma Shivangi', 'Roy Samarth', 'Kunal Keshav']\n"
          ]
        }
      ],
      "source": [
        "print( reverseName2([\"Rohan Kumar\",\"Jeevan Bose\"]) )\n",
        "print( reverseName2([\"Shivangi Sharma\",\"Samarth Roy\",\"Keshav Kunal\"]) )"
      ]
    },
    {
      "cell_type": "code",
      "execution_count": null,
      "id": "0c66c0fe",
      "metadata": {
        "id": "0c66c0fe"
      },
      "outputs": [],
      "source": []
    },
    {
      "cell_type": "code",
      "execution_count": null,
      "id": "089dd75f",
      "metadata": {
        "id": "089dd75f"
      },
      "outputs": [],
      "source": []
    },
    {
      "cell_type": "code",
      "execution_count": null,
      "id": "1aebbd0a",
      "metadata": {
        "id": "1aebbd0a"
      },
      "outputs": [],
      "source": []
    },
    {
      "cell_type": "code",
      "execution_count": null,
      "id": "e5a5e451",
      "metadata": {
        "id": "e5a5e451"
      },
      "outputs": [],
      "source": [
        "24.\n",
        "\n",
        "\n",
        "💻 Write a function which takes \"Array of Integers\" as input\n",
        "and returns the \"Array of Integers\" containing only perfect\n",
        "square numbers - as shown in the samples.\n",
        "\n",
        "getPerfectSquares(Array(10,9,36,45,99,484)) = Array(9,36,484)\n",
        "\n",
        "getPerfectSquares(Array(10,20,30)) = Array()\n",
        "\n",
        "getPerfectSquares(Array(5,961,729,400,25,120,4)) = Array(961,729,400,25,4)"
      ]
    },
    {
      "cell_type": "code",
      "execution_count": null,
      "id": "e4635544",
      "metadata": {
        "id": "e4635544"
      },
      "outputs": [],
      "source": [
        "from math import sqrt\n",
        "\n",
        "def getPerfectSquares(l):\n",
        "    return [i for i in l if int(sqrt(i))**2 == i ]"
      ]
    },
    {
      "cell_type": "code",
      "execution_count": null,
      "id": "1e1fba52",
      "metadata": {
        "id": "1e1fba52",
        "outputId": "6a62a880-0b64-4796-fdf9-728f4e459c61"
      },
      "outputs": [
        {
          "name": "stdout",
          "output_type": "stream",
          "text": [
            "[9, 36, 484]\n",
            "[]\n",
            "[961, 729, 400, 25, 4]\n"
          ]
        }
      ],
      "source": [
        "print( getPerfectSquares([10,9,36,45,99,484]) )\n",
        "\n",
        "print( getPerfectSquares([10,20,30]) )\n",
        "\n",
        "print( getPerfectSquares([5,961,729,400,25,120,4]) )"
      ]
    },
    {
      "cell_type": "code",
      "execution_count": null,
      "id": "d59243ea",
      "metadata": {
        "id": "d59243ea"
      },
      "outputs": [],
      "source": []
    },
    {
      "cell_type": "code",
      "execution_count": null,
      "id": "cdc5e9d9",
      "metadata": {
        "id": "cdc5e9d9"
      },
      "outputs": [],
      "source": []
    },
    {
      "cell_type": "code",
      "execution_count": null,
      "id": "0b3b5588",
      "metadata": {
        "id": "0b3b5588"
      },
      "outputs": [],
      "source": [
        "import math as m\n",
        "def getPerfectSquares(l):\n",
        "    return [i for i in l if i==m.isqrt(i)**2]"
      ]
    },
    {
      "cell_type": "code",
      "execution_count": null,
      "id": "be592528",
      "metadata": {
        "id": "be592528",
        "outputId": "3e449f24-a6a4-4990-c301-c83778dc192f"
      },
      "outputs": [
        {
          "name": "stdout",
          "output_type": "stream",
          "text": [
            "[9, 36, 484]\n",
            "[]\n",
            "[961, 729, 400, 25, 4]\n"
          ]
        }
      ],
      "source": [
        "print( getPerfectSquares([10,9,36,45,99,484]) )\n",
        "\n",
        "print( getPerfectSquares([10,20,30]) )\n",
        "\n",
        "print( getPerfectSquares([5,961,729,400,25,120,4]) )"
      ]
    },
    {
      "cell_type": "code",
      "execution_count": null,
      "id": "83a7096b",
      "metadata": {
        "id": "83a7096b"
      },
      "outputs": [],
      "source": []
    },
    {
      "cell_type": "code",
      "execution_count": null,
      "id": "6c3019cf",
      "metadata": {
        "id": "6c3019cf"
      },
      "outputs": [],
      "source": [
        "import math as m\n",
        "def getPerfectSquares2(l):\n",
        "\n",
        "    return [i for i in l if m.sqrt(i)==int(m.sqrt(i)) ]\n",
        ""
      ]
    },
    {
      "cell_type": "code",
      "execution_count": null,
      "id": "202a194f",
      "metadata": {
        "id": "202a194f",
        "outputId": "d6edc348-03a2-4951-f953-a9e5c581f90c"
      },
      "outputs": [
        {
          "name": "stdout",
          "output_type": "stream",
          "text": [
            "[9, 36, 484]\n",
            "[]\n",
            "[961, 729, 400, 25, 4]\n"
          ]
        }
      ],
      "source": [
        "print( getPerfectSquares2([10,9,36,45,99,484]) )\n",
        "\n",
        "print( getPerfectSquares2([10,20,30]) )\n",
        "\n",
        "print( getPerfectSquares2([5,961,729,400,25,120,4]) )"
      ]
    },
    {
      "cell_type": "code",
      "execution_count": null,
      "id": "58fd4b4f",
      "metadata": {
        "id": "58fd4b4f"
      },
      "outputs": [],
      "source": []
    },
    {
      "cell_type": "code",
      "execution_count": null,
      "id": "eda8705f",
      "metadata": {
        "id": "eda8705f"
      },
      "outputs": [],
      "source": []
    },
    {
      "cell_type": "code",
      "execution_count": null,
      "id": "518bfe89",
      "metadata": {
        "id": "518bfe89"
      },
      "outputs": [],
      "source": []
    },
    {
      "cell_type": "code",
      "execution_count": null,
      "id": "a8f16860",
      "metadata": {
        "id": "a8f16860"
      },
      "outputs": [],
      "source": []
    },
    {
      "cell_type": "code",
      "execution_count": null,
      "id": "0c43fb55",
      "metadata": {
        "id": "0c43fb55"
      },
      "outputs": [],
      "source": [
        "23.\n",
        "\n",
        "💻 Write a function which takes \"Array of Integers\" as input\n",
        "having elements in ascending order and returns the\n",
        "\"Array of Integers\" containing missing elements -\n",
        "as shown in the samples.\n",
        "\n",
        "Note: 1st and last element of the input Array are not missed any time.\n",
        "\n",
        "missingNums(Array(1,3,8,9,11)) = Array(2,4,5,6,7,10)\n",
        "\n",
        "missingNums(Array(56,57)) = Array()\n",
        "\n",
        "missingNums(Array(10,15,18)) = Array(11,12,13,14,16,17)"
      ]
    },
    {
      "cell_type": "code",
      "execution_count": null,
      "id": "dd89fc5d",
      "metadata": {
        "id": "dd89fc5d"
      },
      "outputs": [],
      "source": []
    },
    {
      "cell_type": "code",
      "execution_count": null,
      "id": "33e85689",
      "metadata": {
        "id": "33e85689"
      },
      "outputs": [],
      "source": [
        "def missingNums(l):\n",
        "    return [i for i in range(l[0],l[-1]) if i not in l]"
      ]
    },
    {
      "cell_type": "code",
      "execution_count": null,
      "id": "5a97e814",
      "metadata": {
        "id": "5a97e814",
        "outputId": "4b811238-511a-4427-a98d-bb8eb8ef9e70"
      },
      "outputs": [
        {
          "name": "stdout",
          "output_type": "stream",
          "text": [
            "[2, 4, 5, 6, 7, 10]\n",
            "[]\n",
            "[11, 12, 13, 14, 16, 17]\n"
          ]
        }
      ],
      "source": [
        "print( missingNums([1,3,8,9,11]) )\n",
        "\n",
        "print( missingNums([56,57]) )\n",
        "\n",
        "print( missingNums([10,15,18]) )"
      ]
    },
    {
      "cell_type": "code",
      "execution_count": null,
      "id": "99670c03",
      "metadata": {
        "id": "99670c03"
      },
      "outputs": [],
      "source": []
    },
    {
      "cell_type": "code",
      "execution_count": null,
      "id": "f9a52367",
      "metadata": {
        "id": "f9a52367"
      },
      "outputs": [],
      "source": []
    },
    {
      "cell_type": "code",
      "execution_count": null,
      "id": "49e9d746",
      "metadata": {
        "id": "49e9d746"
      },
      "outputs": [],
      "source": []
    },
    {
      "cell_type": "code",
      "execution_count": null,
      "id": "7116e297",
      "metadata": {
        "id": "7116e297"
      },
      "outputs": [],
      "source": [
        "def missingNums2(l):\n",
        "\n",
        "    return list( set(range(l[0],l[-1])) - set(l) )\n",
        ""
      ]
    },
    {
      "cell_type": "code",
      "execution_count": null,
      "id": "a7a5bee0",
      "metadata": {
        "id": "a7a5bee0",
        "outputId": "483b37a8-9a1c-4639-9813-9e8dd965f91f"
      },
      "outputs": [
        {
          "name": "stdout",
          "output_type": "stream",
          "text": [
            "[2, 4, 5, 6, 7, 10]\n",
            "[]\n",
            "[11, 12, 13, 14, 16, 17]\n"
          ]
        }
      ],
      "source": [
        "print( missingNums2([1,3,8,9,11]) )\n",
        "\n",
        "print( missingNums2([56,57]) )\n",
        "\n",
        "print( missingNums2([10,15,18]) )"
      ]
    },
    {
      "cell_type": "code",
      "execution_count": null,
      "id": "ece7ad1a",
      "metadata": {
        "id": "ece7ad1a"
      },
      "outputs": [],
      "source": []
    },
    {
      "cell_type": "code",
      "execution_count": null,
      "id": "0fa71c5f",
      "metadata": {
        "id": "0fa71c5f"
      },
      "outputs": [],
      "source": []
    },
    {
      "cell_type": "code",
      "execution_count": null,
      "id": "6dfac68b",
      "metadata": {
        "id": "6dfac68b"
      },
      "outputs": [],
      "source": []
    },
    {
      "cell_type": "code",
      "execution_count": null,
      "id": "09c57d10",
      "metadata": {
        "id": "09c57d10"
      },
      "outputs": [],
      "source": []
    },
    {
      "cell_type": "code",
      "execution_count": null,
      "id": "0e36ca23",
      "metadata": {
        "id": "0e36ca23"
      },
      "outputs": [],
      "source": []
    },
    {
      "cell_type": "code",
      "execution_count": null,
      "id": "69ef1e02",
      "metadata": {
        "id": "69ef1e02"
      },
      "outputs": [],
      "source": [
        "22.\n",
        "\n",
        "💻 Write a function which takes \"Array of Integers\" as\n",
        "input and returns the \"Array of Integers\" containing elements\n",
        "which are smaller than their left and right neighbour\n",
        "elements - as shown in the samples.\n",
        "\n",
        "smallerNums(Array(10,5,20,43,36,73,93,5)) = Array(5,36)\n",
        "\n",
        "smallerNums(Array(43,5)) = Array()\n",
        "//Explanation: 43 has no left neighbour & 5 has no right neighbour.\n",
        "\n",
        "smallerNums(Array(89,41,96)) = Array(41)"
      ]
    },
    {
      "cell_type": "code",
      "execution_count": null,
      "id": "23e2dee5",
      "metadata": {
        "id": "23e2dee5"
      },
      "outputs": [],
      "source": [
        "def smallerNums(l):\n",
        "    n=len(l)\n",
        "    final=[]\n",
        "    for i in range(1,n-1):\n",
        "        if l[i-1]>l[i] and l[i]<l[i+1]:\n",
        "            final.append(l[i])\n",
        "    return final"
      ]
    },
    {
      "cell_type": "code",
      "execution_count": null,
      "id": "ccde20a4",
      "metadata": {
        "id": "ccde20a4",
        "outputId": "f846f743-6b83-4588-86a4-e2d520e79713"
      },
      "outputs": [
        {
          "name": "stdout",
          "output_type": "stream",
          "text": [
            "[5, 36]\n",
            "[]\n",
            "[41]\n"
          ]
        }
      ],
      "source": [
        "print( smallerNums([10,5,20,43,36,73,93,5]) )\n",
        "\n",
        "print( smallerNums([43,5]) )\n",
        "\n",
        "print( smallerNums([89,41,96]) )\n"
      ]
    },
    {
      "cell_type": "code",
      "execution_count": null,
      "id": "45cc320d",
      "metadata": {
        "id": "45cc320d"
      },
      "outputs": [],
      "source": []
    },
    {
      "cell_type": "code",
      "execution_count": null,
      "id": "bf810f65",
      "metadata": {
        "id": "bf810f65"
      },
      "outputs": [],
      "source": [
        "def smallerNums(l):\n",
        "    n=len(l)\n",
        "    return [l[i] for i in range(1,n-1) if (l[i-1]>l[i] and l[i]<l[i+1]) ]\n",
        ""
      ]
    },
    {
      "cell_type": "code",
      "execution_count": null,
      "id": "55e9b531",
      "metadata": {
        "id": "55e9b531",
        "outputId": "2ddabf61-890a-48b7-8f3f-14d58f3262de"
      },
      "outputs": [
        {
          "name": "stdout",
          "output_type": "stream",
          "text": [
            "[5, 36]\n",
            "[]\n",
            "[41]\n"
          ]
        }
      ],
      "source": [
        "print( smallerNums([10,5,20,43,36,73,93,5]) )\n",
        "\n",
        "print( smallerNums([43,5]) )\n",
        "\n",
        "print( smallerNums([89,41,96]) )\n"
      ]
    },
    {
      "cell_type": "code",
      "execution_count": null,
      "id": "7d711a31",
      "metadata": {
        "id": "7d711a31"
      },
      "outputs": [],
      "source": []
    },
    {
      "cell_type": "code",
      "execution_count": null,
      "id": "4841aa09",
      "metadata": {
        "id": "4841aa09"
      },
      "outputs": [],
      "source": []
    },
    {
      "cell_type": "code",
      "execution_count": null,
      "id": "8ecf40ac",
      "metadata": {
        "id": "8ecf40ac"
      },
      "outputs": [],
      "source": [
        "21.\n",
        "\n",
        "💻 Write a function which takes an Integer as input and\n",
        "returns the string pattern - as shown in the samples.\n",
        "\n",
        "givePattern1(2) = 1,11\n",
        "\n",
        "givePattern1(3) = 1,11,111\n",
        "\n",
        "givePattern1(5) = 1,11,111,1111,11111"
      ]
    },
    {
      "cell_type": "code",
      "execution_count": null,
      "id": "91fbdc94",
      "metadata": {
        "id": "91fbdc94"
      },
      "outputs": [],
      "source": [
        "def givePattern1(n):\n",
        "    final=''\n",
        "\n",
        "    for i in range(1,n+1):\n",
        "        final+='1'* i + ','\n",
        "    return final"
      ]
    },
    {
      "cell_type": "code",
      "execution_count": null,
      "id": "3de2be9c",
      "metadata": {
        "id": "3de2be9c",
        "outputId": "076a780b-3ec6-4355-a342-024ec08c969c"
      },
      "outputs": [
        {
          "name": "stdout",
          "output_type": "stream",
          "text": [
            "1,11,\n",
            "1,11,111,\n",
            "1,11,111,1111,11111,\n"
          ]
        }
      ],
      "source": [
        "print( givePattern1(2) )\n",
        "print( givePattern1(3) )\n",
        "print( givePattern1(5) )"
      ]
    },
    {
      "cell_type": "code",
      "execution_count": null,
      "id": "a8354aad",
      "metadata": {
        "id": "a8354aad"
      },
      "outputs": [],
      "source": []
    },
    {
      "cell_type": "code",
      "execution_count": null,
      "id": "7b3531c2",
      "metadata": {
        "id": "7b3531c2"
      },
      "outputs": [],
      "source": []
    },
    {
      "cell_type": "code",
      "execution_count": null,
      "id": "f5ab90ee",
      "metadata": {
        "id": "f5ab90ee"
      },
      "outputs": [],
      "source": [
        "def givePattern1(n):\n",
        "\n",
        "    final=[]\n",
        "    for i in range(n):\n",
        "        s=''\n",
        "        for j in range(i+1):\n",
        "            s+='1'\n",
        "        final.append(s)\n",
        "    return ','.join(final)\n",
        ""
      ]
    },
    {
      "cell_type": "code",
      "execution_count": null,
      "id": "39c4e1a3",
      "metadata": {
        "id": "39c4e1a3",
        "outputId": "9b9ada88-7a11-49dd-b2fd-af4207d85355"
      },
      "outputs": [
        {
          "name": "stdout",
          "output_type": "stream",
          "text": [
            "1,11\n",
            "1,11,111\n",
            "1,11,111,1111,11111\n"
          ]
        }
      ],
      "source": [
        "print( givePattern1(2) )\n",
        "print( givePattern1(3) )\n",
        "print( givePattern1(5) )"
      ]
    },
    {
      "cell_type": "code",
      "execution_count": null,
      "id": "caf9c164",
      "metadata": {
        "id": "caf9c164"
      },
      "outputs": [],
      "source": []
    },
    {
      "cell_type": "code",
      "execution_count": null,
      "id": "bdd45565",
      "metadata": {
        "id": "bdd45565"
      },
      "outputs": [],
      "source": [
        "def givePattern1_2(n):\n",
        "    return ','.join([i*'1' for i in range(1,n+1)])\n",
        ""
      ]
    },
    {
      "cell_type": "code",
      "execution_count": null,
      "id": "c7063129",
      "metadata": {
        "id": "c7063129",
        "outputId": "a232f1b2-17f5-4bab-8741-caca47f51c21"
      },
      "outputs": [
        {
          "name": "stdout",
          "output_type": "stream",
          "text": [
            "1,11\n",
            "1,11,111\n",
            "1,11,111,1111,11111\n"
          ]
        }
      ],
      "source": [
        "print( givePattern1_2(2) )\n",
        "print( givePattern1_2(3) )\n",
        "print( givePattern1_2(5) )"
      ]
    },
    {
      "cell_type": "code",
      "execution_count": null,
      "id": "21e47d68",
      "metadata": {
        "id": "21e47d68"
      },
      "outputs": [],
      "source": []
    },
    {
      "cell_type": "code",
      "execution_count": null,
      "id": "afad7074",
      "metadata": {
        "id": "afad7074"
      },
      "outputs": [],
      "source": []
    },
    {
      "cell_type": "code",
      "execution_count": null,
      "id": "193e4834",
      "metadata": {
        "id": "193e4834"
      },
      "outputs": [],
      "source": []
    },
    {
      "cell_type": "code",
      "execution_count": null,
      "id": "ab8549d7",
      "metadata": {
        "id": "ab8549d7"
      },
      "outputs": [],
      "source": [
        "20.\n",
        "\n",
        "💻 Write a function which takes an Integer as input and\n",
        "returns the reversed Integer - as shown in the samples.\n",
        "\n",
        "reverseInt(125) = 521\n",
        "\n",
        "reverseInt(-235) = -532\n",
        "\n",
        "reverseInt(1500) = 51"
      ]
    },
    {
      "cell_type": "code",
      "execution_count": null,
      "id": "074d8a6a",
      "metadata": {
        "id": "074d8a6a"
      },
      "outputs": [],
      "source": []
    },
    {
      "cell_type": "code",
      "execution_count": null,
      "id": "ec2fdf8f",
      "metadata": {
        "id": "ec2fdf8f"
      },
      "outputs": [],
      "source": [
        "def reverseInt(n):\n",
        "    if n<0:\n",
        "        temp = -n\n",
        "    else:\n",
        "        temp = n\n",
        "    rev_num = 0\n",
        "\n",
        "    while temp>0:\n",
        "        rem = temp%10\n",
        "        rev_num = rev_num*10 + rem\n",
        "        temp//=10\n",
        "\n",
        "    return rev_num if n>0 else -rev_num"
      ]
    },
    {
      "cell_type": "code",
      "execution_count": null,
      "id": "f6ee7978",
      "metadata": {
        "id": "f6ee7978",
        "outputId": "a524f27c-d3b5-4107-cb11-3ec060b439b3"
      },
      "outputs": [
        {
          "name": "stdout",
          "output_type": "stream",
          "text": [
            "521\n",
            "-532\n",
            "51\n"
          ]
        }
      ],
      "source": [
        "print( reverseInt(125) )\n",
        "print( reverseInt(-235) )\n",
        "print( reverseInt(1500) )"
      ]
    },
    {
      "cell_type": "code",
      "execution_count": null,
      "id": "8a2995c6",
      "metadata": {
        "id": "8a2995c6"
      },
      "outputs": [],
      "source": []
    },
    {
      "cell_type": "code",
      "execution_count": null,
      "id": "f9c54765",
      "metadata": {
        "id": "f9c54765"
      },
      "outputs": [],
      "source": []
    },
    {
      "cell_type": "code",
      "execution_count": null,
      "id": "5089cb0c",
      "metadata": {
        "id": "5089cb0c"
      },
      "outputs": [],
      "source": [
        "def reverseInt(n):\n",
        "    # Handle negative numbers by remembering the sign\n",
        "    sign = -1 if n < 0 else 1\n",
        "    reversed_str = str(abs(n))[::-1]\n",
        "    reversed_int = sign * int(reversed_str)\n",
        "\n",
        "    return reversed_int"
      ]
    },
    {
      "cell_type": "code",
      "execution_count": null,
      "id": "dd644088",
      "metadata": {
        "id": "dd644088",
        "outputId": "f6a3648c-2198-49b2-9a09-f86f62c2a841"
      },
      "outputs": [
        {
          "name": "stdout",
          "output_type": "stream",
          "text": [
            "521\n",
            "-532\n",
            "51\n"
          ]
        }
      ],
      "source": [
        "print( reverseInt(125) )\n",
        "print( reverseInt(-235) )\n",
        "print( reverseInt(1500) )"
      ]
    },
    {
      "cell_type": "code",
      "execution_count": null,
      "id": "dbdd4a2c",
      "metadata": {
        "id": "dbdd4a2c"
      },
      "outputs": [],
      "source": []
    },
    {
      "cell_type": "code",
      "execution_count": null,
      "id": "abc93e2f",
      "metadata": {
        "id": "abc93e2f"
      },
      "outputs": [],
      "source": [
        "def reverseInt2(n):\n",
        "    if n<0:\n",
        "        rev_str = '-' + str(abs(n))[::-1]\n",
        "    else:\n",
        "        rev_str = str(n)[::-1]\n",
        "    return int(rev_str)"
      ]
    },
    {
      "cell_type": "code",
      "execution_count": null,
      "id": "6ca093b5",
      "metadata": {
        "id": "6ca093b5",
        "outputId": "cb6fa232-8df2-400f-8784-907e03aefed6"
      },
      "outputs": [
        {
          "name": "stdout",
          "output_type": "stream",
          "text": [
            "521\n",
            "-532\n",
            "51\n"
          ]
        }
      ],
      "source": [
        "print( reverseInt2(125) )\n",
        "print( reverseInt2(-235) )\n",
        "print( reverseInt2(1500) )"
      ]
    },
    {
      "cell_type": "code",
      "execution_count": null,
      "id": "83b2cbbc",
      "metadata": {
        "id": "83b2cbbc"
      },
      "outputs": [],
      "source": []
    },
    {
      "cell_type": "code",
      "execution_count": null,
      "id": "a8046f39",
      "metadata": {
        "id": "a8046f39"
      },
      "outputs": [],
      "source": []
    },
    {
      "cell_type": "code",
      "execution_count": null,
      "id": "4ffcf99d",
      "metadata": {
        "id": "4ffcf99d"
      },
      "outputs": [],
      "source": []
    },
    {
      "cell_type": "code",
      "execution_count": null,
      "id": "feadcd03",
      "metadata": {
        "id": "feadcd03"
      },
      "outputs": [],
      "source": [
        "19.\n",
        "\n",
        "💻 Write a function which takes 2 inputs - \"Array of Integers\"\n",
        "and a number & returns the rotated array by the specified number\n",
        "- as shown in the samples.\n",
        "\n",
        "rotateArray(Array(5,10,12,16,2,9),1)\n",
        "= Array(10, 12, 16, 2, 9, 5)\n",
        "\n",
        "rotateArray(Array(5,10,12,16,2,9),2)\n",
        "= Array(12, 16, 2, 9, 5, 10)\n",
        "\n",
        "rotateArray(Array(5,10,12,16,2,9),3)\n",
        "= Array(16, 2, 9, 5, 10, 12)\n",
        "\n",
        "rotateArray(Array(5,10,12,16,2,9),5)\n",
        "= Array(9, 5, 10, 12, 16, 2)\n",
        "\n",
        "rotateArray(Array(5,10,12,16,2,9),1)\n",
        "= Array(10, 12, 16, 2, 9, 7)"
      ]
    },
    {
      "cell_type": "code",
      "execution_count": null,
      "id": "3e24cbd9",
      "metadata": {
        "id": "3e24cbd9"
      },
      "outputs": [],
      "source": [
        "def rotateArray(l,n):\n",
        "    length = len(l)\n",
        "    n = n % length\n",
        "    return l[n:] + l[:n]"
      ]
    },
    {
      "cell_type": "code",
      "execution_count": null,
      "id": "7b3e7630",
      "metadata": {
        "id": "7b3e7630",
        "outputId": "89989f08-641f-4caf-f47f-f6ce607e3fdd"
      },
      "outputs": [
        {
          "name": "stdout",
          "output_type": "stream",
          "text": [
            "[10, 12, 16, 2, 9, 5]\n",
            "[12, 16, 2, 9, 5, 10]\n",
            "[16, 2, 9, 5, 10, 12]\n",
            "[9, 5, 10, 12, 16, 2]\n",
            "[10, 12, 16, 2, 9, 5]\n"
          ]
        }
      ],
      "source": [
        "print( rotateArray([5,10,12,16,2,9],1) )\n",
        "print( rotateArray([5,10,12,16,2,9],2) )\n",
        "print( rotateArray([5,10,12,16,2,9],3) )\n",
        "print( rotateArray([5,10,12,16,2,9],5) )\n",
        "print( rotateArray([5,10,12,16,2,9],7) )"
      ]
    },
    {
      "cell_type": "code",
      "execution_count": null,
      "id": "ae35ea5a",
      "metadata": {
        "id": "ae35ea5a"
      },
      "outputs": [],
      "source": []
    },
    {
      "cell_type": "code",
      "execution_count": null,
      "id": "8a673604",
      "metadata": {
        "id": "8a673604"
      },
      "outputs": [],
      "source": []
    },
    {
      "cell_type": "code",
      "execution_count": null,
      "id": "beebfa4f",
      "metadata": {
        "id": "beebfa4f"
      },
      "outputs": [],
      "source": []
    },
    {
      "cell_type": "code",
      "execution_count": null,
      "id": "a4a6fe85",
      "metadata": {
        "id": "a4a6fe85"
      },
      "outputs": [],
      "source": [
        "18.\n",
        "\n",
        "💻 Write a function which takes 2 inputs - \"Array of Integers\"\n",
        "and a number & prints all the distinct pairs of array elements\n",
        "whose sum is equal to the input number provided -\n",
        "as shown in the samples.\n",
        "\n",
        "printSumPairs(Array(1,4,3,2,8,5),5) =\n",
        "1,4\n",
        "3,2\n",
        "//Explanation: 1+4=5, 3+2=5\n",
        "\n",
        "printSumPairs(Array(2,7,81,20,25,26,1),27) =\n",
        "2,25\n",
        "7,20\n",
        "26,1\n",
        "//Explanation: 2+25=27, 7+20=27, 26+1=27\n",
        "\n",
        "printSumPairs(Array(10,20,30,40),100) =\n",
        "//No output\n",
        "//Explanation: None of the pairs sum to 100."
      ]
    },
    {
      "cell_type": "code",
      "execution_count": null,
      "id": "23078958",
      "metadata": {
        "id": "23078958"
      },
      "outputs": [],
      "source": [
        "def printSumPairs(l,target):\n",
        "    found=False\n",
        "    n = len(l)\n",
        "\n",
        "    for i in range(n):\n",
        "        for j in range(i+1, n):\n",
        "            if l[i]+l[j]==target:\n",
        "                print(l[i],l[j])\n",
        "                found=True\n",
        "    if found==False:\n",
        "        return 'no pairs found!'\n",
        ""
      ]
    },
    {
      "cell_type": "code",
      "execution_count": null,
      "id": "f7f7c716",
      "metadata": {
        "id": "f7f7c716",
        "outputId": "40f4035e-a359-4807-ecce-6a1ab64105e9"
      },
      "outputs": [
        {
          "name": "stdout",
          "output_type": "stream",
          "text": [
            "1 4\n",
            "3 2\n",
            "***************\n",
            "2 25\n",
            "7 20\n",
            "26 1\n",
            "***************\n"
          ]
        },
        {
          "data": {
            "text/plain": [
              "'no pairs found!'"
            ]
          },
          "execution_count": 246,
          "metadata": {},
          "output_type": "execute_result"
        }
      ],
      "source": [
        "printSumPairs([1,4,3,2,8,5],5)\n",
        "print('*'*15)\n",
        "printSumPairs([2,7,81,20,25,26,1],27)\n",
        "print('*'*15)\n",
        "printSumPairs([10,20,30,40],100)"
      ]
    },
    {
      "cell_type": "code",
      "execution_count": null,
      "id": "a43644ac",
      "metadata": {
        "id": "a43644ac"
      },
      "outputs": [],
      "source": []
    },
    {
      "cell_type": "code",
      "execution_count": null,
      "id": "3ef7e166",
      "metadata": {
        "id": "3ef7e166"
      },
      "outputs": [],
      "source": []
    },
    {
      "cell_type": "code",
      "execution_count": null,
      "id": "7cce5f50",
      "metadata": {
        "id": "7cce5f50"
      },
      "outputs": [],
      "source": [
        "def printSumPairs(lst, target_sum):\n",
        "    found = False\n",
        "    seen = set()\n",
        "\n",
        "    for number in lst:\n",
        "        complement = target_sum - number\n",
        "        if complement in seen:\n",
        "            print(complement, number)\n",
        "            found = True\n",
        "        seen.add(number)\n",
        "\n",
        "    if not found:\n",
        "        print(\"No pairs found\")"
      ]
    },
    {
      "cell_type": "code",
      "execution_count": null,
      "id": "3b3042c8",
      "metadata": {
        "id": "3b3042c8",
        "outputId": "ebcd5f2e-0850-4aee-e418-a0893d2103c8"
      },
      "outputs": [
        {
          "name": "stdout",
          "output_type": "stream",
          "text": [
            "1 4\n",
            "3 2\n",
            "***************\n",
            "7 20\n",
            "2 25\n",
            "26 1\n",
            "***************\n",
            "No pairs found\n"
          ]
        }
      ],
      "source": [
        "printSumPairs([1,4,3,2,8,5],5)\n",
        "print('*'*15)\n",
        "printSumPairs([2,7,81,20,25,26,1],27)\n",
        "print('*'*15)\n",
        "printSumPairs([10,20,30,40],100)"
      ]
    },
    {
      "cell_type": "code",
      "execution_count": null,
      "id": "0059cfbe",
      "metadata": {
        "id": "0059cfbe"
      },
      "outputs": [],
      "source": []
    },
    {
      "cell_type": "code",
      "execution_count": null,
      "id": "7535cf1a",
      "metadata": {
        "id": "7535cf1a"
      },
      "outputs": [],
      "source": []
    },
    {
      "cell_type": "code",
      "execution_count": null,
      "id": "054fc977",
      "metadata": {
        "id": "054fc977"
      },
      "outputs": [],
      "source": [
        "# Optimal solution :\n",
        "\n",
        "def printSumPairs2(nums,target):\n",
        "    found = False\n",
        "    mydict={}\n",
        "\n",
        "    for i,num in enumerate(nums):\n",
        "        if target-num in mydict:\n",
        "            print(target-num,num)\n",
        "            found = True\n",
        "        mydict[num]=i\n",
        "\n",
        "    if not found:\n",
        "        print(\"No pairs found\")  # Print this message if no pairs were found"
      ]
    },
    {
      "cell_type": "code",
      "execution_count": null,
      "id": "e1d4471f",
      "metadata": {
        "id": "e1d4471f"
      },
      "outputs": [],
      "source": []
    },
    {
      "cell_type": "code",
      "execution_count": null,
      "id": "5c8c1139",
      "metadata": {
        "id": "5c8c1139",
        "outputId": "4fbed7d0-83e9-459f-806a-e4d94c62fff1"
      },
      "outputs": [
        {
          "name": "stdout",
          "output_type": "stream",
          "text": [
            "1 4\n",
            "3 2\n",
            "***************\n",
            "7 20\n",
            "2 25\n",
            "26 1\n",
            "***************\n",
            "No pairs found\n"
          ]
        }
      ],
      "source": [
        "printSumPairs2([1,4,3,2,8,5],5)\n",
        "print('*'*15)\n",
        "printSumPairs2([2,7,81,20,25,26,1],27)\n",
        "print('*'*15)\n",
        "printSumPairs2([10,20,30,40],100)"
      ]
    },
    {
      "cell_type": "code",
      "execution_count": null,
      "id": "2b1682a0",
      "metadata": {
        "id": "2b1682a0"
      },
      "outputs": [],
      "source": []
    },
    {
      "cell_type": "code",
      "execution_count": null,
      "id": "97da8fb7",
      "metadata": {
        "id": "97da8fb7"
      },
      "outputs": [],
      "source": []
    },
    {
      "cell_type": "code",
      "execution_count": null,
      "id": "114f11a4",
      "metadata": {
        "id": "114f11a4"
      },
      "outputs": [],
      "source": []
    },
    {
      "cell_type": "code",
      "execution_count": null,
      "id": "b053d8da",
      "metadata": {
        "id": "b053d8da"
      },
      "outputs": [],
      "source": []
    },
    {
      "cell_type": "code",
      "execution_count": null,
      "id": "e9164e4d",
      "metadata": {
        "id": "e9164e4d"
      },
      "outputs": [],
      "source": [
        "17.\n",
        "\n",
        "💻 Write a function which takes \"Array of Integers\" as input and\n",
        "returns a \"tuple\" containing sum of odd indices &\n",
        "product of even indices - as shown in the samples.\n",
        "(Considering 0-index)\n",
        "\n",
        "getAltSumProduct(Array(1,4,5,6)) = (10,5)\n",
        "//Explanation: (4+6,1*5) = (10,5)\n",
        "\n",
        "getAltSumProduct(Array(3,4,6,9,7)) = (13,126)\n",
        "//Explanation: (4+9,3*6*7) = (13,126)\n",
        "\n",
        "getAltSumProduct(Array(0,8,3,88)) = (96,0)\n",
        "//Explanation: (8+88,0*3) = (96,0)"
      ]
    },
    {
      "cell_type": "code",
      "execution_count": null,
      "id": "bd5b30a5",
      "metadata": {
        "id": "bd5b30a5"
      },
      "outputs": [],
      "source": []
    },
    {
      "cell_type": "code",
      "execution_count": null,
      "id": "1ef6ddab",
      "metadata": {
        "id": "1ef6ddab"
      },
      "outputs": [],
      "source": [
        "def getAltSumProduct(l):\n",
        "    tot=0\n",
        "    mult=1\n",
        "    has_even_elements = False\n",
        "\n",
        "    for idx,ele in enumerate(l):\n",
        "        if idx%2!=0:\n",
        "            tot+=ele\n",
        "        else:\n",
        "            mult*=ele\n",
        "            has_even_elements = True\n",
        "\n",
        "    if not has_even_elements:\n",
        "        mult = 0\n",
        "\n",
        "    return (tot,mult)"
      ]
    },
    {
      "cell_type": "code",
      "execution_count": null,
      "id": "cfda90b1",
      "metadata": {
        "id": "cfda90b1",
        "outputId": "6f260f5a-8a46-4b08-b423-a64517b3b07b"
      },
      "outputs": [
        {
          "name": "stdout",
          "output_type": "stream",
          "text": [
            "(10, 5)\n",
            "(13, 126)\n",
            "(96, 0)\n",
            "(0, 0)\n"
          ]
        }
      ],
      "source": [
        "print( getAltSumProduct([1,4,5,6]) )\n",
        "print( getAltSumProduct([3,4,6,9,7]) )\n",
        "print( getAltSumProduct([0,8,3,88]) )\n",
        "print( getAltSumProduct([]) )"
      ]
    },
    {
      "cell_type": "code",
      "execution_count": null,
      "id": "03a14d52",
      "metadata": {
        "id": "03a14d52"
      },
      "outputs": [],
      "source": []
    },
    {
      "cell_type": "code",
      "execution_count": null,
      "id": "20b80725",
      "metadata": {
        "id": "20b80725"
      },
      "outputs": [],
      "source": [
        "from functools import reduce\n",
        "\n",
        "def getAltSumProduct3(l):\n",
        "\n",
        "    if not l:\n",
        "        return 0, 0  # For an empty list, both sum and product are 0\n",
        "\n",
        "    odd_ele = [l[i] for i in range(len(l)) if i%2!=0]\n",
        "    even_ele = [l[i] for i in range(len(l)) if i%2==0]\n",
        "\n",
        "    prod = reduce(lambda x, y: x * y, even_ele, 1)  # Adding an initial value of 1 for product computation\n",
        "    return sum(odd_ele),prod"
      ]
    },
    {
      "cell_type": "code",
      "execution_count": null,
      "id": "fa00077f",
      "metadata": {
        "id": "fa00077f",
        "outputId": "d8360714-7b27-4fb3-d7cb-ca5640d765b8"
      },
      "outputs": [
        {
          "name": "stdout",
          "output_type": "stream",
          "text": [
            "(10, 5)\n",
            "(13, 126)\n",
            "(96, 0)\n",
            "(0, 0)\n",
            "(0, 4)\n"
          ]
        }
      ],
      "source": [
        "print( getAltSumProduct3([1,4,5,6]) )\n",
        "print( getAltSumProduct3([3,4,6,9,7]) )\n",
        "print( getAltSumProduct3([0,8,3,88]) )\n",
        "print( getAltSumProduct3([]) )\n",
        "print( getAltSumProduct3([4]) )"
      ]
    },
    {
      "cell_type": "code",
      "execution_count": null,
      "id": "8dcfacff",
      "metadata": {
        "id": "8dcfacff"
      },
      "outputs": [],
      "source": []
    },
    {
      "cell_type": "code",
      "execution_count": null,
      "id": "2013c865",
      "metadata": {
        "id": "2013c865"
      },
      "outputs": [],
      "source": []
    },
    {
      "cell_type": "code",
      "execution_count": null,
      "id": "1d90519c",
      "metadata": {
        "id": "1d90519c"
      },
      "outputs": [],
      "source": [
        "from functools import reduce\n",
        "\n",
        "def getAltSumProduct2(l):\n",
        "    sm= reduce(lambda x,y:x+y,[v for i,v in enumerate(l) if i%2!=0],0)  # Adding an initial value of 0 for summation computation\n",
        "    pd= reduce(lambda x,y:x*y,[v for i,v in enumerate(l) if i%2==0],1)  # Adding an initial value of 1 for product computation\n",
        "\n",
        "    return sm,pd"
      ]
    },
    {
      "cell_type": "code",
      "execution_count": null,
      "id": "972838ac",
      "metadata": {
        "id": "972838ac",
        "outputId": "2ab5a3ad-c36c-4da3-abb7-7016d3c9e06f"
      },
      "outputs": [
        {
          "name": "stdout",
          "output_type": "stream",
          "text": [
            "(10, 5)\n",
            "(13, 126)\n",
            "(96, 0)\n",
            "(0, 1)\n"
          ]
        }
      ],
      "source": [
        "print( getAltSumProduct2([1,4,5,6]) )\n",
        "print( getAltSumProduct2([3,4,6,9,7]) )\n",
        "print( getAltSumProduct2([0,8,3,88]) )\n",
        "print( getAltSumProduct2([]) )"
      ]
    },
    {
      "cell_type": "code",
      "execution_count": null,
      "id": "f258710e",
      "metadata": {
        "id": "f258710e"
      },
      "outputs": [],
      "source": []
    },
    {
      "cell_type": "code",
      "execution_count": null,
      "id": "7225242b",
      "metadata": {
        "id": "7225242b"
      },
      "outputs": [],
      "source": []
    },
    {
      "cell_type": "code",
      "execution_count": null,
      "id": "73419217",
      "metadata": {
        "id": "73419217"
      },
      "outputs": [],
      "source": []
    },
    {
      "cell_type": "code",
      "execution_count": null,
      "id": "f7d6d185",
      "metadata": {
        "id": "f7d6d185"
      },
      "outputs": [],
      "source": [
        "16.\n",
        "\n",
        "💻 Write a function which takes \"List of strings\" as input -\n",
        "phoneNo_name - & returns \"list of strings\" containing the\n",
        "phoneNo that are duplicated.\n",
        "\n",
        "getMultAccounts(List(\"8933819304_Abhi\",\"9388193845_Manish\",\"8933819304_Kamal\",\"9983847283_Jai\"))\n",
        "= List(\"8933819304\")\n",
        "\n",
        "getMultAccounts(List(\"9733918374_Kishore\",\"9733918378_Sanjivini\",\"9733918374_Mohit\",\"8390173944_Raj\",\"9733918378_Keshav\"))\n",
        "= List(\"9733918374\",\"9733918378\")\n",
        "\n",
        "getMultAccounts(List(\"8274817374_Palak\",\"8394482934_Rajni\"))\n",
        "= List()"
      ]
    },
    {
      "cell_type": "code",
      "execution_count": null,
      "id": "e6a9eb67",
      "metadata": {
        "id": "e6a9eb67"
      },
      "outputs": [],
      "source": [
        "def getMultAccounts(l):\n",
        "    phone_list = [i.split('_')[0] for i in l]\n",
        "    return list({i for i in phone_list if phone_list.count(i)>1})"
      ]
    },
    {
      "cell_type": "code",
      "execution_count": null,
      "id": "55d3e266",
      "metadata": {
        "id": "55d3e266",
        "outputId": "14c78696-9675-44ba-9dc2-07ebb7b7d4fa"
      },
      "outputs": [
        {
          "name": "stdout",
          "output_type": "stream",
          "text": [
            "['8933819304']\n",
            "['9733918378', '9733918374']\n",
            "[]\n"
          ]
        }
      ],
      "source": [
        "print( getMultAccounts([\"8933819304_Abhi\",\"9388193845_Manish\",\"8933819304_Kamal\",\"9983847283_Jai\"]) )\n",
        "\n",
        "print( getMultAccounts([\"9733918374_Kishore\",\"9733918378_Sanjivini\",\"9733918374_Mohit\",\"8390173944_Raj\",\"9733918378_Keshav\"]) )\n",
        "\n",
        "print( getMultAccounts([\"8274817374_Palak\",\"8394482934_Rajni\"]) )"
      ]
    },
    {
      "cell_type": "code",
      "execution_count": null,
      "id": "da4c3e4d",
      "metadata": {
        "id": "da4c3e4d"
      },
      "outputs": [],
      "source": []
    },
    {
      "cell_type": "code",
      "execution_count": null,
      "id": "7897d1ba",
      "metadata": {
        "id": "7897d1ba"
      },
      "outputs": [],
      "source": []
    },
    {
      "cell_type": "code",
      "execution_count": null,
      "id": "286eff90",
      "metadata": {
        "id": "286eff90"
      },
      "outputs": [],
      "source": [
        "def getMultAccounts(l):\n",
        "    phone_counts = {}\n",
        "\n",
        "    # Count occurrences of each phone number\n",
        "    for entry in l:\n",
        "        phone_no = entry.split('_')[0]\n",
        "        if phone_no in phone_counts:\n",
        "            phone_counts[phone_no] += 1\n",
        "        else:\n",
        "            phone_counts[phone_no] = 1\n",
        "\n",
        "    # Collect phone numbers that are duplicated\n",
        "    duplicates = [phone for phone, count in phone_counts.items() if count > 1]\n",
        "\n",
        "    return duplicates"
      ]
    },
    {
      "cell_type": "code",
      "execution_count": null,
      "id": "134848e4",
      "metadata": {
        "id": "134848e4",
        "outputId": "dfff2010-f95e-4885-f158-4fbc175d3243"
      },
      "outputs": [
        {
          "name": "stdout",
          "output_type": "stream",
          "text": [
            "['8933819304']\n",
            "['9733918374', '9733918378']\n",
            "[]\n"
          ]
        }
      ],
      "source": [
        "print( getMultAccounts([\"8933819304_Abhi\",\"9388193845_Manish\",\"8933819304_Kamal\",\"9983847283_Jai\"]) )\n",
        "\n",
        "print( getMultAccounts([\"9733918374_Kishore\",\"9733918378_Sanjivini\",\"9733918374_Mohit\",\"8390173944_Raj\",\"9733918378_Keshav\"]) )\n",
        "\n",
        "print( getMultAccounts([\"8274817374_Palak\",\"8394482934_Rajni\"]) )"
      ]
    },
    {
      "cell_type": "code",
      "execution_count": null,
      "id": "22dd18b9",
      "metadata": {
        "id": "22dd18b9"
      },
      "outputs": [],
      "source": []
    },
    {
      "cell_type": "code",
      "execution_count": null,
      "id": "2f0d30d8",
      "metadata": {
        "id": "2f0d30d8"
      },
      "outputs": [],
      "source": []
    },
    {
      "cell_type": "code",
      "execution_count": null,
      "id": "51854587",
      "metadata": {
        "id": "51854587"
      },
      "outputs": [],
      "source": []
    },
    {
      "cell_type": "code",
      "execution_count": null,
      "id": "b621be67",
      "metadata": {
        "id": "b621be67"
      },
      "outputs": [],
      "source": []
    },
    {
      "cell_type": "code",
      "execution_count": null,
      "id": "00822c50",
      "metadata": {
        "id": "00822c50"
      },
      "outputs": [],
      "source": []
    },
    {
      "cell_type": "code",
      "execution_count": null,
      "id": "6b66a658",
      "metadata": {
        "id": "6b66a658"
      },
      "outputs": [],
      "source": [
        "15.\n",
        "\n",
        "💻 Write a function which takes two \"List of strings\" as input\n",
        "- firstName & lastName - along with a \"number\" &\n",
        "generates \"list of strings\" containing random names\n",
        "(equal to the number provided as input) by concatenating\n",
        "firstName & lastName.\n",
        "\n",
        "getRandomNames(List(\"Ram\",\"Abhishek\",\"Pooja\"),List(\"Thakur\",\"Bose\"),5)\n",
        "= List(\"Ram Thakur\",\"Ram Thakur\",\"Abhishek Thakur\",\"Abhishek Bose\",\"Pooja Bose\")\n",
        "\n",
        "getRandomNames(List(\"Ram\",\"Abhishek\",\"Pooja\"),List(\"Thakur\",\"Bose\"),3)\n",
        "= List(\"Pooja Bose\",\"Ram Bose\",\"Abhishek Thakur\")\n",
        "\n",
        "getRandomNames(List(\"Rajiv\",\"Chandra\"),List(\"Prakash\",\"Gokhale\",\"Singh\"),2)\n",
        "= List(\"Chandra Gokhale\",\"Rajiv Singh\")\n",
        "\n",
        "- Expected output here will obviously not match with the output generated by each run."
      ]
    },
    {
      "cell_type": "code",
      "execution_count": null,
      "id": "52e2c0d7",
      "metadata": {
        "id": "52e2c0d7"
      },
      "outputs": [],
      "source": []
    },
    {
      "cell_type": "code",
      "execution_count": null,
      "id": "f33920df",
      "metadata": {
        "id": "f33920df"
      },
      "outputs": [],
      "source": [
        "import random\n",
        "def getRandomNames(firstName, lastName, number):\n",
        "    all_combinations = [f\"{f} {l}\" for f in firstName for l in lastName]\n",
        "\n",
        "    if number > len(all_combinations):\n",
        "        raise ValueError(\"Number of requested names exceeds the number of unique combinations.\")\n",
        "    return random.sample(all_combinations, number)"
      ]
    },
    {
      "cell_type": "code",
      "execution_count": null,
      "id": "177f1e04",
      "metadata": {
        "id": "177f1e04",
        "outputId": "79e8a811-53b4-4cda-94fd-809985310642"
      },
      "outputs": [
        {
          "name": "stdout",
          "output_type": "stream",
          "text": [
            "['Pooja Bose', 'Pooja Thakur', 'Ram Thakur', 'Abhishek Bose', 'Ram Bose']\n",
            "['Pooja Thakur', 'Pooja Bose', 'Ram Bose']\n",
            "['Rajiv Prakash', 'Chandra Gokhale']\n"
          ]
        }
      ],
      "source": [
        "print( getRandomNames([\"Ram\",\"Abhishek\",\"Pooja\"],[\"Thakur\",\"Bose\"],5) )\n",
        "\n",
        "print( getRandomNames([\"Ram\",\"Abhishek\",\"Pooja\"],[\"Thakur\",\"Bose\"],3) )\n",
        "\n",
        "print( getRandomNames([\"Rajiv\",\"Chandra\"],[\"Prakash\",\"Gokhale\",\"Singh\"],2) )"
      ]
    },
    {
      "cell_type": "code",
      "execution_count": null,
      "id": "df69a705",
      "metadata": {
        "id": "df69a705"
      },
      "outputs": [],
      "source": []
    },
    {
      "cell_type": "code",
      "execution_count": null,
      "id": "f4332d77",
      "metadata": {
        "id": "f4332d77"
      },
      "outputs": [],
      "source": [
        "\"\"\"\n",
        "random.choices :\n",
        "\n",
        "random.choices is used to select multiple elements from a list,\n",
        "and it can include the same element more than once (with replacement).\n",
        "\n",
        "import random\n",
        "\n",
        "# Define a list of choices\n",
        "fruits = ['apple', 'banana', 'cherry', 'date']\n",
        "\n",
        "# Use random.choices to pick 3 random fruits (allowing for duplicates)\n",
        "random_fruits = random.choices(fruits, k=3)\n",
        "print(f\"Randomly selected fruits: {random_fruits}\")\n",
        "\n",
        "Randomly selected fruits: ['cherry', 'banana', 'banana']\n",
        "\n",
        "\"\"\"\n",
        "\n",
        "import random\n",
        "def getRandomNames(firstName, lastName, number):\n",
        "    all_combinations = [f\"{f} {l}\" for f in firstName for l in lastName]\n",
        "\n",
        "    if number > len(all_combinations):\n",
        "        raise ValueError(\"Number of requested names exceeds the number of unique combinations.\")\n",
        "    return random.choices(all_combinations, k=number)"
      ]
    },
    {
      "cell_type": "code",
      "execution_count": null,
      "id": "4c6f53bf",
      "metadata": {
        "id": "4c6f53bf",
        "outputId": "93107e61-71fe-459c-d4b7-6edcaea7217b"
      },
      "outputs": [
        {
          "name": "stdout",
          "output_type": "stream",
          "text": [
            "['Abhishek Bose', 'Pooja Bose', 'Pooja Bose', 'Ram Bose', 'Pooja Bose']\n",
            "['Ram Thakur', 'Pooja Thakur', 'Pooja Bose']\n",
            "['Rajiv Singh', 'Rajiv Gokhale']\n"
          ]
        }
      ],
      "source": [
        "print( getRandomNames([\"Ram\",\"Abhishek\",\"Pooja\"],[\"Thakur\",\"Bose\"],5) )\n",
        "\n",
        "print( getRandomNames([\"Ram\",\"Abhishek\",\"Pooja\"],[\"Thakur\",\"Bose\"],3) )\n",
        "\n",
        "print( getRandomNames([\"Rajiv\",\"Chandra\"],[\"Prakash\",\"Gokhale\",\"Singh\"],2) )"
      ]
    },
    {
      "cell_type": "code",
      "execution_count": null,
      "id": "a03da503",
      "metadata": {
        "id": "a03da503"
      },
      "outputs": [],
      "source": []
    },
    {
      "cell_type": "code",
      "execution_count": null,
      "id": "bee05cfd",
      "metadata": {
        "id": "bee05cfd"
      },
      "outputs": [],
      "source": []
    },
    {
      "cell_type": "code",
      "execution_count": null,
      "id": "dd40629c",
      "metadata": {
        "id": "dd40629c"
      },
      "outputs": [],
      "source": []
    },
    {
      "cell_type": "code",
      "execution_count": null,
      "id": "f66a9e50",
      "metadata": {
        "id": "f66a9e50"
      },
      "outputs": [],
      "source": [
        "\"\"\"\n",
        "random.choice:\n",
        "\n",
        "random.choice is used to select a single element randomly from a list.\n",
        "\n",
        "import random\n",
        "\n",
        "# Define a list of choices\n",
        "fruits = ['apple', 'banana', 'cherry', 'date']\n",
        "\n",
        "# Use random.choice to pick a single random fruit\n",
        "random_fruit = random.choice(fruits)\n",
        "print(f\"Randomly selected fruit: {random_fruit}\")\n",
        "\n",
        "\n",
        "Randomly selected fruit: banana\n",
        "\n",
        "\n",
        "\n",
        "Summary:\n",
        "random.choice: Selects a single element from a list.\n",
        "random.choices: Selects multiple elements from a list, with the option for duplicates.\n",
        "\n",
        "\n",
        "\"\"\"\n",
        "\n",
        "import random\n",
        "def getRandomNames2(l1,l2,n):\n",
        "    final = [ f\"{random.choice(l1)} {random.choice(l2)}\" for i in range(n) ]\n",
        "    return final"
      ]
    },
    {
      "cell_type": "code",
      "execution_count": null,
      "id": "a44870ea",
      "metadata": {
        "id": "a44870ea",
        "outputId": "4606e16c-e270-4004-d772-02a0b4f722d5"
      },
      "outputs": [
        {
          "name": "stdout",
          "output_type": "stream",
          "text": [
            "['Abhishek Bose', 'Abhishek Bose', 'Abhishek Bose', 'Pooja Thakur', 'Abhishek Thakur']\n",
            "['Pooja Thakur', 'Pooja Thakur', 'Abhishek Thakur']\n",
            "['Rajiv Singh', 'Rajiv Gokhale']\n"
          ]
        }
      ],
      "source": [
        "print( getRandomNames2([\"Ram\",\"Abhishek\",\"Pooja\"],[\"Thakur\",\"Bose\"],5) )\n",
        "\n",
        "print( getRandomNames2([\"Ram\",\"Abhishek\",\"Pooja\"],[\"Thakur\",\"Bose\"],3) )\n",
        "\n",
        "print( getRandomNames2([\"Rajiv\",\"Chandra\"],[\"Prakash\",\"Gokhale\",\"Singh\"],2) )"
      ]
    },
    {
      "cell_type": "code",
      "execution_count": null,
      "id": "dc6c217b",
      "metadata": {
        "id": "dc6c217b"
      },
      "outputs": [],
      "source": []
    },
    {
      "cell_type": "code",
      "execution_count": null,
      "id": "a63671a3",
      "metadata": {
        "id": "a63671a3"
      },
      "outputs": [],
      "source": []
    },
    {
      "cell_type": "code",
      "execution_count": null,
      "id": "a124562a",
      "metadata": {
        "id": "a124562a"
      },
      "outputs": [],
      "source": []
    },
    {
      "cell_type": "code",
      "execution_count": null,
      "id": "96fc5006",
      "metadata": {
        "id": "96fc5006"
      },
      "outputs": [],
      "source": []
    },
    {
      "cell_type": "markdown",
      "id": "6bc2cd6b",
      "metadata": {
        "id": "6bc2cd6b"
      },
      "source": [
        "# 14.\n",
        "\n",
        "💻 Write a function which takes a string as input and\n",
        "returns string comprising of 2nd last characters of each word\n",
        "- as shown in the samples.\n",
        "Note: If word is of 1 character, it is to be ignored.\n",
        "\n",
        "get2ndLastChars(\"Hello can I draw\") = l a a\n",
        "//Explanation: Hello=l, can=a, I=ignored, draw=a\n",
        "\n",
        "get2ndLastChars(\"Coders are here\") = r r r\n",
        "Explanation: Coders=r, are=r, here=r\n",
        "\n",
        "get2ndLastChars(\"Today is Wednesday\") = a i a\n",
        "Explanation: Today=a, is=i, Wednesday=a"
      ]
    },
    {
      "cell_type": "code",
      "execution_count": null,
      "id": "cf124f28",
      "metadata": {
        "id": "cf124f28"
      },
      "outputs": [],
      "source": [
        "def get2ndLastChars(s):\n",
        "    return ' '.join([i[-2] for i in s.split() if len(i)>1])"
      ]
    },
    {
      "cell_type": "code",
      "execution_count": null,
      "id": "15543c59",
      "metadata": {
        "id": "15543c59",
        "outputId": "e8faad16-1aa0-4b93-a889-43013af0bc72"
      },
      "outputs": [
        {
          "name": "stdout",
          "output_type": "stream",
          "text": [
            "l a a\n",
            "r r r\n",
            "a i a\n"
          ]
        }
      ],
      "source": [
        "print( get2ndLastChars(\"Hello can I draw\")  )\n",
        "print( get2ndLastChars(\"Coders are here\")  )\n",
        "print( get2ndLastChars(\"Today is Wednesday\")  )"
      ]
    },
    {
      "cell_type": "code",
      "execution_count": null,
      "id": "b52de2f5",
      "metadata": {
        "id": "b52de2f5"
      },
      "outputs": [],
      "source": []
    },
    {
      "cell_type": "code",
      "execution_count": null,
      "id": "79b34ac3",
      "metadata": {
        "id": "79b34ac3"
      },
      "outputs": [],
      "source": []
    },
    {
      "cell_type": "code",
      "execution_count": null,
      "id": "4f80902d",
      "metadata": {
        "id": "4f80902d"
      },
      "outputs": [],
      "source": []
    },
    {
      "cell_type": "code",
      "execution_count": null,
      "id": "1628b658",
      "metadata": {
        "id": "1628b658"
      },
      "outputs": [],
      "source": []
    },
    {
      "cell_type": "markdown",
      "id": "960a722a",
      "metadata": {
        "id": "960a722a"
      },
      "source": [
        "# 13.\n",
        "\n",
        "💻 Write a function which takes two strings as input\n",
        "- str1 & str2 - & prints all the indexes where the substring\n",
        "str2 is present in str1 - as shown in the samples.\n",
        "\n",
        "printIndex(\"hippopotamus\",\"po\") =\n",
        "3\n",
        "5\n",
        "\n",
        "printIndex(\"common\",\"hello\") =\n",
        "//No output\n",
        "\n",
        "printIndex(\"improvement\",\"m\") =\n",
        "1\n",
        "7"
      ]
    },
    {
      "cell_type": "code",
      "execution_count": null,
      "id": "f8224dc3",
      "metadata": {
        "id": "f8224dc3"
      },
      "outputs": [],
      "source": []
    },
    {
      "cell_type": "code",
      "execution_count": null,
      "id": "8a6e86da",
      "metadata": {
        "id": "8a6e86da"
      },
      "outputs": [],
      "source": [
        "def printIndex(s1,s2):\n",
        "    n1=len(s1)\n",
        "    n2=len(s2)\n",
        "    flg=0\n",
        "\n",
        "    for i in range(0,n1-n2+1):\n",
        "        if s1[i:i+n2]==s2:\n",
        "            print(i)\n",
        "            flg=1\n",
        "    if flg==0:\n",
        "        print('No output!')"
      ]
    },
    {
      "cell_type": "code",
      "execution_count": null,
      "id": "b312ff35",
      "metadata": {
        "id": "b312ff35",
        "outputId": "95a85820-6af3-44f4-f0e8-535f600bfb4a"
      },
      "outputs": [
        {
          "name": "stdout",
          "output_type": "stream",
          "text": [
            "3\n",
            "5\n",
            "***************\n",
            "No output!\n",
            "***************\n",
            "1\n",
            "7\n"
          ]
        }
      ],
      "source": [
        "printIndex(\"hippopotamus\",\"po\")\n",
        "print('*'*15)\n",
        "printIndex(\"common\",\"hello\")\n",
        "print('*'*15)\n",
        "printIndex(\"improvement\",\"m\")"
      ]
    },
    {
      "cell_type": "code",
      "execution_count": null,
      "id": "e3d61626",
      "metadata": {
        "id": "e3d61626"
      },
      "outputs": [],
      "source": []
    },
    {
      "cell_type": "code",
      "execution_count": null,
      "id": "80c3c903",
      "metadata": {
        "id": "80c3c903"
      },
      "outputs": [],
      "source": [
        "def printIndex2(s1, s2):\n",
        "    indices = [i for i in range(len(s1)) if s1.startswith(s2, i)]\n",
        "\n",
        "    if indices:\n",
        "        for index in indices:\n",
        "            print(index)\n",
        "    else:\n",
        "        print(\"No output\")"
      ]
    },
    {
      "cell_type": "code",
      "execution_count": null,
      "id": "07cd0e57",
      "metadata": {
        "id": "07cd0e57",
        "outputId": "935b1f2b-0edd-474f-80ec-412f697d7001"
      },
      "outputs": [
        {
          "name": "stdout",
          "output_type": "stream",
          "text": [
            "3\n",
            "5\n",
            "***************\n",
            "No output\n",
            "***************\n",
            "1\n",
            "7\n"
          ]
        }
      ],
      "source": [
        "printIndex2(\"hippopotamus\",\"po\")\n",
        "print('*'*15)\n",
        "printIndex2(\"common\",\"hello\")\n",
        "print('*'*15)\n",
        "printIndex2(\"improvement\",\"m\")"
      ]
    },
    {
      "cell_type": "code",
      "execution_count": null,
      "id": "ea50373f",
      "metadata": {
        "id": "ea50373f"
      },
      "outputs": [],
      "source": []
    },
    {
      "cell_type": "code",
      "execution_count": null,
      "id": "480b6983",
      "metadata": {
        "id": "480b6983"
      },
      "outputs": [],
      "source": []
    },
    {
      "cell_type": "markdown",
      "id": "5706af90",
      "metadata": {
        "id": "5706af90"
      },
      "source": [
        "# 12.\n",
        "\n",
        "💻 Write a function which takes a list of integers as input\n",
        "& returns list of integers that are duplicates as shown in the samples.\n",
        "\n",
        "List(1,2,3,4,1,2,3) = List(1,2,3)\n",
        "\n",
        "List(1,2,67,2,3,4) = List(2)\n",
        "\n",
        "List(40,50,60) = List()"
      ]
    },
    {
      "cell_type": "code",
      "execution_count": null,
      "id": "07bef72a",
      "metadata": {
        "id": "07bef72a"
      },
      "outputs": [],
      "source": [
        "def duplicate(l):\n",
        "    return list({x for x in l if l.count(x)>1})"
      ]
    },
    {
      "cell_type": "code",
      "execution_count": null,
      "id": "629cfa36",
      "metadata": {
        "id": "629cfa36",
        "outputId": "0fe07ac3-bb97-49ce-d4b4-cc6d9dedf1be"
      },
      "outputs": [
        {
          "name": "stdout",
          "output_type": "stream",
          "text": [
            "[1, 2, 3]\n",
            "[2]\n",
            "[]\n"
          ]
        }
      ],
      "source": [
        "print( duplicate([1,2,3,4,1,2,3]) )\n",
        "print( duplicate([1,2,67,2,3,4]) )\n",
        "print( duplicate([40,50,60]) )"
      ]
    },
    {
      "cell_type": "code",
      "execution_count": null,
      "id": "ffff4d31",
      "metadata": {
        "id": "ffff4d31"
      },
      "outputs": [],
      "source": []
    },
    {
      "cell_type": "code",
      "execution_count": null,
      "id": "0dd141b2",
      "metadata": {
        "id": "0dd141b2"
      },
      "outputs": [],
      "source": [
        "def duplicate(l):\n",
        "    seen=set()\n",
        "    dup=set()\n",
        "    for i in l:\n",
        "        if i not in seen:\n",
        "            seen.add(i)\n",
        "        else:\n",
        "            dup.add(i)\n",
        "    return list(dup)"
      ]
    },
    {
      "cell_type": "code",
      "execution_count": null,
      "id": "966371fd",
      "metadata": {
        "id": "966371fd",
        "outputId": "0fa50c18-1117-43d1-a210-38f5a8b10c33"
      },
      "outputs": [
        {
          "name": "stdout",
          "output_type": "stream",
          "text": [
            "[1, 2, 3]\n",
            "[2]\n",
            "[]\n"
          ]
        }
      ],
      "source": [
        "print( duplicate([1,2,3,4,1,2,3]) )\n",
        "print( duplicate([1,2,67,2,3,4]) )\n",
        "print( duplicate([40,50,60]) )"
      ]
    },
    {
      "cell_type": "code",
      "execution_count": null,
      "id": "12915baf",
      "metadata": {
        "id": "12915baf"
      },
      "outputs": [],
      "source": []
    },
    {
      "cell_type": "code",
      "execution_count": null,
      "id": "61e6d58f",
      "metadata": {
        "id": "61e6d58f"
      },
      "outputs": [],
      "source": []
    },
    {
      "cell_type": "code",
      "execution_count": null,
      "id": "160994d4",
      "metadata": {
        "id": "160994d4"
      },
      "outputs": [],
      "source": []
    },
    {
      "cell_type": "code",
      "execution_count": null,
      "id": "66e0725f",
      "metadata": {
        "id": "66e0725f"
      },
      "outputs": [],
      "source": []
    },
    {
      "cell_type": "markdown",
      "id": "60ce34cc",
      "metadata": {
        "id": "60ce34cc"
      },
      "source": [
        "# 11.\n",
        "\n",
        "💻 Write a function which takes a list of string (email_ids)\n",
        "as input & returns list with only id part (before @)\n",
        "and \"_index\" attached as shown in the samples.\n",
        "\n",
        "getIdList(List(\"ggyan@gmail.com\",\"mrunalik@gmail.com\",\"abc123@rediffmail.com\"))\n",
        "= List(\"ggyan_0\",\"mrunalik_1\",\"abc123_2\")\n",
        "\n",
        "getIdList(List(\"rdravid@gmail.com\",\"tsachin@gmail.com\"))\n",
        "= List(\"rdravid_0\",\"tsachin_1\")"
      ]
    },
    {
      "cell_type": "code",
      "execution_count": null,
      "id": "dc3ff300",
      "metadata": {
        "id": "dc3ff300"
      },
      "outputs": [],
      "source": [
        "def getIdList(l):\n",
        "    return [ele.split('@')[0] + \"_\" + str(index) for index,ele in enumerate(l)]"
      ]
    },
    {
      "cell_type": "code",
      "execution_count": null,
      "id": "b6fc2135",
      "metadata": {
        "id": "b6fc2135",
        "outputId": "14c55b57-2343-456c-bef2-04fc128edb74"
      },
      "outputs": [
        {
          "name": "stdout",
          "output_type": "stream",
          "text": [
            "['ggyan_0', 'mrunalik_1', 'abc123_2']\n",
            "['rdravid_0', 'tsachin_1']\n"
          ]
        }
      ],
      "source": [
        "print( getIdList([\"ggyan@gmail.com\",\"mrunalik@gmail.com\",\"abc123@rediffmail.com\"]) )\n",
        "\n",
        "print( getIdList([\"rdravid@gmail.com\",\"tsachin@gmail.com\"]) )"
      ]
    },
    {
      "cell_type": "code",
      "execution_count": null,
      "id": "0cac7398",
      "metadata": {
        "id": "0cac7398"
      },
      "outputs": [],
      "source": []
    },
    {
      "cell_type": "code",
      "execution_count": null,
      "id": "9b8b7552",
      "metadata": {
        "id": "9b8b7552"
      },
      "outputs": [],
      "source": []
    },
    {
      "cell_type": "code",
      "execution_count": null,
      "id": "40614c89",
      "metadata": {
        "id": "40614c89"
      },
      "outputs": [],
      "source": []
    },
    {
      "cell_type": "code",
      "execution_count": null,
      "id": "74b3d902",
      "metadata": {
        "id": "74b3d902"
      },
      "outputs": [],
      "source": [
        "def getIdList(l):\n",
        "    n=len(l)\n",
        "    final=[]\n",
        "\n",
        "    for i in range(n):\n",
        "        final.append(( l[i].split('@')[0]) + '_' + str(i) )\n",
        "    return final"
      ]
    },
    {
      "cell_type": "code",
      "execution_count": null,
      "id": "bd9d9cb8",
      "metadata": {
        "id": "bd9d9cb8",
        "outputId": "f7796d88-db91-4050-8ee9-9e0e279b2ecb"
      },
      "outputs": [
        {
          "name": "stdout",
          "output_type": "stream",
          "text": [
            "['ggyan_0', 'mrunalik_1', 'abc123_2']\n",
            "['rdravid_0', 'tsachin_1']\n"
          ]
        }
      ],
      "source": [
        "print( getIdList([\"ggyan@gmail.com\",\"mrunalik@gmail.com\",\"abc123@rediffmail.com\"]) )\n",
        "\n",
        "print( getIdList([\"rdravid@gmail.com\",\"tsachin@gmail.com\"]) )"
      ]
    },
    {
      "cell_type": "code",
      "execution_count": null,
      "id": "0ab1763f",
      "metadata": {
        "id": "0ab1763f"
      },
      "outputs": [],
      "source": []
    },
    {
      "cell_type": "code",
      "execution_count": null,
      "id": "55b9631f",
      "metadata": {
        "id": "55b9631f"
      },
      "outputs": [],
      "source": []
    },
    {
      "cell_type": "code",
      "execution_count": null,
      "id": "64c727e3",
      "metadata": {
        "id": "64c727e3"
      },
      "outputs": [],
      "source": []
    },
    {
      "cell_type": "code",
      "execution_count": null,
      "id": "05b5d94a",
      "metadata": {
        "id": "05b5d94a"
      },
      "outputs": [],
      "source": []
    },
    {
      "cell_type": "markdown",
      "id": "17db1b76",
      "metadata": {
        "id": "17db1b76"
      },
      "source": [
        "# 10.\n",
        "\n",
        "💻 Write a function which takes a list of alphabets &\n",
        "pair-tuple of alphabets as input & returns flattened\n",
        "list as shown in the samples.\n",
        "\n",
        "flattenList(List(('a','b'),('b','c'),('c','a'),('d')))\n",
        "= List('a','b','b','c','c','a','d')\n",
        "\n",
        "flattenList(List('a','b','c'))\n",
        "= List('a','b','c')\n",
        "\n",
        "flattenList(List('a',('x','y'),'z'))\n",
        "= List('a','x','y','z')"
      ]
    },
    {
      "cell_type": "code",
      "execution_count": null,
      "id": "d37e3c7a",
      "metadata": {
        "id": "d37e3c7a"
      },
      "outputs": [],
      "source": []
    },
    {
      "cell_type": "code",
      "execution_count": null,
      "id": "ce12656f",
      "metadata": {
        "id": "ce12656f"
      },
      "outputs": [],
      "source": []
    },
    {
      "cell_type": "code",
      "execution_count": null,
      "id": "1db8a0ae",
      "metadata": {
        "id": "1db8a0ae"
      },
      "outputs": [],
      "source": [
        "def flattenList(l):\n",
        "\n",
        "    final=[]\n",
        "    for i in l:\n",
        "        if isinstance(i,tuple):\n",
        "            final.extend(i)\n",
        "        else:\n",
        "            final.append(i)\n",
        "    return final"
      ]
    },
    {
      "cell_type": "code",
      "execution_count": null,
      "id": "f0bc18eb",
      "metadata": {
        "id": "f0bc18eb",
        "outputId": "5c604732-0d4b-4029-9c63-4efb8214da5a"
      },
      "outputs": [
        {
          "name": "stdout",
          "output_type": "stream",
          "text": [
            "['a', 'b', 'b', 'c', 'c', 'a', 'd']\n",
            "['a', 'b', 'c']\n",
            "['a', 'x', 'y', 'z']\n"
          ]
        }
      ],
      "source": [
        "print( flattenList([('a','b'),('b','c'),('c','a'),('d')]) )\n",
        "print( flattenList(['a','b','c']) )\n",
        "print( flattenList(['a',('x','y'),'z']) )"
      ]
    },
    {
      "cell_type": "code",
      "execution_count": null,
      "id": "a3154e7e",
      "metadata": {
        "id": "a3154e7e"
      },
      "outputs": [],
      "source": []
    },
    {
      "cell_type": "code",
      "execution_count": null,
      "id": "ae6bdbe0",
      "metadata": {
        "id": "ae6bdbe0"
      },
      "outputs": [],
      "source": []
    },
    {
      "cell_type": "markdown",
      "id": "7fe59231",
      "metadata": {
        "id": "7fe59231"
      },
      "source": [
        "##  flatten a deeply nested list like l = [1, 2, [3, 4, [5, 6], 7], [[[8, 9], 10]], [11, [12, 13]]]"
      ]
    },
    {
      "cell_type": "code",
      "execution_count": null,
      "id": "5aafd22f",
      "metadata": {
        "id": "5aafd22f",
        "outputId": "b04e2a1b-aa34-4d34-96ef-dd62dee1e376"
      },
      "outputs": [
        {
          "name": "stdout",
          "output_type": "stream",
          "text": [
            "[1, 2, 3, 4, 5, 6, 7, 8, 9, 10, 11, 12, 13]\n"
          ]
        }
      ],
      "source": [
        "def flatten2(lst):\n",
        "    # This function flattens a deeply nested list\n",
        "    result = []\n",
        "    for item in lst:\n",
        "        if isinstance(item, list):\n",
        "            # Recursively flatten the list item\n",
        "            result.extend(flatten2(item))\n",
        "        else:\n",
        "            # Append non-list items directly to the result\n",
        "            result.append(item)\n",
        "    return result\n",
        "\n",
        "# Test the function\n",
        "l = [1, 2, [3, 4, [5, 6], 7], [[[8, 9], 10]], [11, [12, 13]]]\n",
        "ans = flatten2(l)\n",
        "print(ans)\n"
      ]
    },
    {
      "cell_type": "code",
      "execution_count": null,
      "id": "f70313f5",
      "metadata": {
        "id": "f70313f5"
      },
      "outputs": [],
      "source": []
    },
    {
      "cell_type": "code",
      "execution_count": null,
      "id": "17227185",
      "metadata": {
        "id": "17227185"
      },
      "outputs": [],
      "source": []
    },
    {
      "cell_type": "code",
      "execution_count": null,
      "id": "d3dee4cd",
      "metadata": {
        "id": "d3dee4cd"
      },
      "outputs": [],
      "source": [
        "def flatten2(l):\n",
        "    result=[]\n",
        "    stack= l\n",
        "\n",
        "    while stack:\n",
        "        current = stack.pop(-1)\n",
        "        if isinstance(current,list):\n",
        "            stack.extend(current)\n",
        "        else:\n",
        "            result.append(current)\n",
        "\n",
        "    return result"
      ]
    },
    {
      "cell_type": "code",
      "execution_count": null,
      "id": "e5cefaeb",
      "metadata": {
        "id": "e5cefaeb",
        "outputId": "43f943eb-8774-490f-b92d-e6bd530e8368"
      },
      "outputs": [
        {
          "name": "stdout",
          "output_type": "stream",
          "text": [
            "[13, 12, 11, 10, 9, 8, 7, 6, 5, 4, 3, 2, 1]\n"
          ]
        }
      ],
      "source": [
        "l = [1, 2, [3, 4, [5, 6], 7], [[[8, 9], 10]], [11, [12, 13]]]\n",
        "\n",
        "#output list\n",
        "ans = flatten2(l)\n",
        "print(ans)"
      ]
    },
    {
      "cell_type": "code",
      "execution_count": null,
      "id": "5bcdde9b",
      "metadata": {
        "id": "5bcdde9b"
      },
      "outputs": [],
      "source": []
    },
    {
      "cell_type": "code",
      "execution_count": null,
      "id": "1fdf859b",
      "metadata": {
        "id": "1fdf859b"
      },
      "outputs": [],
      "source": []
    },
    {
      "cell_type": "code",
      "execution_count": null,
      "id": "a4c90caa",
      "metadata": {
        "id": "a4c90caa"
      },
      "outputs": [],
      "source": []
    },
    {
      "cell_type": "code",
      "execution_count": null,
      "id": "49d39d1a",
      "metadata": {
        "id": "49d39d1a"
      },
      "outputs": [],
      "source": []
    },
    {
      "cell_type": "code",
      "execution_count": null,
      "id": "d132b313",
      "metadata": {
        "id": "d132b313"
      },
      "outputs": [],
      "source": [
        "9.\n",
        "\n",
        "💻 Write a function which takes \"list of integers\" as input\n",
        "& finds product of numbers that are less than 10.\n",
        "\n",
        "findProduct(List(10,3,5,87,34)) = 15\n",
        "//Explanation: Numbers less than 10 => 3*5 = 15\n",
        "\n",
        "findProduct(List(73,100)) = 0\n",
        "//Explanation: No numbers less than 10\n",
        "\n",
        "findProduct(List(-3,45,11,8,9)) = -216\n",
        "//Explanation: Numbers less than 10 => -3*8*9=-216"
      ]
    },
    {
      "cell_type": "code",
      "execution_count": null,
      "id": "d91f75f6",
      "metadata": {
        "id": "d91f75f6"
      },
      "outputs": [],
      "source": []
    },
    {
      "cell_type": "code",
      "execution_count": null,
      "id": "e54a795b",
      "metadata": {
        "id": "e54a795b"
      },
      "outputs": [],
      "source": [
        "from functools import reduce\n",
        "\n",
        "def findProduct(l):\n",
        "    filtered_num = list(filter(lambda x:x<10,l))\n",
        "    if not filtered_num:\n",
        "        return 0\n",
        "    res = reduce(lambda x,y:x*y, filtered_num)\n",
        "    return res"
      ]
    },
    {
      "cell_type": "code",
      "execution_count": null,
      "id": "6f3a320f",
      "metadata": {
        "id": "6f3a320f",
        "outputId": "ad0a8a81-80d1-4edc-f434-12bf3b9ffe4a"
      },
      "outputs": [
        {
          "name": "stdout",
          "output_type": "stream",
          "text": [
            "15\n",
            "-216\n",
            "0\n"
          ]
        }
      ],
      "source": [
        "print( findProduct([10,3,5,87,34]) )\n",
        "print( findProduct([-3,45,11,8,9]) )\n",
        "print( findProduct([73,100]) )"
      ]
    },
    {
      "cell_type": "code",
      "execution_count": null,
      "id": "c8cb9adb",
      "metadata": {
        "id": "c8cb9adb"
      },
      "outputs": [],
      "source": []
    },
    {
      "cell_type": "code",
      "execution_count": null,
      "id": "65646204",
      "metadata": {
        "id": "65646204"
      },
      "outputs": [],
      "source": []
    },
    {
      "cell_type": "code",
      "execution_count": null,
      "id": "f4cfd8de",
      "metadata": {
        "id": "f4cfd8de"
      },
      "outputs": [],
      "source": [
        "from functools import reduce\n",
        "\n",
        "def findProduct(a):\n",
        "    try:\n",
        "        return reduce(lambda x,y: x*y, list(filter(lambda x:x<10, a)) )\n",
        "    except:\n",
        "        return 0"
      ]
    },
    {
      "cell_type": "code",
      "execution_count": null,
      "id": "7a3b4b58",
      "metadata": {
        "id": "7a3b4b58",
        "outputId": "eac9f0c0-ceec-4ed8-ea09-9d2b9a5994c5"
      },
      "outputs": [
        {
          "name": "stdout",
          "output_type": "stream",
          "text": [
            "15\n",
            "-216\n",
            "0\n"
          ]
        }
      ],
      "source": [
        "print( findProduct([10,3,5,87,34]) )\n",
        "print( findProduct([-3,45,11,8,9]) )\n",
        "print( findProduct([73,100]) )"
      ]
    },
    {
      "cell_type": "code",
      "execution_count": null,
      "id": "ec99879f",
      "metadata": {
        "id": "ec99879f"
      },
      "outputs": [],
      "source": []
    },
    {
      "cell_type": "code",
      "execution_count": null,
      "id": "099e50dd",
      "metadata": {
        "id": "099e50dd"
      },
      "outputs": [],
      "source": [
        "def findProduct2(l):\n",
        "    prod=1\n",
        "    found=False\n",
        "\n",
        "    for i in l:\n",
        "        if i<10:\n",
        "            prod*=i\n",
        "            found=True\n",
        "\n",
        "    return prod if found else 0"
      ]
    },
    {
      "cell_type": "code",
      "execution_count": null,
      "id": "d8d87664",
      "metadata": {
        "id": "d8d87664",
        "outputId": "d05308be-2ee7-4e05-bd31-9e1d9c48be13"
      },
      "outputs": [
        {
          "name": "stdout",
          "output_type": "stream",
          "text": [
            "15\n",
            "-216\n",
            "0\n"
          ]
        }
      ],
      "source": [
        "print( findProduct2([10,3,5,87,34]) )\n",
        "print( findProduct2([-3,45,11,8,9]) )\n",
        "print( findProduct2([73,100]) )"
      ]
    },
    {
      "cell_type": "code",
      "execution_count": null,
      "id": "504c57d7",
      "metadata": {
        "id": "504c57d7"
      },
      "outputs": [],
      "source": []
    },
    {
      "cell_type": "code",
      "execution_count": null,
      "id": "87870a13",
      "metadata": {
        "id": "87870a13"
      },
      "outputs": [],
      "source": []
    },
    {
      "cell_type": "markdown",
      "id": "c7c261cb",
      "metadata": {
        "id": "c7c261cb"
      },
      "source": [
        "# 8.\n",
        "\n",
        "💻 Write a function which takes a string as input\n",
        "and prints total occurrences of each character.\n",
        "\n",
        "charOccur(\"Scala Spark\") =>\n",
        "\n",
        "S => 2\n",
        "  => 1\n",
        "k => 1\n",
        "l => 1\n",
        "c => 1\n",
        "a => 3\n",
        "p => 1\n",
        "r => 1"
      ]
    },
    {
      "cell_type": "code",
      "execution_count": null,
      "id": "c982771d",
      "metadata": {
        "id": "c982771d"
      },
      "outputs": [],
      "source": []
    },
    {
      "cell_type": "code",
      "execution_count": null,
      "id": "58e97dcf",
      "metadata": {
        "id": "58e97dcf"
      },
      "outputs": [],
      "source": [
        "def charOccur(s):\n",
        "    d={}\n",
        "\n",
        "    for i in s:\n",
        "        if i in d:\n",
        "            d[i]+=1\n",
        "        else:\n",
        "            d[i]=1\n",
        "\n",
        "    for char, count in d.items():\n",
        "        print(f\"{char} => {count}\")"
      ]
    },
    {
      "cell_type": "code",
      "execution_count": null,
      "id": "55761b0a",
      "metadata": {
        "id": "55761b0a",
        "outputId": "f43ba902-f14d-42c8-c857-b08ac19a35d8"
      },
      "outputs": [
        {
          "name": "stdout",
          "output_type": "stream",
          "text": [
            "S => 2\n",
            "c => 1\n",
            "a => 3\n",
            "l => 1\n",
            "  => 1\n",
            "p => 1\n",
            "r => 1\n",
            "k => 1\n"
          ]
        }
      ],
      "source": [
        "charOccur(\"Scala Spark\")"
      ]
    },
    {
      "cell_type": "code",
      "execution_count": null,
      "id": "8a179d79",
      "metadata": {
        "id": "8a179d79"
      },
      "outputs": [],
      "source": []
    },
    {
      "cell_type": "code",
      "execution_count": null,
      "id": "3448f66a",
      "metadata": {
        "id": "3448f66a"
      },
      "outputs": [],
      "source": []
    },
    {
      "cell_type": "code",
      "execution_count": null,
      "id": "b5235db6",
      "metadata": {
        "id": "b5235db6"
      },
      "outputs": [],
      "source": []
    },
    {
      "cell_type": "code",
      "execution_count": null,
      "id": "1877cd10",
      "metadata": {
        "id": "1877cd10"
      },
      "outputs": [],
      "source": []
    },
    {
      "cell_type": "markdown",
      "id": "a2f93c2e",
      "metadata": {
        "id": "a2f93c2e"
      },
      "source": [
        "# 7.\n",
        "\n",
        "💻 Write a function which takes a positive integer as input\n",
        "and generates \"list of lists\" output, as shown in the samples.\n",
        "\n",
        "generateList(5) = List(List(1),List(1,2),List(1,2,3),List(1,2,3,4),List(1,2,3,4,5))\n",
        "\n",
        "generateList(3) = List(List(1),List(1,2),List(1,2,3))\n",
        "\n",
        "generateList(1) = List(List(1))"
      ]
    },
    {
      "cell_type": "code",
      "execution_count": null,
      "id": "dc119212",
      "metadata": {
        "id": "dc119212"
      },
      "outputs": [],
      "source": []
    },
    {
      "cell_type": "code",
      "execution_count": null,
      "id": "e3237b1b",
      "metadata": {
        "id": "e3237b1b"
      },
      "outputs": [],
      "source": [
        "def generateList(n):\n",
        "    final=[]\n",
        "    if n<0:\n",
        "        return 'Negative no. provided'\n",
        "\n",
        "    for i in range(1,n+1):\n",
        "        temp=[]\n",
        "        for j in range(1,i+1):\n",
        "            temp.append(j)\n",
        "        final.append(temp)\n",
        "    return final"
      ]
    },
    {
      "cell_type": "code",
      "execution_count": null,
      "id": "eaef4210",
      "metadata": {
        "id": "eaef4210",
        "outputId": "b8d7a81b-1131-46f4-9015-dfb70fcd0aa3"
      },
      "outputs": [
        {
          "name": "stdout",
          "output_type": "stream",
          "text": [
            "[[1], [1, 2], [1, 2, 3], [1, 2, 3, 4], [1, 2, 3, 4, 5]]\n",
            "[[1], [1, 2], [1, 2, 3]]\n",
            "[[1]]\n"
          ]
        }
      ],
      "source": [
        "print( generateList(5) )\n",
        "print( generateList(3) )\n",
        "print( generateList(1) )"
      ]
    },
    {
      "cell_type": "code",
      "execution_count": null,
      "id": "ca06f3d9",
      "metadata": {
        "id": "ca06f3d9"
      },
      "outputs": [],
      "source": []
    },
    {
      "cell_type": "code",
      "execution_count": null,
      "id": "0eb55df6",
      "metadata": {
        "id": "0eb55df6"
      },
      "outputs": [],
      "source": []
    },
    {
      "cell_type": "code",
      "execution_count": null,
      "id": "e83057f2",
      "metadata": {
        "id": "e83057f2",
        "outputId": "e2cec852-7886-4bac-ec58-d6c6dd726c82"
      },
      "outputs": [
        {
          "name": "stdout",
          "output_type": "stream",
          "text": [
            "[[1], [1, 2], [1, 2, 3], [1, 2, 3, 4], [1, 2, 3, 4, 5]]\n",
            "[[1], [1, 2], [1, 2, 3]]\n",
            "[[1]]\n"
          ]
        }
      ],
      "source": [
        "def generateList(n):\n",
        "    result = []\n",
        "\n",
        "    for i in range(1, n + 1):\n",
        "        sublist = list(range(1, i + 1))\n",
        "        result.append(sublist)\n",
        "    return result\n",
        "\n",
        "# Example usage\n",
        "print(generateList(5))  # [[1], [1, 2], [1, 2, 3], [1, 2, 3, 4], [1, 2, 3, 4, 5]]\n",
        "print(generateList(3))  # [[1], [1, 2], [1, 2, 3]]\n",
        "print(generateList(1))  # [[1]]"
      ]
    },
    {
      "cell_type": "code",
      "execution_count": null,
      "id": "a278b3c6",
      "metadata": {
        "id": "a278b3c6"
      },
      "outputs": [],
      "source": []
    },
    {
      "cell_type": "code",
      "execution_count": null,
      "id": "c420e576",
      "metadata": {
        "id": "c420e576"
      },
      "outputs": [],
      "source": []
    },
    {
      "cell_type": "code",
      "execution_count": null,
      "id": "c8cc8fa0",
      "metadata": {
        "id": "c8cc8fa0"
      },
      "outputs": [],
      "source": []
    },
    {
      "cell_type": "markdown",
      "id": "e9b73103",
      "metadata": {
        "id": "e9b73103"
      },
      "source": [
        "# 6.\n",
        "\n",
        "💻 Write a function which takes a list of integers as input\n",
        "and informs whether the list is a Fibonacci series or not.\n",
        "\n",
        "isFiboSeries(List(1,1,2,3,5,8,13)) = true\n",
        "\n",
        "isFiboSeries(List(1,1,2,3,7,9,11)) = false\n",
        "\n",
        "isFiboSeries(List(1,3,4,7,11)) = true"
      ]
    },
    {
      "cell_type": "code",
      "execution_count": null,
      "id": "3ecb99dd",
      "metadata": {
        "id": "3ecb99dd"
      },
      "outputs": [],
      "source": [
        "def isFiboSeries(l):\n",
        "    if len(l)<=2:\n",
        "        return False\n",
        "\n",
        "    for i in range(2, len(l)):\n",
        "        if l[i-2]+l[i-1]!=l[i]:\n",
        "            return False\n",
        "\n",
        "    return True"
      ]
    },
    {
      "cell_type": "code",
      "execution_count": null,
      "id": "9c25b636",
      "metadata": {
        "id": "9c25b636",
        "outputId": "57bfbbc7-a668-441b-d842-70ef331a2016"
      },
      "outputs": [
        {
          "name": "stdout",
          "output_type": "stream",
          "text": [
            "True\n",
            "False\n",
            "True\n"
          ]
        }
      ],
      "source": [
        "print( isFiboSeries([1,1,2,3,5,8,13]) )\n",
        "\n",
        "print( isFiboSeries([1,1,2,3,7,9,11]) )\n",
        "\n",
        "print( isFiboSeries([1,3,4,7,11]) )"
      ]
    },
    {
      "cell_type": "code",
      "execution_count": null,
      "id": "07bfb025",
      "metadata": {
        "id": "07bfb025"
      },
      "outputs": [],
      "source": []
    },
    {
      "cell_type": "code",
      "execution_count": null,
      "id": "99dd238b",
      "metadata": {
        "id": "99dd238b"
      },
      "outputs": [],
      "source": [
        "def isFiboSeries(l):\n",
        "    n=len(l)\n",
        "    if n<=2:\n",
        "        return False\n",
        "\n",
        "    i=2\n",
        "    while i<n:\n",
        "        if l[i-2]+l[i-1]!=l[i]:\n",
        "            return False\n",
        "        i+=1\n",
        "    return True"
      ]
    },
    {
      "cell_type": "code",
      "execution_count": null,
      "id": "c3c70331",
      "metadata": {
        "id": "c3c70331",
        "outputId": "a943fef2-721b-4fe9-9cad-031814aac0bd"
      },
      "outputs": [
        {
          "name": "stdout",
          "output_type": "stream",
          "text": [
            "True\n",
            "False\n",
            "True\n"
          ]
        }
      ],
      "source": [
        "print( isFiboSeries([1,1,2,3,5,8,13]) )\n",
        "\n",
        "print( isFiboSeries([1,1,2,3,7,9,11]) )\n",
        "\n",
        "print( isFiboSeries([1,3,4,7,11]) )"
      ]
    },
    {
      "cell_type": "code",
      "execution_count": null,
      "id": "ffe5277b",
      "metadata": {
        "id": "ffe5277b"
      },
      "outputs": [],
      "source": []
    },
    {
      "cell_type": "code",
      "execution_count": null,
      "id": "6e11f5df",
      "metadata": {
        "id": "6e11f5df"
      },
      "outputs": [],
      "source": []
    },
    {
      "cell_type": "code",
      "execution_count": null,
      "id": "641a0c2f",
      "metadata": {
        "id": "641a0c2f"
      },
      "outputs": [],
      "source": [
        "5.\n",
        "\n",
        "💻 Write a function which takes a number as input and\n",
        "prints the pyramid pattern with samples shown in the screenshot.\n",
        "\n",
        "\n",
        "printpattren(3)\n",
        "    *\n",
        "  * * *\n",
        "* * * * *\n"
      ]
    },
    {
      "cell_type": "markdown",
      "id": "2a1d3616",
      "metadata": {
        "id": "2a1d3616"
      },
      "source": [
        "![printpattern.jpg](attachment:printpattern.jpg)"
      ]
    },
    {
      "cell_type": "code",
      "execution_count": null,
      "id": "a63dd575",
      "metadata": {
        "id": "a63dd575"
      },
      "outputs": [],
      "source": [
        "    *\n",
        "  * * *\n",
        "* * * * *"
      ]
    },
    {
      "cell_type": "code",
      "execution_count": null,
      "id": "c5e8792a",
      "metadata": {
        "id": "c5e8792a"
      },
      "outputs": [],
      "source": [
        "def printpattern(n):\n",
        "\n",
        "    for i in range(1,n+1,1):\n",
        "\n",
        "        for j in range(0,n-i,1):\n",
        "            print(' ',end=' ')\n",
        "\n",
        "        for j in range(1,2*i):\n",
        "            print(\"*\", end=' ')\n",
        "\n",
        "        print()\n",
        ""
      ]
    },
    {
      "cell_type": "code",
      "execution_count": null,
      "id": "f74c5008",
      "metadata": {
        "id": "f74c5008",
        "outputId": "ba7d22f9-d182-47ff-cb7f-907261275e0a"
      },
      "outputs": [
        {
          "name": "stdout",
          "output_type": "stream",
          "text": [
            "    * \n",
            "  * * * \n",
            "* * * * * \n"
          ]
        }
      ],
      "source": [
        "printpattern(3)"
      ]
    },
    {
      "cell_type": "code",
      "execution_count": null,
      "id": "2b0c77fc",
      "metadata": {
        "id": "2b0c77fc",
        "outputId": "800d7315-8f7b-4998-95a7-ee0cac7e65b1"
      },
      "outputs": [
        {
          "name": "stdout",
          "output_type": "stream",
          "text": [
            "        * \n",
            "      * * * \n",
            "    * * * * * \n",
            "  * * * * * * * \n",
            "* * * * * * * * * \n"
          ]
        }
      ],
      "source": [
        "printpattern(5)"
      ]
    },
    {
      "cell_type": "code",
      "execution_count": null,
      "id": "8b1ece6a",
      "metadata": {
        "id": "8b1ece6a",
        "outputId": "91239020-73b7-4084-ca62-7609993956af"
      },
      "outputs": [
        {
          "name": "stdout",
          "output_type": "stream",
          "text": [
            "  * \n",
            "* * * \n"
          ]
        }
      ],
      "source": [
        "printpattern(2)"
      ]
    },
    {
      "cell_type": "code",
      "execution_count": null,
      "id": "e9d6bbe7",
      "metadata": {
        "id": "e9d6bbe7",
        "outputId": "36c6415f-9196-4423-bae0-685a40a82f58"
      },
      "outputs": [
        {
          "name": "stdout",
          "output_type": "stream",
          "text": [
            "                          * \n",
            "                        * * * \n",
            "                      * * * * * \n",
            "                    * * * * * * * \n",
            "                  * * * * * * * * * \n",
            "                * * * * * * * * * * * \n",
            "              * * * * * * * * * * * * * \n",
            "            * * * * * * * * * * * * * * * \n",
            "          * * * * * * * * * * * * * * * * * \n",
            "        * * * * * * * * * * * * * * * * * * * \n",
            "      * * * * * * * * * * * * * * * * * * * * * \n",
            "    * * * * * * * * * * * * * * * * * * * * * * * \n",
            "  * * * * * * * * * * * * * * * * * * * * * * * * * \n",
            "* * * * * * * * * * * * * * * * * * * * * * * * * * * \n"
          ]
        }
      ],
      "source": [
        "printpattern(14)"
      ]
    },
    {
      "cell_type": "code",
      "execution_count": null,
      "id": "deafc447",
      "metadata": {
        "id": "deafc447"
      },
      "outputs": [],
      "source": []
    },
    {
      "cell_type": "code",
      "execution_count": null,
      "id": "83c96255",
      "metadata": {
        "id": "83c96255"
      },
      "outputs": [],
      "source": [
        "def patternprint2(n):\n",
        "\n",
        "    max_width = 2 * n - 1\n",
        "\n",
        "    for i in range(1,n+1):\n",
        "\n",
        "        num_asterisks = 2 * i-1\n",
        "        num_spaces = max_width - num_asterisks\n",
        "\n",
        "        print(' ' * (num_spaces//2) + '*' * num_asterisks + ' ' * (num_spaces//2) )"
      ]
    },
    {
      "cell_type": "code",
      "execution_count": null,
      "id": "cfec96f7",
      "metadata": {
        "id": "cfec96f7",
        "outputId": "eee7ae10-b663-4a30-b1b2-a62c0808efc2"
      },
      "outputs": [
        {
          "name": "stdout",
          "output_type": "stream",
          "text": [
            "  *  \n",
            " *** \n",
            "*****\n"
          ]
        }
      ],
      "source": [
        "patternprint2(3)"
      ]
    },
    {
      "cell_type": "code",
      "execution_count": null,
      "id": "abe164f9",
      "metadata": {
        "id": "abe164f9"
      },
      "outputs": [],
      "source": []
    },
    {
      "cell_type": "code",
      "execution_count": null,
      "id": "cc10c28f",
      "metadata": {
        "id": "cc10c28f"
      },
      "outputs": [],
      "source": []
    },
    {
      "cell_type": "code",
      "execution_count": null,
      "id": "31f3f60f",
      "metadata": {
        "id": "31f3f60f"
      },
      "outputs": [],
      "source": []
    },
    {
      "cell_type": "markdown",
      "id": "0d582fe9",
      "metadata": {
        "id": "0d582fe9"
      },
      "source": [
        "# 4."
      ]
    },
    {
      "cell_type": "code",
      "execution_count": null,
      "id": "7dec4c17",
      "metadata": {
        "id": "7dec4c17"
      },
      "outputs": [],
      "source": [
        "💻 Write a function which takes a number as input\n",
        "and prints the pattern with samples shown.\n",
        "\n",
        "printPattern(5)\n",
        "*\n",
        "* *\n",
        "* * *\n",
        "* * * *\n",
        "* * * * *\n",
        "* * * *\n",
        "* * *\n",
        "* *\n",
        "*\n",
        "\n",
        "\n",
        "printPattern(2)\n",
        "*\n",
        "* *\n",
        "*\n",
        "\n",
        "printPattern(3)\n",
        "*\n",
        "* *\n",
        "* * *\n",
        "* *\n",
        "*"
      ]
    },
    {
      "cell_type": "code",
      "execution_count": null,
      "id": "6b7345b3",
      "metadata": {
        "id": "6b7345b3"
      },
      "outputs": [],
      "source": [
        "def printPattern(n):\n",
        "\n",
        "    for i in range(1,2*n,1):\n",
        "        if i<=n:\n",
        "            for j in range(1,i+1,1):\n",
        "                print(\"*\", end=' ')\n",
        "            print()\n",
        "        else:\n",
        "            for j in range(i,2*n,1):\n",
        "                print(\"*\", end=' ')\n",
        "            print()"
      ]
    },
    {
      "cell_type": "code",
      "execution_count": null,
      "id": "6b76b00e",
      "metadata": {
        "id": "6b76b00e",
        "outputId": "33567e91-3b5b-46cd-dbda-25b680be77d5"
      },
      "outputs": [
        {
          "name": "stdout",
          "output_type": "stream",
          "text": [
            "* \n",
            "* * \n",
            "* * * \n",
            "* * * * \n",
            "* * * * * \n",
            "* * * * \n",
            "* * * \n",
            "* * \n",
            "* \n"
          ]
        }
      ],
      "source": [
        "printPattern(5)"
      ]
    },
    {
      "cell_type": "code",
      "execution_count": null,
      "id": "33dd612e",
      "metadata": {
        "id": "33dd612e",
        "outputId": "1d219c45-261d-4304-d2c4-2f9847f2f95e"
      },
      "outputs": [
        {
          "name": "stdout",
          "output_type": "stream",
          "text": [
            "* \n",
            "* * \n",
            "* \n"
          ]
        }
      ],
      "source": [
        "printPattern(2)"
      ]
    },
    {
      "cell_type": "code",
      "execution_count": null,
      "id": "0d6362da",
      "metadata": {
        "id": "0d6362da",
        "outputId": "d918fab1-00b5-4ea8-8bd4-269c6f126c7b"
      },
      "outputs": [
        {
          "name": "stdout",
          "output_type": "stream",
          "text": [
            "* \n",
            "* * \n",
            "* * * \n",
            "* * \n",
            "* \n"
          ]
        }
      ],
      "source": [
        "printPattern(3)"
      ]
    },
    {
      "cell_type": "code",
      "execution_count": null,
      "id": "0990bc0a",
      "metadata": {
        "id": "0990bc0a"
      },
      "outputs": [],
      "source": []
    },
    {
      "cell_type": "code",
      "execution_count": null,
      "id": "602f3164",
      "metadata": {
        "id": "602f3164"
      },
      "outputs": [],
      "source": [
        "def printPattern(n):\n",
        "\n",
        "    # Print the top half of the pattern\n",
        "    for i in range(1, n + 1):\n",
        "        print('* ' * i)\n",
        "\n",
        "    # Print the bottom half of the pattern\n",
        "    for i in range(n - 1, 0, -1):\n",
        "        print('* ' * i)\n",
        "\n",
        "\n"
      ]
    },
    {
      "cell_type": "code",
      "execution_count": null,
      "id": "9d1490bc",
      "metadata": {
        "id": "9d1490bc",
        "outputId": "e51c8753-d3f3-4fc9-9355-f6e31d5ae9b5"
      },
      "outputs": [
        {
          "name": "stdout",
          "output_type": "stream",
          "text": [
            "* \n",
            "* * \n",
            "* * * \n",
            "* * * * \n",
            "* * * * * \n",
            "* * * * \n",
            "* * * \n",
            "* * \n",
            "* \n",
            "\n",
            "\n",
            "* \n",
            "* * \n",
            "* \n",
            "\n",
            "\n",
            "* \n",
            "* * \n",
            "* * * \n",
            "* * \n",
            "* \n"
          ]
        }
      ],
      "source": [
        "# Test cases\n",
        "printPattern(5)\n",
        "print('\\n')\n",
        "printPattern(2)\n",
        "print('\\n')\n",
        "printPattern(3)"
      ]
    },
    {
      "cell_type": "code",
      "execution_count": null,
      "id": "3000f9d8",
      "metadata": {
        "id": "3000f9d8"
      },
      "outputs": [],
      "source": []
    },
    {
      "cell_type": "code",
      "execution_count": null,
      "id": "d96bc692",
      "metadata": {
        "id": "d96bc692"
      },
      "outputs": [],
      "source": []
    },
    {
      "cell_type": "code",
      "execution_count": null,
      "id": "ffd14a1e",
      "metadata": {
        "id": "ffd14a1e"
      },
      "outputs": [],
      "source": []
    },
    {
      "cell_type": "markdown",
      "id": "88eec7a9",
      "metadata": {
        "id": "88eec7a9"
      },
      "source": [
        "# 3.\n",
        "\n",
        "💻 Write a function which takes a string as input and\n",
        "prints reversed string in 3 formats as shown below.\n",
        "\n",
        "reverseStr(\"Hello Folks Lets Code\") =\n",
        "\n",
        "edoC steL skloF olleH\n",
        "Code Lets Folks Hello\n",
        "olleH skloF steL edoC"
      ]
    },
    {
      "cell_type": "code",
      "execution_count": null,
      "id": "57151bb3",
      "metadata": {
        "id": "57151bb3"
      },
      "outputs": [],
      "source": [
        "def reverseStr(s):\n",
        "\n",
        "    temp=s.split()[::-1]\n",
        "    print(' '.join((i[::-1] for i in temp)))\n",
        "\n",
        "    print(' '.join(temp))\n",
        "\n",
        "    print(' '.join((i[::-1] for i in s.split())))"
      ]
    },
    {
      "cell_type": "code",
      "execution_count": null,
      "id": "51b2c339",
      "metadata": {
        "id": "51b2c339",
        "outputId": "f3b6ccc4-9ecd-4d0f-9b28-108e52822ac5"
      },
      "outputs": [
        {
          "name": "stdout",
          "output_type": "stream",
          "text": [
            "edoC steL skloF olleH\n",
            "Code Lets Folks Hello\n",
            "olleH skloF steL edoC\n"
          ]
        }
      ],
      "source": [
        "reverseStr('Hello Folks Lets Code')"
      ]
    },
    {
      "cell_type": "code",
      "execution_count": null,
      "id": "6463541f",
      "metadata": {
        "id": "6463541f"
      },
      "outputs": [],
      "source": []
    },
    {
      "cell_type": "code",
      "execution_count": null,
      "id": "b712e9aa",
      "metadata": {
        "id": "b712e9aa"
      },
      "outputs": [],
      "source": []
    },
    {
      "cell_type": "code",
      "execution_count": null,
      "id": "836fe56e",
      "metadata": {
        "id": "836fe56e"
      },
      "outputs": [],
      "source": []
    },
    {
      "cell_type": "code",
      "execution_count": null,
      "id": "293d8b46",
      "metadata": {
        "id": "293d8b46"
      },
      "outputs": [],
      "source": [
        "def reverseStr(s):\n",
        "\n",
        "    temp=s.split()\n",
        "    templst=[]\n",
        "    templst2=[]\n",
        "\n",
        "    s2= ' '.join(temp[::-1])\n",
        "\n",
        "    for i in temp[::-1]:\n",
        "        templst.append(i[::-1])\n",
        "    s1 = ' '.join(templst)\n",
        "\n",
        "    for i in temp:\n",
        "        templst2.append(i[::-1])\n",
        "    s3= ' '.join(templst2)\n",
        "\n",
        "    print(s1)\n",
        "    print(s2)\n",
        "    print(s3)\n",
        ""
      ]
    },
    {
      "cell_type": "code",
      "execution_count": null,
      "id": "c130121e",
      "metadata": {
        "id": "c130121e",
        "outputId": "ee1f505d-2e6e-4ced-e76a-bbd795a197fb"
      },
      "outputs": [
        {
          "name": "stdout",
          "output_type": "stream",
          "text": [
            "edoC steL skloF olleH\n",
            "Code Lets Folks Hello\n",
            "olleH skloF steL edoC\n"
          ]
        }
      ],
      "source": [
        "reverseStr(\"Hello Folks Lets Code\")"
      ]
    },
    {
      "cell_type": "code",
      "execution_count": null,
      "id": "500f91f8",
      "metadata": {
        "id": "500f91f8"
      },
      "outputs": [],
      "source": []
    },
    {
      "cell_type": "code",
      "execution_count": null,
      "id": "f4894a81",
      "metadata": {
        "id": "f4894a81"
      },
      "outputs": [],
      "source": [
        "def reverseStr2(s):\n",
        "\n",
        "    print(s[::-1])\n",
        "\n",
        "    print(' '.join(s.split()[::-1]))\n",
        "\n",
        "    print( ' '.join( [ i[::-1] for i in s.split() ] ))\n",
        ""
      ]
    },
    {
      "cell_type": "code",
      "execution_count": null,
      "id": "301e4783",
      "metadata": {
        "id": "301e4783",
        "outputId": "24c5e718-294d-4cf4-9eee-5d9df2557835"
      },
      "outputs": [
        {
          "name": "stdout",
          "output_type": "stream",
          "text": [
            "edoC steL skloF olleH\n",
            "Code Lets Folks Hello\n",
            "olleH skloF steL edoC\n"
          ]
        }
      ],
      "source": [
        "reverseStr2(\"Hello Folks Lets Code\")"
      ]
    },
    {
      "cell_type": "code",
      "execution_count": null,
      "id": "116f4ebc",
      "metadata": {
        "id": "116f4ebc"
      },
      "outputs": [],
      "source": []
    },
    {
      "cell_type": "code",
      "execution_count": null,
      "id": "8fbc3cf0",
      "metadata": {
        "id": "8fbc3cf0"
      },
      "outputs": [],
      "source": []
    },
    {
      "cell_type": "code",
      "execution_count": null,
      "id": "6acb015a",
      "metadata": {
        "id": "6acb015a"
      },
      "outputs": [],
      "source": []
    },
    {
      "cell_type": "markdown",
      "id": "942447a7",
      "metadata": {
        "id": "942447a7"
      },
      "source": [
        "# 2.\n",
        "\n",
        "💻 Write a function which takes a string as input and\n",
        "returns true if it contains all the numbers from 0 to 9.\n",
        "\n",
        "containsAllNumbers(\"a78b9c01cd3e4526fk\") = true\n",
        "//Explanation: Has all the numbers 0 to 9\n",
        "\n",
        "containsAllNumbers(\"abcd1\") = false\n",
        "//Explanation: Is not having all the numbers from 0 to 9\n",
        "\n",
        "containsAllNumbers(\"123456789\") = false  \n",
        "//Explanation: 0 is missing"
      ]
    },
    {
      "cell_type": "code",
      "execution_count": null,
      "id": "3711d6fb",
      "metadata": {
        "id": "3711d6fb"
      },
      "outputs": [],
      "source": [
        "def containsAllNumbers(s):\n",
        "    num_check = set(range(0,10))\n",
        "    num = set([int(i) for i in s if i.isnumeric()])\n",
        "    if len(num_check-num)==0:\n",
        "        return True\n",
        "    return False"
      ]
    },
    {
      "cell_type": "code",
      "execution_count": null,
      "id": "0bd91a74",
      "metadata": {
        "id": "0bd91a74",
        "outputId": "b4f1b989-01a3-46b4-9b06-69e167ea1fd7"
      },
      "outputs": [
        {
          "name": "stdout",
          "output_type": "stream",
          "text": [
            "True\n",
            "False\n",
            "False\n"
          ]
        }
      ],
      "source": [
        "print(containsAllNumbers('a78b9c01cd3e4526fk'))\n",
        "print(containsAllNumbers('abcd1'))\n",
        "print(containsAllNumbers('123456789'))"
      ]
    },
    {
      "cell_type": "code",
      "execution_count": null,
      "id": "9c472936",
      "metadata": {
        "id": "9c472936"
      },
      "outputs": [],
      "source": []
    },
    {
      "cell_type": "code",
      "execution_count": null,
      "id": "acb7b949",
      "metadata": {
        "id": "acb7b949"
      },
      "outputs": [],
      "source": []
    },
    {
      "cell_type": "code",
      "execution_count": null,
      "id": "62490d56",
      "metadata": {
        "id": "62490d56",
        "outputId": "f9fa8e0c-4339-42f2-e29e-150ff10671d0"
      },
      "outputs": [
        {
          "name": "stdout",
          "output_type": "stream",
          "text": [
            "True\n",
            "False\n",
            "False\n"
          ]
        }
      ],
      "source": [
        "def containsAllNumbers(s):\n",
        "    required_digits = set('0123456789')\n",
        "    found_digits = set([char for char in s if char.isdigit()])\n",
        "    # Check if all required digits are in found_digits\n",
        "    return required_digits.issubset(found_digits) # \"Is set required_digits a subset of set found_digits\n",
        "\n",
        "# Test cases\n",
        "print(containsAllNumbers(\"a78b9c01cd3e4526fk\"))  # Output: True\n",
        "print(containsAllNumbers(\"abcd1\"))               # Output: False\n",
        "print(containsAllNumbers(\"123456789\"))           # Output: False"
      ]
    },
    {
      "cell_type": "code",
      "execution_count": null,
      "id": "4d5cff5a",
      "metadata": {
        "id": "4d5cff5a"
      },
      "outputs": [],
      "source": []
    },
    {
      "cell_type": "code",
      "execution_count": null,
      "id": "b1b1bd53",
      "metadata": {
        "id": "b1b1bd53"
      },
      "outputs": [],
      "source": []
    },
    {
      "cell_type": "code",
      "execution_count": null,
      "id": "31c9d818",
      "metadata": {
        "id": "31c9d818"
      },
      "outputs": [],
      "source": [
        "def containsAllNumbers(s):\n",
        "    chk_num=set('0123456789')\n",
        "    new_set=set([i for i in s if i.isdigit()])\n",
        "    intersection_digits = new_set.intersection(chk_num)\n",
        "    return len(intersection_digits) == 10"
      ]
    },
    {
      "cell_type": "code",
      "execution_count": null,
      "id": "e46c04b1",
      "metadata": {
        "id": "e46c04b1",
        "outputId": "12a6e476-7707-48b3-8df4-e85db5a31463"
      },
      "outputs": [
        {
          "name": "stdout",
          "output_type": "stream",
          "text": [
            "True\n",
            "False\n",
            "False\n"
          ]
        }
      ],
      "source": [
        "print( containsAllNumbers(\"a78b9c01cd3e4526fk\") )\n",
        "print( containsAllNumbers(\"abcd1\") )\n",
        "print( containsAllNumbers(\"123456789\") )"
      ]
    },
    {
      "cell_type": "code",
      "execution_count": null,
      "id": "6af77d16",
      "metadata": {
        "id": "6af77d16"
      },
      "outputs": [],
      "source": []
    },
    {
      "cell_type": "code",
      "execution_count": null,
      "id": "26fe3603",
      "metadata": {
        "id": "26fe3603"
      },
      "outputs": [],
      "source": [
        "def containsAllNumbers2(st) :\n",
        "    lst = sorted(set(st))\n",
        "    st2 = \"\".join(lst)\n",
        "    if \"0123456789\" in st2 :\n",
        "        return True\n",
        "    else :\n",
        "        return False"
      ]
    },
    {
      "cell_type": "code",
      "execution_count": null,
      "id": "a28d56da",
      "metadata": {
        "id": "a28d56da",
        "outputId": "6369dbe7-fab8-4bbd-eed0-a968b752498c"
      },
      "outputs": [
        {
          "name": "stdout",
          "output_type": "stream",
          "text": [
            "True\n",
            "False\n",
            "False\n"
          ]
        }
      ],
      "source": [
        "print( containsAllNumbers2(\"a78b9c01cd3e4526fk\") )\n",
        "print( containsAllNumbers2(\"abcd1\") )\n",
        "print( containsAllNumbers2(\"123456789\") )"
      ]
    },
    {
      "cell_type": "code",
      "execution_count": null,
      "id": "16adb16b",
      "metadata": {
        "id": "16adb16b"
      },
      "outputs": [],
      "source": []
    },
    {
      "cell_type": "code",
      "execution_count": null,
      "id": "973fc4f2",
      "metadata": {
        "id": "973fc4f2"
      },
      "outputs": [],
      "source": []
    },
    {
      "cell_type": "markdown",
      "id": "5faa5f89",
      "metadata": {
        "id": "5faa5f89"
      },
      "source": [
        "# 1.  \n",
        "💻 Write a function which takes a number as input & sums its digits to return a single digit.\n",
        "\n",
        "sumDigits(123) = 6  \n",
        "//Explanation: 1+2+3=6\n",
        "\n",
        "sumDigits(916) = 7\n",
        "//Explanation: 9+1+6=16 => 1+6=7\n",
        "\n",
        "sumDigits(19) = 1  \n",
        "//Explanation: 1+9=10 => 1+0=1"
      ]
    },
    {
      "cell_type": "code",
      "execution_count": null,
      "id": "274331ea",
      "metadata": {
        "id": "274331ea"
      },
      "outputs": [],
      "source": [
        "def sumDigits(n):\n",
        "    temp=n\n",
        "    total=0\n",
        "    while temp>0:\n",
        "        total+=temp%10\n",
        "        temp//=10\n",
        "    if total>=10:\n",
        "        total = sumDigits(total)\n",
        "    return total"
      ]
    },
    {
      "cell_type": "code",
      "execution_count": null,
      "id": "68b77bc3",
      "metadata": {
        "id": "68b77bc3",
        "outputId": "055cf410-cc08-4f90-ca59-0fe8d655e1b5"
      },
      "outputs": [
        {
          "name": "stdout",
          "output_type": "stream",
          "text": [
            "6\n",
            "7\n",
            "1\n"
          ]
        }
      ],
      "source": [
        "print(sumDigits(123))\n",
        "print(sumDigits(916))\n",
        "print(sumDigits(19))"
      ]
    },
    {
      "cell_type": "code",
      "execution_count": null,
      "id": "d58d9719",
      "metadata": {
        "id": "d58d9719"
      },
      "outputs": [],
      "source": []
    },
    {
      "cell_type": "code",
      "execution_count": null,
      "id": "81bed23f",
      "metadata": {
        "id": "81bed23f"
      },
      "outputs": [],
      "source": [
        "def sumDigits(n):\n",
        "    temp=n\n",
        "    total=0\n",
        "    while temp>0:\n",
        "        rem=temp%10\n",
        "        total+=rem\n",
        "        temp//=10\n",
        "\n",
        "    while len(str(total))!=1:\n",
        "        return sumDigits(total)\n",
        "    return total"
      ]
    },
    {
      "cell_type": "code",
      "execution_count": null,
      "id": "bd7663cf",
      "metadata": {
        "id": "bd7663cf",
        "outputId": "545fe0d3-0036-4385-dffa-2ad63ed1df56"
      },
      "outputs": [
        {
          "name": "stdout",
          "output_type": "stream",
          "text": [
            "6\n",
            "7\n",
            "1\n"
          ]
        }
      ],
      "source": [
        "print( sumDigits(123) )\n",
        "print( sumDigits(916) )\n",
        "print( sumDigits(19) )"
      ]
    },
    {
      "cell_type": "code",
      "execution_count": null,
      "id": "6f22d30a",
      "metadata": {
        "id": "6f22d30a"
      },
      "outputs": [],
      "source": []
    },
    {
      "cell_type": "code",
      "execution_count": null,
      "id": "7f980607",
      "metadata": {
        "id": "7f980607"
      },
      "outputs": [],
      "source": [
        "def sumDigits2(n):\n",
        "    num_str= [ int(i) for i in str(n)]\n",
        "    if len(num_str)>1:\n",
        "        return sumDigits2(sum(num_str))\n",
        "    else:\n",
        "        return sum(num_str)"
      ]
    },
    {
      "cell_type": "code",
      "execution_count": null,
      "id": "d27173c8",
      "metadata": {
        "id": "d27173c8",
        "outputId": "ce01cf6c-38f6-4a77-c893-2423df6f429c"
      },
      "outputs": [
        {
          "name": "stdout",
          "output_type": "stream",
          "text": [
            "6\n",
            "7\n",
            "1\n"
          ]
        }
      ],
      "source": [
        "print( sumDigits2(123) )\n",
        "print( sumDigits2(916) )\n",
        "print( sumDigits2(19) )"
      ]
    },
    {
      "cell_type": "code",
      "execution_count": null,
      "id": "41ee764b",
      "metadata": {
        "id": "41ee764b",
        "outputId": "c39f6945-aebb-4ca8-b2ff-a2dc0df37596"
      },
      "outputs": [
        {
          "name": "stdout",
          "output_type": "stream",
          "text": [
            "6\n",
            "7\n",
            "1\n"
          ]
        }
      ],
      "source": [
        "def sumDigits(n):\n",
        "    while n >= 10:\n",
        "        n = sum(int(digit) for digit in str(n))\n",
        "    return n\n",
        "\n",
        "# Test cases\n",
        "print(sumDigits(123))  # Output: 6\n",
        "print(sumDigits(916))  # Output: 7\n",
        "print(sumDigits(19))   # Output: 1"
      ]
    },
    {
      "cell_type": "code",
      "source": [],
      "metadata": {
        "id": "c4hjK7H5SqPI"
      },
      "id": "c4hjK7H5SqPI",
      "execution_count": null,
      "outputs": []
    }
  ],
  "metadata": {
    "kernelspec": {
      "display_name": "Python 3 (ipykernel)",
      "language": "python",
      "name": "python3"
    },
    "language_info": {
      "codemirror_mode": {
        "name": "ipython",
        "version": 3
      },
      "file_extension": ".py",
      "mimetype": "text/x-python",
      "name": "python",
      "nbconvert_exporter": "python",
      "pygments_lexer": "ipython3",
      "version": "3.12.4"
    },
    "colab": {
      "provenance": [],
      "toc_visible": true,
      "include_colab_link": true
    }
  },
  "nbformat": 4,
  "nbformat_minor": 5
}