{
  "nbformat": 4,
  "nbformat_minor": 0,
  "metadata": {
    "colab": {
      "provenance": [],
      "authorship_tag": "ABX9TyMuNvl55/s6ZK0JdjUv5pfJ",
      "include_colab_link": true
    },
    "kernelspec": {
      "name": "python3",
      "display_name": "Python 3"
    },
    "language_info": {
      "name": "python"
    }
  },
  "cells": [
    {
      "cell_type": "markdown",
      "metadata": {
        "id": "view-in-github",
        "colab_type": "text"
      },
      "source": [
        "<a href=\"https://colab.research.google.com/github/niralakumar/practice/blob/main/pysparkpractice1.ipynb\" target=\"_parent\"><img src=\"https://colab.research.google.com/assets/colab-badge.svg\" alt=\"Open In Colab\"/></a>"
      ]
    },
    {
      "cell_type": "code",
      "execution_count": null,
      "metadata": {
        "colab": {
          "base_uri": "https://localhost:8080/"
        },
        "id": "hy-MK7gOfkSK",
        "outputId": "574caee7-ded9-4503-d6df-f60f54887018"
      },
      "outputs": [
        {
          "output_type": "stream",
          "name": "stdout",
          "text": [
            "Requirement already satisfied: pyspark in /usr/local/lib/python3.10/dist-packages (3.5.3)\n",
            "Requirement already satisfied: py4j==0.10.9.7 in /usr/local/lib/python3.10/dist-packages (from pyspark) (0.10.9.7)\n"
          ]
        }
      ],
      "source": [
        "!pip install pyspark"
      ]
    },
    {
      "cell_type": "code",
      "source": [],
      "metadata": {
        "id": "j11kKfCjgoI4"
      },
      "execution_count": null,
      "outputs": []
    },
    {
      "cell_type": "code",
      "source": [
        "import pyspark"
      ],
      "metadata": {
        "id": "IJl13H3hgZaF"
      },
      "execution_count": null,
      "outputs": []
    },
    {
      "cell_type": "code",
      "source": [
        "# from pyspark.sql import SparkSession\n",
        "# spark=SparkSession.builder.appName(\"try spark\").getOrCreate()\n",
        "\n",
        "\n",
        "from pyspark.sql import SparkSession\n",
        "spark=SparkSession.builder.appName(\"practice spark\").getOrCreate()\n"
      ],
      "metadata": {
        "id": "Pe7apTzIgtML"
      },
      "execution_count": null,
      "outputs": []
    },
    {
      "cell_type": "code",
      "source": [
        "df=spark.sql(\"\"\"select left('2023'|| '01',2),date_format(current_date-31,'yyyyMdd'),date_format(current_date,'yyyyMM')\"\"\")\n",
        "df.show()\n"
      ],
      "metadata": {
        "colab": {
          "base_uri": "https://localhost:8080/"
        },
        "id": "s-W4z6lc-m8k",
        "outputId": "0fa2d866-6189-4b4d-f47c-7df6121b8ede"
      },
      "execution_count": null,
      "outputs": [
        {
          "output_type": "stream",
          "name": "stdout",
          "text": [
            "+-------------------------+--------------------------------------------------+-----------------------------------+\n",
            "|left(concat(2023, 01), 2)|date_format(date_sub(current_date(), 31), yyyyMdd)|date_format(current_date(), yyyyMM)|\n",
            "+-------------------------+--------------------------------------------------+-----------------------------------+\n",
            "|                       20|                                          20241108|                             202412|\n",
            "+-------------------------+--------------------------------------------------+-----------------------------------+\n",
            "\n"
          ]
        }
      ]
    },
    {
      "cell_type": "code",
      "source": [
        "dfs=spark.sql(\"\"\"select date_sub(CAST(current_timestamp() as DATE), -1) , date_sub(CAST(current_timestamp() as DATE), -7)\"\"\")"
      ],
      "metadata": {
        "id": "j8keMIK6g2zx"
      },
      "execution_count": null,
      "outputs": []
    },
    {
      "cell_type": "code",
      "source": [
        "dfs.show()"
      ],
      "metadata": {
        "colab": {
          "base_uri": "https://localhost:8080/"
        },
        "id": "D4tzF7LuhLRx",
        "outputId": "8dd423bf-d20c-480d-b6a9-1dadde6f4943"
      },
      "execution_count": null,
      "outputs": [
        {
          "output_type": "stream",
          "name": "stdout",
          "text": [
            "+-----------------------------------------------+-----------------------------------------------+\n",
            "|date_sub(CAST(current_timestamp() AS DATE), -1)|date_sub(CAST(current_timestamp() AS DATE), -7)|\n",
            "+-----------------------------------------------+-----------------------------------------------+\n",
            "|                                     2024-05-09|                                     2024-05-15|\n",
            "+-----------------------------------------------+-----------------------------------------------+\n",
            "\n"
          ]
        }
      ]
    },
    {
      "cell_type": "code",
      "source": [
        "from pyspark.sql.types import StructType,StructField,StringType, IntegerType, DoubleType, DateType\n",
        "data=spark.read.csv('/content/tst_data.csv',header=True,inferSchema=True)\n",
        "\n",
        "# custom_schema = StructType([\n",
        "#     StructField(\"userid\", StringType(), True),\n",
        "# #     StructField(\"eventname_tst\", StringType(), True),\n",
        "# #     StructField(\"eventTime_tst\", DoubleType(), True),\n",
        "# #     StructField(\"leadId_tst\", DateType(), True)\n",
        "# ])\n",
        "# data=spark.read.csv('/content/tst_data.csv',header=True,inferSchema=True,schema=custom_schema)\n",
        "\n",
        "data.show(5)\n",
        "data.printSchema()\n"
      ],
      "metadata": {
        "colab": {
          "base_uri": "https://localhost:8080/"
        },
        "id": "lCdytuoyLAht",
        "outputId": "db25f525-0b4e-475f-f95f-f19e429b598f"
      },
      "execution_count": null,
      "outputs": [
        {
          "output_type": "stream",
          "name": "stdout",
          "text": [
            "+------------------+-------------------+-------------------+------------------+------------------+----------------+--------------+------------------+----------+--------+----------+---------------+-------------------+-------------------+--------+--------------------+------+-------------+----------+----+--------------------+------------+------+----------+----+------+----------------+----------------------+-----------+------+----------+---------+-----------------+\n",
            "|            userId|          eventName|          eventTime|     opportunityId|            leadId|opportunityStage|subDisposition|isDummyOpportunity|paymentUrl|leadType|courseCode|     courseType|        createdDate|   lastModifiedDate|    PSID|          courseName|Stream|classStudying|classOpted|Term|          schoolName| schoolBoard|Agging|careerType|Type|Source|opportunityScore|opportunityProbability|classTopper|isMock|branchCode|leadScore|isPrefferedSchool|\n",
            "+------------------+-------------------+-------------------+------------------+------------------+----------------+--------------+------------------+----------+--------+----------+---------------+-------------------+-------------------+--------+--------------------+------+-------------+----------+----+--------------------+------------+------+----------+----+------+----------------+----------------------+-----------+------+----------+---------+-----------------+\n",
            "|00QNo000003MYB2MAO|weCourseOpportunity|2023-10-29 04:10:26|006No000003UJdEIAW|00QNo000003MYB2MAO|         Engaged|          NULL|             false|      NULL|  Normal|    711021|One Year Course|2023-09-20 05:44:03|2023-10-29 04:10:26|    NULL|Dummy Course For ...|   SOM|            X|      11.0|2425|S S D GRAMMAR HIG...|        CBSE|    39|       RCC|NULL|  NULL|              43|                  NULL|      false| false|     053KP|     10.0|             true|\n",
            "|00QNo000003U1WrMAK|weCourseOpportunity|2023-10-29 02:23:37|006No000003cRTJIA2|00QNo000003U1WrMAK|         Engaged|          NULL|             false|      NULL|  Normal|    711021|One Year Course|2023-09-25 10:03:52|2023-10-29 02:23:37|12152510|Dummy Course For ...|   SOM|            X|      11.0|2425|   MESCO HIGH SCHOOL|State Boards|    34|       RCC|NULL|  NULL|              43|                  NULL|      false| false|     044HY|      4.0|            false|\n",
            "|00QNo000003OWJsMAO|weCourseOpportunity|2023-10-30 11:09:57|006No000004dcDTIAY|00QNo000003OWJsMAO|         Engaged|          NULL|             false|      NULL|  Normal|    711023|One Year Course|2023-10-30 11:09:57|2023-10-30 11:09:57|12003266|Dummy Course For ...|   SOF|           IX|      10.0|2425|C S I CHRIST MATR...|        NULL|     0|       RCC|NULL|  NULL|            NULL|                  NULL|      false| false|     656TN|     NULL|            false|\n",
            "|00QNo000003NPNQMA4|weCourseOpportunity|2023-10-30 12:04:27|006No000004dqB5IAI|00QNo000003NPNQMA4|         Engaged|          NULL|             false|      NULL|  Normal|    711023|One Year Course|2023-10-30 12:04:26|2023-10-30 12:04:27|11976144|Dummy Course For ...|   SOF|           IX|      10.0|2425|   Bhagwan Vidyalaya|        NULL|     0|       RCC|NULL|  NULL|            NULL|                  NULL|      false| false|     085PN|     NULL|            false|\n",
            "|00Q8Y00001iDGJcUAO|weCourseOpportunity|2023-10-28 23:27:11|006No000003Yq4jIAC|00Q8Y00001iDGJcUAO|         Engaged|          NULL|             false|      NULL|  Normal|    711023|One Year Course|2023-09-23 02:52:48|2023-10-28 23:27:11| 9114727|Dummy Course For ...|   SOF|         VIII|       9.0|2425|SIVANANDA CENTENA...|        CBSE|    36|       RCC|NULL|  NULL|              43|                  NULL|       true| false|     473OR|     20.0|            false|\n",
            "+------------------+-------------------+-------------------+------------------+------------------+----------------+--------------+------------------+----------+--------+----------+---------------+-------------------+-------------------+--------+--------------------+------+-------------+----------+----+--------------------+------------+------+----------+----+------+----------------+----------------------+-----------+------+----------+---------+-----------------+\n",
            "only showing top 5 rows\n",
            "\n",
            "root\n",
            " |-- userId: string (nullable = true)\n",
            " |-- eventName: string (nullable = true)\n",
            " |-- eventTime: timestamp (nullable = true)\n",
            " |-- opportunityId: string (nullable = true)\n",
            " |-- leadId: string (nullable = true)\n",
            " |-- opportunityStage: string (nullable = true)\n",
            " |-- subDisposition: string (nullable = true)\n",
            " |-- isDummyOpportunity: boolean (nullable = true)\n",
            " |-- paymentUrl: string (nullable = true)\n",
            " |-- leadType: string (nullable = true)\n",
            " |-- courseCode: integer (nullable = true)\n",
            " |-- courseType: string (nullable = true)\n",
            " |-- createdDate: timestamp (nullable = true)\n",
            " |-- lastModifiedDate: timestamp (nullable = true)\n",
            " |-- PSID: integer (nullable = true)\n",
            " |-- courseName: string (nullable = true)\n",
            " |-- Stream: string (nullable = true)\n",
            " |-- classStudying: string (nullable = true)\n",
            " |-- classOpted: double (nullable = true)\n",
            " |-- Term: integer (nullable = true)\n",
            " |-- schoolName: string (nullable = true)\n",
            " |-- schoolBoard: string (nullable = true)\n",
            " |-- Agging: integer (nullable = true)\n",
            " |-- careerType: string (nullable = true)\n",
            " |-- Type: string (nullable = true)\n",
            " |-- Source: string (nullable = true)\n",
            " |-- opportunityScore: integer (nullable = true)\n",
            " |-- opportunityProbability: string (nullable = true)\n",
            " |-- classTopper: boolean (nullable = true)\n",
            " |-- isMock: boolean (nullable = true)\n",
            " |-- branchCode: string (nullable = true)\n",
            " |-- leadScore: double (nullable = true)\n",
            " |-- isPrefferedSchool: boolean (nullable = true)\n",
            "\n"
          ]
        }
      ]
    },
    {
      "cell_type": "code",
      "source": [
        "data.columns"
      ],
      "metadata": {
        "colab": {
          "base_uri": "https://localhost:8080/"
        },
        "id": "NBz7ELS_bRDr",
        "outputId": "53640022-26f6-412f-8695-cb69270adcc0"
      },
      "execution_count": null,
      "outputs": [
        {
          "output_type": "execute_result",
          "data": {
            "text/plain": [
              "['userId',\n",
              " 'eventName',\n",
              " 'eventTime',\n",
              " 'opportunityId',\n",
              " 'leadId',\n",
              " 'opportunityStage',\n",
              " 'subDisposition',\n",
              " 'isDummyOpportunity',\n",
              " 'paymentUrl',\n",
              " 'leadType',\n",
              " 'courseCode',\n",
              " 'courseType',\n",
              " 'createdDate',\n",
              " 'lastModifiedDate',\n",
              " 'PSID',\n",
              " 'courseName',\n",
              " 'Stream',\n",
              " 'classStudying',\n",
              " 'classOpted',\n",
              " 'Term',\n",
              " 'schoolName',\n",
              " 'schoolBoard',\n",
              " 'Agging',\n",
              " 'careerType',\n",
              " 'Type',\n",
              " 'Source',\n",
              " 'opportunityScore',\n",
              " 'opportunityProbability',\n",
              " 'classTopper',\n",
              " 'isMock',\n",
              " 'branchCode',\n",
              " 'leadScore',\n",
              " 'isPrefferedSchool']"
            ]
          },
          "metadata": {},
          "execution_count": 38
        }
      ]
    },
    {
      "cell_type": "code",
      "source": [
        "data.select('eventname','userid').show(10)"
      ],
      "metadata": {
        "colab": {
          "base_uri": "https://localhost:8080/"
        },
        "id": "N3FEPtgWbBhU",
        "outputId": "ceb691a5-f854-4f82-c802-c3203d1eaca7"
      },
      "execution_count": null,
      "outputs": [
        {
          "output_type": "stream",
          "name": "stdout",
          "text": [
            "+-------------------+------------------+\n",
            "|          eventname|            userid|\n",
            "+-------------------+------------------+\n",
            "|weCourseOpportunity|00QNo000003MYB2MAO|\n",
            "|weCourseOpportunity|00QNo000003U1WrMAK|\n",
            "|weCourseOpportunity|00QNo000003OWJsMAO|\n",
            "|weCourseOpportunity|00QNo000003NPNQMA4|\n",
            "|weCourseOpportunity|00Q8Y00001iDGJcUAO|\n",
            "|weCourseOpportunity|00QNo00000373naMAA|\n",
            "|weCourseOpportunity|00Q8Y00001i85Q5UAI|\n",
            "|weCourseOpportunity|00QNo0000037EEWMA2|\n",
            "|weCourseOpportunity|00QNo000003U2ylMAC|\n",
            "|weCourseOpportunity|00QNo000003ThCxMAK|\n",
            "+-------------------+------------------+\n",
            "only showing top 10 rows\n",
            "\n"
          ]
        }
      ]
    },
    {
      "cell_type": "code",
      "source": [
        "data.dtypes"
      ],
      "metadata": {
        "colab": {
          "base_uri": "https://localhost:8080/"
        },
        "id": "VdI5zKUbbBfI",
        "outputId": "180e07eb-30dd-432d-93f6-5ea400b2a707"
      },
      "execution_count": null,
      "outputs": [
        {
          "output_type": "execute_result",
          "data": {
            "text/plain": [
              "[('userId', 'string'),\n",
              " ('eventName', 'string'),\n",
              " ('eventTime', 'timestamp'),\n",
              " ('opportunityId', 'string'),\n",
              " ('leadId', 'string'),\n",
              " ('opportunityStage', 'string'),\n",
              " ('subDisposition', 'string'),\n",
              " ('isDummyOpportunity', 'boolean'),\n",
              " ('paymentUrl', 'string'),\n",
              " ('leadType', 'string'),\n",
              " ('courseCode', 'int'),\n",
              " ('courseType', 'string'),\n",
              " ('createdDate', 'timestamp'),\n",
              " ('lastModifiedDate', 'timestamp'),\n",
              " ('PSID', 'int'),\n",
              " ('courseName', 'string'),\n",
              " ('Stream', 'string'),\n",
              " ('classStudying', 'string'),\n",
              " ('classOpted', 'double'),\n",
              " ('Term', 'int'),\n",
              " ('schoolName', 'string'),\n",
              " ('schoolBoard', 'string'),\n",
              " ('Agging', 'int'),\n",
              " ('careerType', 'string'),\n",
              " ('Type', 'string'),\n",
              " ('Source', 'string'),\n",
              " ('opportunityScore', 'int'),\n",
              " ('opportunityProbability', 'string'),\n",
              " ('classTopper', 'boolean'),\n",
              " ('isMock', 'boolean'),\n",
              " ('branchCode', 'string'),\n",
              " ('leadScore', 'double'),\n",
              " ('isPrefferedSchool', 'boolean')]"
            ]
          },
          "metadata": {},
          "execution_count": 46
        }
      ]
    },
    {
      "cell_type": "code",
      "source": [
        "data.describe().show(10)"
      ],
      "metadata": {
        "colab": {
          "base_uri": "https://localhost:8080/"
        },
        "id": "CqgaIFEpbBcS",
        "outputId": "a6dcd868-d923-4b8d-dee7-c6a95a2d6147"
      },
      "execution_count": null,
      "outputs": [
        {
          "output_type": "stream",
          "name": "stdout",
          "text": [
            "+-------+------------------+-------------------+------------------+------------------+------------------+---------------+----------+--------+-----------------+---------------+--------------------+--------------------+------+-------------+-----------------+-------------------+--------------------+------------+------------------+----------+----+--------------------+-----------------+----------------------+----------+------------------+\n",
            "|summary|            userId|          eventName|     opportunityId|            leadId|  opportunityStage| subDisposition|paymentUrl|leadType|       courseCode|     courseType|                PSID|          courseName|Stream|classStudying|       classOpted|               Term|          schoolName| schoolBoard|            Agging|careerType|Type|              Source| opportunityScore|opportunityProbability|branchCode|         leadScore|\n",
            "+-------+------------------+-------------------+------------------+------------------+------------------+---------------+----------+--------+-----------------+---------------+--------------------+--------------------+------+-------------+-----------------+-------------------+--------------------+------------+------------------+----------+----+--------------------+-----------------+----------------------+----------+------------------+\n",
            "|  count|                50|                 50|                50|                50|                50|              7|         0|      50|               50|             50|                  49|                  50|    50|           50|               50|                 50|                  50|          39|                50|        50|   0|                   4|               27|                     0|        50|                38|\n",
            "|   mean|              NULL|               NULL|              NULL|              NULL|              NULL|           NULL|      NULL|    NULL|         711140.7|           NULL|1.1333649040816326E7|                NULL|  NULL|         10.0|              9.9|            2425.06|                NULL|        NULL|             28.54|      NULL|NULL|                NULL|39.96296296296296|                  NULL|      NULL|1087.3157894736842|\n",
            "| stddev|              NULL|               NULL|              NULL|              NULL|              NULL|           NULL|      NULL|    NULL|481.3858501604285|           NULL|  1791174.3802185915|                NULL|  NULL|         NULL|1.281739888923312|0.23989793748210625|                NULL|        NULL|19.361449178347016|      NULL|NULL|                NULL|8.911882653045451|                  NULL|      NULL|2381.9813363607577|\n",
            "|    min|00Q8Y00001bXUNaUAO|weCourseOpportunity|006No000002jpJ5IAI|00Q8Y00001bXUNaUAO|Closed Opportunity|   In Follow Up|      NULL|  Normal|           711021|One Year Course|             5467201|Dummy Course For ...|   SOE|           10|              8.0|               2425|AJIT KARAM SINGH ...|        CBSE|                 0|       RCC|NULL|      Aakash website|                7|                  NULL|     012CH|               0.0|\n",
            "|    max|00QNo000003ot7lMAA|weCourseOpportunity|006No000004dqB5IAI|00QNo000003ot7lMAA|           Engaged|Will enrol soon|      NULL|  Others|           713260|Two Year Course|            12471308|Two Year Integrat...|   SOM|          XII|             13.0|               2426|YASHWANT PUBLIC S...|State Boards|                71|       RCC|NULL|Already knew abou...|               59|                  NULL|     699DL|            9024.0|\n",
            "+-------+------------------+-------------------+------------------+------------------+------------------+---------------+----------+--------+-----------------+---------------+--------------------+--------------------+------+-------------+-----------------+-------------------+--------------------+------------+------------------+----------+----+--------------------+-----------------+----------------------+----------+------------------+\n",
            "\n"
          ]
        }
      ]
    },
    {
      "cell_type": "code",
      "source": [
        "from pyspark.sql.functions import count\n",
        "data.count()\n",
        "result=data.groupBy('opportunitystage','stream','term','schoolboard').agg(count('*').alias('count')).orderBy('stream', reverse=True)\n",
        "result.show()\n"
      ],
      "metadata": {
        "colab": {
          "base_uri": "https://localhost:8080/"
        },
        "id": "RqQawVywbBZa",
        "outputId": "9798a434-28b6-4571-e4fd-dcae45dc8cac"
      },
      "execution_count": null,
      "outputs": [
        {
          "output_type": "stream",
          "name": "stdout",
          "text": [
            "+------------------+------+----+------------+-----+\n",
            "|  opportunitystage|stream|term| schoolboard|count|\n",
            "+------------------+------+----+------------+-----+\n",
            "|           Engaged|   SOE|2426|        CBSE|    1|\n",
            "|           Engaged|   SOE|2426|        ICSE|    1|\n",
            "|           Engaged|   SOE|2425|        CBSE|    4|\n",
            "|           Engaged|   SOE|2425|State Boards|    3|\n",
            "|           Engaged|   SOF|2425|        ICSE|    4|\n",
            "|           Engaged|   SOF|2425|State Boards|    2|\n",
            "|           Engaged|   SOF|2425|        NULL|   11|\n",
            "|           Engaged|   SOF|2425|        CBSE|   18|\n",
            "|           Engaged|   SOM|2425|        CBSE|    2|\n",
            "|Closed Opportunity|   SOM|2425|State Boards|    1|\n",
            "|           Engaged|   SOM|2426|State Boards|    1|\n",
            "|           Engaged|   SOM|2425|State Boards|    2|\n",
            "+------------------+------+----+------------+-----+\n",
            "\n"
          ]
        }
      ]
    },
    {
      "cell_type": "code",
      "source": [],
      "metadata": {
        "id": "IF2HVto6bBWK"
      },
      "execution_count": null,
      "outputs": []
    },
    {
      "cell_type": "code",
      "source": [
        "df=spark.read.csv('/content/niralaprac1.csv',header=True,inferSchema=True)\n",
        "                                # this header=True part helps us to remove the column of the csv fie\n",
        "                                #  this inferSchema =True helps us in identifying the datatype when we find the data type using printSchema function below\n",
        "df.show()"
      ],
      "metadata": {
        "colab": {
          "base_uri": "https://localhost:8080/"
        },
        "id": "BEglS8eRhr2L",
        "outputId": "890c0831-b9ca-4f2f-acce-63c1914b314a"
      },
      "execution_count": null,
      "outputs": [
        {
          "output_type": "stream",
          "name": "stdout",
          "text": [
            "+---+----+-----+----+\n",
            "|rno|name|marks|rank|\n",
            "+---+----+-----+----+\n",
            "|  1|  AK|   78|  11|\n",
            "|  2|  BK|   76|  12|\n",
            "|  3|  CK|   56|  13|\n",
            "|  4|  DK|   79|  10|\n",
            "|  5|  EK|   89|   1|\n",
            "+---+----+-----+----+\n",
            "\n"
          ]
        }
      ]
    },
    {
      "cell_type": "code",
      "source": [
        "\n",
        "df.head(3)"
      ],
      "metadata": {
        "colab": {
          "base_uri": "https://localhost:8080/"
        },
        "id": "oqdWEikZiWWM",
        "outputId": "8c0de241-517d-4799-a954-f78900de896d"
      },
      "execution_count": null,
      "outputs": [
        {
          "output_type": "execute_result",
          "data": {
            "text/plain": [
              "[Row(rno=1, name='AK', marks=78, rank=11),\n",
              " Row(rno=2, name='BK', marks=76, rank=12),\n",
              " Row(rno=3, name='CK', marks=56, rank=13)]"
            ]
          },
          "metadata": {},
          "execution_count": 5
        }
      ]
    },
    {
      "cell_type": "code",
      "source": [
        "df.printSchema()"
      ],
      "metadata": {
        "colab": {
          "base_uri": "https://localhost:8080/"
        },
        "id": "qQZZ1cOqiY1e",
        "outputId": "50f40c24-c784-449e-c454-cc952b80a5cc"
      },
      "execution_count": null,
      "outputs": [
        {
          "output_type": "stream",
          "name": "stdout",
          "text": [
            "root\n",
            " |-- rno: integer (nullable = true)\n",
            " |-- name: string (nullable = true)\n",
            " |-- marks: integer (nullable = true)\n",
            " |-- rank: integer (nullable = true)\n",
            "\n"
          ]
        }
      ]
    },
    {
      "cell_type": "code",
      "source": [
        "df.columns"
      ],
      "metadata": {
        "colab": {
          "base_uri": "https://localhost:8080/"
        },
        "id": "8NM-R4WVi2r9",
        "outputId": "522bd8e4-47c5-4ea0-c208-71b785ab63f2"
      },
      "execution_count": null,
      "outputs": [
        {
          "output_type": "execute_result",
          "data": {
            "text/plain": [
              "['rno', 'name', 'marks', 'rank']"
            ]
          },
          "metadata": {},
          "execution_count": 7
        }
      ]
    },
    {
      "cell_type": "code",
      "source": [
        "df.select([\"name\",\"rno\"]).show()\n",
        "# upper can also be done this way\n",
        "# df.select(\"name\",\"rno\").show()"
      ],
      "metadata": {
        "colab": {
          "base_uri": "https://localhost:8080/"
        },
        "id": "wE1TtbO5lAhN",
        "outputId": "8401f72d-977e-415d-80da-4f95e34b7cfa"
      },
      "execution_count": null,
      "outputs": [
        {
          "output_type": "stream",
          "name": "stdout",
          "text": [
            "+----+---+\n",
            "|name|rno|\n",
            "+----+---+\n",
            "|  AK|  1|\n",
            "|  BK|  2|\n",
            "|  CK|  3|\n",
            "|  DK|  4|\n",
            "|  EK|  5|\n",
            "+----+---+\n",
            "\n"
          ]
        }
      ]
    },
    {
      "cell_type": "code",
      "source": [
        "df.dtypes"
      ],
      "metadata": {
        "colab": {
          "base_uri": "https://localhost:8080/"
        },
        "id": "SLbZCuh6jSn5",
        "outputId": "39170c4e-eb3f-4417-a461-b14ac141121d"
      },
      "execution_count": null,
      "outputs": [
        {
          "output_type": "execute_result",
          "data": {
            "text/plain": [
              "[('rno', 'int'), ('name', 'string'), ('marks', 'int'), ('rank', 'int')]"
            ]
          },
          "metadata": {},
          "execution_count": 9
        }
      ]
    },
    {
      "cell_type": "code",
      "source": [
        "df.describe().show()"
      ],
      "metadata": {
        "colab": {
          "base_uri": "https://localhost:8080/"
        },
        "id": "4X2jYHxll4Ea",
        "outputId": "136b455b-41de-45f1-ce83-ba7622e966fb"
      },
      "execution_count": null,
      "outputs": [
        {
          "output_type": "stream",
          "name": "stdout",
          "text": [
            "+-------+------------------+----+------------------+------------------+\n",
            "|summary|               rno|name|             marks|              rank|\n",
            "+-------+------------------+----+------------------+------------------+\n",
            "|  count|                 5|   5|                 5|                 5|\n",
            "|   mean|               3.0|null|              75.6|               9.4|\n",
            "| stddev|1.5811388300841898|null|12.054044964243332|4.8270073544588685|\n",
            "|    min|                 1|  AK|                56|                 1|\n",
            "|    max|                 5|  EK|                89|                13|\n",
            "+-------+------------------+----+------------------+------------------+\n",
            "\n"
          ]
        }
      ]
    },
    {
      "cell_type": "code",
      "source": [
        "# add column in dataframe\n",
        "df1=df.withColumn('updated result',df['rank']+2)\n",
        "df1.show()\n",
        "df.show()"
      ],
      "metadata": {
        "colab": {
          "base_uri": "https://localhost:8080/"
        },
        "id": "EtLqrWPhmD_5",
        "outputId": "7fb8315f-6982-41c0-90e7-98ab590f94ea"
      },
      "execution_count": null,
      "outputs": [
        {
          "output_type": "stream",
          "name": "stdout",
          "text": [
            "+---+----+-----+----+--------------+\n",
            "|rno|name|marks|rank|updated result|\n",
            "+---+----+-----+----+--------------+\n",
            "|  1|  AK|   78|  11|            13|\n",
            "|  2|  BK|   76|  12|            14|\n",
            "|  3|  CK|   56|  13|            15|\n",
            "|  4|  DK|   79|  10|            12|\n",
            "|  5|  EK|   89|   1|             3|\n",
            "+---+----+-----+----+--------------+\n",
            "\n",
            "+---+----+-----+----+\n",
            "|rno|name|marks|rank|\n",
            "+---+----+-----+----+\n",
            "|  1|  AK|   78|  11|\n",
            "|  2|  BK|   76|  12|\n",
            "|  3|  CK|   56|  13|\n",
            "|  4|  DK|   79|  10|\n",
            "|  5|  EK|   89|   1|\n",
            "+---+----+-----+----+\n",
            "\n"
          ]
        }
      ]
    },
    {
      "cell_type": "code",
      "source": [
        "# drop column\n",
        "df1.drop('updated result').show()"
      ],
      "metadata": {
        "colab": {
          "base_uri": "https://localhost:8080/"
        },
        "id": "ChVD4ytAmxXb",
        "outputId": "92e987ca-9101-4551-a5be-f21e23b6b962"
      },
      "execution_count": null,
      "outputs": [
        {
          "output_type": "stream",
          "name": "stdout",
          "text": [
            "+---+----+-----+----+\n",
            "|rno|name|marks|rank|\n",
            "+---+----+-----+----+\n",
            "|  1|  AK|   78|  11|\n",
            "|  2|  BK|   76|  12|\n",
            "|  3|  CK|   56|  13|\n",
            "|  4|  DK|   79|  10|\n",
            "|  5|  EK|   89|   1|\n",
            "+---+----+-----+----+\n",
            "\n"
          ]
        }
      ]
    },
    {
      "cell_type": "code",
      "source": [
        "# rename column\n",
        "df2=df.withColumnRenamed('name','Name')\n",
        "df2.show()\n",
        "df.show()"
      ],
      "metadata": {
        "colab": {
          "base_uri": "https://localhost:8080/"
        },
        "id": "f7FcPUOdnK7a",
        "outputId": "f25e6331-3433-4868-a63e-f80e50df157e"
      },
      "execution_count": null,
      "outputs": [
        {
          "output_type": "stream",
          "name": "stdout",
          "text": [
            "+---+----+-----+----+\n",
            "|rno|Name|marks|rank|\n",
            "+---+----+-----+----+\n",
            "|  1|  AK|   78|  11|\n",
            "|  2|  BK|   76|  12|\n",
            "|  3|  CK|   56|  13|\n",
            "|  4|  DK|   79|  10|\n",
            "|  5|  EK|   89|   1|\n",
            "+---+----+-----+----+\n",
            "\n",
            "+---+----+-----+----+\n",
            "|rno|name|marks|rank|\n",
            "+---+----+-----+----+\n",
            "|  1|  AK|   78|  11|\n",
            "|  2|  BK|   76|  12|\n",
            "|  3|  CK|   56|  13|\n",
            "|  4|  DK|   79|  10|\n",
            "|  5|  EK|   89|   1|\n",
            "+---+----+-----+----+\n",
            "\n"
          ]
        }
      ]
    },
    {
      "cell_type": "code",
      "source": [
        "# drop row\n",
        "df.na.drop().show()\n",
        "# this will help in check if any null value in row is present and drop that row null\n"
      ],
      "metadata": {
        "colab": {
          "base_uri": "https://localhost:8080/"
        },
        "id": "OaF66q5Mn4tP",
        "outputId": "36a1d475-6cda-4172-c014-7957cad4c368"
      },
      "execution_count": null,
      "outputs": [
        {
          "output_type": "stream",
          "name": "stdout",
          "text": [
            "+---+----+-----+----+\n",
            "|rno|name|marks|rank|\n",
            "+---+----+-----+----+\n",
            "|  1|  AK|   78|  11|\n",
            "|  2|  BK|   76|  12|\n",
            "|  3|  CK|   56|  13|\n",
            "|  4|  DK|   79|  10|\n",
            "|  5|  EK|   89|   1|\n",
            "+---+----+-----+----+\n",
            "\n"
          ]
        }
      ]
    },
    {
      "cell_type": "code",
      "source": [
        "# fill any misssing value\n",
        "df.na.fill(\"missing value\").show()\n",
        "# this will fill any nullvalue with typed \"missing value\"\n",
        "# we can also try using this in any prticular olun as well\n",
        "# like this\n",
        "# df.na.fill('missing value',['rno','name']).show()\n",
        "# in this way it will implement only for these two coluns"
      ],
      "metadata": {
        "colab": {
          "base_uri": "https://localhost:8080/"
        },
        "id": "YmikXP16paQC",
        "outputId": "e167faec-3d77-489a-f597-3860b7a88906"
      },
      "execution_count": null,
      "outputs": [
        {
          "output_type": "stream",
          "name": "stdout",
          "text": [
            "+---+----+-----+----+\n",
            "|rno|name|marks|rank|\n",
            "+---+----+-----+----+\n",
            "|  1|  AK|   78|  11|\n",
            "|  2|  BK|   76|  12|\n",
            "|  3|  CK|   56|  13|\n",
            "|  4|  DK|   79|  10|\n",
            "|  5|  EK|   89|   1|\n",
            "+---+----+-----+----+\n",
            "\n"
          ]
        }
      ]
    },
    {
      "cell_type": "code",
      "source": [
        "# filter operations\n",
        "# marks>=76\n",
        "df3=df.filter(\"marks>=76\")\n",
        "df3.show()\n",
        "df4=df.filter(\"marks>76\").select([\"name\",'rno'])\n",
        "df4.show()\n"
      ],
      "metadata": {
        "colab": {
          "base_uri": "https://localhost:8080/"
        },
        "id": "zqgE5Iu1rL6Q",
        "outputId": "4cb24e82-627b-408c-9f23-b66e89c1b26c"
      },
      "execution_count": null,
      "outputs": [
        {
          "output_type": "stream",
          "name": "stdout",
          "text": [
            "+---+----+-----+----+\n",
            "|rno|name|marks|rank|\n",
            "+---+----+-----+----+\n",
            "|  1|  AK|   78|  11|\n",
            "|  2|  BK|   76|  12|\n",
            "|  4|  DK|   79|  10|\n",
            "|  5|  EK|   89|   1|\n",
            "+---+----+-----+----+\n",
            "\n",
            "+----+---+\n",
            "|name|rno|\n",
            "+----+---+\n",
            "|  AK|  1|\n",
            "|  DK|  4|\n",
            "|  EK|  5|\n",
            "+----+---+\n",
            "\n"
          ]
        }
      ]
    },
    {
      "cell_type": "code",
      "source": [
        "df4=df.filter((df['marks']<68) & (df[\"marks\"]>50))\n",
        "df4.show()"
      ],
      "metadata": {
        "colab": {
          "base_uri": "https://localhost:8080/"
        },
        "id": "psZI_f8s01WZ",
        "outputId": "d8f6c863-29ea-420d-cff2-1064aab0afe4"
      },
      "execution_count": null,
      "outputs": [
        {
          "output_type": "stream",
          "name": "stdout",
          "text": [
            "+---+----+-----+----+\n",
            "|rno|name|marks|rank|\n",
            "+---+----+-----+----+\n",
            "|  3|  CK|   56|  13|\n",
            "+---+----+-----+----+\n",
            "\n"
          ]
        }
      ]
    },
    {
      "cell_type": "code",
      "source": [
        "# group by\n",
        "df.groupBy('name').mean().show()\n",
        "df.groupBy('name').count().show()"
      ],
      "metadata": {
        "colab": {
          "base_uri": "https://localhost:8080/"
        },
        "id": "NpvLQ-JZ1bcV",
        "outputId": "7d9ed057-8f79-4283-9b6a-9e601ee87951"
      },
      "execution_count": null,
      "outputs": [
        {
          "output_type": "stream",
          "name": "stdout",
          "text": [
            "+----+--------+----------+---------+\n",
            "|name|avg(rno)|avg(marks)|avg(rank)|\n",
            "+----+--------+----------+---------+\n",
            "|  EK|     5.0|      89.0|      1.0|\n",
            "|  CK|     3.0|      56.0|     13.0|\n",
            "|  BK|     2.0|      76.0|     12.0|\n",
            "|  AK|     1.0|      78.0|     11.0|\n",
            "|  DK|     4.0|      79.0|     10.0|\n",
            "+----+--------+----------+---------+\n",
            "\n",
            "+----+-----+\n",
            "|name|count|\n",
            "+----+-----+\n",
            "|  EK|    1|\n",
            "|  CK|    1|\n",
            "|  BK|    1|\n",
            "|  AK|    1|\n",
            "|  DK|    1|\n",
            "+----+-----+\n",
            "\n"
          ]
        }
      ]
    },
    {
      "cell_type": "code",
      "source": [
        "df.show()"
      ],
      "metadata": {
        "id": "L2si9n252gzx",
        "colab": {
          "base_uri": "https://localhost:8080/"
        },
        "outputId": "944f860d-afee-44f0-d718-0204159051bd"
      },
      "execution_count": null,
      "outputs": [
        {
          "output_type": "stream",
          "name": "stdout",
          "text": [
            "+---+----+-----+----+\n",
            "|rno|name|marks|rank|\n",
            "+---+----+-----+----+\n",
            "|  1|  AK|   78|  11|\n",
            "|  2|  BK|   76|  12|\n",
            "|  3|  CK|   56|  13|\n",
            "|  4|  DK|   79|  10|\n",
            "|  5|  EK|   89|   1|\n",
            "+---+----+-----+----+\n",
            "\n"
          ]
        }
      ]
    },
    {
      "cell_type": "code",
      "source": [
        "from pyspark.sql.functions import *\n",
        "df2=df.select(concat_ws(\" \",df.rno,df.name,df.marks,df.rank)\n",
        "              .alias(\"Fulldetails\"))\n",
        "df2.show(truncate=False)"
      ],
      "metadata": {
        "colab": {
          "base_uri": "https://localhost:8080/"
        },
        "id": "1raRF2Ibtqid",
        "outputId": "56390499-9bcd-48f1-edcc-0cb9687e1491"
      },
      "execution_count": null,
      "outputs": [
        {
          "output_type": "stream",
          "name": "stdout",
          "text": [
            "+-----------+\n",
            "|Fulldetails|\n",
            "+-----------+\n",
            "|1 AK 78 11 |\n",
            "|2 BK 76 12 |\n",
            "|3 CK 56 13 |\n",
            "|4 DK 79 10 |\n",
            "|5 EK 89 1  |\n",
            "+-----------+\n",
            "\n"
          ]
        }
      ]
    },
    {
      "cell_type": "code",
      "source": [
        "rdd=df2.rdd\n",
        "print(rdd.collect())\n",
        "\n",
        "# trying to implement map and flatmap function\n",
        "# first we have to convert dataframe in rdd and then use map or flatmap function\n",
        "\n"
      ],
      "metadata": {
        "colab": {
          "base_uri": "https://localhost:8080/"
        },
        "id": "lFCMMlfzCzNc",
        "outputId": "26692f95-e25e-43c4-bd54-6dd6e7f5de7d"
      },
      "execution_count": null,
      "outputs": [
        {
          "output_type": "stream",
          "name": "stdout",
          "text": [
            "[Row(Fulldetails='1 AK 78 11'), Row(Fulldetails='2 BK 76 12'), Row(Fulldetails='3 CK 56 13'), Row(Fulldetails='4 DK 79 10'), Row(Fulldetails='5 EK 89 1')]\n"
          ]
        }
      ]
    },
    {
      "cell_type": "code",
      "source": [
        "print(rdd.map(lambda x: x.Fulldetails))"
      ],
      "metadata": {
        "colab": {
          "base_uri": "https://localhost:8080/"
        },
        "id": "xveVZMHJDHQ5",
        "outputId": "07492d4e-c71a-4f7d-edf9-ddde20ccd20d"
      },
      "execution_count": null,
      "outputs": [
        {
          "output_type": "stream",
          "name": "stdout",
          "text": [
            "PythonRDD[96] at RDD at PythonRDD.scala:53\n"
          ]
        }
      ]
    },
    {
      "cell_type": "code",
      "source": [
        "result = rdd.map(lambda x: x.Fulldetails).collect()\n",
        "\n",
        "result"
      ],
      "metadata": {
        "colab": {
          "base_uri": "https://localhost:8080/"
        },
        "id": "RTQaexsADLNf",
        "outputId": "3b50a1ef-f698-473e-88c7-3ab6f1ce9ce8"
      },
      "execution_count": null,
      "outputs": [
        {
          "output_type": "execute_result",
          "data": {
            "text/plain": [
              "['1 AK 78 11', '2 BK 76 12', '3 CK 56 13', '4 DK 79 10', '5 EK 89 1']"
            ]
          },
          "metadata": {},
          "execution_count": 23
        }
      ]
    },
    {
      "cell_type": "code",
      "source": [
        "rdd1=spark.sparkContext.parallelize(result)\n",
        "for element in rdd1.collect():\n",
        "    print(element)"
      ],
      "metadata": {
        "colab": {
          "base_uri": "https://localhost:8080/"
        },
        "id": "1ZkYGEByDOzv",
        "outputId": "b6151604-db85-431e-d3ce-f789d684a9a6"
      },
      "execution_count": null,
      "outputs": [
        {
          "output_type": "stream",
          "name": "stdout",
          "text": [
            "1 AK 78 11\n",
            "2 BK 76 12\n",
            "3 CK 56 13\n",
            "4 DK 79 10\n",
            "5 EK 89 1\n"
          ]
        }
      ]
    },
    {
      "cell_type": "code",
      "source": [
        "rdd2=rdd1.flatMap(lambda x: x.split(\" \"))\n",
        "for element in rdd2.collect():\n",
        "    print(element)"
      ],
      "metadata": {
        "colab": {
          "base_uri": "https://localhost:8080/"
        },
        "id": "GV8KKBQUDXzR",
        "outputId": "b39cc896-d007-49af-b288-3a77d192fd84"
      },
      "execution_count": null,
      "outputs": [
        {
          "output_type": "stream",
          "name": "stdout",
          "text": [
            "1\n",
            "AK\n",
            "78\n",
            "11\n",
            "2\n",
            "BK\n",
            "76\n",
            "12\n",
            "3\n",
            "CK\n",
            "56\n",
            "13\n",
            "4\n",
            "DK\n",
            "79\n",
            "10\n",
            "5\n",
            "EK\n",
            "89\n",
            "1\n"
          ]
        }
      ]
    },
    {
      "cell_type": "code",
      "source": [
        "rdd2.count()"
      ],
      "metadata": {
        "colab": {
          "base_uri": "https://localhost:8080/"
        },
        "id": "lDnSgBFBDjJS",
        "outputId": "c2cbf8d0-c863-45a7-8bdf-40f3ff470553"
      },
      "execution_count": null,
      "outputs": [
        {
          "output_type": "execute_result",
          "data": {
            "text/plain": [
              "20"
            ]
          },
          "metadata": {},
          "execution_count": 26
        }
      ]
    },
    {
      "cell_type": "code",
      "source": [
        "type(rdd2)"
      ],
      "metadata": {
        "colab": {
          "base_uri": "https://localhost:8080/"
        },
        "id": "mol5DdDtDnpP",
        "outputId": "105c6c5b-f627-4b83-bc20-e952044771eb"
      },
      "execution_count": null,
      "outputs": [
        {
          "output_type": "execute_result",
          "data": {
            "text/plain": [
              "pyspark.rdd.PipelinedRDD"
            ]
          },
          "metadata": {},
          "execution_count": 27
        }
      ]
    },
    {
      "cell_type": "code",
      "source": [
        "import pandas as pd\n",
        "\n",
        "# Load the CSV files into DataFrames\n",
        "df1 = pd.read_csv('/content/1b0ea1a4-ebec-4e12-b17f-e0c5773955ed.csv')\n",
        "df2 = pd.read_csv('/content/d231771d-9977-41d2-a610-aef5976115e4 (1).csv')\n",
        "\n",
        "# Merge the DataFrames to find the differences\n",
        "# Left join: Keep all rows from df1 and find matches in df2\n",
        "df_merged = pd.merge(df1, df2, on='id', how='left', indicator=True)\n",
        "\n",
        "# Filter the rows that are only in the first DataFrame\n",
        "# '_merge' column will show 'left_only' for rows only in df1\n",
        "df_diff = df_merged[df_merged['_merge'] == 'left_only']\n",
        "\n",
        "# Drop the extra '_merge' column\n",
        "df_diff = df_diff.drop(columns=['_merge'])\n",
        "\n",
        "# Save the result to a new CSV file (optional)\n",
        "df_diff.to_csv('difference.csv', index=False)\n",
        "\n",
        "print(\"Records present in the first CSV but not in the second:\")\n",
        "print(df_diff)\n"
      ],
      "metadata": {
        "colab": {
          "base_uri": "https://localhost:8080/"
        },
        "id": "KrKV0Z3UgPNx",
        "outputId": "b6cd74ee-dfb7-4040-f18c-0415fc7e57ec"
      },
      "execution_count": null,
      "outputs": [
        {
          "output_type": "stream",
          "name": "stderr",
          "text": [
            "<ipython-input-1-23e812390ac0>:4: DtypeWarning: Columns (1) have mixed types. Specify dtype option on import or set low_memory=False.\n",
            "  df1 = pd.read_csv('/content/1b0ea1a4-ebec-4e12-b17f-e0c5773955ed.csv')\n",
            "<ipython-input-1-23e812390ac0>:5: DtypeWarning: Columns (1) have mixed types. Specify dtype option on import or set low_memory=False.\n",
            "  df2 = pd.read_csv('/content/d231771d-9977-41d2-a610-aef5976115e4 (1).csv')\n"
          ]
        },
        {
          "output_type": "stream",
          "name": "stdout",
          "text": [
            "Records present in the first CSV but not in the second:\n",
            "                         id aesl_psid__c_x  aesl_primary_mobile_number__c_x  \\\n",
            "1        a2RNo000007GNEMMA4            NaN                       7073435767   \n",
            "13       a2RNo000006tJoCMAU            NaN                       7980741198   \n",
            "16       a2RNo000007aTPGMA2            NaN                       9284735162   \n",
            "17       a2RNo000007aSmYMAU            NaN                       9603295686   \n",
            "21       a2RNo000007ajFVMAY            NaN                       7978371251   \n",
            "...                     ...            ...                              ...   \n",
            "1383202  a2RNo000009BLVOMA4            NaN                       9969083425   \n",
            "1383203  a2RNo000009BQrfMAG            NaN                       9391690783   \n",
            "1383204  a2RNo000009BH2FMAW            NaN                       9868956192   \n",
            "1383205  a2RNo000009BKmIMAW            NaN                       7999587200   \n",
            "1383206  a2RNo000009BC0mMAG     14410642.0                       9897070989   \n",
            "\n",
            "        aesl_psid__c_y  aesl_primary_mobile_number__c_y  \n",
            "1                  NaN                              NaN  \n",
            "13                 NaN                              NaN  \n",
            "16                 NaN                              NaN  \n",
            "17                 NaN                              NaN  \n",
            "21                 NaN                              NaN  \n",
            "...                ...                              ...  \n",
            "1383202            NaN                              NaN  \n",
            "1383203            NaN                              NaN  \n",
            "1383204            NaN                              NaN  \n",
            "1383205            NaN                              NaN  \n",
            "1383206            NaN                              NaN  \n",
            "\n",
            "[287499 rows x 5 columns]\n"
          ]
        }
      ]
    },
    {
      "cell_type": "code",
      "source": [
        "!pip install netCDF4"
      ],
      "metadata": {
        "colab": {
          "base_uri": "https://localhost:8080/"
        },
        "id": "00LX5J1Y-t1F",
        "outputId": "76b2c282-d69d-4198-f36f-4312a4af48b7"
      },
      "execution_count": null,
      "outputs": [
        {
          "output_type": "stream",
          "name": "stdout",
          "text": [
            "Collecting netCDF4\n",
            "  Downloading netCDF4-1.7.2-cp310-cp310-manylinux_2_17_x86_64.manylinux2014_x86_64.whl.metadata (1.8 kB)\n",
            "Collecting cftime (from netCDF4)\n",
            "  Downloading cftime-1.6.4.post1-cp310-cp310-manylinux_2_17_x86_64.manylinux2014_x86_64.whl.metadata (8.7 kB)\n",
            "Requirement already satisfied: certifi in /usr/local/lib/python3.10/dist-packages (from netCDF4) (2024.8.30)\n",
            "Requirement already satisfied: numpy in /usr/local/lib/python3.10/dist-packages (from netCDF4) (1.26.4)\n",
            "Downloading netCDF4-1.7.2-cp310-cp310-manylinux_2_17_x86_64.manylinux2014_x86_64.whl (9.1 MB)\n",
            "\u001b[2K   \u001b[90m━━━━━━━━━━━━━━━━━━━━━━━━━━━━━━━━━━━━━━━━\u001b[0m \u001b[32m9.1/9.1 MB\u001b[0m \u001b[31m39.9 MB/s\u001b[0m eta \u001b[36m0:00:00\u001b[0m\n",
            "\u001b[?25hDownloading cftime-1.6.4.post1-cp310-cp310-manylinux_2_17_x86_64.manylinux2014_x86_64.whl (1.3 MB)\n",
            "\u001b[2K   \u001b[90m━━━━━━━━━━━━━━━━━━━━━━━━━━━━━━━━━━━━━━━━\u001b[0m \u001b[32m1.3/1.3 MB\u001b[0m \u001b[31m45.4 MB/s\u001b[0m eta \u001b[36m0:00:00\u001b[0m\n",
            "\u001b[?25hInstalling collected packages: cftime, netCDF4\n",
            "Successfully installed cftime-1.6.4.post1 netCDF4-1.7.2\n"
          ]
        }
      ]
    },
    {
      "cell_type": "code",
      "source": [
        "from netCDF4 import Dataset\n",
        "import numpy as np\n",
        "\n",
        "# File name for the output NetCDF file\n",
        "output_filename = \"sample_data.nc\"\n",
        "\n",
        "# Create a new NetCDF file\n",
        "with Dataset(output_filename, \"w\", format=\"NETCDF4\") as nc_file:\n",
        "    # Create dimensions\n",
        "    time_dim = nc_file.createDimension(\"time\", None)  # Unlimited dimension\n",
        "    lat_dim = nc_file.createDimension(\"lat\", 50)\n",
        "    lon_dim = nc_file.createDimension(\"lon\", 50)\n",
        "\n",
        "    # Create variables\n",
        "    times = nc_file.createVariable(\"time\", \"f8\", (\"time\",))\n",
        "    latitudes = nc_file.createVariable(\"latitude\", \"f4\", (\"lat\",))\n",
        "    longitudes = nc_file.createVariable(\"longitude\", \"f4\", (\"lon\",))\n",
        "    temperature = nc_file.createVariable(\"temperature\", \"f4\", (\"time\", \"lat\", \"lon\"))\n",
        "\n",
        "    # Add attributes\n",
        "    nc_file.description = \"Sample NetCDF file for temperature data\"\n",
        "    times.units = \"hours since 0001-01-01 00:00:00.0\"\n",
        "    times.calendar = \"gregorian\"\n",
        "    latitudes.units = \"degrees north\"\n",
        "    longitudes.units = \"degrees east\"\n",
        "    temperature.units = \"K\"\n",
        "    temperature.long_name = \"Surface temperature\"\n",
        "\n",
        "    # Populate dimensions\n",
        "    latitudes[:] = np.linspace(-90, 90, 50)\n",
        "    longitudes[:] = np.linspace(-180, 180, 50)\n",
        "    times[:] = np.arange(0, 10)  # 10 time points\n",
        "\n",
        "    # Populate the temperature variable with random data\n",
        "    temperature[:, :, :] = np.random.uniform(250, 300, (10, 50, 50))  # 10 time points of 50x50 grid\n",
        "\n",
        "print(f\"Sample NetCDF file '{output_filename}' created successfully.\")\n"
      ],
      "metadata": {
        "colab": {
          "base_uri": "https://localhost:8080/"
        },
        "id": "AGSONQMh9MwP",
        "outputId": "fda07221-f45c-4b3b-e61f-881fb881995e"
      },
      "execution_count": null,
      "outputs": [
        {
          "output_type": "stream",
          "name": "stdout",
          "text": [
            "Sample NetCDF file 'sample_data.nc' created successfully.\n"
          ]
        }
      ]
    },
    {
      "cell_type": "code",
      "source": [
        "import shutil\n",
        "import os\n",
        "\n",
        "# Specify the package directory and zip file name\n",
        "package_dir = \"c:\\\\users\\\\a15921\\\\appdata\\\\local\\\\packages\\\\pythonsoftwarefoundation.python.3.10_qbz5n2kfra8p0\\\\localcache\\\\local-packages\\\\python310\\\\site-packages\"\n",
        "output_zip_file = \"netCDF4_package.zip\"\n",
        "\n",
        "# Change to the package directory\n",
        "os.chdir(package_dir)\n",
        "\n",
        "# Create a zip file with netCDF4 and its dependencies\n",
        "shutil.make_archive(\"netCDF4_package\", \"zip\", package_dir, \"netCDF4\")\n",
        "print(f\"Created zip file: {output_zip_file}\")\n"
      ],
      "metadata": {
        "id": "3ZcANA9ZHgv8",
        "outputId": "6dca1083-97b6-42b2-da8e-fed3d6473c12",
        "colab": {
          "base_uri": "https://localhost:8080/",
          "height": 245
        }
      },
      "execution_count": null,
      "outputs": [
        {
          "output_type": "error",
          "ename": "FileNotFoundError",
          "evalue": "[Errno 2] No such file or directory: 'c:\\\\users\\\\a15921\\\\appdata\\\\local\\\\packages\\\\pythonsoftwarefoundation.python.3.10_qbz5n2kfra8p0\\\\localcache\\\\local-packages\\\\python310\\\\site-packages'",
          "traceback": [
            "\u001b[0;31m---------------------------------------------------------------------------\u001b[0m",
            "\u001b[0;31mFileNotFoundError\u001b[0m                         Traceback (most recent call last)",
            "\u001b[0;32m<ipython-input-4-7d45f697eed2>\u001b[0m in \u001b[0;36m<cell line: 9>\u001b[0;34m()\u001b[0m\n\u001b[1;32m      7\u001b[0m \u001b[0;34m\u001b[0m\u001b[0m\n\u001b[1;32m      8\u001b[0m \u001b[0;31m# Change to the package directory\u001b[0m\u001b[0;34m\u001b[0m\u001b[0;34m\u001b[0m\u001b[0m\n\u001b[0;32m----> 9\u001b[0;31m \u001b[0mos\u001b[0m\u001b[0;34m.\u001b[0m\u001b[0mchdir\u001b[0m\u001b[0;34m(\u001b[0m\u001b[0mpackage_dir\u001b[0m\u001b[0;34m)\u001b[0m\u001b[0;34m\u001b[0m\u001b[0;34m\u001b[0m\u001b[0m\n\u001b[0m\u001b[1;32m     10\u001b[0m \u001b[0;34m\u001b[0m\u001b[0m\n\u001b[1;32m     11\u001b[0m \u001b[0;31m# Create a zip file with netCDF4 and its dependencies\u001b[0m\u001b[0;34m\u001b[0m\u001b[0;34m\u001b[0m\u001b[0m\n",
            "\u001b[0;31mFileNotFoundError\u001b[0m: [Errno 2] No such file or directory: 'c:\\\\users\\\\a15921\\\\appdata\\\\local\\\\packages\\\\pythonsoftwarefoundation.python.3.10_qbz5n2kfra8p0\\\\localcache\\\\local-packages\\\\python310\\\\site-packages'"
          ]
        }
      ]
    },
    {
      "cell_type": "code",
      "source": [
        "# prompt: read csv file and convert to parquet\n",
        "\n",
        "# Assuming your CSV file is named 'your_file.csv'\n",
        "df = spark.read.csv('/content/CSAT_Feedback.csv', header=True, inferSchema=True)\n",
        "\n",
        "# Convert the Spark DataFrame to a Pandas DataFrame\n",
        "pandas_df = df.toPandas()\n",
        "\n",
        "# Write the Pandas DataFrame to a Parquet file\n",
        "pandas_df.to_parquet('CSAT_Feedback.parquet')"
      ],
      "metadata": {
        "id": "LI4zaIwOFqea",
        "colab": {
          "base_uri": "https://localhost:8080/",
          "height": 211
        },
        "outputId": "4504846f-0acd-45e2-c537-b1f50d0e6b28"
      },
      "execution_count": 1,
      "outputs": [
        {
          "output_type": "error",
          "ename": "NameError",
          "evalue": "name 'spark' is not defined",
          "traceback": [
            "\u001b[0;31m---------------------------------------------------------------------------\u001b[0m",
            "\u001b[0;31mNameError\u001b[0m                                 Traceback (most recent call last)",
            "\u001b[0;32m<ipython-input-1-4248c468e58b>\u001b[0m in \u001b[0;36m<cell line: 4>\u001b[0;34m()\u001b[0m\n\u001b[1;32m      2\u001b[0m \u001b[0;34m\u001b[0m\u001b[0m\n\u001b[1;32m      3\u001b[0m \u001b[0;31m# Assuming your CSV file is named 'your_file.csv'\u001b[0m\u001b[0;34m\u001b[0m\u001b[0;34m\u001b[0m\u001b[0m\n\u001b[0;32m----> 4\u001b[0;31m \u001b[0mdf\u001b[0m \u001b[0;34m=\u001b[0m \u001b[0mspark\u001b[0m\u001b[0;34m.\u001b[0m\u001b[0mread\u001b[0m\u001b[0;34m.\u001b[0m\u001b[0mcsv\u001b[0m\u001b[0;34m(\u001b[0m\u001b[0;34m'/content/CSAT_Feedback.csv'\u001b[0m\u001b[0;34m,\u001b[0m \u001b[0mheader\u001b[0m\u001b[0;34m=\u001b[0m\u001b[0;32mTrue\u001b[0m\u001b[0;34m,\u001b[0m \u001b[0minferSchema\u001b[0m\u001b[0;34m=\u001b[0m\u001b[0;32mTrue\u001b[0m\u001b[0;34m)\u001b[0m\u001b[0;34m\u001b[0m\u001b[0;34m\u001b[0m\u001b[0m\n\u001b[0m\u001b[1;32m      5\u001b[0m \u001b[0;34m\u001b[0m\u001b[0m\n\u001b[1;32m      6\u001b[0m \u001b[0;31m# Convert the Spark DataFrame to a Pandas DataFrame\u001b[0m\u001b[0;34m\u001b[0m\u001b[0;34m\u001b[0m\u001b[0m\n",
            "\u001b[0;31mNameError\u001b[0m: name 'spark' is not defined"
          ]
        }
      ]
    },
    {
      "cell_type": "code",
      "source": [
        "!pip install pyspark\n",
        "import pyspark\n"
      ],
      "metadata": {
        "colab": {
          "base_uri": "https://localhost:8080/"
        },
        "id": "yhkQeLOraKLK",
        "outputId": "0d82ad8b-83a2-4c1b-8639-8e49f31c4594"
      },
      "execution_count": 1,
      "outputs": [
        {
          "output_type": "stream",
          "name": "stdout",
          "text": [
            "Requirement already satisfied: pyspark in /usr/local/lib/python3.10/dist-packages (3.5.4)\n",
            "Requirement already satisfied: py4j==0.10.9.7 in /usr/local/lib/python3.10/dist-packages (from pyspark) (0.10.9.7)\n"
          ]
        }
      ]
    },
    {
      "cell_type": "code",
      "source": [
        "from pyspark.sql import SparkSession\n",
        "spark=SparkSession.builder.appName(\"practice spark\").getOrCreate()"
      ],
      "metadata": {
        "id": "FW7Fg-Avajr6"
      },
      "execution_count": 2,
      "outputs": []
    },
    {
      "cell_type": "code",
      "source": [
        "df = spark.read.parquet('/content/material_master_stock.parquet')\n",
        "\n",
        "# Convert the Spark DataFrame to a Pandas DataFrame\n",
        "pandas_df = df.toPandas()\n",
        "cnt=pandas_df.count()\n",
        "print(cnt)\n",
        "\n",
        "# Write the Pandas DataFrame to a Parquet file\n",
        "pandas_df.to_csv('material_master_stock_csv_sheck.csv')"
      ],
      "metadata": {
        "colab": {
          "base_uri": "https://localhost:8080/"
        },
        "id": "uTJoRVL3Hyur",
        "outputId": "ce204951-4842-4f35-dafa-bb9a40474e96"
      },
      "execution_count": 5,
      "outputs": [
        {
          "output_type": "stream",
          "name": "stdout",
          "text": [
            "Material                          706\n",
            "Material_Description              662\n",
            "Package                           628\n",
            "Language                          628\n",
            "Class                             628\n",
            "MultipleClass                      49\n",
            "Course_Attribute                  628\n",
            "Course_Attribute_Description      597\n",
            "Material_Dicontinued_Continued     31\n",
            "dtype: int64\n"
          ]
        }
      ]
    },
    {
      "cell_type": "code",
      "source": [
        "# Assuming your CSV file is named 'your_file.csv'\n",
        "df = spark.read.csv('/content/Web Engage - Sheet1 (2).csv', header=True, inferSchema=True)\n",
        "\n",
        "# Convert the Spark DataFrame to a Pandas DataFrame\n",
        "pandas_df = df.toPandas()\n",
        "cnt=pandas_df.count()\n",
        "print(cnt)\n",
        "\n",
        "# Write the Pandas DataFrame to a Parquet file\n",
        "pandas_df.to_parquet('material_master_stock_v1.parquet')"
      ],
      "metadata": {
        "id": "zGscDcppaNgR",
        "colab": {
          "base_uri": "https://localhost:8080/"
        },
        "outputId": "036e4773-a196-47cd-9c8a-4f93ac7edb53"
      },
      "execution_count": 9,
      "outputs": [
        {
          "output_type": "stream",
          "name": "stdout",
          "text": [
            "Material                          667\n",
            "Material_Description              667\n",
            "Package                           667\n",
            "Language                          667\n",
            "Course_Attribute                  667\n",
            "Course_AttributeDescription       667\n",
            "Material_Dicontinued_Continued     37\n",
            "dtype: int64\n"
          ]
        }
      ]
    },
    {
      "cell_type": "markdown",
      "source": [
        "Researcher named Aman\n",
        "\n",
        "Aman has published 5 research papers\n",
        "\n",
        "arr = []\n",
        "\n",
        "Each index in the arr represents a research paper\n",
        "\n",
        "Each value represents the number of citations for that paper\n",
        "\n",
        "arr = [5,3,1,2,4]\n",
        "\t\t\t 0,1,2,3,4\n",
        "\n",
        "X-Factor of Aman\n",
        "\n",
        "X-Factor = (Maximum value of 'x') where x number of papers have been cited at least x times.\n",
        "\n",
        "arr = [5,3,1,2,4]\n",
        "\t\t\t 0,x,x,x,4\n",
        "\n",
        "x = 1\n",
        "\n",
        "5 papers have been cited at least 1 time > 1 paper has been cited at least 1 time\n",
        "\n",
        "x = 2\n",
        "\n",
        "4 papers have been cited at least 2 times > 2 papers has been cited at least 2 times\n",
        "\n",
        "\n",
        "x = 3\n",
        "\n",
        "3 papers have been cited at least 3 times\n",
        "\n",
        "\n",
        "x = 4\n",
        "\n",
        "2 papers have been cited at least 4 times XXX\n",
        "\n",
        "X-Factor = 3\n",
        "\n",
        "\n",
        "WAF which takes the arr of citations as an input and returns the X-Factor:\n",
        "\n",
        "arr = [5,3,1,2,4]\n",
        "i=5\n",
        "arr1=[1,1,1,1,1]\n",
        "\n",
        "x_factor=0\n",
        "s_factor=0\n",
        "def citation(Arr):\n",
        "    for i in range(0,len(Arr)):\n",
        "        for j in range(0,len(Arr)):\n",
        "            if arr[j]>= i:\n",
        "            s_factor+=1\n",
        "        if s_factor >= i:\n",
        "            x_factor=i+1\n",
        "\n",
        "\n",
        "    return x_factor"
      ],
      "metadata": {
        "id": "cCZJuFBsHUu7"
      }
    },
    {
      "cell_type": "code",
      "source": [
        "def calculate_x_factor(citations):\n",
        "    # Sort the array in descending order\n",
        "    citations.sort(reverse=True)\n",
        "\n",
        "    # Calculate the X-Factor\n",
        "    x_factor = 0\n",
        "    for i, citation in enumerate(citations):\n",
        "        if citation >= i + 1:\n",
        "            x_factor = i + 1\n",
        "        else:\n",
        "            break\n",
        "\n",
        "    return x_factor\n",
        "\n",
        "# Example usage\n",
        "arr = [5, 3, 1, 2, 4]\n",
        "# [1,1,1,1,1]\n",
        "x_factor = calculate_x_factor(arr)\n",
        "print(\"X-Factor:\", x_factor)"
      ],
      "metadata": {
        "colab": {
          "base_uri": "https://localhost:8080/"
        },
        "id": "iXAt5xfLHUaE",
        "outputId": "5a4a8bd3-b118-40d3-900c-5ea2abedd67f"
      },
      "execution_count": 8,
      "outputs": [
        {
          "output_type": "stream",
          "name": "stdout",
          "text": [
            "X-Factor: 3\n"
          ]
        }
      ]
    },
    {
      "cell_type": "code",
      "source": [
        "Arr = [5,3,1,2,4]\n",
        "# arr1=[1,1,1,1,1]\n",
        "\n",
        "def citation(Arr):\n",
        "    x_factor=0\n",
        "    # s_factor=0\n",
        "    for i in range(0,len(Arr)):\n",
        "        s_factor=0\n",
        "        for j in range(0,len(Arr)):\n",
        "            if Arr[j]>= i:\n",
        "                s_factor+=1\n",
        "        if s_factor >= i:\n",
        "            x_factor=i\n",
        "\n",
        "\n",
        "    return x_factor\n",
        "Arr = [5,3,1,2,4]\n",
        "print(citation(Arr))"
      ],
      "metadata": {
        "colab": {
          "base_uri": "https://localhost:8080/"
        },
        "id": "nlYKh6y6JIZN",
        "outputId": "efe0e1e5-3706-404c-ccae-de0b705add49"
      },
      "execution_count": 20,
      "outputs": [
        {
          "output_type": "stream",
          "name": "stdout",
          "text": [
            "3\n"
          ]
        }
      ]
    },
    {
      "cell_type": "code",
      "source": [
        "from datetime import timedelta,datetime\n",
        "yesterday = datetime.now()+ timedelta(days=-101)\n",
        "yes_dt=yesterday.strftime('%Y-%m-%d')\n",
        "\n",
        "years=yesterday.strftime('%Y')\n",
        "months=yesterday.strftime('%m')\n",
        "days=yesterday.strftime('%d')\n",
        "print(years)\n",
        "print(months)\n",
        "print(days)\n",
        "print(\"done\")"
      ],
      "metadata": {
        "colab": {
          "base_uri": "https://localhost:8080/"
        },
        "id": "AOnNYDgNqGHU",
        "outputId": "51c76ced-b06c-428b-b132-22c04afde8d1"
      },
      "execution_count": 2,
      "outputs": [
        {
          "output_type": "stream",
          "name": "stdout",
          "text": [
            "2024\n",
            "10\n",
            "01\n",
            "done\n"
          ]
        }
      ]
    },
    {
      "cell_type": "code",
      "source": [
        "index = \"student-comment-prod-0-07-2023\"\n",
        "ip= \"student-comment-prod-\"\n",
        "l=[0,1,2,3,4]\n",
        "# month_list=[1,2,3,4,5,6,7,8,9,10,11,12]\n",
        "for i in l:\n",
        "    print(ip+str(i)+\"-\"+\"*\")\n"
      ],
      "metadata": {
        "colab": {
          "base_uri": "https://localhost:8080/"
        },
        "id": "KGFXlfJmpNRS",
        "outputId": "d857ff20-97d7-445d-f4e5-4a9496fd1bab"
      },
      "execution_count": 2,
      "outputs": [
        {
          "output_type": "stream",
          "name": "stdout",
          "text": [
            "student-comment-prod-0-*\n",
            "student-comment-prod-1-*\n",
            "student-comment-prod-2-*\n",
            "student-comment-prod-3-*\n",
            "student-comment-prod-4-*\n"
          ]
        }
      ]
    },
    {
      "cell_type": "code",
      "source": [
        "df=spark.sql(\"\"\"select  date_sub(CAST(current_timestamp() as DATE),104)\n",
        ", date_sub(CAST(current_timestamp() as DATE), 70) \"\"\")\n",
        "df.show()"
      ],
      "metadata": {
        "colab": {
          "base_uri": "https://localhost:8080/"
        },
        "id": "XuBRvAFN_QaV",
        "outputId": "e1e6451f-49cd-4390-ff5e-e5ec4a22a11b"
      },
      "execution_count": 4,
      "outputs": [
        {
          "output_type": "stream",
          "name": "stdout",
          "text": [
            "+------------------------------------------------+-----------------------------------------------+\n",
            "|date_sub(CAST(current_timestamp() AS DATE), 104)|date_sub(CAST(current_timestamp() AS DATE), 70)|\n",
            "+------------------------------------------------+-----------------------------------------------+\n",
            "|                                      2024-10-01|                                     2024-11-04|\n",
            "+------------------------------------------------+-----------------------------------------------+\n",
            "\n"
          ]
        }
      ]
    },
    {
      "cell_type": "code",
      "source": [
        "from datetime import timedelta, date\n",
        "i=0\n",
        "j=101\n",
        "for x in range(j+1):\n",
        "    if i>40:\n",
        "        break\n",
        "    else:\n",
        "        y = 0\n",
        "        y = j - i;\n",
        "        i = i+1\n",
        "        Date_req = date.today() - timedelta(days=y)\n",
        "        Dated=Date_req.strftime(\"Timetable_YEAR=%-Y/Timetable_MONTH=%-m/Timetable_DAY=%-d\")\n",
        "        print(\"Range\",x, \"Second Date\", Dated)\n",
        "        # print(i,y)"
      ],
      "metadata": {
        "colab": {
          "base_uri": "https://localhost:8080/"
        },
        "id": "Y1TDI8OShNDv",
        "outputId": "9c7e1332-e6a3-48d2-8fbb-8ce83193b743"
      },
      "execution_count": 33,
      "outputs": [
        {
          "output_type": "stream",
          "name": "stdout",
          "text": [
            "Range 0 Second Date Timetable_YEAR=2024/Timetable_MONTH=10/Timetable_DAY=1\n",
            "Range 1 Second Date Timetable_YEAR=2024/Timetable_MONTH=10/Timetable_DAY=2\n",
            "Range 2 Second Date Timetable_YEAR=2024/Timetable_MONTH=10/Timetable_DAY=3\n",
            "Range 3 Second Date Timetable_YEAR=2024/Timetable_MONTH=10/Timetable_DAY=4\n",
            "Range 4 Second Date Timetable_YEAR=2024/Timetable_MONTH=10/Timetable_DAY=5\n",
            "Range 5 Second Date Timetable_YEAR=2024/Timetable_MONTH=10/Timetable_DAY=6\n",
            "Range 6 Second Date Timetable_YEAR=2024/Timetable_MONTH=10/Timetable_DAY=7\n",
            "Range 7 Second Date Timetable_YEAR=2024/Timetable_MONTH=10/Timetable_DAY=8\n",
            "Range 8 Second Date Timetable_YEAR=2024/Timetable_MONTH=10/Timetable_DAY=9\n",
            "Range 9 Second Date Timetable_YEAR=2024/Timetable_MONTH=10/Timetable_DAY=10\n",
            "Range 10 Second Date Timetable_YEAR=2024/Timetable_MONTH=10/Timetable_DAY=11\n",
            "Range 11 Second Date Timetable_YEAR=2024/Timetable_MONTH=10/Timetable_DAY=12\n",
            "Range 12 Second Date Timetable_YEAR=2024/Timetable_MONTH=10/Timetable_DAY=13\n",
            "Range 13 Second Date Timetable_YEAR=2024/Timetable_MONTH=10/Timetable_DAY=14\n",
            "Range 14 Second Date Timetable_YEAR=2024/Timetable_MONTH=10/Timetable_DAY=15\n",
            "Range 15 Second Date Timetable_YEAR=2024/Timetable_MONTH=10/Timetable_DAY=16\n",
            "Range 16 Second Date Timetable_YEAR=2024/Timetable_MONTH=10/Timetable_DAY=17\n",
            "Range 17 Second Date Timetable_YEAR=2024/Timetable_MONTH=10/Timetable_DAY=18\n",
            "Range 18 Second Date Timetable_YEAR=2024/Timetable_MONTH=10/Timetable_DAY=19\n",
            "Range 19 Second Date Timetable_YEAR=2024/Timetable_MONTH=10/Timetable_DAY=20\n",
            "Range 20 Second Date Timetable_YEAR=2024/Timetable_MONTH=10/Timetable_DAY=21\n",
            "Range 21 Second Date Timetable_YEAR=2024/Timetable_MONTH=10/Timetable_DAY=22\n",
            "Range 22 Second Date Timetable_YEAR=2024/Timetable_MONTH=10/Timetable_DAY=23\n",
            "Range 23 Second Date Timetable_YEAR=2024/Timetable_MONTH=10/Timetable_DAY=24\n",
            "Range 24 Second Date Timetable_YEAR=2024/Timetable_MONTH=10/Timetable_DAY=25\n",
            "Range 25 Second Date Timetable_YEAR=2024/Timetable_MONTH=10/Timetable_DAY=26\n",
            "Range 26 Second Date Timetable_YEAR=2024/Timetable_MONTH=10/Timetable_DAY=27\n",
            "Range 27 Second Date Timetable_YEAR=2024/Timetable_MONTH=10/Timetable_DAY=28\n",
            "Range 28 Second Date Timetable_YEAR=2024/Timetable_MONTH=10/Timetable_DAY=29\n",
            "Range 29 Second Date Timetable_YEAR=2024/Timetable_MONTH=10/Timetable_DAY=30\n",
            "Range 30 Second Date Timetable_YEAR=2024/Timetable_MONTH=10/Timetable_DAY=31\n",
            "Range 31 Second Date Timetable_YEAR=2024/Timetable_MONTH=11/Timetable_DAY=1\n",
            "Range 32 Second Date Timetable_YEAR=2024/Timetable_MONTH=11/Timetable_DAY=2\n",
            "Range 33 Second Date Timetable_YEAR=2024/Timetable_MONTH=11/Timetable_DAY=3\n",
            "Range 34 Second Date Timetable_YEAR=2024/Timetable_MONTH=11/Timetable_DAY=4\n",
            "Range 35 Second Date Timetable_YEAR=2024/Timetable_MONTH=11/Timetable_DAY=5\n",
            "Range 36 Second Date Timetable_YEAR=2024/Timetable_MONTH=11/Timetable_DAY=6\n",
            "Range 37 Second Date Timetable_YEAR=2024/Timetable_MONTH=11/Timetable_DAY=7\n",
            "Range 38 Second Date Timetable_YEAR=2024/Timetable_MONTH=11/Timetable_DAY=8\n",
            "Range 39 Second Date Timetable_YEAR=2024/Timetable_MONTH=11/Timetable_DAY=9\n",
            "Range 40 Second Date Timetable_YEAR=2024/Timetable_MONTH=11/Timetable_DAY=10\n"
          ]
        }
      ]
    }
  ]
}